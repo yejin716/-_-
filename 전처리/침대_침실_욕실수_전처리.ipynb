{
 "cells": [
  {
   "cell_type": "markdown",
   "metadata": {},
   "source": [
    "유럽 표준 EN 12056에서 제시하는 화장실 기준\n",
    "1. 전체 화장실(Full bathroom):\n",
    "- 변기, 세면대, 욕조 또는 샤워기가 모두 포함된 완전한 화장실\n",
    "- 최소 면적 4㎡ 이상 확보\n",
    "- 이를 사람들은 1로 표기함.\n",
    "2. 부분 화장실(Half bathroom):\n",
    "- 변기와 세면대만 포함된 화장실\n",
    "- 최소 면적 2㎡ 이상 확보\n",
    "- 이를 사람들은 0.5라 표기함\n",
    "따라서 1.5라는 표현은 전체 화장실 1개와 부분 화장실 1개라는 의미로 해석할 수 있음"
   ]
  },
  {
   "cell_type": "markdown",
   "metadata": {},
   "source": []
  },
  {
   "cell_type": "code",
   "execution_count": 1,
   "metadata": {},
   "outputs": [],
   "source": [
    "import numpy as np\n",
    "import pandas as pd\n",
    "import matplotlib.pyplot as plt "
   ]
  }
 ],
 "metadata": {
  "kernelspec": {
   "display_name": "base",
   "language": "python",
   "name": "python3"
  },
  "language_info": {
   "codemirror_mode": {
    "name": "ipython",
    "version": 3
   },
   "file_extension": ".py",
   "mimetype": "text/x-python",
   "name": "python",
   "nbconvert_exporter": "python",
   "pygments_lexer": "ipython3",
   "version": "3.11.7"
  }
 },
 "nbformat": 4,
 "nbformat_minor": 2
}
