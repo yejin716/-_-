{
  "cells": [
    {
      "cell_type": "code",
      "execution_count": 2,
      "metadata": {
        "id": "XpXoi7M2PlSs"
      },
      "outputs": [],
      "source": [
        "# !pip install koreanize-matplotlib\n",
        "import koreanize_matplotlib"
      ]
    },
    {
      "cell_type": "code",
      "execution_count": 3,
      "metadata": {
        "id": "aBFtGuVJRlSl"
      },
      "outputs": [],
      "source": [
        "import numpy as np\n",
        "import pandas as pd\n",
        "import matplotlib.pyplot as plt\n",
        "\n",
        "path = '../../../../data/Airbnb_London/listings.csv'\n"
      ]
    },
    {
      "cell_type": "code",
      "execution_count": 4,
      "metadata": {
        "id": "E3bNA_hgRlOv"
      },
      "outputs": [],
      "source": [
        "df = pd.read_csv(path)\n",
        "df = pd.DataFrame(df)"
      ]
    },
    {
      "cell_type": "code",
      "execution_count": 5,
      "metadata": {
        "id": "Nz-a3f-3RlMg"
      },
      "outputs": [],
      "source": [
        "dat = df.copy()\n"
      ]
    },
    {
      "cell_type": "markdown",
      "metadata": {
        "id": "KoRcRmGWR5Hw"
      },
      "source": [
        "<h3>필요한 컬럼 가져오기(24개) + property_type <h3>"
      ]
    },
    {
      "cell_type": "code",
      "execution_count": 6,
      "metadata": {
        "colab": {
          "base_uri": "https://localhost:8080/",
          "height": 245
        },
        "id": "ldSgk4JiR3XX",
        "outputId": "25e3f56a-1fd8-4e73-8a56-35d229d7e0d7"
      },
      "outputs": [
        {
          "data": {
            "text/html": [
              "<div>\n",
              "<style scoped>\n",
              "    .dataframe tbody tr th:only-of-type {\n",
              "        vertical-align: middle;\n",
              "    }\n",
              "\n",
              "    .dataframe tbody tr th {\n",
              "        vertical-align: top;\n",
              "    }\n",
              "\n",
              "    .dataframe thead th {\n",
              "        text-align: right;\n",
              "    }\n",
              "</style>\n",
              "<table border=\"1\" class=\"dataframe\">\n",
              "  <thead>\n",
              "    <tr style=\"text-align: right;\">\n",
              "      <th></th>\n",
              "      <th>id</th>\n",
              "      <th>listing_url</th>\n",
              "      <th>host_id</th>\n",
              "      <th>property_type</th>\n",
              "      <th>host_is_superhost</th>\n",
              "      <th>host_total_listings_count</th>\n",
              "      <th>neighbourhood_cleansed</th>\n",
              "      <th>latitude</th>\n",
              "      <th>longitude</th>\n",
              "      <th>room_type</th>\n",
              "      <th>...</th>\n",
              "      <th>number_of_reviews</th>\n",
              "      <th>number_of_reviews_l30d</th>\n",
              "      <th>review_scores_rating</th>\n",
              "      <th>review_scores_accuracy</th>\n",
              "      <th>review_scores_cleanliness</th>\n",
              "      <th>review_scores_checkin</th>\n",
              "      <th>review_scores_communication</th>\n",
              "      <th>review_scores_location</th>\n",
              "      <th>review_scores_value</th>\n",
              "      <th>reviews_per_month</th>\n",
              "    </tr>\n",
              "  </thead>\n",
              "  <tbody>\n",
              "    <tr>\n",
              "      <th>0</th>\n",
              "      <td>312761</td>\n",
              "      <td>https://www.airbnb.com/rooms/312761</td>\n",
              "      <td>1608226</td>\n",
              "      <td>Entire rental unit</td>\n",
              "      <td>t</td>\n",
              "      <td>3.0</td>\n",
              "      <td>Hackney</td>\n",
              "      <td>51.52704</td>\n",
              "      <td>-0.08129</td>\n",
              "      <td>Entire home/apt</td>\n",
              "      <td>...</td>\n",
              "      <td>122</td>\n",
              "      <td>0</td>\n",
              "      <td>4.96</td>\n",
              "      <td>4.97</td>\n",
              "      <td>4.93</td>\n",
              "      <td>4.96</td>\n",
              "      <td>5.00</td>\n",
              "      <td>4.89</td>\n",
              "      <td>4.93</td>\n",
              "      <td>0.86</td>\n",
              "    </tr>\n",
              "    <tr>\n",
              "      <th>1</th>\n",
              "      <td>13913</td>\n",
              "      <td>https://www.airbnb.com/rooms/13913</td>\n",
              "      <td>54730</td>\n",
              "      <td>Private room in rental unit</td>\n",
              "      <td>t</td>\n",
              "      <td>5.0</td>\n",
              "      <td>Islington</td>\n",
              "      <td>51.56861</td>\n",
              "      <td>-0.11270</td>\n",
              "      <td>Private room</td>\n",
              "      <td>...</td>\n",
              "      <td>41</td>\n",
              "      <td>0</td>\n",
              "      <td>4.80</td>\n",
              "      <td>4.73</td>\n",
              "      <td>4.73</td>\n",
              "      <td>4.75</td>\n",
              "      <td>4.83</td>\n",
              "      <td>4.70</td>\n",
              "      <td>4.70</td>\n",
              "      <td>0.25</td>\n",
              "    </tr>\n",
              "    <tr>\n",
              "      <th>2</th>\n",
              "      <td>15400</td>\n",
              "      <td>https://www.airbnb.com/rooms/15400</td>\n",
              "      <td>60302</td>\n",
              "      <td>Entire rental unit</td>\n",
              "      <td>f</td>\n",
              "      <td>1.0</td>\n",
              "      <td>Kensington and Chelsea</td>\n",
              "      <td>51.48780</td>\n",
              "      <td>-0.16813</td>\n",
              "      <td>Entire home/apt</td>\n",
              "      <td>...</td>\n",
              "      <td>94</td>\n",
              "      <td>0</td>\n",
              "      <td>4.80</td>\n",
              "      <td>4.85</td>\n",
              "      <td>4.88</td>\n",
              "      <td>4.88</td>\n",
              "      <td>4.83</td>\n",
              "      <td>4.93</td>\n",
              "      <td>4.74</td>\n",
              "      <td>0.54</td>\n",
              "    </tr>\n",
              "  </tbody>\n",
              "</table>\n",
              "<p>3 rows × 28 columns</p>\n",
              "</div>"
            ],
            "text/plain": [
              "       id                          listing_url  host_id  \\\n",
              "0  312761  https://www.airbnb.com/rooms/312761  1608226   \n",
              "1   13913   https://www.airbnb.com/rooms/13913    54730   \n",
              "2   15400   https://www.airbnb.com/rooms/15400    60302   \n",
              "\n",
              "                 property_type host_is_superhost  host_total_listings_count  \\\n",
              "0           Entire rental unit                 t                        3.0   \n",
              "1  Private room in rental unit                 t                        5.0   \n",
              "2           Entire rental unit                 f                        1.0   \n",
              "\n",
              "   neighbourhood_cleansed  latitude  longitude        room_type  ...  \\\n",
              "0                 Hackney  51.52704   -0.08129  Entire home/apt  ...   \n",
              "1               Islington  51.56861   -0.11270     Private room  ...   \n",
              "2  Kensington and Chelsea  51.48780   -0.16813  Entire home/apt  ...   \n",
              "\n",
              "   number_of_reviews  number_of_reviews_l30d  review_scores_rating  \\\n",
              "0                122                       0                  4.96   \n",
              "1                 41                       0                  4.80   \n",
              "2                 94                       0                  4.80   \n",
              "\n",
              "   review_scores_accuracy review_scores_cleanliness review_scores_checkin  \\\n",
              "0                    4.97                      4.93                  4.96   \n",
              "1                    4.73                      4.73                  4.75   \n",
              "2                    4.85                      4.88                  4.88   \n",
              "\n",
              "   review_scores_communication  review_scores_location  review_scores_value  \\\n",
              "0                         5.00                    4.89                 4.93   \n",
              "1                         4.83                    4.70                 4.70   \n",
              "2                         4.83                    4.93                 4.74   \n",
              "\n",
              "   reviews_per_month  \n",
              "0               0.86  \n",
              "1               0.25  \n",
              "2               0.54  \n",
              "\n",
              "[3 rows x 28 columns]"
            ]
          },
          "execution_count": 6,
          "metadata": {},
          "output_type": "execute_result"
        }
      ],
      "source": [
        "#필요한 컬럼 가져오기\n",
        "selected_columns = ['id','listing_url','host_id', 'property_type',\n",
        "                    'host_is_superhost','host_total_listings_count','neighbourhood_cleansed','latitude',\n",
        "                    'longitude','room_type','accommodates','bathrooms','bedrooms','beds','amenities','price',\n",
        "                    'minimum_nights','maximum_nights','number_of_reviews','number_of_reviews_l30d',\n",
        "                    'review_scores_rating','review_scores_accuracy','review_scores_cleanliness',\n",
        "                    'review_scores_checkin','review_scores_communication','review_scores_location',\n",
        "                    'review_scores_value','reviews_per_month']\n",
        "df = df[selected_columns]\n",
        "\n",
        "df.head(3)"
      ]
    },
    {
      "cell_type": "markdown",
      "metadata": {
        "id": "0j4NZgpASnoN"
      },
      "source": [
        "<h3>필요한 컬럼명 변경<h3>\n"
      ]
    },
    {
      "cell_type": "markdown",
      "metadata": {
        "id": "MwOSaLZHSqA6"
      },
      "source": [
        "컬렴명 변경\n",
        "\n",
        "- 'id' : '숙소 id'\n",
        "- 'property_type' : '숙소_특징'\n",
        "- 'listing_url' : '숙소 url'\n",
        "- 'host_id' : '호스트 id'\n",
        "- 'host_is_superhost' : '슈퍼호스트 여부'\n",
        "- 'latitude' : '위도'\n",
        "- 'longitude' : '경도'\n",
        "- 'host_total_listings_count' : '등록한 총 숙소 수'\n",
        "- 'neighbourhood_cleansed' : '클린된 숙소 구'\n",
        "- 'room_type' : '룸 유형'\n",
        "- 'accommodates' : '수용 인원수'\n",
        "- 'bathrooms' : '욕실수'\n",
        "- 'bedrooms' : '침실수'\n",
        "- 'beds' : '침대수'\n",
        "- 'amenities' : '어메니티'\n",
        "- 'price' : '숙소 가격'\n",
        "- 'minimum_nights' : '최소 숙박일'\n",
        "- 'maximum_nights' : '최대 숙박일'\n",
        "- 'number_of_reviews' : '총 리뷰수'\n",
        "- 'number_of_reviews_l30d' : '한달치 리뷰수'\n",
        "- 'review_scores_rating' : '리뷰 총점수'\n",
        "- 'review_scores_accuracy' : '리뷰점수(숙소정보 정확성 )'\n",
        "- 'review_scores_cleanliness' : '리뷰점수(청결함)'\n",
        "- 'review_scores_checkin' : '리뷰점수(체크인과정)'\n",
        "- 'review_scores_communication' : '리뷰점수(호스트와 소통)'\n",
        "- 'review_scores_location' : '리뷰점수(숙소위치)'\n",
        "- 'review_scores_value' : '리뷰점수(숙소가격)'\n",
        "- 'reviews_per_month' : '월별 평균 리뷰수'"
      ]
    },
    {
      "cell_type": "code",
      "execution_count": 7,
      "metadata": {
        "id": "BJJ3zc4ASojf"
      },
      "outputs": [],
      "source": [
        "#컬럼명 변경\n",
        "df = df.rename(columns={\n",
        "    'id' : '숙소_id',\n",
        "    'listing_url' : '숙소_url',\n",
        "    'property_type' : '숙소_특징',\n",
        "    'host_id' : '호스트_id',\n",
        "    'host_is_superhost' : '슈퍼호스트',\n",
        "    'host_total_listings_count' : '숙소_수',\n",
        "    'neighbourhood_cleansed' : '숙소_지역',\n",
        "    'latitude' : '위도',\n",
        "    'longitude' : '경도',\n",
        "    'room_type' : '숙소_유형',\n",
        "    'accommodates' : '수용인원수',\n",
        "    'bathrooms' : '욕실수',\n",
        "    'bedrooms' : '침실수',\n",
        "    'beds' : '침대수',\n",
        "    'amenities' : '어메니티',\n",
        "    'price' : '숙소_가격',\n",
        "    'minimum_nights' : '최소_숙박일',\n",
        "    'maximum_nights' : '최대_숙박일',\n",
        "    'minimum_maximum_nights' : '적은_최대_숙박일',\n",
        "    'maximum_maximum_nights' : '많은_최대_숙박일',\n",
        "    'has_availability' : '숙소_예약가능_여부',\n",
        "    'number_of_reviews' : '리뷰수',\n",
        "    'number_of_reviews_l30d' : '30일_리뷰수',\n",
        "    'review_scores_rating' : '리뷰점수',\n",
        "    'review_scores_accuracy' : '숙소_정확성_리뷰점수',\n",
        "    'review_scores_cleanliness' : '숙소_청결도_리뷰점수',\n",
        "    'review_scores_checkin' : '숙소_체크인_리뷰점수',\n",
        "    'review_scores_communication' : '숙소_소통_리뷰점수',\n",
        "    'review_scores_location' : '숙소_위치_리뷰점수',\n",
        "    'review_scores_value' : '숙소_가격_리뷰점수',\n",
        "    'reviews_per_month' : '평균_리뷰수'\n",
        "})"
      ]
    },
    {
      "cell_type": "markdown",
      "metadata": {
        "id": "YvoFMj0cTFmw"
      },
      "source": [
        "<h3>주제별 컬럼 분류<h3><br>\n",
        "\n",
        "숙소/숙박 컬럼 (25개) df_lodging - 리뷰 컬럼(10개) df_review"
      ]
    },
    {
      "cell_type": "code",
      "execution_count": 8,
      "metadata": {
        "colab": {
          "base_uri": "https://localhost:8080/",
          "height": 354
        },
        "id": "go2j-sWOSohR",
        "outputId": "05114e0e-d521-4f77-d176-f44b3327f83a"
      },
      "outputs": [
        {
          "data": {
            "text/html": [
              "<div>\n",
              "<style scoped>\n",
              "    .dataframe tbody tr th:only-of-type {\n",
              "        vertical-align: middle;\n",
              "    }\n",
              "\n",
              "    .dataframe tbody tr th {\n",
              "        vertical-align: top;\n",
              "    }\n",
              "\n",
              "    .dataframe thead th {\n",
              "        text-align: right;\n",
              "    }\n",
              "</style>\n",
              "<table border=\"1\" class=\"dataframe\">\n",
              "  <thead>\n",
              "    <tr style=\"text-align: right;\">\n",
              "      <th></th>\n",
              "      <th>id</th>\n",
              "      <th>listing_url</th>\n",
              "      <th>host_id</th>\n",
              "      <th>host_is_superhost</th>\n",
              "      <th>property_type</th>\n",
              "      <th>host_total_listings_count</th>\n",
              "      <th>neighbourhood_cleansed</th>\n",
              "      <th>room_type</th>\n",
              "      <th>accommodates</th>\n",
              "      <th>bathrooms</th>\n",
              "      <th>bedrooms</th>\n",
              "      <th>beds</th>\n",
              "      <th>amenities</th>\n",
              "      <th>price</th>\n",
              "      <th>minimum_nights</th>\n",
              "      <th>maximum_nights</th>\n",
              "    </tr>\n",
              "  </thead>\n",
              "  <tbody>\n",
              "    <tr>\n",
              "      <th>0</th>\n",
              "      <td>312761</td>\n",
              "      <td>https://www.airbnb.com/rooms/312761</td>\n",
              "      <td>1608226</td>\n",
              "      <td>t</td>\n",
              "      <td>Entire rental unit</td>\n",
              "      <td>3.0</td>\n",
              "      <td>Hackney</td>\n",
              "      <td>Entire home/apt</td>\n",
              "      <td>2</td>\n",
              "      <td>1.0</td>\n",
              "      <td>1.0</td>\n",
              "      <td>1.0</td>\n",
              "      <td>[\"Toaster\", \"Room-darkening shades\", \"Coffee m...</td>\n",
              "      <td>$160.00</td>\n",
              "      <td>9</td>\n",
              "      <td>180</td>\n",
              "    </tr>\n",
              "    <tr>\n",
              "      <th>1</th>\n",
              "      <td>13913</td>\n",
              "      <td>https://www.airbnb.com/rooms/13913</td>\n",
              "      <td>54730</td>\n",
              "      <td>t</td>\n",
              "      <td>Private room in rental unit</td>\n",
              "      <td>5.0</td>\n",
              "      <td>Islington</td>\n",
              "      <td>Private room</td>\n",
              "      <td>1</td>\n",
              "      <td>1.0</td>\n",
              "      <td>1.0</td>\n",
              "      <td>1.0</td>\n",
              "      <td>[\"Toaster\", \"Room-darkening shades\", \"Shampoo\"...</td>\n",
              "      <td>$65.00</td>\n",
              "      <td>1</td>\n",
              "      <td>29</td>\n",
              "    </tr>\n",
              "    <tr>\n",
              "      <th>2</th>\n",
              "      <td>15400</td>\n",
              "      <td>https://www.airbnb.com/rooms/15400</td>\n",
              "      <td>60302</td>\n",
              "      <td>f</td>\n",
              "      <td>Entire rental unit</td>\n",
              "      <td>1.0</td>\n",
              "      <td>Kensington and Chelsea</td>\n",
              "      <td>Entire home/apt</td>\n",
              "      <td>2</td>\n",
              "      <td>1.0</td>\n",
              "      <td>1.0</td>\n",
              "      <td>1.0</td>\n",
              "      <td>[\"Shampoo\", \"Wifi\", \"Fire extinguisher\", \"Lugg...</td>\n",
              "      <td>$120.00</td>\n",
              "      <td>4</td>\n",
              "      <td>30</td>\n",
              "    </tr>\n",
              "  </tbody>\n",
              "</table>\n",
              "</div>"
            ],
            "text/plain": [
              "       id                          listing_url  host_id host_is_superhost  \\\n",
              "0  312761  https://www.airbnb.com/rooms/312761  1608226                 t   \n",
              "1   13913   https://www.airbnb.com/rooms/13913    54730                 t   \n",
              "2   15400   https://www.airbnb.com/rooms/15400    60302                 f   \n",
              "\n",
              "                 property_type  host_total_listings_count  \\\n",
              "0           Entire rental unit                        3.0   \n",
              "1  Private room in rental unit                        5.0   \n",
              "2           Entire rental unit                        1.0   \n",
              "\n",
              "   neighbourhood_cleansed        room_type  accommodates  bathrooms  bedrooms  \\\n",
              "0                 Hackney  Entire home/apt             2        1.0       1.0   \n",
              "1               Islington     Private room             1        1.0       1.0   \n",
              "2  Kensington and Chelsea  Entire home/apt             2        1.0       1.0   \n",
              "\n",
              "   beds                                          amenities    price  \\\n",
              "0   1.0  [\"Toaster\", \"Room-darkening shades\", \"Coffee m...  $160.00   \n",
              "1   1.0  [\"Toaster\", \"Room-darkening shades\", \"Shampoo\"...   $65.00   \n",
              "2   1.0  [\"Shampoo\", \"Wifi\", \"Fire extinguisher\", \"Lugg...  $120.00   \n",
              "\n",
              "   minimum_nights  maximum_nights  \n",
              "0               9             180  \n",
              "1               1              29  \n",
              "2               4              30  "
            ]
          },
          "execution_count": 8,
          "metadata": {},
          "output_type": "execute_result"
        }
      ],
      "source": [
        "#숙소/숙박관련 컬럼\n",
        "\n",
        "df_lodging = dat[['id', 'listing_url','host_id','host_is_superhost','property_type',\n",
        "                  'host_total_listings_count','neighbourhood_cleansed','room_type','accommodates','bathrooms','bedrooms',\n",
        "                  'beds','amenities','price','minimum_nights','maximum_nights']]\n",
        "df_lodging.head(3)"
      ]
    },
    {
      "cell_type": "code",
      "execution_count": 9,
      "metadata": {
        "colab": {
          "base_uri": "https://localhost:8080/",
          "height": 317
        },
        "id": "qVrNJIP2R3V2",
        "outputId": "792abc3c-0060-4d7d-c660-d49f21e9204a"
      },
      "outputs": [
        {
          "data": {
            "text/html": [
              "<div>\n",
              "<style scoped>\n",
              "    .dataframe tbody tr th:only-of-type {\n",
              "        vertical-align: middle;\n",
              "    }\n",
              "\n",
              "    .dataframe tbody tr th {\n",
              "        vertical-align: top;\n",
              "    }\n",
              "\n",
              "    .dataframe thead th {\n",
              "        text-align: right;\n",
              "    }\n",
              "</style>\n",
              "<table border=\"1\" class=\"dataframe\">\n",
              "  <thead>\n",
              "    <tr style=\"text-align: right;\">\n",
              "      <th></th>\n",
              "      <th>숙소_id</th>\n",
              "      <th>숙소_url</th>\n",
              "      <th>호스트_id</th>\n",
              "      <th>슈퍼호스트</th>\n",
              "      <th>숙소_특징</th>\n",
              "      <th>숙소_수</th>\n",
              "      <th>숙소_지역</th>\n",
              "      <th>숙소_유형</th>\n",
              "      <th>수용인원수</th>\n",
              "      <th>욕실수</th>\n",
              "      <th>침실수</th>\n",
              "      <th>침대수</th>\n",
              "      <th>편의시설</th>\n",
              "      <th>숙소_가격</th>\n",
              "      <th>최소_숙박일</th>\n",
              "      <th>최대_숙박일</th>\n",
              "    </tr>\n",
              "  </thead>\n",
              "  <tbody>\n",
              "    <tr>\n",
              "      <th>0</th>\n",
              "      <td>312761</td>\n",
              "      <td>https://www.airbnb.com/rooms/312761</td>\n",
              "      <td>1608226</td>\n",
              "      <td>t</td>\n",
              "      <td>Entire rental unit</td>\n",
              "      <td>3.0</td>\n",
              "      <td>Hackney</td>\n",
              "      <td>Entire home/apt</td>\n",
              "      <td>2</td>\n",
              "      <td>1.0</td>\n",
              "      <td>1.0</td>\n",
              "      <td>1.0</td>\n",
              "      <td>[\"Toaster\", \"Room-darkening shades\", \"Coffee m...</td>\n",
              "      <td>$160.00</td>\n",
              "      <td>9</td>\n",
              "      <td>180</td>\n",
              "    </tr>\n",
              "    <tr>\n",
              "      <th>1</th>\n",
              "      <td>13913</td>\n",
              "      <td>https://www.airbnb.com/rooms/13913</td>\n",
              "      <td>54730</td>\n",
              "      <td>t</td>\n",
              "      <td>Private room in rental unit</td>\n",
              "      <td>5.0</td>\n",
              "      <td>Islington</td>\n",
              "      <td>Private room</td>\n",
              "      <td>1</td>\n",
              "      <td>1.0</td>\n",
              "      <td>1.0</td>\n",
              "      <td>1.0</td>\n",
              "      <td>[\"Toaster\", \"Room-darkening shades\", \"Shampoo\"...</td>\n",
              "      <td>$65.00</td>\n",
              "      <td>1</td>\n",
              "      <td>29</td>\n",
              "    </tr>\n",
              "    <tr>\n",
              "      <th>2</th>\n",
              "      <td>15400</td>\n",
              "      <td>https://www.airbnb.com/rooms/15400</td>\n",
              "      <td>60302</td>\n",
              "      <td>f</td>\n",
              "      <td>Entire rental unit</td>\n",
              "      <td>1.0</td>\n",
              "      <td>Kensington and Chelsea</td>\n",
              "      <td>Entire home/apt</td>\n",
              "      <td>2</td>\n",
              "      <td>1.0</td>\n",
              "      <td>1.0</td>\n",
              "      <td>1.0</td>\n",
              "      <td>[\"Shampoo\", \"Wifi\", \"Fire extinguisher\", \"Lugg...</td>\n",
              "      <td>$120.00</td>\n",
              "      <td>4</td>\n",
              "      <td>30</td>\n",
              "    </tr>\n",
              "  </tbody>\n",
              "</table>\n",
              "</div>"
            ],
            "text/plain": [
              "    숙소_id                               숙소_url   호스트_id 슈퍼호스트  \\\n",
              "0  312761  https://www.airbnb.com/rooms/312761  1608226     t   \n",
              "1   13913   https://www.airbnb.com/rooms/13913    54730     t   \n",
              "2   15400   https://www.airbnb.com/rooms/15400    60302     f   \n",
              "\n",
              "                         숙소_특징  숙소_수                   숙소_지역            숙소_유형  \\\n",
              "0           Entire rental unit   3.0                 Hackney  Entire home/apt   \n",
              "1  Private room in rental unit   5.0               Islington     Private room   \n",
              "2           Entire rental unit   1.0  Kensington and Chelsea  Entire home/apt   \n",
              "\n",
              "   수용인원수  욕실수  침실수  침대수                                               편의시설  \\\n",
              "0      2  1.0  1.0  1.0  [\"Toaster\", \"Room-darkening shades\", \"Coffee m...   \n",
              "1      1  1.0  1.0  1.0  [\"Toaster\", \"Room-darkening shades\", \"Shampoo\"...   \n",
              "2      2  1.0  1.0  1.0  [\"Shampoo\", \"Wifi\", \"Fire extinguisher\", \"Lugg...   \n",
              "\n",
              "     숙소_가격  최소_숙박일  최대_숙박일  \n",
              "0  $160.00       9     180  \n",
              "1   $65.00       1      29  \n",
              "2  $120.00       4      30  "
            ]
          },
          "execution_count": 9,
          "metadata": {},
          "output_type": "execute_result"
        }
      ],
      "source": [
        "# 컬럼명 변경\n",
        "\n",
        "df_lodging = df_lodging.rename(columns={\n",
        "    'id': '숙소_id',\n",
        "    'host_id': '호스트_id',\n",
        "    'property_type' : '숙소_특징',\n",
        "    'listing_url' : '숙소_url',\n",
        "    'host_is_superhost': '슈퍼호스트',\n",
        "    'host_total_listings_count': '숙소_수',\n",
        "    'neighbourhood_cleansed': '숙소_지역',\n",
        "    'room_type': '숙소_유형',\n",
        "    'accommodates': '수용인원수',\n",
        "    'bathrooms': '욕실수',\n",
        "    'bedrooms': '침실수',\n",
        "    'beds': '침대수',\n",
        "    'amenities': '편의시설',\n",
        "    'price': '숙소_가격',\n",
        "    'minimum_nights': '최소_숙박일',\n",
        "    'maximum_nights': '최대_숙박일'\n",
        "})\n",
        "\n",
        "df_lodging.head(3)"
      ]
    },
    {
      "cell_type": "code",
      "execution_count": 10,
      "metadata": {
        "colab": {
          "base_uri": "https://localhost:8080/",
          "height": 163
        },
        "id": "1MQGqEITR3T-",
        "outputId": "acf0c41d-c8fd-45a5-d413-595ada8c7fd1"
      },
      "outputs": [
        {
          "data": {
            "text/html": [
              "<div>\n",
              "<style scoped>\n",
              "    .dataframe tbody tr th:only-of-type {\n",
              "        vertical-align: middle;\n",
              "    }\n",
              "\n",
              "    .dataframe tbody tr th {\n",
              "        vertical-align: top;\n",
              "    }\n",
              "\n",
              "    .dataframe thead th {\n",
              "        text-align: right;\n",
              "    }\n",
              "</style>\n",
              "<table border=\"1\" class=\"dataframe\">\n",
              "  <thead>\n",
              "    <tr style=\"text-align: right;\">\n",
              "      <th></th>\n",
              "      <th>listing_url</th>\n",
              "      <th>number_of_reviews</th>\n",
              "      <th>number_of_reviews_l30d</th>\n",
              "      <th>review_scores_rating</th>\n",
              "      <th>review_scores_accuracy</th>\n",
              "      <th>review_scores_cleanliness</th>\n",
              "      <th>review_scores_checkin</th>\n",
              "      <th>review_scores_communication</th>\n",
              "      <th>review_scores_location</th>\n",
              "      <th>review_scores_value</th>\n",
              "      <th>reviews_per_month</th>\n",
              "    </tr>\n",
              "  </thead>\n",
              "  <tbody>\n",
              "    <tr>\n",
              "      <th>0</th>\n",
              "      <td>https://www.airbnb.com/rooms/312761</td>\n",
              "      <td>122</td>\n",
              "      <td>0</td>\n",
              "      <td>4.96</td>\n",
              "      <td>4.97</td>\n",
              "      <td>4.93</td>\n",
              "      <td>4.96</td>\n",
              "      <td>5.00</td>\n",
              "      <td>4.89</td>\n",
              "      <td>4.93</td>\n",
              "      <td>0.86</td>\n",
              "    </tr>\n",
              "    <tr>\n",
              "      <th>1</th>\n",
              "      <td>https://www.airbnb.com/rooms/13913</td>\n",
              "      <td>41</td>\n",
              "      <td>0</td>\n",
              "      <td>4.80</td>\n",
              "      <td>4.73</td>\n",
              "      <td>4.73</td>\n",
              "      <td>4.75</td>\n",
              "      <td>4.83</td>\n",
              "      <td>4.70</td>\n",
              "      <td>4.70</td>\n",
              "      <td>0.25</td>\n",
              "    </tr>\n",
              "    <tr>\n",
              "      <th>2</th>\n",
              "      <td>https://www.airbnb.com/rooms/15400</td>\n",
              "      <td>94</td>\n",
              "      <td>0</td>\n",
              "      <td>4.80</td>\n",
              "      <td>4.85</td>\n",
              "      <td>4.88</td>\n",
              "      <td>4.88</td>\n",
              "      <td>4.83</td>\n",
              "      <td>4.93</td>\n",
              "      <td>4.74</td>\n",
              "      <td>0.54</td>\n",
              "    </tr>\n",
              "  </tbody>\n",
              "</table>\n",
              "</div>"
            ],
            "text/plain": [
              "                           listing_url  number_of_reviews  \\\n",
              "0  https://www.airbnb.com/rooms/312761                122   \n",
              "1   https://www.airbnb.com/rooms/13913                 41   \n",
              "2   https://www.airbnb.com/rooms/15400                 94   \n",
              "\n",
              "   number_of_reviews_l30d  review_scores_rating  review_scores_accuracy  \\\n",
              "0                       0                  4.96                    4.97   \n",
              "1                       0                  4.80                    4.73   \n",
              "2                       0                  4.80                    4.85   \n",
              "\n",
              "   review_scores_cleanliness  review_scores_checkin  \\\n",
              "0                       4.93                   4.96   \n",
              "1                       4.73                   4.75   \n",
              "2                       4.88                   4.88   \n",
              "\n",
              "   review_scores_communication  review_scores_location  review_scores_value  \\\n",
              "0                         5.00                    4.89                 4.93   \n",
              "1                         4.83                    4.70                 4.70   \n",
              "2                         4.83                    4.93                 4.74   \n",
              "\n",
              "   reviews_per_month  \n",
              "0               0.86  \n",
              "1               0.25  \n",
              "2               0.54  "
            ]
          },
          "execution_count": 10,
          "metadata": {},
          "output_type": "execute_result"
        }
      ],
      "source": [
        "#리뷰관련데이터\n",
        "df_review = dat[['listing_url','number_of_reviews', 'number_of_reviews_l30d', 'review_scores_rating', 'review_scores_accuracy',\n",
        "                'review_scores_cleanliness', 'review_scores_checkin', 'review_scores_communication',\n",
        "                'review_scores_location', 'review_scores_value', 'reviews_per_month']]\n",
        "df_review.head(3)"
      ]
    },
    {
      "cell_type": "code",
      "execution_count": 11,
      "metadata": {
        "colab": {
          "base_uri": "https://localhost:8080/",
          "height": 224
        },
        "id": "95HJigPeR3Ru",
        "outputId": "2dc6b730-c7c2-4436-d0b5-4a409e101103"
      },
      "outputs": [
        {
          "data": {
            "text/html": [
              "<div>\n",
              "<style scoped>\n",
              "    .dataframe tbody tr th:only-of-type {\n",
              "        vertical-align: middle;\n",
              "    }\n",
              "\n",
              "    .dataframe tbody tr th {\n",
              "        vertical-align: top;\n",
              "    }\n",
              "\n",
              "    .dataframe thead th {\n",
              "        text-align: right;\n",
              "    }\n",
              "</style>\n",
              "<table border=\"1\" class=\"dataframe\">\n",
              "  <thead>\n",
              "    <tr style=\"text-align: right;\">\n",
              "      <th></th>\n",
              "      <th>숙소_url</th>\n",
              "      <th>리뷰수</th>\n",
              "      <th>30일_리뷰수</th>\n",
              "      <th>리뷰점수</th>\n",
              "      <th>숙소_정확성_리뷰점수</th>\n",
              "      <th>숙소_청결도_리뷰점수</th>\n",
              "      <th>숙소_체크인_리뷰점수</th>\n",
              "      <th>숙소_소통_리뷰점수</th>\n",
              "      <th>숙소_위치_리뷰점수</th>\n",
              "      <th>숙소_가격_리뷰점수</th>\n",
              "      <th>평균_리뷰수</th>\n",
              "    </tr>\n",
              "  </thead>\n",
              "  <tbody>\n",
              "    <tr>\n",
              "      <th>0</th>\n",
              "      <td>https://www.airbnb.com/rooms/312761</td>\n",
              "      <td>122</td>\n",
              "      <td>0</td>\n",
              "      <td>4.96</td>\n",
              "      <td>4.97</td>\n",
              "      <td>4.93</td>\n",
              "      <td>4.96</td>\n",
              "      <td>5.00</td>\n",
              "      <td>4.89</td>\n",
              "      <td>4.93</td>\n",
              "      <td>0.86</td>\n",
              "    </tr>\n",
              "    <tr>\n",
              "      <th>1</th>\n",
              "      <td>https://www.airbnb.com/rooms/13913</td>\n",
              "      <td>41</td>\n",
              "      <td>0</td>\n",
              "      <td>4.80</td>\n",
              "      <td>4.73</td>\n",
              "      <td>4.73</td>\n",
              "      <td>4.75</td>\n",
              "      <td>4.83</td>\n",
              "      <td>4.70</td>\n",
              "      <td>4.70</td>\n",
              "      <td>0.25</td>\n",
              "    </tr>\n",
              "    <tr>\n",
              "      <th>2</th>\n",
              "      <td>https://www.airbnb.com/rooms/15400</td>\n",
              "      <td>94</td>\n",
              "      <td>0</td>\n",
              "      <td>4.80</td>\n",
              "      <td>4.85</td>\n",
              "      <td>4.88</td>\n",
              "      <td>4.88</td>\n",
              "      <td>4.83</td>\n",
              "      <td>4.93</td>\n",
              "      <td>4.74</td>\n",
              "      <td>0.54</td>\n",
              "    </tr>\n",
              "    <tr>\n",
              "      <th>3</th>\n",
              "      <td>https://www.airbnb.com/rooms/159736</td>\n",
              "      <td>96</td>\n",
              "      <td>0</td>\n",
              "      <td>4.72</td>\n",
              "      <td>4.79</td>\n",
              "      <td>4.66</td>\n",
              "      <td>4.75</td>\n",
              "      <td>4.89</td>\n",
              "      <td>4.34</td>\n",
              "      <td>4.66</td>\n",
              "      <td>0.62</td>\n",
              "    </tr>\n",
              "    <tr>\n",
              "      <th>4</th>\n",
              "      <td>https://www.airbnb.com/rooms/165336</td>\n",
              "      <td>237</td>\n",
              "      <td>2</td>\n",
              "      <td>4.74</td>\n",
              "      <td>4.88</td>\n",
              "      <td>4.79</td>\n",
              "      <td>4.94</td>\n",
              "      <td>4.96</td>\n",
              "      <td>4.87</td>\n",
              "      <td>4.71</td>\n",
              "      <td>1.57</td>\n",
              "    </tr>\n",
              "  </tbody>\n",
              "</table>\n",
              "</div>"
            ],
            "text/plain": [
              "                                숙소_url  리뷰수  30일_리뷰수  리뷰점수  숙소_정확성_리뷰점수  \\\n",
              "0  https://www.airbnb.com/rooms/312761  122        0  4.96         4.97   \n",
              "1   https://www.airbnb.com/rooms/13913   41        0  4.80         4.73   \n",
              "2   https://www.airbnb.com/rooms/15400   94        0  4.80         4.85   \n",
              "3  https://www.airbnb.com/rooms/159736   96        0  4.72         4.79   \n",
              "4  https://www.airbnb.com/rooms/165336  237        2  4.74         4.88   \n",
              "\n",
              "   숙소_청결도_리뷰점수  숙소_체크인_리뷰점수  숙소_소통_리뷰점수  숙소_위치_리뷰점수  숙소_가격_리뷰점수  평균_리뷰수  \n",
              "0         4.93         4.96        5.00        4.89        4.93    0.86  \n",
              "1         4.73         4.75        4.83        4.70        4.70    0.25  \n",
              "2         4.88         4.88        4.83        4.93        4.74    0.54  \n",
              "3         4.66         4.75        4.89        4.34        4.66    0.62  \n",
              "4         4.79         4.94        4.96        4.87        4.71    1.57  "
            ]
          },
          "execution_count": 11,
          "metadata": {},
          "output_type": "execute_result"
        }
      ],
      "source": [
        "# 컬럼명 변경\n",
        "df_review = df_review.rename(columns={\n",
        "    'listing_url' : '숙소_url',\n",
        "    'number_of_reviews': '리뷰수',\n",
        "    'number_of_reviews_l30d': '30일_리뷰수',\n",
        "    'review_scores_rating': '리뷰점수',\n",
        "    'review_scores_accuracy': '숙소_정확성_리뷰점수',\n",
        "    'review_scores_cleanliness': '숙소_청결도_리뷰점수',\n",
        "    'review_scores_checkin': '숙소_체크인_리뷰점수',\n",
        "    'review_scores_communication': '숙소_소통_리뷰점수',\n",
        "    'review_scores_location': '숙소_위치_리뷰점수',\n",
        "    'review_scores_value': '숙소_가격_리뷰점수',\n",
        "    'reviews_per_month': '평균_리뷰수'\n",
        "})\n",
        "df_review.head()"
      ]
    },
    {
      "cell_type": "code",
      "execution_count": 12,
      "metadata": {
        "colab": {
          "base_uri": "https://localhost:8080/"
        },
        "id": "rZBw1wbIR3P3",
        "outputId": "a8261b88-5b5b-40b5-8cf2-4ffc7883b987"
      },
      "outputs": [
        {
          "data": {
            "text/plain": [
              "(90852, 16)"
            ]
          },
          "execution_count": 12,
          "metadata": {},
          "output_type": "execute_result"
        }
      ],
      "source": [
        "df_lodging.shape"
      ]
    },
    {
      "cell_type": "code",
      "execution_count": 13,
      "metadata": {
        "colab": {
          "base_uri": "https://localhost:8080/"
        },
        "id": "p2mCOK8LR3OB",
        "outputId": "270541ef-f17b-4f66-eb3f-667ce37a61f0"
      },
      "outputs": [
        {
          "data": {
            "text/plain": [
              "(90852, 11)"
            ]
          },
          "execution_count": 13,
          "metadata": {},
          "output_type": "execute_result"
        }
      ],
      "source": [
        "df_review.shape\n"
      ]
    },
    {
      "cell_type": "code",
      "execution_count": 14,
      "metadata": {
        "colab": {
          "base_uri": "https://localhost:8080/"
        },
        "id": "eF_7Q7_xR3L-",
        "outputId": "2bdfd526-1789-47da-a5b4-115f1d8f1f1e"
      },
      "outputs": [
        {
          "data": {
            "text/plain": [
              "(90852, 28)"
            ]
          },
          "execution_count": 14,
          "metadata": {},
          "output_type": "execute_result"
        }
      ],
      "source": [
        "df.shape"
      ]
    },
    {
      "cell_type": "code",
      "execution_count": 15,
      "metadata": {
        "colab": {
          "base_uri": "https://localhost:8080/"
        },
        "id": "oA9R_q1XR3J3",
        "outputId": "a94316b0-8273-41ed-f5c5-7a57e48e3cdd"
      },
      "outputs": [
        {
          "data": {
            "text/plain": [
              "숙소_id            int64\n",
              "숙소_url          object\n",
              "호스트_id           int64\n",
              "숙소_특징           object\n",
              "슈퍼호스트           object\n",
              "숙소_수           float64\n",
              "숙소_지역           object\n",
              "위도             float64\n",
              "경도             float64\n",
              "숙소_유형           object\n",
              "수용인원수            int64\n",
              "욕실수            float64\n",
              "침실수            float64\n",
              "침대수            float64\n",
              "어메니티            object\n",
              "숙소_가격           object\n",
              "최소_숙박일           int64\n",
              "최대_숙박일           int64\n",
              "리뷰수              int64\n",
              "30일_리뷰수          int64\n",
              "리뷰점수           float64\n",
              "숙소_정확성_리뷰점수    float64\n",
              "숙소_청결도_리뷰점수    float64\n",
              "숙소_체크인_리뷰점수    float64\n",
              "숙소_소통_리뷰점수     float64\n",
              "숙소_위치_리뷰점수     float64\n",
              "숙소_가격_리뷰점수     float64\n",
              "평균_리뷰수         float64\n",
              "dtype: object"
            ]
          },
          "execution_count": 15,
          "metadata": {},
          "output_type": "execute_result"
        }
      ],
      "source": [
        "df.dtypes\n"
      ]
    },
    {
      "cell_type": "code",
      "execution_count": 16,
      "metadata": {
        "colab": {
          "base_uri": "https://localhost:8080/"
        },
        "id": "E4nkYcN1T__I",
        "outputId": "7d94f765-76f1-4d7c-97cb-fb27d5098f6c"
      },
      "outputs": [
        {
          "name": "stdout",
          "output_type": "stream",
          "text": [
            "<class 'pandas.core.frame.DataFrame'>\n",
            "RangeIndex: 90852 entries, 0 to 90851\n",
            "Data columns (total 28 columns):\n",
            " #   Column       Non-Null Count  Dtype  \n",
            "---  ------       --------------  -----  \n",
            " 0   숙소_id        90852 non-null  int64  \n",
            " 1   숙소_url       90852 non-null  object \n",
            " 2   호스트_id       90852 non-null  int64  \n",
            " 3   숙소_특징        90852 non-null  object \n",
            " 4   슈퍼호스트        90463 non-null  object \n",
            " 5   숙소_수         90847 non-null  float64\n",
            " 6   숙소_지역        90852 non-null  object \n",
            " 7   위도           90852 non-null  float64\n",
            " 8   경도           90852 non-null  float64\n",
            " 9   숙소_유형        90852 non-null  object \n",
            " 10  수용인원수        90852 non-null  int64  \n",
            " 11  욕실수          57894 non-null  float64\n",
            " 12  침실수          78118 non-null  float64\n",
            " 13  침대수          57837 non-null  float64\n",
            " 14  어메니티         90852 non-null  object \n",
            " 15  숙소_가격        57885 non-null  object \n",
            " 16  최소_숙박일       90852 non-null  int64  \n",
            " 17  최대_숙박일       90852 non-null  int64  \n",
            " 18  리뷰수          90852 non-null  int64  \n",
            " 19  30일_리뷰수      90852 non-null  int64  \n",
            " 20  리뷰점수         65869 non-null  float64\n",
            " 21  숙소_정확성_리뷰점수  65838 non-null  float64\n",
            " 22  숙소_청결도_리뷰점수  65843 non-null  float64\n",
            " 23  숙소_체크인_리뷰점수  65808 non-null  float64\n",
            " 24  숙소_소통_리뷰점수   65833 non-null  float64\n",
            " 25  숙소_위치_리뷰점수   65808 non-null  float64\n",
            " 26  숙소_가격_리뷰점수   65806 non-null  float64\n",
            " 27  평균_리뷰수       65869 non-null  float64\n",
            "dtypes: float64(14), int64(7), object(7)\n",
            "memory usage: 19.4+ MB\n"
          ]
        }
      ],
      "source": [
        "df.info()\n"
      ]
    },
    {
      "cell_type": "markdown",
      "metadata": {
        "id": "K7mcC167UFWA"
      },
      "source": [
        "<h3>결측치 개수</h3><br>\n",
        "\n",
        "- 슈퍼호스트 389개\n",
        "- 문의_응답률 33,055개\n",
        "- 숙소_수 5개\n",
        "- 욕실수 32,958개\n",
        "- 침실수 12,734개\n",
        "- 침대수 33,015개\n",
        "- 숙소_가격 32,967개\n",
        "- 리뷰점수 24,983개\n",
        "- 숙소_정확성_리뷰점수 25014개\n",
        "- 숙소_청결도_리뷰점수 25009개\n",
        "- 숙소_체크인_리뷰점수 25044개\n",
        "- 숙소_소통_리뷰점수 25019개\n",
        "- 숙소_위치_리뷰점수 25044개\n",
        "- 숙소_가격_리뷰점수 25046개\n",
        "- 평균_리뷰수 24983개\n",
        "\n",
        "- -----------------------------------------\n",
        "\n",
        "- 숙소_상세설명 3,001개\n",
        "- 프로필사진_소지_여부 5개\n",
        "- 신원_검증_여부 5개\n",
        "- 숙소_예약가능_여부 4079개"
      ]
    },
    {
      "cell_type": "markdown",
      "metadata": {
        "id": "iQXuKwjJUPQj"
      },
      "source": [
        "결측치 제거 확정 <br>\n",
        "- 슈퍼호스트 null값 (389개) 5%이하\n",
        "- 리뷰수 = 0인 값 --> 리뷰수가 없으면 리뷰점수도 없다\n",
        "- 숙소수 null값 (5개)\n",
        "- 리뷰분야 6개 전부 nan값인 컬럼"
      ]
    },
    {
      "cell_type": "markdown",
      "metadata": {
        "id": "C0lGPs-4URGT"
      },
      "source": [
        "<h3>슈퍼호스트 결측치 처리</h3>\n",
        "\n",
        "- 슈퍼호스트가 null값인 데이터 삭제 389개임(5%이하 해당)\n",
        "\n"
      ]
    },
    {
      "cell_type": "code",
      "execution_count": 17,
      "metadata": {
        "colab": {
          "base_uri": "https://localhost:8080/"
        },
        "id": "0F09DdzGT_7E",
        "outputId": "ffb7d2b8-486d-4c08-938d-33e20aa21dd8"
      },
      "outputs": [
        {
          "data": {
            "text/plain": [
              "389"
            ]
          },
          "execution_count": 17,
          "metadata": {},
          "output_type": "execute_result"
        }
      ],
      "source": [
        "df['슈퍼호스트'].isna().sum()\n"
      ]
    },
    {
      "cell_type": "code",
      "execution_count": 18,
      "metadata": {
        "id": "dh4Kj0tuUUmk"
      },
      "outputs": [],
      "source": [
        "df = df.dropna(subset=['슈퍼호스트'])"
      ]
    },
    {
      "cell_type": "code",
      "execution_count": 19,
      "metadata": {
        "colab": {
          "base_uri": "https://localhost:8080/"
        },
        "id": "FsUkl9jpUUjw",
        "outputId": "401f644d-08ab-4890-8ab9-a137b4e91704"
      },
      "outputs": [
        {
          "data": {
            "text/plain": [
              "(90463, 28)"
            ]
          },
          "execution_count": 19,
          "metadata": {},
          "output_type": "execute_result"
        }
      ],
      "source": [
        "df.shape"
      ]
    },
    {
      "cell_type": "markdown",
      "metadata": {
        "id": "cqZaSatGUYo2"
      },
      "source": [
        "<h3>숙소수 결측치 처리</h3>\n",
        "\n",
        "- 숙소수가 null값인 데이터 삭제 5개임(5%이하 해당)"
      ]
    },
    {
      "cell_type": "code",
      "execution_count": 20,
      "metadata": {
        "id": "Kj7wodbsUUgc"
      },
      "outputs": [],
      "source": [
        "df = df.dropna(subset=['숙소_수'])\n"
      ]
    },
    {
      "cell_type": "code",
      "execution_count": 21,
      "metadata": {
        "colab": {
          "base_uri": "https://localhost:8080/"
        },
        "id": "IvD5ORCkUUdY",
        "outputId": "72c3116a-b1d8-4144-aa84-8b23c8e79443"
      },
      "outputs": [
        {
          "data": {
            "text/plain": [
              "(90458, 28)"
            ]
          },
          "execution_count": 21,
          "metadata": {},
          "output_type": "execute_result"
        }
      ],
      "source": [
        "df.shape"
      ]
    },
    {
      "cell_type": "markdown",
      "metadata": {
        "id": "OeIEEgplUeGY"
      },
      "source": [
        "<h3>리뷰수 결측치 처리</h3>"
      ]
    },
    {
      "cell_type": "code",
      "execution_count": 22,
      "metadata": {
        "colab": {
          "base_uri": "https://localhost:8080/",
          "height": 808
        },
        "id": "JmP4fW6qUUbl",
        "outputId": "c6e48ea0-f029-4edf-b26f-6d2d7e36f153"
      },
      "outputs": [
        {
          "data": {
            "text/html": [
              "<div>\n",
              "<style scoped>\n",
              "    .dataframe tbody tr th:only-of-type {\n",
              "        vertical-align: middle;\n",
              "    }\n",
              "\n",
              "    .dataframe tbody tr th {\n",
              "        vertical-align: top;\n",
              "    }\n",
              "\n",
              "    .dataframe thead th {\n",
              "        text-align: right;\n",
              "    }\n",
              "</style>\n",
              "<table border=\"1\" class=\"dataframe\">\n",
              "  <thead>\n",
              "    <tr style=\"text-align: right;\">\n",
              "      <th></th>\n",
              "      <th>숙소_id</th>\n",
              "      <th>숙소_url</th>\n",
              "      <th>호스트_id</th>\n",
              "      <th>숙소_특징</th>\n",
              "      <th>슈퍼호스트</th>\n",
              "      <th>숙소_수</th>\n",
              "      <th>숙소_지역</th>\n",
              "      <th>위도</th>\n",
              "      <th>경도</th>\n",
              "      <th>숙소_유형</th>\n",
              "      <th>...</th>\n",
              "      <th>리뷰수</th>\n",
              "      <th>30일_리뷰수</th>\n",
              "      <th>리뷰점수</th>\n",
              "      <th>숙소_정확성_리뷰점수</th>\n",
              "      <th>숙소_청결도_리뷰점수</th>\n",
              "      <th>숙소_체크인_리뷰점수</th>\n",
              "      <th>숙소_소통_리뷰점수</th>\n",
              "      <th>숙소_위치_리뷰점수</th>\n",
              "      <th>숙소_가격_리뷰점수</th>\n",
              "      <th>평균_리뷰수</th>\n",
              "    </tr>\n",
              "  </thead>\n",
              "  <tbody>\n",
              "    <tr>\n",
              "      <th>9</th>\n",
              "      <td>170524</td>\n",
              "      <td>https://www.airbnb.com/rooms/170524</td>\n",
              "      <td>194769</td>\n",
              "      <td>Entire rental unit</td>\n",
              "      <td>f</td>\n",
              "      <td>9.0</td>\n",
              "      <td>Westminster</td>\n",
              "      <td>51.506120</td>\n",
              "      <td>-0.140290</td>\n",
              "      <td>Entire home/apt</td>\n",
              "      <td>...</td>\n",
              "      <td>0</td>\n",
              "      <td>0</td>\n",
              "      <td>NaN</td>\n",
              "      <td>NaN</td>\n",
              "      <td>NaN</td>\n",
              "      <td>NaN</td>\n",
              "      <td>NaN</td>\n",
              "      <td>NaN</td>\n",
              "      <td>NaN</td>\n",
              "      <td>NaN</td>\n",
              "    </tr>\n",
              "    <tr>\n",
              "      <th>35</th>\n",
              "      <td>318986</td>\n",
              "      <td>https://www.airbnb.com/rooms/318986</td>\n",
              "      <td>1637212</td>\n",
              "      <td>Entire rental unit</td>\n",
              "      <td>f</td>\n",
              "      <td>1.0</td>\n",
              "      <td>Kensington and Chelsea</td>\n",
              "      <td>51.491130</td>\n",
              "      <td>-0.194820</td>\n",
              "      <td>Entire home/apt</td>\n",
              "      <td>...</td>\n",
              "      <td>0</td>\n",
              "      <td>0</td>\n",
              "      <td>NaN</td>\n",
              "      <td>NaN</td>\n",
              "      <td>NaN</td>\n",
              "      <td>NaN</td>\n",
              "      <td>NaN</td>\n",
              "      <td>NaN</td>\n",
              "      <td>NaN</td>\n",
              "      <td>NaN</td>\n",
              "    </tr>\n",
              "    <tr>\n",
              "      <th>45</th>\n",
              "      <td>42692</td>\n",
              "      <td>https://www.airbnb.com/rooms/42692</td>\n",
              "      <td>186510</td>\n",
              "      <td>Private room in rental unit</td>\n",
              "      <td>f</td>\n",
              "      <td>1.0</td>\n",
              "      <td>Hammersmith and Fulham</td>\n",
              "      <td>51.508220</td>\n",
              "      <td>-0.215620</td>\n",
              "      <td>Private room</td>\n",
              "      <td>...</td>\n",
              "      <td>0</td>\n",
              "      <td>0</td>\n",
              "      <td>NaN</td>\n",
              "      <td>NaN</td>\n",
              "      <td>NaN</td>\n",
              "      <td>NaN</td>\n",
              "      <td>NaN</td>\n",
              "      <td>NaN</td>\n",
              "      <td>NaN</td>\n",
              "      <td>NaN</td>\n",
              "    </tr>\n",
              "    <tr>\n",
              "      <th>49</th>\n",
              "      <td>44384</td>\n",
              "      <td>https://www.airbnb.com/rooms/44384</td>\n",
              "      <td>194769</td>\n",
              "      <td>Private room in rental unit</td>\n",
              "      <td>f</td>\n",
              "      <td>9.0</td>\n",
              "      <td>Barnet</td>\n",
              "      <td>51.597900</td>\n",
              "      <td>-0.243270</td>\n",
              "      <td>Private room</td>\n",
              "      <td>...</td>\n",
              "      <td>0</td>\n",
              "      <td>0</td>\n",
              "      <td>NaN</td>\n",
              "      <td>NaN</td>\n",
              "      <td>NaN</td>\n",
              "      <td>NaN</td>\n",
              "      <td>NaN</td>\n",
              "      <td>NaN</td>\n",
              "      <td>NaN</td>\n",
              "      <td>NaN</td>\n",
              "    </tr>\n",
              "    <tr>\n",
              "      <th>56</th>\n",
              "      <td>324055</td>\n",
              "      <td>https://www.airbnb.com/rooms/324055</td>\n",
              "      <td>1664001</td>\n",
              "      <td>Private room in home</td>\n",
              "      <td>f</td>\n",
              "      <td>1.0</td>\n",
              "      <td>Newham</td>\n",
              "      <td>51.553110</td>\n",
              "      <td>0.022730</td>\n",
              "      <td>Private room</td>\n",
              "      <td>...</td>\n",
              "      <td>0</td>\n",
              "      <td>0</td>\n",
              "      <td>NaN</td>\n",
              "      <td>NaN</td>\n",
              "      <td>NaN</td>\n",
              "      <td>NaN</td>\n",
              "      <td>NaN</td>\n",
              "      <td>NaN</td>\n",
              "      <td>NaN</td>\n",
              "      <td>NaN</td>\n",
              "    </tr>\n",
              "    <tr>\n",
              "      <th>...</th>\n",
              "      <td>...</td>\n",
              "      <td>...</td>\n",
              "      <td>...</td>\n",
              "      <td>...</td>\n",
              "      <td>...</td>\n",
              "      <td>...</td>\n",
              "      <td>...</td>\n",
              "      <td>...</td>\n",
              "      <td>...</td>\n",
              "      <td>...</td>\n",
              "      <td>...</td>\n",
              "      <td>...</td>\n",
              "      <td>...</td>\n",
              "      <td>...</td>\n",
              "      <td>...</td>\n",
              "      <td>...</td>\n",
              "      <td>...</td>\n",
              "      <td>...</td>\n",
              "      <td>...</td>\n",
              "      <td>...</td>\n",
              "      <td>...</td>\n",
              "    </tr>\n",
              "    <tr>\n",
              "      <th>90847</th>\n",
              "      <td>1115272743905612628</td>\n",
              "      <td>https://www.airbnb.com/rooms/1115272743905612628</td>\n",
              "      <td>565833376</td>\n",
              "      <td>Entire rental unit</td>\n",
              "      <td>f</td>\n",
              "      <td>55.0</td>\n",
              "      <td>Bexley</td>\n",
              "      <td>51.502721</td>\n",
              "      <td>0.147342</td>\n",
              "      <td>Entire home/apt</td>\n",
              "      <td>...</td>\n",
              "      <td>0</td>\n",
              "      <td>0</td>\n",
              "      <td>NaN</td>\n",
              "      <td>NaN</td>\n",
              "      <td>NaN</td>\n",
              "      <td>NaN</td>\n",
              "      <td>NaN</td>\n",
              "      <td>NaN</td>\n",
              "      <td>NaN</td>\n",
              "      <td>NaN</td>\n",
              "    </tr>\n",
              "    <tr>\n",
              "      <th>90848</th>\n",
              "      <td>1115272767893608505</td>\n",
              "      <td>https://www.airbnb.com/rooms/1115272767893608505</td>\n",
              "      <td>565833376</td>\n",
              "      <td>Entire rental unit</td>\n",
              "      <td>f</td>\n",
              "      <td>55.0</td>\n",
              "      <td>Bexley</td>\n",
              "      <td>51.504134</td>\n",
              "      <td>0.148848</td>\n",
              "      <td>Entire home/apt</td>\n",
              "      <td>...</td>\n",
              "      <td>0</td>\n",
              "      <td>0</td>\n",
              "      <td>NaN</td>\n",
              "      <td>NaN</td>\n",
              "      <td>NaN</td>\n",
              "      <td>NaN</td>\n",
              "      <td>NaN</td>\n",
              "      <td>NaN</td>\n",
              "      <td>NaN</td>\n",
              "      <td>NaN</td>\n",
              "    </tr>\n",
              "    <tr>\n",
              "      <th>90849</th>\n",
              "      <td>1115285644506865913</td>\n",
              "      <td>https://www.airbnb.com/rooms/1115285644506865913</td>\n",
              "      <td>444801189</td>\n",
              "      <td>Room in hotel</td>\n",
              "      <td>f</td>\n",
              "      <td>44.0</td>\n",
              "      <td>Westminster</td>\n",
              "      <td>51.506404</td>\n",
              "      <td>-0.148199</td>\n",
              "      <td>Private room</td>\n",
              "      <td>...</td>\n",
              "      <td>0</td>\n",
              "      <td>0</td>\n",
              "      <td>NaN</td>\n",
              "      <td>NaN</td>\n",
              "      <td>NaN</td>\n",
              "      <td>NaN</td>\n",
              "      <td>NaN</td>\n",
              "      <td>NaN</td>\n",
              "      <td>NaN</td>\n",
              "      <td>NaN</td>\n",
              "    </tr>\n",
              "    <tr>\n",
              "      <th>90850</th>\n",
              "      <td>1115338006572763275</td>\n",
              "      <td>https://www.airbnb.com/rooms/1115338006572763275</td>\n",
              "      <td>514234035</td>\n",
              "      <td>Entire rental unit</td>\n",
              "      <td>f</td>\n",
              "      <td>62.0</td>\n",
              "      <td>Westminster</td>\n",
              "      <td>51.513649</td>\n",
              "      <td>-0.161906</td>\n",
              "      <td>Entire home/apt</td>\n",
              "      <td>...</td>\n",
              "      <td>0</td>\n",
              "      <td>0</td>\n",
              "      <td>NaN</td>\n",
              "      <td>NaN</td>\n",
              "      <td>NaN</td>\n",
              "      <td>NaN</td>\n",
              "      <td>NaN</td>\n",
              "      <td>NaN</td>\n",
              "      <td>NaN</td>\n",
              "      <td>NaN</td>\n",
              "    </tr>\n",
              "    <tr>\n",
              "      <th>90851</th>\n",
              "      <td>1115347885713265376</td>\n",
              "      <td>https://www.airbnb.com/rooms/1115347885713265376</td>\n",
              "      <td>215155525</td>\n",
              "      <td>Entire townhouse</td>\n",
              "      <td>f</td>\n",
              "      <td>6.0</td>\n",
              "      <td>Haringey</td>\n",
              "      <td>51.600825</td>\n",
              "      <td>-0.104080</td>\n",
              "      <td>Entire home/apt</td>\n",
              "      <td>...</td>\n",
              "      <td>0</td>\n",
              "      <td>0</td>\n",
              "      <td>NaN</td>\n",
              "      <td>NaN</td>\n",
              "      <td>NaN</td>\n",
              "      <td>NaN</td>\n",
              "      <td>NaN</td>\n",
              "      <td>NaN</td>\n",
              "      <td>NaN</td>\n",
              "      <td>NaN</td>\n",
              "    </tr>\n",
              "  </tbody>\n",
              "</table>\n",
              "<p>24920 rows × 28 columns</p>\n",
              "</div>"
            ],
            "text/plain": [
              "                     숙소_id                                            숙소_url  \\\n",
              "9                   170524               https://www.airbnb.com/rooms/170524   \n",
              "35                  318986               https://www.airbnb.com/rooms/318986   \n",
              "45                   42692                https://www.airbnb.com/rooms/42692   \n",
              "49                   44384                https://www.airbnb.com/rooms/44384   \n",
              "56                  324055               https://www.airbnb.com/rooms/324055   \n",
              "...                    ...                                               ...   \n",
              "90847  1115272743905612628  https://www.airbnb.com/rooms/1115272743905612628   \n",
              "90848  1115272767893608505  https://www.airbnb.com/rooms/1115272767893608505   \n",
              "90849  1115285644506865913  https://www.airbnb.com/rooms/1115285644506865913   \n",
              "90850  1115338006572763275  https://www.airbnb.com/rooms/1115338006572763275   \n",
              "90851  1115347885713265376  https://www.airbnb.com/rooms/1115347885713265376   \n",
              "\n",
              "          호스트_id                        숙소_특징 슈퍼호스트  숙소_수  \\\n",
              "9         194769           Entire rental unit     f   9.0   \n",
              "35       1637212           Entire rental unit     f   1.0   \n",
              "45        186510  Private room in rental unit     f   1.0   \n",
              "49        194769  Private room in rental unit     f   9.0   \n",
              "56       1664001         Private room in home     f   1.0   \n",
              "...          ...                          ...   ...   ...   \n",
              "90847  565833376           Entire rental unit     f  55.0   \n",
              "90848  565833376           Entire rental unit     f  55.0   \n",
              "90849  444801189                Room in hotel     f  44.0   \n",
              "90850  514234035           Entire rental unit     f  62.0   \n",
              "90851  215155525             Entire townhouse     f   6.0   \n",
              "\n",
              "                        숙소_지역         위도        경도            숙소_유형  ...  리뷰수  \\\n",
              "9                 Westminster  51.506120 -0.140290  Entire home/apt  ...    0   \n",
              "35     Kensington and Chelsea  51.491130 -0.194820  Entire home/apt  ...    0   \n",
              "45     Hammersmith and Fulham  51.508220 -0.215620     Private room  ...    0   \n",
              "49                     Barnet  51.597900 -0.243270     Private room  ...    0   \n",
              "56                     Newham  51.553110  0.022730     Private room  ...    0   \n",
              "...                       ...        ...       ...              ...  ...  ...   \n",
              "90847                  Bexley  51.502721  0.147342  Entire home/apt  ...    0   \n",
              "90848                  Bexley  51.504134  0.148848  Entire home/apt  ...    0   \n",
              "90849             Westminster  51.506404 -0.148199     Private room  ...    0   \n",
              "90850             Westminster  51.513649 -0.161906  Entire home/apt  ...    0   \n",
              "90851                Haringey  51.600825 -0.104080  Entire home/apt  ...    0   \n",
              "\n",
              "       30일_리뷰수  리뷰점수  숙소_정확성_리뷰점수 숙소_청결도_리뷰점수 숙소_체크인_리뷰점수  숙소_소통_리뷰점수  \\\n",
              "9            0   NaN          NaN         NaN         NaN         NaN   \n",
              "35           0   NaN          NaN         NaN         NaN         NaN   \n",
              "45           0   NaN          NaN         NaN         NaN         NaN   \n",
              "49           0   NaN          NaN         NaN         NaN         NaN   \n",
              "56           0   NaN          NaN         NaN         NaN         NaN   \n",
              "...        ...   ...          ...         ...         ...         ...   \n",
              "90847        0   NaN          NaN         NaN         NaN         NaN   \n",
              "90848        0   NaN          NaN         NaN         NaN         NaN   \n",
              "90849        0   NaN          NaN         NaN         NaN         NaN   \n",
              "90850        0   NaN          NaN         NaN         NaN         NaN   \n",
              "90851        0   NaN          NaN         NaN         NaN         NaN   \n",
              "\n",
              "       숙소_위치_리뷰점수  숙소_가격_리뷰점수  평균_리뷰수  \n",
              "9             NaN         NaN     NaN  \n",
              "35            NaN         NaN     NaN  \n",
              "45            NaN         NaN     NaN  \n",
              "49            NaN         NaN     NaN  \n",
              "56            NaN         NaN     NaN  \n",
              "...           ...         ...     ...  \n",
              "90847         NaN         NaN     NaN  \n",
              "90848         NaN         NaN     NaN  \n",
              "90849         NaN         NaN     NaN  \n",
              "90850         NaN         NaN     NaN  \n",
              "90851         NaN         NaN     NaN  \n",
              "\n",
              "[24920 rows x 28 columns]"
            ]
          },
          "execution_count": 22,
          "metadata": {},
          "output_type": "execute_result"
        }
      ],
      "source": [
        "df[df['리뷰수'] == 0]\n"
      ]
    },
    {
      "cell_type": "code",
      "execution_count": 23,
      "metadata": {
        "id": "uhM-gZncUUZ1"
      },
      "outputs": [],
      "source": [
        "df = df[df['리뷰수'] != 0]\n"
      ]
    },
    {
      "cell_type": "code",
      "execution_count": 24,
      "metadata": {
        "colab": {
          "base_uri": "https://localhost:8080/"
        },
        "id": "kdYK7GfaUUX2",
        "outputId": "85a51499-304e-4e9d-8395-02127a65735a"
      },
      "outputs": [
        {
          "data": {
            "text/plain": [
              "(65538, 28)"
            ]
          },
          "execution_count": 24,
          "metadata": {},
          "output_type": "execute_result"
        }
      ],
      "source": [
        "df.shape\n"
      ]
    },
    {
      "cell_type": "markdown",
      "metadata": {
        "id": "5zDn-3-wUlhH"
      },
      "source": [
        "<h3>리뷰분야 (6개)결측치 처리</h3>\n",
        "'숙소_정확성_리뷰점수', '숙소_청결도_리뷰점수', '숙소_체크인_리뷰점수',\n",
        "       '숙소_소통_리뷰점수', '숙소_위치_리뷰점수', '숙소_가격_리뷰점수'"
      ]
    },
    {
      "cell_type": "code",
      "execution_count": 25,
      "metadata": {
        "id": "6Bp0QCPPUUWA"
      },
      "outputs": [],
      "source": [
        "review_field = df['숙소_정확성_리뷰점수'].isna() & df['숙소_청결도_리뷰점수'].isna() & df['숙소_체크인_리뷰점수'].isna() & df['숙소_소통_리뷰점수'].isna() \\\n",
        "   & df['숙소_위치_리뷰점수'].isna() &df['숙소_가격_리뷰점수'].isna()"
      ]
    },
    {
      "cell_type": "code",
      "execution_count": 26,
      "metadata": {
        "id": "f2l0GjbMUUUO"
      },
      "outputs": [],
      "source": [
        "df = df[~review_field]"
      ]
    },
    {
      "cell_type": "code",
      "execution_count": 27,
      "metadata": {
        "colab": {
          "base_uri": "https://localhost:8080/"
        },
        "id": "Do-HYu-BUkE4",
        "outputId": "0a056756-3ed9-4798-c3da-d839dee7ca80"
      },
      "outputs": [
        {
          "data": {
            "text/plain": [
              "(65516, 28)"
            ]
          },
          "execution_count": 27,
          "metadata": {},
          "output_type": "execute_result"
        }
      ],
      "source": [
        "df.shape"
      ]
    },
    {
      "cell_type": "code",
      "execution_count": 28,
      "metadata": {
        "colab": {
          "base_uri": "https://localhost:8080/"
        },
        "id": "zi6-VY9uUkC7",
        "outputId": "6599ab26-6553-4db2-e521-72cfa2557c1d"
      },
      "outputs": [
        {
          "data": {
            "text/plain": [
              "41"
            ]
          },
          "execution_count": 28,
          "metadata": {},
          "output_type": "execute_result"
        }
      ],
      "source": [
        "#각 분야의 널값\n",
        "df['숙소_정확성_리뷰점수'].isna().sum() # 9개\n",
        "df['숙소_청결도_리뷰점수'].isna().sum() # 4개\n",
        "df['숙소_소통_리뷰점수'].isna().sum() # 14개\n",
        "df['숙소_위치_리뷰점수'].isna().sum() # 39개\n",
        "df['숙소_가격_리뷰점수'].isna().sum() # 41개"
      ]
    },
    {
      "cell_type": "markdown",
      "metadata": {
        "id": "SnUbsfEZVbo5"
      },
      "source": [
        "숙소유형이 Hotel room / Shared room 인 행 삭제\n",
        "\n",
        "- 에어비앤비 숙소의 특징인 개인실 대여, 아파트 집 대여인 점을 이용"
      ]
    },
    {
      "cell_type": "code",
      "execution_count": 29,
      "metadata": {
        "colab": {
          "base_uri": "https://localhost:8080/"
        },
        "id": "nIGAy3N1VC2y",
        "outputId": "6c70566f-2b8b-45ca-a736-972a45021897"
      },
      "outputs": [
        {
          "data": {
            "text/plain": [
              "숙소_유형\n",
              "Entire home/apt    42526\n",
              "Private room       22621\n",
              "Shared room          220\n",
              "Hotel room           149\n",
              "Name: count, dtype: int64"
            ]
          },
          "execution_count": 29,
          "metadata": {},
          "output_type": "execute_result"
        }
      ],
      "source": [
        "df['숙소_유형'].value_counts()"
      ]
    },
    {
      "cell_type": "code",
      "execution_count": 30,
      "metadata": {
        "colab": {
          "base_uri": "https://localhost:8080/",
          "height": 540
        },
        "id": "xyWSamNcV4lv",
        "outputId": "8b17f32c-1558-4b5a-9f37-f759f1e783e5"
      },
      "outputs": [
        {
          "data": {
            "image/png": "[encoded data removed]",
            "text/plain": [
              "<Figure size 640x480 with 1 Axes>"
            ]
          },
          "metadata": {},
          "output_type": "display_data"
        }
      ],
      "source": [
        "df['숙소_유형'].value_counts().plot(kind='bar')\n",
        "plt.show()"
      ]
    },
    {
      "cell_type": "code",
      "execution_count": 31,
      "metadata": {
        "id": "UJX0n-5HUkBk"
      },
      "outputs": [],
      "source": [
        "condition = (df['숙소_유형'] == 'Hotel room') | (df['숙소_유형'] == 'Shared room')"
      ]
    },
    {
      "cell_type": "code",
      "execution_count": 32,
      "metadata": {
        "id": "hgJb_M2kUj_r"
      },
      "outputs": [],
      "source": [
        "df = df[~condition]"
      ]
    },
    {
      "cell_type": "code",
      "execution_count": 33,
      "metadata": {
        "colab": {
          "base_uri": "https://localhost:8080/"
        },
        "id": "XKh8ql-wUj9j",
        "outputId": "818bdfb8-f30b-4cb7-b47c-2c8a12c163fe"
      },
      "outputs": [
        {
          "data": {
            "text/plain": [
              "숙소_유형\n",
              "Entire home/apt    42526\n",
              "Private room       22621\n",
              "Name: count, dtype: int64"
            ]
          },
          "execution_count": 33,
          "metadata": {},
          "output_type": "execute_result"
        }
      ],
      "source": [
        "df['숙소_유형'].value_counts()"
      ]
    },
    {
      "cell_type": "markdown",
      "metadata": {
        "id": "gDp5tzyKWIVD"
      },
      "source": [
        "숙소가격 결측치 처리"
      ]
    },
    {
      "cell_type": "markdown",
      "metadata": {
        "id": "2Fo0cTr4WLEC"
      },
      "source": [
        "숙소가격 데이터타입 float로 번경"
      ]
    },
    {
      "cell_type": "code",
      "execution_count": 34,
      "metadata": {
        "id": "8NTZ1ONqWjZa"
      },
      "outputs": [],
      "source": [
        "df.loc[:,'숙소_가격'] = df['숙소_가격'].str.replace('$', \"\")\n",
        "df.loc[:,'숙소_가격'] = df['숙소_가격'].str.replace(',', \"\")\n",
        "df.loc[:,'숙소_가격'] = df['숙소_가격'].str.strip()"
      ]
    },
    {
      "cell_type": "code",
      "execution_count": 35,
      "metadata": {
        "colab": {
          "base_uri": "https://localhost:8080/"
        },
        "id": "AmHeOtIfWjWY",
        "outputId": "d33d1758-139f-4d06-9e3a-1c50c92e36ce"
      },
      "outputs": [
        {
          "data": {
            "text/plain": [
              "0        160.0\n",
              "1         65.0\n",
              "2        120.0\n",
              "3         65.0\n",
              "4        100.0\n",
              "         ...  \n",
              "90451     46.0\n",
              "90568     78.0\n",
              "90590    136.0\n",
              "90648    109.0\n",
              "90735     41.0\n",
              "Name: 숙소_가격, Length: 65147, dtype: float64"
            ]
          },
          "execution_count": 35,
          "metadata": {},
          "output_type": "execute_result"
        }
      ],
      "source": [
        "df['숙소_가격'] = df.loc[:,'숙소_가격'].astype(float)\n",
        "df['숙소_가격']\n"
      ]
    },
    {
      "cell_type": "code",
      "execution_count": 36,
      "metadata": {
        "id": "V8ENoJZ61w_m"
      },
      "outputs": [],
      "source": [
        "dat = df.copy()"
      ]
    },
    {
      "cell_type": "code",
      "execution_count": 37,
      "metadata": {
        "colab": {
          "base_uri": "https://localhost:8080/"
        },
        "id": "YIhHj6PF13eV",
        "outputId": "db78b221-583d-42e3-cc6e-aea023d05240"
      },
      "outputs": [
        {
          "data": {
            "text/plain": [
              "(65147, 28)"
            ]
          },
          "execution_count": 37,
          "metadata": {},
          "output_type": "execute_result"
        }
      ],
      "source": [
        "dat.shape"
      ]
    },
    {
      "cell_type": "markdown",
      "metadata": {
        "id": "v2SFbvwpWCv4"
      },
      "source": [
        "숙소_가격 nan값 제거"
      ]
    },
    {
      "cell_type": "code",
      "execution_count": 38,
      "metadata": {
        "id": "YuEWW1VAUhdM"
      },
      "outputs": [],
      "source": [
        "df.dropna(subset=['숙소_가격'], inplace =  True)"
      ]
    },
    {
      "cell_type": "code",
      "execution_count": 39,
      "metadata": {
        "colab": {
          "base_uri": "https://localhost:8080/"
        },
        "id": "ud695yx3U0hO",
        "outputId": "6a34f5aa-376a-444a-84ca-f3ca8b96dd4e"
      },
      "outputs": [
        {
          "data": {
            "text/plain": [
              "0        160.0\n",
              "1         65.0\n",
              "2        120.0\n",
              "3         65.0\n",
              "4        100.0\n",
              "         ...  \n",
              "90451     46.0\n",
              "90568     78.0\n",
              "90590    136.0\n",
              "90648    109.0\n",
              "90735     41.0\n",
              "Name: 숙소_가격, Length: 43182, dtype: float64"
            ]
          },
          "execution_count": 39,
          "metadata": {},
          "output_type": "execute_result"
        }
      ],
      "source": [
        "df['숙소_가격']"
      ]
    },
    {
      "cell_type": "code",
      "execution_count": 40,
      "metadata": {
        "colab": {
          "base_uri": "https://localhost:8080/"
        },
        "id": "St3ZtKq0Uq6D",
        "outputId": "e84fc086-0050-4b62-95d6-68a158ecbe2c"
      },
      "outputs": [
        {
          "data": {
            "text/plain": [
              "(43182, 28)"
            ]
          },
          "execution_count": 40,
          "metadata": {},
          "output_type": "execute_result"
        }
      ],
      "source": [
        "df.shape"
      ]
    },
    {
      "cell_type": "code",
      "execution_count": 41,
      "metadata": {
        "id": "JQwW91t2HY4O"
      },
      "outputs": [],
      "source": [
        "df2 = df.copy()"
      ]
    },
    {
      "cell_type": "markdown",
      "metadata": {
        "id": "iQj222Za1lQO"
      },
      "source": [
        "이상치 처리"
      ]
    },
    {
      "cell_type": "code",
      "execution_count": 42,
      "metadata": {
        "id": "tLQE5yG1X1Sr"
      },
      "outputs": [],
      "source": [
        "London_price = df['숙소_가격']"
      ]
    },
    {
      "cell_type": "code",
      "execution_count": 43,
      "metadata": {
        "colab": {
          "base_uri": "https://localhost:8080/"
        },
        "id": "BvUk39t4X0sn",
        "outputId": "f6af422b-6246-460c-c450-faf410f5e276"
      },
      "outputs": [
        {
          "name": "stdout",
          "output_type": "stream",
          "text": [
            "Q1 : 71.0\n",
            "Q3 : 195.0\n",
            "IQR : 124.0\n",
            "lower_bound : -115.0\n",
            "upper_bound : 381.0\n",
            "Median : 120.0\n",
            "max_value : 53588.0\n",
            "min_value : 0.0\n"
          ]
        }
      ],
      "source": [
        "#이상치값\n",
        "Q1 = London_price.quantile(0.25)\n",
        "Q3 = London_price.quantile(0.75)\n",
        "Median = London_price.median()\n",
        "IQR = Q3 - Q1\n",
        "\n",
        "#이상치 범위\n",
        "lower_bound = Q1 - (1.5 * IQR) #하한가\n",
        "upper_bound = Q3 + (1.5 * IQR) #상한가\n",
        "\n",
        "#최대,최소값\n",
        "max_value = London_price.max()\n",
        "min_value = London_price.min()\n",
        "\n",
        "print('Q1 :',Q1)\n",
        "print('Q3 :',Q3)\n",
        "print('IQR :',IQR)\n",
        "print('lower_bound :', lower_bound)\n",
        "print('upper_bound :', upper_bound)\n",
        "print('Median :', Median)\n",
        "print('max_value :', max_value)\n",
        "print('min_value :',min_value)"
      ]
    },
    {
      "cell_type": "markdown",
      "metadata": {
        "id": "EpWjsYQvkIYg"
      },
      "source": [
        "이상치 확인"
      ]
    },
    {
      "cell_type": "code",
      "execution_count": 44,
      "metadata": {
        "colab": {
          "base_uri": "https://localhost:8080/",
          "height": 525
        },
        "id": "Wb1ffUaEkH-0",
        "outputId": "4571ec6a-e07d-4739-feed-bb53e51b7197"
      },
      "outputs": [
        {
          "data": {
            "image/png": "[encoded data removed]",
            "text/plain": [
              "<Figure size 1000x600 with 1 Axes>"
            ]
          },
          "metadata": {},
          "output_type": "display_data"
        }
      ],
      "source": [
        "import seaborn as sns\n",
        "import matplotlib.pyplot as plt\n",
        "\n",
        "plt.figure(figsize=(10, 6))\n",
        "sns.boxplot(data=df, y='숙소_가격')\n",
        "plt.title('이상치 확인 숙소가격 분포')\n",
        "plt.ylabel('숙소가격')\n",
        "plt.show()"
      ]
    },
    {
      "cell_type": "code",
      "execution_count": 45,
      "metadata": {
        "colab": {
          "base_uri": "https://localhost:8080/"
        },
        "id": "bU_fKSrFkR2a",
        "outputId": "1273ba94-4d0f-48f3-ed9c-f8d408c57fee"
      },
      "outputs": [
        {
          "data": {
            "text/plain": [
              "숙소_id          2495\n",
              "숙소_url         2495\n",
              "호스트_id         2495\n",
              "숙소_특징          2495\n",
              "슈퍼호스트          2495\n",
              "숙소_수           2495\n",
              "숙소_지역          2495\n",
              "위도             2495\n",
              "경도             2495\n",
              "숙소_유형          2495\n",
              "수용인원수          2495\n",
              "욕실수            2495\n",
              "침실수            2495\n",
              "침대수            2495\n",
              "어메니티           2495\n",
              "숙소_가격          2495\n",
              "최소_숙박일         2495\n",
              "최대_숙박일         2495\n",
              "리뷰수            2495\n",
              "30일_리뷰수        2495\n",
              "리뷰점수           2495\n",
              "숙소_정확성_리뷰점수    2495\n",
              "숙소_청결도_리뷰점수    2495\n",
              "숙소_체크인_리뷰점수    2495\n",
              "숙소_소통_리뷰점수     2495\n",
              "숙소_위치_리뷰점수     2495\n",
              "숙소_가격_리뷰점수     2495\n",
              "평균_리뷰수         2495\n",
              "dtype: int64"
            ]
          },
          "execution_count": 45,
          "metadata": {},
          "output_type": "execute_result"
        }
      ],
      "source": [
        "df[df['숙소_가격'] > 381.0].count()"
      ]
    },
    {
      "cell_type": "markdown",
      "metadata": {
        "id": "Fx5pzKc8j-f2"
      },
      "source": [
        "이상치 제거(2495개) 5%미만"
      ]
    },
    {
      "cell_type": "code",
      "execution_count": 46,
      "metadata": {
        "id": "DoK2Qa1XUj7S"
      },
      "outputs": [],
      "source": [
        "import pandas as pd\n",
        "\n",
        "\n",
        "# 이상치를 제거하는 함수 정의\n",
        "def remove_price_outliers(df, price_column):\n",
        "    Q1 = df[price_column].quantile(0.25)\n",
        "    Q3 = df[price_column].quantile(0.75)\n",
        "    IQR = Q3 - Q1\n",
        "    lower_bound = Q1 - 1.5 * IQR\n",
        "    upper_bound = Q3 + 1.5 * IQR\n",
        "    return df[(df[price_column] >= lower_bound) & (df[price_column] <= upper_bound)]\n",
        "\n",
        "# 숙소 가격의 이상치 제거\n",
        "df_clean = remove_price_outliers(df, '숙소_가격')"
      ]
    },
    {
      "cell_type": "code",
      "execution_count": 47,
      "metadata": {
        "colab": {
          "base_uri": "https://localhost:8080/",
          "height": 679
        },
        "id": "2BsNnaQTXae2",
        "outputId": "22d2503b-97a9-4c03-b8f0-24b7c4c7c5c3"
      },
      "outputs": [
        {
          "data": {
            "image/png": "[encoded data removed]",
            "text/plain": [
              "<Figure size 1000x800 with 1 Axes>"
            ]
          },
          "metadata": {},
          "output_type": "display_data"
        }
      ],
      "source": [
        "# 이상치 제거 후 숙소 가격에 대해서만 boxplot 그리기\n",
        "import seaborn as sns\n",
        "import matplotlib.pyplot as plt\n",
        "\n",
        "plt.figure(figsize=(10, 8))\n",
        "sns.boxplot(data=df_clean, y='숙소_가격')\n",
        "plt.title('이상치 제거 후 숙소가격 분포')\n",
        "plt.ylabel('숙소가격')\n",
        "\n",
        "# 최대값, 최소값, 중앙값 표시\n",
        "max_price = df_clean['숙소_가격'].max()\n",
        "min_price = df_clean['숙소_가격'].min()\n",
        "median_price = df_clean['숙소_가격'].median()\n",
        "\n",
        "plt.text(0, max_price, f'최대값: {max_price}', horizontalalignment='center', color='red', weight='semibold')\n",
        "plt.text(0, min_price, f'최소값: {min_price}', horizontalalignment='center', color='red', weight='semibold')\n",
        "plt.text(0, median_price, f'중앙값: {median_price}', horizontalalignment='center', color='red', weight='semibold')\n",
        "\n",
        "plt.show()"
      ]
    },
    {
      "cell_type": "markdown",
      "metadata": {
        "id": "BMIQ8dDMg8lQ"
      },
      "source": [
        "숙소가격이 0인 값도 제거\n",
        "- 이상치 제거한 데이터 변수 df_clean\n",
        "- 원본 데이터 df"
      ]
    },
    {
      "cell_type": "code",
      "execution_count": 48,
      "metadata": {
        "colab": {
          "base_uri": "https://localhost:8080/",
          "height": 336
        },
        "id": "OmqrlcYYhBds",
        "outputId": "402cb51e-cc55-438d-e6a8-8f65a399d04b"
      },
      "outputs": [
        {
          "data": {
            "text/html": [
              "<div>\n",
              "<style scoped>\n",
              "    .dataframe tbody tr th:only-of-type {\n",
              "        vertical-align: middle;\n",
              "    }\n",
              "\n",
              "    .dataframe tbody tr th {\n",
              "        vertical-align: top;\n",
              "    }\n",
              "\n",
              "    .dataframe thead th {\n",
              "        text-align: right;\n",
              "    }\n",
              "</style>\n",
              "<table border=\"1\" class=\"dataframe\">\n",
              "  <thead>\n",
              "    <tr style=\"text-align: right;\">\n",
              "      <th></th>\n",
              "      <th>숙소_id</th>\n",
              "      <th>숙소_url</th>\n",
              "      <th>호스트_id</th>\n",
              "      <th>숙소_특징</th>\n",
              "      <th>슈퍼호스트</th>\n",
              "      <th>숙소_수</th>\n",
              "      <th>숙소_지역</th>\n",
              "      <th>위도</th>\n",
              "      <th>경도</th>\n",
              "      <th>숙소_유형</th>\n",
              "      <th>...</th>\n",
              "      <th>리뷰수</th>\n",
              "      <th>30일_리뷰수</th>\n",
              "      <th>리뷰점수</th>\n",
              "      <th>숙소_정확성_리뷰점수</th>\n",
              "      <th>숙소_청결도_리뷰점수</th>\n",
              "      <th>숙소_체크인_리뷰점수</th>\n",
              "      <th>숙소_소통_리뷰점수</th>\n",
              "      <th>숙소_위치_리뷰점수</th>\n",
              "      <th>숙소_가격_리뷰점수</th>\n",
              "      <th>평균_리뷰수</th>\n",
              "    </tr>\n",
              "  </thead>\n",
              "  <tbody>\n",
              "    <tr>\n",
              "      <th>40878</th>\n",
              "      <td>49765360</td>\n",
              "      <td>https://www.airbnb.com/rooms/49765360</td>\n",
              "      <td>3010498</td>\n",
              "      <td>Private room in condo</td>\n",
              "      <td>f</td>\n",
              "      <td>61.0</td>\n",
              "      <td>Tower Hamlets</td>\n",
              "      <td>51.515915</td>\n",
              "      <td>-0.073669</td>\n",
              "      <td>Private room</td>\n",
              "      <td>...</td>\n",
              "      <td>2</td>\n",
              "      <td>0</td>\n",
              "      <td>4.5</td>\n",
              "      <td>5.0</td>\n",
              "      <td>5.0</td>\n",
              "      <td>4.5</td>\n",
              "      <td>5.0</td>\n",
              "      <td>5.0</td>\n",
              "      <td>5.0</td>\n",
              "      <td>0.3</td>\n",
              "    </tr>\n",
              "  </tbody>\n",
              "</table>\n",
              "<p>1 rows × 28 columns</p>\n",
              "</div>"
            ],
            "text/plain": [
              "          숙소_id                                 숙소_url   호스트_id  \\\n",
              "40878  49765360  https://www.airbnb.com/rooms/49765360  3010498   \n",
              "\n",
              "                       숙소_특징 슈퍼호스트  숙소_수          숙소_지역         위도        경도  \\\n",
              "40878  Private room in condo     f  61.0  Tower Hamlets  51.515915 -0.073669   \n",
              "\n",
              "              숙소_유형  ...  리뷰수  30일_리뷰수  리뷰점수  숙소_정확성_리뷰점수 숙소_청결도_리뷰점수  \\\n",
              "40878  Private room  ...    2        0   4.5          5.0         5.0   \n",
              "\n",
              "       숙소_체크인_리뷰점수  숙소_소통_리뷰점수  숙소_위치_리뷰점수  숙소_가격_리뷰점수  평균_리뷰수  \n",
              "40878          4.5         5.0         5.0         5.0     0.3  \n",
              "\n",
              "[1 rows x 28 columns]"
            ]
          },
          "execution_count": 48,
          "metadata": {},
          "output_type": "execute_result"
        }
      ],
      "source": [
        "df_clean[df_clean['숙소_가격'] == 0.0]"
      ]
    },
    {
      "cell_type": "code",
      "execution_count": 49,
      "metadata": {
        "id": "L-o8c9hphIQe"
      },
      "outputs": [],
      "source": [
        "df_clean = df_clean[df_clean['숙소_가격'] != 0.0]"
      ]
    },
    {
      "cell_type": "code",
      "execution_count": 50,
      "metadata": {
        "id": "R5OBWY7Bgo-g"
      },
      "outputs": [],
      "source": [
        "df = df[df['숙소_가격'] != 0.0]"
      ]
    },
    {
      "cell_type": "code",
      "execution_count": 51,
      "metadata": {
        "colab": {
          "base_uri": "https://localhost:8080/"
        },
        "id": "c7MmujuTjvnW",
        "outputId": "3f44897b-8160-489d-83f9-9cbbba83c223"
      },
      "outputs": [
        {
          "data": {
            "text/plain": [
              "(40686, 28)"
            ]
          },
          "execution_count": 51,
          "metadata": {},
          "output_type": "execute_result"
        }
      ],
      "source": [
        "df_clean.shape"
      ]
    },
    {
      "cell_type": "code",
      "execution_count": 52,
      "metadata": {
        "colab": {
          "base_uri": "https://localhost:8080/"
        },
        "id": "brChyX5Wjvi4",
        "outputId": "e89eb9e0-1a21-4b1a-f37f-81cdc0fc49cb"
      },
      "outputs": [
        {
          "name": "stdout",
          "output_type": "stream",
          "text": [
            "<class 'pandas.core.frame.DataFrame'>\n",
            "Index: 40686 entries, 0 to 90735\n",
            "Data columns (total 28 columns):\n",
            " #   Column       Non-Null Count  Dtype  \n",
            "---  ------       --------------  -----  \n",
            " 0   숙소_id        40686 non-null  int64  \n",
            " 1   숙소_url       40686 non-null  object \n",
            " 2   호스트_id       40686 non-null  int64  \n",
            " 3   숙소_특징        40686 non-null  object \n",
            " 4   슈퍼호스트        40686 non-null  object \n",
            " 5   숙소_수         40686 non-null  float64\n",
            " 6   숙소_지역        40686 non-null  object \n",
            " 7   위도           40686 non-null  float64\n",
            " 8   경도           40686 non-null  float64\n",
            " 9   숙소_유형        40686 non-null  object \n",
            " 10  수용인원수        40686 non-null  int64  \n",
            " 11  욕실수          40666 non-null  float64\n",
            " 12  침실수          40675 non-null  float64\n",
            " 13  침대수          40611 non-null  float64\n",
            " 14  어메니티         40686 non-null  object \n",
            " 15  숙소_가격        40686 non-null  float64\n",
            " 16  최소_숙박일       40686 non-null  int64  \n",
            " 17  최대_숙박일       40686 non-null  int64  \n",
            " 18  리뷰수          40686 non-null  int64  \n",
            " 19  30일_리뷰수      40686 non-null  int64  \n",
            " 20  리뷰점수         40686 non-null  float64\n",
            " 21  숙소_정확성_리뷰점수  40685 non-null  float64\n",
            " 22  숙소_청결도_리뷰점수  40684 non-null  float64\n",
            " 23  숙소_체크인_리뷰점수  40684 non-null  float64\n",
            " 24  숙소_소통_리뷰점수   40685 non-null  float64\n",
            " 25  숙소_위치_리뷰점수   40684 non-null  float64\n",
            " 26  숙소_가격_리뷰점수   40683 non-null  float64\n",
            " 27  평균_리뷰수       40686 non-null  float64\n",
            "dtypes: float64(15), int64(7), object(6)\n",
            "memory usage: 9.0+ MB\n"
          ]
        }
      ],
      "source": [
        "df_clean.info()"
      ]
    },
    {
      "cell_type": "markdown",
      "metadata": {
        "id": "EGMsf9cslf-D"
      },
      "source": [
        "숙소_특징 데이터확인"
      ]
    },
    {
      "cell_type": "markdown",
      "metadata": {
        "id": "jTri1L-Qlx77"
      },
      "source": [
        "- 'Entire rental unit': '전체 대여 유닛',\n",
        "- 'Private room in rental unit': '대여 유닛 내 개인 방',\n",
        "- 'Entire townhouse': '전체 타운하우스',\n",
        "-    'Entire home': '전체 집',\n",
        "-    'Private room in home': '집 내 개인 방',\n",
        "-    'Entire guesthouse': '전체 게스트하우스',\n",
        "-    'Private room in townhouse': '타운하우스 내 개인 방',\n",
        "-   'Entire condo': '전체 콘도',\n",
        "-    'Private room in condo': '콘도 내 개인 방',\n",
        "-    'Room in aparthotel': '아파트호텔 내 방',\n",
        "-    'Entire serviced apartment': '전체 서비스 아파트',\n",
        "-    'Private room in loft': '로프트 내 개인 방',\n",
        "-    'Private room': '개인 방',\n",
        "-    'Private room in bed and breakfast': 'B&B 내 개인 방',\n",
        "-    'Entire guest suite': '전체 게스트 스위트',\n",
        "-    'Private room in serviced apartment': '서비스 아파트 내 개인 방',\n",
        "-    'Private room in bungalow': '방갈로 내 개인 방',\n",
        "-    'Private room in guesthouse': '게스트하우스 내 개인 방',\n",
        "-   'Entire loft': '전체 로프트',\n",
        "-    'Entire cabin': '전체 오두막',\n",
        "-    'Private room in guest suite': '게스트 스위트 내 개인 방',\n",
        "-    'Entire cottage': '전체 코티지',\n",
        "-    'Private room in villa': '빌라 내 개인 방',\n",
        "-   'Private room in cottage': '코티지 내 개인 방',\n",
        "-  'Tiny home': '작은 집',\n",
        "-    'Entire place': '전체 장소',,\n",
        "-    'Private room in casa particular': '카사 파르티쿨라 내 개인 방',\n",
        "-    'Shepherd’s hut': '바퀴달린 오두막',\n",
        "-    'Private room in vacation home': '휴가용 주택 내 개인 방',\n",
        "-    'Room in boutique hotel': '부티크 호텔 내 방',\n",
        "-    'Camper/RV': '캠퍼/RV',\n",
        "-    'Entire vacation home': '전체 휴가용 주택',\n",
        "-    'Entire bungalow': '전체 방갈로',\n",
        "-    'Private room in hut': '오두막 내 개인 방',\n",
        "-    'Entire villa': '전체 빌라',\n",
        "-    'Floor': '층',\n",
        "-    'Earthen home': '흙집',\n",
        "-    'Private room in hostel': '호스텔 내 개인 방',\n",
        "-    'Private room in floor': '층 내 개인 방',\n",
        "-    'Private room in cabin': '오두막 내 개인 방',\n",
        "-    'Private room in island': '섬 내 개인 방',\n",
        "-    'Entire home/apt': '전체 집/아파트',\n",
        "-    'Room in hotel': '호텔 내 방',\n",
        "-    'Private room in tiny home': '작은 집 내 개인 방',\n",
        "-    'Private room in farm stay': '농장 체류 내 개인 방',\n",
        "-    'Campsite': '캠프장',\n",
        "-    'Barn': '헛간',\n",
        "-    'Religious building': '종교 건물',\n",
        "-    'Private room in earthen home': '흙집 내 개인 방',\n",
        "-    'Private room in treehouse': '트리하우스 내 개인 방',\n",
        "-    'Hut': '오두막',\n",
        "-    'Entire chalet': '전체 샬레',\n",
        "-    'Tent': '텐트',\n",
        "-    'Private room in religious building': '종교 건물 내 개인 방',\n",
        "-   'Minsu': '민수',\n",
        "-    'Casa particular': '개인 홈스테이',\n",
        "-    'Island': '섬',\n",
        "-    'Castle': '성',\n",
        "-    'Tower': '탑',\n",
        "-    \"Private room in shepherd's hut\": '오두막 내 개인 방',\n",
        "-    'Shipping container': '선적 컨테이너',\n",
        "-    'Treehouse': '트리하우스'\n",
        "\n",
        "-    Houseboat': '하우스보트',\n",
        "-    'Private room in houseboat': '하우스보트 내 개인 방'\n",
        "-    'Private room in yurt': '요트 내 개인 방',\n",
        "-    'Boat': '보트',\n",
        "-    'Private room in boat': '보트 내 개인 방',"
      ]
    },
    {
      "cell_type": "code",
      "execution_count": 55,
      "metadata": {
        "colab": {
          "base_uri": "https://localhost:8080/"
        },
        "id": "VOPv2M1Uljc4",
        "outputId": "4d0acd75-f88d-419c-f73e-95b0846ba907"
      },
      "outputs": [
        {
          "data": {
            "text/plain": [
              "array(['Entire rental unit', 'Private room in rental unit', 'Entire home',\n",
              "       'Private room in home', 'Entire townhouse', 'Entire guesthouse',\n",
              "       'Private room in townhouse', 'Private room in condo',\n",
              "       'Entire condo', 'Room in aparthotel', 'Entire serviced apartment',\n",
              "       'Private room in loft', 'Private room',\n",
              "       'Private room in bed and breakfast', 'Entire guest suite',\n",
              "       'Houseboat', 'Private room in serviced apartment',\n",
              "       'Private room in guesthouse', 'Entire loft', 'Entire cabin',\n",
              "       'Private room in bungalow', 'Private room in guest suite',\n",
              "       'Entire cottage', 'Private room in villa',\n",
              "       'Private room in cottage', 'Tiny home',\n",
              "       'Private room in houseboat', 'Private room in casa particular',\n",
              "       'Shepherd’s hut', 'Private room in vacation home', 'Entire place',\n",
              "       'Room in boutique hotel', 'Camper/RV', 'Entire vacation home',\n",
              "       'Boat', 'Entire bungalow', 'Earthen home',\n",
              "       'Private room in hostel', 'Private room in cabin', 'Entire villa',\n",
              "       'Entire home/apt', 'Private room in hut', 'Room in hotel',\n",
              "       'Private room in tiny home', 'Barn', 'Private room in farm stay',\n",
              "       'Religious building', 'Private room in earthen home', 'Hut',\n",
              "       'Private room in boat', 'Private room in yurt', 'Entire chalet',\n",
              "       'Tent', 'Private room in religious building', 'Casa particular',\n",
              "       'Island', 'Tower', \"Private room in shepherd's hut\",\n",
              "       'Shipping container', 'Treehouse'], dtype=object)"
            ]
          },
          "execution_count": 55,
          "metadata": {},
          "output_type": "execute_result"
        }
      ],
      "source": [
        "df_clean['숙소_특징'].unique()"
      ]
    },
    {
      "cell_type": "code",
      "execution_count": 56,
      "metadata": {
        "colab": {
          "base_uri": "https://localhost:8080/",
          "height": 655
        },
        "id": "yJRoTwirrQZn",
        "outputId": "67885b8f-a16a-418b-d30c-ac6706fffb74"
      },
      "outputs": [
        {
          "data": {
            "text/html": [
              "<div>\n",
              "<style scoped>\n",
              "    .dataframe tbody tr th:only-of-type {\n",
              "        vertical-align: middle;\n",
              "    }\n",
              "\n",
              "    .dataframe tbody tr th {\n",
              "        vertical-align: top;\n",
              "    }\n",
              "\n",
              "    .dataframe thead th {\n",
              "        text-align: right;\n",
              "    }\n",
              "</style>\n",
              "<table border=\"1\" class=\"dataframe\">\n",
              "  <thead>\n",
              "    <tr style=\"text-align: right;\">\n",
              "      <th></th>\n",
              "      <th>숙소_id</th>\n",
              "      <th>숙소_url</th>\n",
              "      <th>호스트_id</th>\n",
              "      <th>숙소_특징</th>\n",
              "      <th>슈퍼호스트</th>\n",
              "      <th>숙소_수</th>\n",
              "      <th>숙소_지역</th>\n",
              "      <th>위도</th>\n",
              "      <th>경도</th>\n",
              "      <th>숙소_유형</th>\n",
              "      <th>...</th>\n",
              "      <th>리뷰수</th>\n",
              "      <th>30일_리뷰수</th>\n",
              "      <th>리뷰점수</th>\n",
              "      <th>숙소_정확성_리뷰점수</th>\n",
              "      <th>숙소_청결도_리뷰점수</th>\n",
              "      <th>숙소_체크인_리뷰점수</th>\n",
              "      <th>숙소_소통_리뷰점수</th>\n",
              "      <th>숙소_위치_리뷰점수</th>\n",
              "      <th>숙소_가격_리뷰점수</th>\n",
              "      <th>평균_리뷰수</th>\n",
              "    </tr>\n",
              "  </thead>\n",
              "  <tbody>\n",
              "    <tr>\n",
              "      <th>33954</th>\n",
              "      <td>39029216</td>\n",
              "      <td>https://www.airbnb.com/rooms/39029216</td>\n",
              "      <td>51657387</td>\n",
              "      <td>Private room in boat</td>\n",
              "      <td>f</td>\n",
              "      <td>20.0</td>\n",
              "      <td>Westminster</td>\n",
              "      <td>51.518850</td>\n",
              "      <td>-0.180190</td>\n",
              "      <td>Private room</td>\n",
              "      <td>...</td>\n",
              "      <td>42</td>\n",
              "      <td>1</td>\n",
              "      <td>4.45</td>\n",
              "      <td>4.52</td>\n",
              "      <td>4.52</td>\n",
              "      <td>4.67</td>\n",
              "      <td>4.81</td>\n",
              "      <td>4.48</td>\n",
              "      <td>4.52</td>\n",
              "      <td>0.78</td>\n",
              "    </tr>\n",
              "    <tr>\n",
              "      <th>38230</th>\n",
              "      <td>44690713</td>\n",
              "      <td>https://www.airbnb.com/rooms/44690713</td>\n",
              "      <td>6334367</td>\n",
              "      <td>Private room in boat</td>\n",
              "      <td>t</td>\n",
              "      <td>6.0</td>\n",
              "      <td>Wandsworth</td>\n",
              "      <td>51.465610</td>\n",
              "      <td>-0.182560</td>\n",
              "      <td>Private room</td>\n",
              "      <td>...</td>\n",
              "      <td>23</td>\n",
              "      <td>0</td>\n",
              "      <td>4.91</td>\n",
              "      <td>4.91</td>\n",
              "      <td>4.96</td>\n",
              "      <td>4.96</td>\n",
              "      <td>4.96</td>\n",
              "      <td>4.83</td>\n",
              "      <td>4.78</td>\n",
              "      <td>0.53</td>\n",
              "    </tr>\n",
              "    <tr>\n",
              "      <th>74436</th>\n",
              "      <td>981208448316205003</td>\n",
              "      <td>https://www.airbnb.com/rooms/981208448316205003</td>\n",
              "      <td>1432477</td>\n",
              "      <td>Private room in boat</td>\n",
              "      <td>f</td>\n",
              "      <td>656.0</td>\n",
              "      <td>Tower Hamlets</td>\n",
              "      <td>51.501764</td>\n",
              "      <td>-0.015454</td>\n",
              "      <td>Private room</td>\n",
              "      <td>...</td>\n",
              "      <td>1</td>\n",
              "      <td>0</td>\n",
              "      <td>5.00</td>\n",
              "      <td>5.00</td>\n",
              "      <td>5.00</td>\n",
              "      <td>5.00</td>\n",
              "      <td>5.00</td>\n",
              "      <td>5.00</td>\n",
              "      <td>5.00</td>\n",
              "      <td>0.31</td>\n",
              "    </tr>\n",
              "    <tr>\n",
              "      <th>74440</th>\n",
              "      <td>981209451795254645</td>\n",
              "      <td>https://www.airbnb.com/rooms/981209451795254645</td>\n",
              "      <td>1432477</td>\n",
              "      <td>Private room in boat</td>\n",
              "      <td>f</td>\n",
              "      <td>656.0</td>\n",
              "      <td>Tower Hamlets</td>\n",
              "      <td>51.501550</td>\n",
              "      <td>-0.014430</td>\n",
              "      <td>Private room</td>\n",
              "      <td>...</td>\n",
              "      <td>2</td>\n",
              "      <td>0</td>\n",
              "      <td>3.00</td>\n",
              "      <td>3.00</td>\n",
              "      <td>3.00</td>\n",
              "      <td>3.00</td>\n",
              "      <td>3.00</td>\n",
              "      <td>3.00</td>\n",
              "      <td>3.00</td>\n",
              "      <td>0.38</td>\n",
              "    </tr>\n",
              "    <tr>\n",
              "      <th>74451</th>\n",
              "      <td>981209453861783108</td>\n",
              "      <td>https://www.airbnb.com/rooms/981209453861783108</td>\n",
              "      <td>1432477</td>\n",
              "      <td>Private room in boat</td>\n",
              "      <td>f</td>\n",
              "      <td>656.0</td>\n",
              "      <td>Tower Hamlets</td>\n",
              "      <td>51.501490</td>\n",
              "      <td>-0.015374</td>\n",
              "      <td>Private room</td>\n",
              "      <td>...</td>\n",
              "      <td>1</td>\n",
              "      <td>0</td>\n",
              "      <td>5.00</td>\n",
              "      <td>5.00</td>\n",
              "      <td>5.00</td>\n",
              "      <td>5.00</td>\n",
              "      <td>5.00</td>\n",
              "      <td>5.00</td>\n",
              "      <td>5.00</td>\n",
              "      <td>0.31</td>\n",
              "    </tr>\n",
              "  </tbody>\n",
              "</table>\n",
              "<p>5 rows × 28 columns</p>\n",
              "</div>"
            ],
            "text/plain": [
              "                    숙소_id                                           숙소_url  \\\n",
              "33954            39029216            https://www.airbnb.com/rooms/39029216   \n",
              "38230            44690713            https://www.airbnb.com/rooms/44690713   \n",
              "74436  981208448316205003  https://www.airbnb.com/rooms/981208448316205003   \n",
              "74440  981209451795254645  https://www.airbnb.com/rooms/981209451795254645   \n",
              "74451  981209453861783108  https://www.airbnb.com/rooms/981209453861783108   \n",
              "\n",
              "         호스트_id                 숙소_특징 슈퍼호스트   숙소_수          숙소_지역         위도  \\\n",
              "33954  51657387  Private room in boat     f   20.0    Westminster  51.518850   \n",
              "38230   6334367  Private room in boat     t    6.0     Wandsworth  51.465610   \n",
              "74436   1432477  Private room in boat     f  656.0  Tower Hamlets  51.501764   \n",
              "74440   1432477  Private room in boat     f  656.0  Tower Hamlets  51.501550   \n",
              "74451   1432477  Private room in boat     f  656.0  Tower Hamlets  51.501490   \n",
              "\n",
              "             경도         숙소_유형  ...  리뷰수  30일_리뷰수  리뷰점수  숙소_정확성_리뷰점수  \\\n",
              "33954 -0.180190  Private room  ...   42        1  4.45         4.52   \n",
              "38230 -0.182560  Private room  ...   23        0  4.91         4.91   \n",
              "74436 -0.015454  Private room  ...    1        0  5.00         5.00   \n",
              "74440 -0.014430  Private room  ...    2        0  3.00         3.00   \n",
              "74451 -0.015374  Private room  ...    1        0  5.00         5.00   \n",
              "\n",
              "      숙소_청결도_리뷰점수  숙소_체크인_리뷰점수  숙소_소통_리뷰점수  숙소_위치_리뷰점수  숙소_가격_리뷰점수  평균_리뷰수  \n",
              "33954        4.52         4.67        4.81        4.48        4.52    0.78  \n",
              "38230        4.96         4.96        4.96        4.83        4.78    0.53  \n",
              "74436        5.00         5.00        5.00        5.00        5.00    0.31  \n",
              "74440        3.00         3.00        3.00        3.00        3.00    0.38  \n",
              "74451        5.00         5.00        5.00        5.00        5.00    0.31  \n",
              "\n",
              "[5 rows x 28 columns]"
            ]
          },
          "execution_count": 56,
          "metadata": {},
          "output_type": "execute_result"
        }
      ],
      "source": [
        "# 'Houseboat': '하우스보트',\n",
        "df_clean[df_clean['숙소_특징']== 'Houseboat'].count() # 15개 Entire home/apt\n",
        "\n",
        "# 'Private room in houseboat': '하우스보트 내 개인 방'\n",
        "df_clean[df_clean['숙소_특징']== 'Private room in houseboat'].count() # 5개 Private room\n",
        "\n",
        "# 'Private room in yurt': '요트 내 개인 방',\n",
        "df_clean[df_clean['숙소_특징']== 'Private room in yurt'] # 2개 Private room\n",
        "\n",
        "# 'Boat': '보트',\n",
        "df_clean[df_clean['숙소_특징']== 'Boat'].count() # 55개 Entire home/apt\n",
        "\n",
        "# 'Private room in boat': '보트 내 개인 방',\n",
        "df_clean[df_clean['숙소_특징']== 'Private room in boat'] # 9개 Private room\n"
      ]
    },
    {
      "cell_type": "code",
      "execution_count": 57,
      "metadata": {
        "colab": {
          "base_uri": "https://localhost:8080/"
        },
        "id": "8yJkRD5fSerP",
        "outputId": "7cba95c3-2ecd-49d2-c5e0-747995c8adb6"
      },
      "outputs": [
        {
          "data": {
            "text/plain": [
              "숙소_특징\n",
              "Entire rental unit                    15935\n",
              "Private room in home                   5282\n",
              "Entire condo                           5190\n",
              "Private room in rental unit            4850\n",
              "Entire home                            2954\n",
              "Private room in condo                  2173\n",
              "Entire serviced apartment              1087\n",
              "Private room in townhouse               705\n",
              "Entire townhouse                        429\n",
              "Private room in bed and breakfast       288\n",
              "Room in hotel                           208\n",
              "Private room in guesthouse              180\n",
              "Entire loft                             172\n",
              "Room in boutique hotel                  144\n",
              "Entire guesthouse                       143\n",
              "Entire guest suite                      115\n",
              "Private room in guest suite             114\n",
              "Private room in loft                     72\n",
              "Room in aparthotel                       69\n",
              "Private room in serviced apartment       67\n",
              "Private room in casa particular          65\n",
              "Entire vacation home                     58\n",
              "Boat                                     38\n",
              "Entire place                             38\n",
              "Entire cottage                           36\n",
              "Private room in bungalow                 33\n",
              "Tiny home                                32\n",
              "Private room                             28\n",
              "Entire bungalow                          28\n",
              "Entire cabin                             18\n",
              "Private room in vacation home            17\n",
              "Private room in cottage                  16\n",
              "Private room in villa                    14\n",
              "Houseboat                                12\n",
              "Casa particular                           9\n",
              "Private room in tiny home                 7\n",
              "Private room in hostel                    7\n",
              "Entire villa                              7\n",
              "Private room in boat                      5\n",
              "Entire home/apt                           5\n",
              "Camper/RV                                 4\n",
              "Private room in religious building        4\n",
              "Shepherd’s hut                            3\n",
              "Private room in houseboat                 3\n",
              "Private room in cabin                     3\n",
              "Entire chalet                             3\n",
              "Barn                                      2\n",
              "Private room in earthen home              2\n",
              "Tower                                     1\n",
              "Private room in shepherd's hut            1\n",
              "Island                                    1\n",
              "Shipping container                        1\n",
              "Religious building                        1\n",
              "Tent                                      1\n",
              "Private room in yurt                      1\n",
              "Hut                                       1\n",
              "Private room in farm stay                 1\n",
              "Private room in hut                       1\n",
              "Earthen home                              1\n",
              "Treehouse                                 1\n",
              "Name: count, dtype: int64"
            ]
          },
          "execution_count": 57,
          "metadata": {},
          "output_type": "execute_result"
        }
      ],
      "source": [
        "df_clean['숙소_특징'].value_counts()"
      ]
    },
    {
      "cell_type": "markdown",
      "metadata": {
        "id": "CgI-DjJOkeqj"
      },
      "source": [
        "특정 숙소특징을 가지는 숙소가 11개 존재함\n",
        "이런 숙소는 특수한 특징을 가진 숙소 (제거)\n",
        "\n",
        "- 'Earthen home', 'Private room in hut', 'Private room in farm stay', 'Religious building', 'Hut', 'Tent', 'Island',\n",
        "'Tower', 'Private room in shepherd's hut', 'Shipping container', 'Treehouse'\n"
      ]
    },
    {
      "cell_type": "code",
      "execution_count": 58,
      "metadata": {
        "colab": {
          "base_uri": "https://localhost:8080/",
          "height": 457
        },
        "id": "5dt3gh5Fi_Ki",
        "outputId": "38013e49-cd16-458c-de07-3ea34d0d869a"
      },
      "outputs": [
        {
          "data": {
            "text/html": [
              "<div>\n",
              "<style scoped>\n",
              "    .dataframe tbody tr th:only-of-type {\n",
              "        vertical-align: middle;\n",
              "    }\n",
              "\n",
              "    .dataframe tbody tr th {\n",
              "        vertical-align: top;\n",
              "    }\n",
              "\n",
              "    .dataframe thead th {\n",
              "        text-align: right;\n",
              "    }\n",
              "</style>\n",
              "<table border=\"1\" class=\"dataframe\">\n",
              "  <thead>\n",
              "    <tr style=\"text-align: right;\">\n",
              "      <th></th>\n",
              "      <th>숙소_url</th>\n",
              "      <th>숙소_유형</th>\n",
              "      <th>숙소_특징</th>\n",
              "      <th>숙소_가격</th>\n",
              "      <th>침대수</th>\n",
              "      <th>침실수</th>\n",
              "      <th>욕실수</th>\n",
              "    </tr>\n",
              "  </thead>\n",
              "  <tbody>\n",
              "    <tr>\n",
              "      <th>10147</th>\n",
              "      <td>https://www.airbnb.com/rooms/12937630</td>\n",
              "      <td>Entire home/apt</td>\n",
              "      <td>Earthen home</td>\n",
              "      <td>129.0</td>\n",
              "      <td>1.0</td>\n",
              "      <td>1.0</td>\n",
              "      <td>1.0</td>\n",
              "    </tr>\n",
              "    <tr>\n",
              "      <th>18522</th>\n",
              "      <td>https://www.airbnb.com/rooms/20708040</td>\n",
              "      <td>Private room</td>\n",
              "      <td>Private room in hut</td>\n",
              "      <td>22.0</td>\n",
              "      <td>2.0</td>\n",
              "      <td>1.0</td>\n",
              "      <td>1.5</td>\n",
              "    </tr>\n",
              "    <tr>\n",
              "      <th>28132</th>\n",
              "      <td>https://www.airbnb.com/rooms/31192541</td>\n",
              "      <td>Private room</td>\n",
              "      <td>Private room in farm stay</td>\n",
              "      <td>98.0</td>\n",
              "      <td>1.0</td>\n",
              "      <td>1.0</td>\n",
              "      <td>1.0</td>\n",
              "    </tr>\n",
              "    <tr>\n",
              "      <th>28470</th>\n",
              "      <td>https://www.airbnb.com/rooms/31681169</td>\n",
              "      <td>Entire home/apt</td>\n",
              "      <td>Religious building</td>\n",
              "      <td>150.0</td>\n",
              "      <td>1.0</td>\n",
              "      <td>1.0</td>\n",
              "      <td>1.0</td>\n",
              "    </tr>\n",
              "    <tr>\n",
              "      <th>30099</th>\n",
              "      <td>https://www.airbnb.com/rooms/34203528</td>\n",
              "      <td>Entire home/apt</td>\n",
              "      <td>Hut</td>\n",
              "      <td>85.0</td>\n",
              "      <td>2.0</td>\n",
              "      <td>0.0</td>\n",
              "      <td>1.0</td>\n",
              "    </tr>\n",
              "    <tr>\n",
              "      <th>35958</th>\n",
              "      <td>https://www.airbnb.com/rooms/41195510</td>\n",
              "      <td>Private room</td>\n",
              "      <td>Private room in yurt</td>\n",
              "      <td>40.0</td>\n",
              "      <td>NaN</td>\n",
              "      <td>1.0</td>\n",
              "      <td>1.0</td>\n",
              "    </tr>\n",
              "    <tr>\n",
              "      <th>40062</th>\n",
              "      <td>https://www.airbnb.com/rooms/48583067</td>\n",
              "      <td>Entire home/apt</td>\n",
              "      <td>Tent</td>\n",
              "      <td>250.0</td>\n",
              "      <td>3.0</td>\n",
              "      <td>0.0</td>\n",
              "      <td>1.5</td>\n",
              "    </tr>\n",
              "    <tr>\n",
              "      <th>47874</th>\n",
              "      <td>https://www.airbnb.com/rooms/630686936062751321</td>\n",
              "      <td>Entire home/apt</td>\n",
              "      <td>Island</td>\n",
              "      <td>255.0</td>\n",
              "      <td>0.0</td>\n",
              "      <td>1.0</td>\n",
              "      <td>1.0</td>\n",
              "    </tr>\n",
              "    <tr>\n",
              "      <th>48586</th>\n",
              "      <td>https://www.airbnb.com/rooms/644897391871606650</td>\n",
              "      <td>Entire home/apt</td>\n",
              "      <td>Castle</td>\n",
              "      <td>414.0</td>\n",
              "      <td>2.0</td>\n",
              "      <td>2.0</td>\n",
              "      <td>1.0</td>\n",
              "    </tr>\n",
              "    <tr>\n",
              "      <th>50199</th>\n",
              "      <td>https://www.airbnb.com/rooms/672164115302913432</td>\n",
              "      <td>Entire home/apt</td>\n",
              "      <td>Tower</td>\n",
              "      <td>130.0</td>\n",
              "      <td>0.0</td>\n",
              "      <td>1.0</td>\n",
              "      <td>1.0</td>\n",
              "    </tr>\n",
              "    <tr>\n",
              "      <th>51775</th>\n",
              "      <td>https://www.airbnb.com/rooms/700717231412177117</td>\n",
              "      <td>Private room</td>\n",
              "      <td>Private room in shepherd's hut</td>\n",
              "      <td>221.0</td>\n",
              "      <td>1.0</td>\n",
              "      <td>1.0</td>\n",
              "      <td>1.0</td>\n",
              "    </tr>\n",
              "    <tr>\n",
              "      <th>60805</th>\n",
              "      <td>https://www.airbnb.com/rooms/847169311234239475</td>\n",
              "      <td>Entire home/apt</td>\n",
              "      <td>Shipping container</td>\n",
              "      <td>45.0</td>\n",
              "      <td>1.0</td>\n",
              "      <td>1.0</td>\n",
              "      <td>1.0</td>\n",
              "    </tr>\n",
              "    <tr>\n",
              "      <th>66758</th>\n",
              "      <td>https://www.airbnb.com/rooms/913533480489781710</td>\n",
              "      <td>Entire home/apt</td>\n",
              "      <td>Treehouse</td>\n",
              "      <td>118.0</td>\n",
              "      <td>1.0</td>\n",
              "      <td>1.0</td>\n",
              "      <td>1.0</td>\n",
              "    </tr>\n",
              "  </tbody>\n",
              "</table>\n",
              "</div>"
            ],
            "text/plain": [
              "                                                숙소_url            숙소_유형  \\\n",
              "10147            https://www.airbnb.com/rooms/12937630  Entire home/apt   \n",
              "18522            https://www.airbnb.com/rooms/20708040     Private room   \n",
              "28132            https://www.airbnb.com/rooms/31192541     Private room   \n",
              "28470            https://www.airbnb.com/rooms/31681169  Entire home/apt   \n",
              "30099            https://www.airbnb.com/rooms/34203528  Entire home/apt   \n",
              "35958            https://www.airbnb.com/rooms/41195510     Private room   \n",
              "40062            https://www.airbnb.com/rooms/48583067  Entire home/apt   \n",
              "47874  https://www.airbnb.com/rooms/630686936062751321  Entire home/apt   \n",
              "48586  https://www.airbnb.com/rooms/644897391871606650  Entire home/apt   \n",
              "50199  https://www.airbnb.com/rooms/672164115302913432  Entire home/apt   \n",
              "51775  https://www.airbnb.com/rooms/700717231412177117     Private room   \n",
              "60805  https://www.airbnb.com/rooms/847169311234239475  Entire home/apt   \n",
              "66758  https://www.airbnb.com/rooms/913533480489781710  Entire home/apt   \n",
              "\n",
              "                                숙소_특징  숙소_가격  침대수  침실수  욕실수  \n",
              "10147                    Earthen home  129.0  1.0  1.0  1.0  \n",
              "18522             Private room in hut   22.0  2.0  1.0  1.5  \n",
              "28132       Private room in farm stay   98.0  1.0  1.0  1.0  \n",
              "28470              Religious building  150.0  1.0  1.0  1.0  \n",
              "30099                             Hut   85.0  2.0  0.0  1.0  \n",
              "35958            Private room in yurt   40.0  NaN  1.0  1.0  \n",
              "40062                            Tent  250.0  3.0  0.0  1.5  \n",
              "47874                          Island  255.0  0.0  1.0  1.0  \n",
              "48586                          Castle  414.0  2.0  2.0  1.0  \n",
              "50199                           Tower  130.0  0.0  1.0  1.0  \n",
              "51775  Private room in shepherd's hut  221.0  1.0  1.0  1.0  \n",
              "60805              Shipping container   45.0  1.0  1.0  1.0  \n",
              "66758                       Treehouse  118.0  1.0  1.0  1.0  "
            ]
          },
          "execution_count": 58,
          "metadata": {},
          "output_type": "execute_result"
        }
      ],
      "source": [
        "# 각 값의 개수 계산\n",
        "value_counts = df['숙소_특징'].value_counts()\n",
        "\n",
        "# 개수가 1인 값들만 필터링\n",
        "unique_values = value_counts[value_counts == 1].index\n",
        "\n",
        "# 원래 데이터프레임에서 개수가 1인 값들만 추출\n",
        "filtered_df = df[df['숙소_특징'].isin(unique_values)]\n",
        "\n",
        "filtered_df[['숙소_url','숙소_유형','숙소_특징','숙소_가격','침대수','침실수','욕실수']]"
      ]
    },
    {
      "cell_type": "code",
      "execution_count": 59,
      "metadata": {
        "colab": {
          "base_uri": "https://localhost:8080/"
        },
        "id": "IloEyfnrp1S-",
        "outputId": "6bfb9a67-ec83-4106-e088-b1ebeb0ae612"
      },
      "outputs": [
        {
          "data": {
            "text/plain": [
              "10147                      Earthen home\n",
              "18522               Private room in hut\n",
              "28132         Private room in farm stay\n",
              "28470                Religious building\n",
              "30099                               Hut\n",
              "35958              Private room in yurt\n",
              "40062                              Tent\n",
              "47874                            Island\n",
              "48586                            Castle\n",
              "50199                             Tower\n",
              "51775    Private room in shepherd's hut\n",
              "60805                Shipping container\n",
              "66758                         Treehouse\n",
              "Name: 숙소_특징, dtype: object"
            ]
          },
          "execution_count": 59,
          "metadata": {},
          "output_type": "execute_result"
        }
      ],
      "source": [
        "filtered_df['숙소_특징']"
      ]
    },
    {
      "cell_type": "code",
      "execution_count": 60,
      "metadata": {
        "id": "JkpBE75iuark"
      },
      "outputs": [],
      "source": [
        "# # 제거할 값들 리스트\n",
        "# values_to_remove = ['Houseboat', 'Private room in houseboat', 'Private room in yurt', 'Boat', 'Private room in boat', \\\n",
        "#                     'Earthen home', 'Private room in hut', 'Private room in farm stay', 'Religious building', 'Hut', 'Tent', \\\n",
        "#                     'Island', 'Tower', 'Private room in shepherd\\'s hut', 'Shipping container', 'Treehouse']\n",
        "\n",
        "# # 필터링 조건\n",
        "# condition = df_clean['숙소_특징'].isin(values_to_remove)\n",
        "\n",
        "# # 행 제거\n",
        "# df = df_clean[~condition]\n",
        "\n",
        "# # 결과 출력\n",
        "# df.shape"
      ]
    },
    {
      "cell_type": "code",
      "execution_count": 61,
      "metadata": {
        "colab": {
          "base_uri": "https://localhost:8080/"
        },
        "id": "DoKliLVXus8k",
        "outputId": "475afc3e-4025-4e67-85ba-d05e72c47a31"
      },
      "outputs": [
        {
          "data": {
            "text/plain": [
              "count    40686.000000\n",
              "mean       132.386349\n",
              "std         78.910008\n",
              "min          1.000000\n",
              "25%         69.000000\n",
              "50%        116.000000\n",
              "75%        177.000000\n",
              "max        381.000000\n",
              "Name: 숙소_가격, dtype: float64"
            ]
          },
          "execution_count": 61,
          "metadata": {},
          "output_type": "execute_result"
        }
      ],
      "source": [
        "df_clean['숙소_가격'].describe(include='all')"
      ]
    },
    {
      "cell_type": "markdown",
      "metadata": {
        "id": "D7jQA7HCsZAt"
      },
      "source": [
        "숙소가격과 침대수, 침실수, 욕실수의 연관성 비교"
      ]
    },
    {
      "cell_type": "code",
      "execution_count": 62,
      "metadata": {
        "colab": {
          "base_uri": "https://localhost:8080/",
          "height": 300
        },
        "id": "0GLWd3dUic0g",
        "outputId": "cd42243f-eaff-4e05-d3f2-0b98c947ce06"
      },
      "outputs": [
        {
          "data": {
            "text/html": [
              "<div>\n",
              "<style scoped>\n",
              "    .dataframe tbody tr th:only-of-type {\n",
              "        vertical-align: middle;\n",
              "    }\n",
              "\n",
              "    .dataframe tbody tr th {\n",
              "        vertical-align: top;\n",
              "    }\n",
              "\n",
              "    .dataframe thead th {\n",
              "        text-align: right;\n",
              "    }\n",
              "</style>\n",
              "<table border=\"1\" class=\"dataframe\">\n",
              "  <thead>\n",
              "    <tr style=\"text-align: right;\">\n",
              "      <th></th>\n",
              "      <th>숙소_가격</th>\n",
              "      <th>침대수</th>\n",
              "      <th>침실수</th>\n",
              "      <th>욕실수</th>\n",
              "    </tr>\n",
              "  </thead>\n",
              "  <tbody>\n",
              "    <tr>\n",
              "      <th>count</th>\n",
              "      <td>40686.000000</td>\n",
              "      <td>40611.000000</td>\n",
              "      <td>40675.000000</td>\n",
              "      <td>40666.000000</td>\n",
              "    </tr>\n",
              "    <tr>\n",
              "      <th>mean</th>\n",
              "      <td>132.386349</td>\n",
              "      <td>1.739972</td>\n",
              "      <td>1.407376</td>\n",
              "      <td>1.286714</td>\n",
              "    </tr>\n",
              "    <tr>\n",
              "      <th>std</th>\n",
              "      <td>78.910008</td>\n",
              "      <td>1.211962</td>\n",
              "      <td>0.827589</td>\n",
              "      <td>0.528537</td>\n",
              "    </tr>\n",
              "    <tr>\n",
              "      <th>min</th>\n",
              "      <td>1.000000</td>\n",
              "      <td>0.000000</td>\n",
              "      <td>0.000000</td>\n",
              "      <td>0.000000</td>\n",
              "    </tr>\n",
              "    <tr>\n",
              "      <th>25%</th>\n",
              "      <td>69.000000</td>\n",
              "      <td>1.000000</td>\n",
              "      <td>1.000000</td>\n",
              "      <td>1.000000</td>\n",
              "    </tr>\n",
              "    <tr>\n",
              "      <th>50%</th>\n",
              "      <td>116.000000</td>\n",
              "      <td>1.000000</td>\n",
              "      <td>1.000000</td>\n",
              "      <td>1.000000</td>\n",
              "    </tr>\n",
              "    <tr>\n",
              "      <th>75%</th>\n",
              "      <td>177.000000</td>\n",
              "      <td>2.000000</td>\n",
              "      <td>2.000000</td>\n",
              "      <td>1.500000</td>\n",
              "    </tr>\n",
              "    <tr>\n",
              "      <th>max</th>\n",
              "      <td>381.000000</td>\n",
              "      <td>14.000000</td>\n",
              "      <td>10.000000</td>\n",
              "      <td>12.000000</td>\n",
              "    </tr>\n",
              "  </tbody>\n",
              "</table>\n",
              "</div>"
            ],
            "text/plain": [
              "              숙소_가격           침대수           침실수           욕실수\n",
              "count  40686.000000  40611.000000  40675.000000  40666.000000\n",
              "mean     132.386349      1.739972      1.407376      1.286714\n",
              "std       78.910008      1.211962      0.827589      0.528537\n",
              "min        1.000000      0.000000      0.000000      0.000000\n",
              "25%       69.000000      1.000000      1.000000      1.000000\n",
              "50%      116.000000      1.000000      1.000000      1.000000\n",
              "75%      177.000000      2.000000      2.000000      1.500000\n",
              "max      381.000000     14.000000     10.000000     12.000000"
            ]
          },
          "execution_count": 62,
          "metadata": {},
          "output_type": "execute_result"
        }
      ],
      "source": [
        "df_clean[['숙소_url','숙소_유형','숙소_특징','숙소_가격','침대수','침실수','욕실수']].describe()"
      ]
    },
    {
      "cell_type": "markdown",
      "metadata": {
        "id": "bkOrZCwDsr2N"
      },
      "source": [
        "- 침실수가 제일 많은 것 10개\n",
        "- 침실수가 제일 많은것 14개\n",
        "- 욕실수가 제일 많은것 12개"
      ]
    },
    {
      "cell_type": "code",
      "execution_count": 63,
      "metadata": {
        "colab": {
          "base_uri": "https://localhost:8080/"
        },
        "id": "S225Xbxximlt",
        "outputId": "dcf5a7db-bb5d-4f63-88d8-aafda090dd9b"
      },
      "outputs": [
        {
          "data": {
            "text/plain": [
              "침실수\n",
              "1.0     25922\n",
              "2.0      9128\n",
              "3.0      2764\n",
              "0.0      1754\n",
              "4.0       856\n",
              "5.0       185\n",
              "6.0        45\n",
              "7.0        15\n",
              "8.0         4\n",
              "9.0         1\n",
              "10.0        1\n",
              "Name: count, dtype: int64"
            ]
          },
          "execution_count": 63,
          "metadata": {},
          "output_type": "execute_result"
        }
      ],
      "source": [
        "df_clean['침실수'].value_counts()"
      ]
    },
    {
      "cell_type": "code",
      "execution_count": 64,
      "metadata": {
        "colab": {
          "base_uri": "https://localhost:8080/"
        },
        "id": "BL0KZVjksvhJ",
        "outputId": "92933246-594c-489b-8d19-7ec63856418c"
      },
      "outputs": [
        {
          "data": {
            "text/plain": [
              "침대수\n",
              "1.0     20772\n",
              "2.0     10249\n",
              "3.0      4462\n",
              "4.0      2069\n",
              "0.0      1741\n",
              "5.0       707\n",
              "6.0       333\n",
              "7.0       152\n",
              "8.0        71\n",
              "9.0        23\n",
              "10.0       12\n",
              "11.0        9\n",
              "12.0        6\n",
              "13.0        3\n",
              "14.0        2\n",
              "Name: count, dtype: int64"
            ]
          },
          "execution_count": 64,
          "metadata": {},
          "output_type": "execute_result"
        }
      ],
      "source": [
        "df_clean['침대수'].value_counts()\n"
      ]
    },
    {
      "cell_type": "code",
      "execution_count": 65,
      "metadata": {
        "colab": {
          "base_uri": "https://localhost:8080/"
        },
        "id": "Ptz2yCH_s257",
        "outputId": "fedd4fd7-6cc6-4a13-a647-06f80a521211"
      },
      "outputs": [
        {
          "data": {
            "text/plain": [
              "욕실수\n",
              "1.0     27518\n",
              "2.0      5445\n",
              "1.5      5301\n",
              "2.5      1198\n",
              "3.0       584\n",
              "0.5       204\n",
              "3.5       173\n",
              "0.0       133\n",
              "4.0        55\n",
              "4.5        26\n",
              "5.0        16\n",
              "5.5         6\n",
              "9.0         2\n",
              "7.5         1\n",
              "6.0         1\n",
              "8.5         1\n",
              "9.5         1\n",
              "12.0        1\n",
              "Name: count, dtype: int64"
            ]
          },
          "execution_count": 65,
          "metadata": {},
          "output_type": "execute_result"
        }
      ],
      "source": [
        "df_clean['욕실수'].value_counts()\n"
      ]
    },
    {
      "cell_type": "markdown",
      "metadata": {
        "id": "8Mfc2KcEtZ-y"
      },
      "source": [
        "- 욕실수와 침실수가 비슷하면 방당 1개의 욕실이 있는 것(이해가능)\n",
        "\n",
        "- 침실이 1개고 욕실수가 9,10개 인것 (이해불가능)-> 사이트들어가보자\n",
        "\n",
        "- 15094 1방당 1욕실\n",
        "- 44069 1방당 1욕실\n",
        "- 54719 공용욕실 1개인데 9.5로 되어있음 (욕실수가 이상)\n",
        "- 70804 침대수1개 침실수는 방문개수로 샌거같음 욕실도 1개 (침실수, 욕실수 이상)\n",
        "- 74559 침대 2개 인데 0 개로 되어있음/ 욕실도 1개인데 12개 (침대수, 욕실수 이상)\n",
        "- 87393\t침실 침대 있고 욕실1개 인데 욕실사진이 9장있었음 (설마 해당 사진 개수로 샌거..?)\n",
        "\n",
        "결론 : 중구난방으로 데이터값이 이상하다..\n",
        "- 현재 데이터로는 침대수, 침실수, 욕실수는 숙소 가격과 연관지을수가 없다! 컬럼을 아예 제거 하고 가야할듯..\n"
      ]
    },
    {
      "cell_type": "code",
      "execution_count": 66,
      "metadata": {
        "colab": {
          "base_uri": "https://localhost:8080/",
          "height": 238
        },
        "id": "9nX_pik_s98p",
        "outputId": "078e5c60-482e-4152-fbd6-96a5359493a6"
      },
      "outputs": [
        {
          "data": {
            "text/html": [
              "<div>\n",
              "<style scoped>\n",
              "    .dataframe tbody tr th:only-of-type {\n",
              "        vertical-align: middle;\n",
              "    }\n",
              "\n",
              "    .dataframe tbody tr th {\n",
              "        vertical-align: top;\n",
              "    }\n",
              "\n",
              "    .dataframe thead th {\n",
              "        text-align: right;\n",
              "    }\n",
              "</style>\n",
              "<table border=\"1\" class=\"dataframe\">\n",
              "  <thead>\n",
              "    <tr style=\"text-align: right;\">\n",
              "      <th></th>\n",
              "      <th>숙소_url</th>\n",
              "      <th>숙소_유형</th>\n",
              "      <th>숙소_특징</th>\n",
              "      <th>숙소_가격</th>\n",
              "      <th>침대수</th>\n",
              "      <th>침실수</th>\n",
              "      <th>욕실수</th>\n",
              "    </tr>\n",
              "  </thead>\n",
              "  <tbody>\n",
              "    <tr>\n",
              "      <th>15094</th>\n",
              "      <td>https://www.airbnb.com/rooms/17925370</td>\n",
              "      <td>Private room</td>\n",
              "      <td>Private room in home</td>\n",
              "      <td>300.0</td>\n",
              "      <td>2.0</td>\n",
              "      <td>7.0</td>\n",
              "      <td>7.5</td>\n",
              "    </tr>\n",
              "    <tr>\n",
              "      <th>44069</th>\n",
              "      <td>https://www.airbnb.com/rooms/53426653</td>\n",
              "      <td>Entire home/apt</td>\n",
              "      <td>Entire home</td>\n",
              "      <td>300.0</td>\n",
              "      <td>8.0</td>\n",
              "      <td>7.0</td>\n",
              "      <td>8.5</td>\n",
              "    </tr>\n",
              "    <tr>\n",
              "      <th>54719</th>\n",
              "      <td>https://www.airbnb.com/rooms/753710559669306384</td>\n",
              "      <td>Private room</td>\n",
              "      <td>Private room in home</td>\n",
              "      <td>74.0</td>\n",
              "      <td>1.0</td>\n",
              "      <td>1.0</td>\n",
              "      <td>9.5</td>\n",
              "    </tr>\n",
              "    <tr>\n",
              "      <th>70804</th>\n",
              "      <td>https://www.airbnb.com/rooms/949895788077592192</td>\n",
              "      <td>Private room</td>\n",
              "      <td>Private room in rental unit</td>\n",
              "      <td>75.0</td>\n",
              "      <td>1.0</td>\n",
              "      <td>6.0</td>\n",
              "      <td>9.0</td>\n",
              "    </tr>\n",
              "    <tr>\n",
              "      <th>74559</th>\n",
              "      <td>https://www.airbnb.com/rooms/983984337764617923</td>\n",
              "      <td>Private room</td>\n",
              "      <td>Private room in rental unit</td>\n",
              "      <td>76.0</td>\n",
              "      <td>0.0</td>\n",
              "      <td>1.0</td>\n",
              "      <td>12.0</td>\n",
              "    </tr>\n",
              "    <tr>\n",
              "      <th>87393</th>\n",
              "      <td>https://www.airbnb.com/rooms/1091109690799943661</td>\n",
              "      <td>Private room</td>\n",
              "      <td>Private room in rental unit</td>\n",
              "      <td>58.0</td>\n",
              "      <td>0.0</td>\n",
              "      <td>0.0</td>\n",
              "      <td>9.0</td>\n",
              "    </tr>\n",
              "  </tbody>\n",
              "</table>\n",
              "</div>"
            ],
            "text/plain": [
              "                                                 숙소_url            숙소_유형  \\\n",
              "15094             https://www.airbnb.com/rooms/17925370     Private room   \n",
              "44069             https://www.airbnb.com/rooms/53426653  Entire home/apt   \n",
              "54719   https://www.airbnb.com/rooms/753710559669306384     Private room   \n",
              "70804   https://www.airbnb.com/rooms/949895788077592192     Private room   \n",
              "74559   https://www.airbnb.com/rooms/983984337764617923     Private room   \n",
              "87393  https://www.airbnb.com/rooms/1091109690799943661     Private room   \n",
              "\n",
              "                             숙소_특징  숙소_가격  침대수  침실수   욕실수  \n",
              "15094         Private room in home  300.0  2.0  7.0   7.5  \n",
              "44069                  Entire home  300.0  8.0  7.0   8.5  \n",
              "54719         Private room in home   74.0  1.0  1.0   9.5  \n",
              "70804  Private room in rental unit   75.0  1.0  6.0   9.0  \n",
              "74559  Private room in rental unit   76.0  0.0  1.0  12.0  \n",
              "87393  Private room in rental unit   58.0  0.0  0.0   9.0  "
            ]
          },
          "execution_count": 66,
          "metadata": {},
          "output_type": "execute_result"
        }
      ],
      "source": [
        "df_clean[df_clean['욕실수'] >= 7.5][['숙소_url','숙소_유형','숙소_특징','숙소_가격','침대수','침실수','욕실수']]\n"
      ]
    },
    {
      "cell_type": "code",
      "execution_count": 67,
      "metadata": {
        "colab": {
          "base_uri": "https://localhost:8080/",
          "height": 424
        },
        "id": "Q_e2jAkdq-zT",
        "outputId": "215922a6-55f9-4b72-bdd0-664c34f4a702"
      },
      "outputs": [
        {
          "data": {
            "text/html": [
              "<div>\n",
              "<style scoped>\n",
              "    .dataframe tbody tr th:only-of-type {\n",
              "        vertical-align: middle;\n",
              "    }\n",
              "\n",
              "    .dataframe tbody tr th {\n",
              "        vertical-align: top;\n",
              "    }\n",
              "\n",
              "    .dataframe thead th {\n",
              "        text-align: right;\n",
              "    }\n",
              "</style>\n",
              "<table border=\"1\" class=\"dataframe\">\n",
              "  <thead>\n",
              "    <tr style=\"text-align: right;\">\n",
              "      <th></th>\n",
              "      <th>숙소_url</th>\n",
              "      <th>숙소_유형</th>\n",
              "      <th>숙소_특징</th>\n",
              "      <th>숙소_가격</th>\n",
              "      <th>침대수</th>\n",
              "      <th>침실수</th>\n",
              "      <th>욕실수</th>\n",
              "    </tr>\n",
              "  </thead>\n",
              "  <tbody>\n",
              "    <tr>\n",
              "      <th>0</th>\n",
              "      <td>https://www.airbnb.com/rooms/312761</td>\n",
              "      <td>Entire home/apt</td>\n",
              "      <td>Entire rental unit</td>\n",
              "      <td>160.0</td>\n",
              "      <td>1.0</td>\n",
              "      <td>1.0</td>\n",
              "      <td>1.0</td>\n",
              "    </tr>\n",
              "    <tr>\n",
              "      <th>2</th>\n",
              "      <td>https://www.airbnb.com/rooms/15400</td>\n",
              "      <td>Entire home/apt</td>\n",
              "      <td>Entire rental unit</td>\n",
              "      <td>120.0</td>\n",
              "      <td>1.0</td>\n",
              "      <td>1.0</td>\n",
              "      <td>1.0</td>\n",
              "    </tr>\n",
              "    <tr>\n",
              "      <th>4</th>\n",
              "      <td>https://www.airbnb.com/rooms/165336</td>\n",
              "      <td>Entire home/apt</td>\n",
              "      <td>Entire rental unit</td>\n",
              "      <td>100.0</td>\n",
              "      <td>1.0</td>\n",
              "      <td>1.0</td>\n",
              "      <td>1.0</td>\n",
              "    </tr>\n",
              "    <tr>\n",
              "      <th>10</th>\n",
              "      <td>https://www.airbnb.com/rooms/314164</td>\n",
              "      <td>Entire home/apt</td>\n",
              "      <td>Entire home</td>\n",
              "      <td>137.0</td>\n",
              "      <td>3.0</td>\n",
              "      <td>3.0</td>\n",
              "      <td>1.5</td>\n",
              "    </tr>\n",
              "    <tr>\n",
              "      <th>14</th>\n",
              "      <td>https://www.airbnb.com/rooms/34935</td>\n",
              "      <td>Entire home/apt</td>\n",
              "      <td>Entire rental unit</td>\n",
              "      <td>112.0</td>\n",
              "      <td>2.0</td>\n",
              "      <td>1.0</td>\n",
              "      <td>1.0</td>\n",
              "    </tr>\n",
              "    <tr>\n",
              "      <th>...</th>\n",
              "      <td>...</td>\n",
              "      <td>...</td>\n",
              "      <td>...</td>\n",
              "      <td>...</td>\n",
              "      <td>...</td>\n",
              "      <td>...</td>\n",
              "      <td>...</td>\n",
              "    </tr>\n",
              "    <tr>\n",
              "      <th>90359</th>\n",
              "      <td>https://www.airbnb.com/rooms/1110923850982941877</td>\n",
              "      <td>Entire home/apt</td>\n",
              "      <td>Entire rental unit</td>\n",
              "      <td>138.0</td>\n",
              "      <td>2.0</td>\n",
              "      <td>2.0</td>\n",
              "      <td>1.0</td>\n",
              "    </tr>\n",
              "    <tr>\n",
              "      <th>90369</th>\n",
              "      <td>https://www.airbnb.com/rooms/1111531590526041562</td>\n",
              "      <td>Entire home/apt</td>\n",
              "      <td>Entire rental unit</td>\n",
              "      <td>70.0</td>\n",
              "      <td>0.0</td>\n",
              "      <td>1.0</td>\n",
              "      <td>1.0</td>\n",
              "    </tr>\n",
              "    <tr>\n",
              "      <th>90438</th>\n",
              "      <td>https://www.airbnb.com/rooms/1112223577895036237</td>\n",
              "      <td>Entire home/apt</td>\n",
              "      <td>Entire rental unit</td>\n",
              "      <td>110.0</td>\n",
              "      <td>3.0</td>\n",
              "      <td>2.0</td>\n",
              "      <td>1.0</td>\n",
              "    </tr>\n",
              "    <tr>\n",
              "      <th>90590</th>\n",
              "      <td>https://www.airbnb.com/rooms/1113042462528003601</td>\n",
              "      <td>Entire home/apt</td>\n",
              "      <td>Entire rental unit</td>\n",
              "      <td>136.0</td>\n",
              "      <td>3.0</td>\n",
              "      <td>2.0</td>\n",
              "      <td>1.0</td>\n",
              "    </tr>\n",
              "    <tr>\n",
              "      <th>90648</th>\n",
              "      <td>https://www.airbnb.com/rooms/1113966989586525761</td>\n",
              "      <td>Entire home/apt</td>\n",
              "      <td>Entire rental unit</td>\n",
              "      <td>109.0</td>\n",
              "      <td>0.0</td>\n",
              "      <td>1.0</td>\n",
              "      <td>1.0</td>\n",
              "    </tr>\n",
              "  </tbody>\n",
              "</table>\n",
              "<p>26362 rows × 7 columns</p>\n",
              "</div>"
            ],
            "text/plain": [
              "                                                 숙소_url            숙소_유형  \\\n",
              "0                   https://www.airbnb.com/rooms/312761  Entire home/apt   \n",
              "2                    https://www.airbnb.com/rooms/15400  Entire home/apt   \n",
              "4                   https://www.airbnb.com/rooms/165336  Entire home/apt   \n",
              "10                  https://www.airbnb.com/rooms/314164  Entire home/apt   \n",
              "14                   https://www.airbnb.com/rooms/34935  Entire home/apt   \n",
              "...                                                 ...              ...   \n",
              "90359  https://www.airbnb.com/rooms/1110923850982941877  Entire home/apt   \n",
              "90369  https://www.airbnb.com/rooms/1111531590526041562  Entire home/apt   \n",
              "90438  https://www.airbnb.com/rooms/1112223577895036237  Entire home/apt   \n",
              "90590  https://www.airbnb.com/rooms/1113042462528003601  Entire home/apt   \n",
              "90648  https://www.airbnb.com/rooms/1113966989586525761  Entire home/apt   \n",
              "\n",
              "                    숙소_특징  숙소_가격  침대수  침실수  욕실수  \n",
              "0      Entire rental unit  160.0  1.0  1.0  1.0  \n",
              "2      Entire rental unit  120.0  1.0  1.0  1.0  \n",
              "4      Entire rental unit  100.0  1.0  1.0  1.0  \n",
              "10            Entire home  137.0  3.0  3.0  1.5  \n",
              "14     Entire rental unit  112.0  2.0  1.0  1.0  \n",
              "...                   ...    ...  ...  ...  ...  \n",
              "90359  Entire rental unit  138.0  2.0  2.0  1.0  \n",
              "90369  Entire rental unit   70.0  0.0  1.0  1.0  \n",
              "90438  Entire rental unit  110.0  3.0  2.0  1.0  \n",
              "90590  Entire rental unit  136.0  3.0  2.0  1.0  \n",
              "90648  Entire rental unit  109.0  0.0  1.0  1.0  \n",
              "\n",
              "[26362 rows x 7 columns]"
            ]
          },
          "execution_count": 67,
          "metadata": {},
          "output_type": "execute_result"
        }
      ],
      "source": [
        "df_clean[(df_clean['숙소_유형'] == 'Entire home/apt')][['숙소_url','숙소_유형','숙소_특징','숙소_가격','침대수','침실수','욕실수']]"
      ]
    },
    {
      "cell_type": "code",
      "execution_count": 68,
      "metadata": {
        "colab": {
          "base_uri": "https://localhost:8080/",
          "height": 424
        },
        "id": "HUTRYymPrI7n",
        "outputId": "53122528-4e92-4aa2-86ad-d88dd126613e"
      },
      "outputs": [
        {
          "data": {
            "text/html": [
              "<div>\n",
              "<style scoped>\n",
              "    .dataframe tbody tr th:only-of-type {\n",
              "        vertical-align: middle;\n",
              "    }\n",
              "\n",
              "    .dataframe tbody tr th {\n",
              "        vertical-align: top;\n",
              "    }\n",
              "\n",
              "    .dataframe thead th {\n",
              "        text-align: right;\n",
              "    }\n",
              "</style>\n",
              "<table border=\"1\" class=\"dataframe\">\n",
              "  <thead>\n",
              "    <tr style=\"text-align: right;\">\n",
              "      <th></th>\n",
              "      <th>숙소_url</th>\n",
              "      <th>숙소_유형</th>\n",
              "      <th>숙소_특징</th>\n",
              "      <th>숙소_가격</th>\n",
              "      <th>침대수</th>\n",
              "      <th>침실수</th>\n",
              "      <th>욕실수</th>\n",
              "    </tr>\n",
              "  </thead>\n",
              "  <tbody>\n",
              "    <tr>\n",
              "      <th>1</th>\n",
              "      <td>https://www.airbnb.com/rooms/13913</td>\n",
              "      <td>Private room</td>\n",
              "      <td>Private room in rental unit</td>\n",
              "      <td>65.0</td>\n",
              "      <td>1.0</td>\n",
              "      <td>1.0</td>\n",
              "      <td>1.0</td>\n",
              "    </tr>\n",
              "    <tr>\n",
              "      <th>3</th>\n",
              "      <td>https://www.airbnb.com/rooms/159736</td>\n",
              "      <td>Private room</td>\n",
              "      <td>Private room in rental unit</td>\n",
              "      <td>65.0</td>\n",
              "      <td>1.0</td>\n",
              "      <td>1.0</td>\n",
              "      <td>1.0</td>\n",
              "    </tr>\n",
              "    <tr>\n",
              "      <th>12</th>\n",
              "      <td>https://www.airbnb.com/rooms/33332</td>\n",
              "      <td>Private room</td>\n",
              "      <td>Private room in home</td>\n",
              "      <td>140.0</td>\n",
              "      <td>1.0</td>\n",
              "      <td>1.0</td>\n",
              "      <td>1.0</td>\n",
              "    </tr>\n",
              "    <tr>\n",
              "      <th>17</th>\n",
              "      <td>https://www.airbnb.com/rooms/174132</td>\n",
              "      <td>Private room</td>\n",
              "      <td>Private room in rental unit</td>\n",
              "      <td>60.0</td>\n",
              "      <td>1.0</td>\n",
              "      <td>1.0</td>\n",
              "      <td>1.5</td>\n",
              "    </tr>\n",
              "    <tr>\n",
              "      <th>21</th>\n",
              "      <td>https://www.airbnb.com/rooms/316137</td>\n",
              "      <td>Private room</td>\n",
              "      <td>Private room in home</td>\n",
              "      <td>90.0</td>\n",
              "      <td>1.0</td>\n",
              "      <td>1.0</td>\n",
              "      <td>1.0</td>\n",
              "    </tr>\n",
              "    <tr>\n",
              "      <th>...</th>\n",
              "      <td>...</td>\n",
              "      <td>...</td>\n",
              "      <td>...</td>\n",
              "      <td>...</td>\n",
              "      <td>...</td>\n",
              "      <td>...</td>\n",
              "      <td>...</td>\n",
              "    </tr>\n",
              "    <tr>\n",
              "      <th>90113</th>\n",
              "      <td>https://www.airbnb.com/rooms/1109418762387207742</td>\n",
              "      <td>Private room</td>\n",
              "      <td>Private room in villa</td>\n",
              "      <td>30.0</td>\n",
              "      <td>0.0</td>\n",
              "      <td>1.0</td>\n",
              "      <td>0.5</td>\n",
              "    </tr>\n",
              "    <tr>\n",
              "      <th>90434</th>\n",
              "      <td>https://www.airbnb.com/rooms/1111592077505861190</td>\n",
              "      <td>Private room</td>\n",
              "      <td>Private room in rental unit</td>\n",
              "      <td>35.0</td>\n",
              "      <td>1.0</td>\n",
              "      <td>1.0</td>\n",
              "      <td>1.0</td>\n",
              "    </tr>\n",
              "    <tr>\n",
              "      <th>90451</th>\n",
              "      <td>https://www.airbnb.com/rooms/1112236129628471308</td>\n",
              "      <td>Private room</td>\n",
              "      <td>Private room in rental unit</td>\n",
              "      <td>46.0</td>\n",
              "      <td>1.0</td>\n",
              "      <td>1.0</td>\n",
              "      <td>1.0</td>\n",
              "    </tr>\n",
              "    <tr>\n",
              "      <th>90568</th>\n",
              "      <td>https://www.airbnb.com/rooms/1112524736745357245</td>\n",
              "      <td>Private room</td>\n",
              "      <td>Private room in rental unit</td>\n",
              "      <td>78.0</td>\n",
              "      <td>2.0</td>\n",
              "      <td>1.0</td>\n",
              "      <td>2.0</td>\n",
              "    </tr>\n",
              "    <tr>\n",
              "      <th>90735</th>\n",
              "      <td>https://www.airbnb.com/rooms/1113540860743654582</td>\n",
              "      <td>Private room</td>\n",
              "      <td>Private room in rental unit</td>\n",
              "      <td>41.0</td>\n",
              "      <td>1.0</td>\n",
              "      <td>1.0</td>\n",
              "      <td>1.0</td>\n",
              "    </tr>\n",
              "  </tbody>\n",
              "</table>\n",
              "<p>14324 rows × 7 columns</p>\n",
              "</div>"
            ],
            "text/plain": [
              "                                                 숙소_url         숙소_유형  \\\n",
              "1                    https://www.airbnb.com/rooms/13913  Private room   \n",
              "3                   https://www.airbnb.com/rooms/159736  Private room   \n",
              "12                   https://www.airbnb.com/rooms/33332  Private room   \n",
              "17                  https://www.airbnb.com/rooms/174132  Private room   \n",
              "21                  https://www.airbnb.com/rooms/316137  Private room   \n",
              "...                                                 ...           ...   \n",
              "90113  https://www.airbnb.com/rooms/1109418762387207742  Private room   \n",
              "90434  https://www.airbnb.com/rooms/1111592077505861190  Private room   \n",
              "90451  https://www.airbnb.com/rooms/1112236129628471308  Private room   \n",
              "90568  https://www.airbnb.com/rooms/1112524736745357245  Private room   \n",
              "90735  https://www.airbnb.com/rooms/1113540860743654582  Private room   \n",
              "\n",
              "                             숙소_특징  숙소_가격  침대수  침실수  욕실수  \n",
              "1      Private room in rental unit   65.0  1.0  1.0  1.0  \n",
              "3      Private room in rental unit   65.0  1.0  1.0  1.0  \n",
              "12            Private room in home  140.0  1.0  1.0  1.0  \n",
              "17     Private room in rental unit   60.0  1.0  1.0  1.5  \n",
              "21            Private room in home   90.0  1.0  1.0  1.0  \n",
              "...                            ...    ...  ...  ...  ...  \n",
              "90113        Private room in villa   30.0  0.0  1.0  0.5  \n",
              "90434  Private room in rental unit   35.0  1.0  1.0  1.0  \n",
              "90451  Private room in rental unit   46.0  1.0  1.0  1.0  \n",
              "90568  Private room in rental unit   78.0  2.0  1.0  2.0  \n",
              "90735  Private room in rental unit   41.0  1.0  1.0  1.0  \n",
              "\n",
              "[14324 rows x 7 columns]"
            ]
          },
          "execution_count": 68,
          "metadata": {},
          "output_type": "execute_result"
        }
      ],
      "source": [
        "df_clean[df_clean['숙소_유형'] == 'Private room'][['숙소_url','숙소_유형','숙소_특징','숙소_가격','침대수','침실수','욕실수']]\n"
      ]
    },
    {
      "cell_type": "code",
      "execution_count": 69,
      "metadata": {
        "colab": {
          "base_uri": "https://localhost:8080/"
        },
        "id": "PzKbfJEi0gpA",
        "outputId": "6f26ebd5-51e5-4577-d39d-21baf4f8ed98"
      },
      "outputs": [
        {
          "data": {
            "text/plain": [
              "68.54321418598157"
            ]
          },
          "execution_count": 69,
          "metadata": {},
          "output_type": "execute_result"
        }
      ],
      "source": [
        "df_clean[df_clean['숙소_유형'] == 'Private room']['숙소_가격'].mean()"
      ]
    },
    {
      "cell_type": "code",
      "execution_count": 70,
      "metadata": {
        "colab": {
          "base_uri": "https://localhost:8080/"
        },
        "id": "XG1EQvGG0ntu",
        "outputId": "f122a961-722f-497f-ef23-11591708a5a1"
      },
      "outputs": [
        {
          "data": {
            "text/plain": [
              "nan"
            ]
          },
          "execution_count": 70,
          "metadata": {},
          "output_type": "execute_result"
        }
      ],
      "source": [
        "df_clean[df_clean['숙소_유형'] == 'Entire home/apt+']['숙소_가격'].mean()\n"
      ]
    },
    {
      "cell_type": "markdown",
      "metadata": {
        "id": "TP5lBw0329aG"
      },
      "source": [
        "원본데이터로 돌아가서 dat (숙소수, 슈퍼호스트,리뷰수=0, 리뷰점수6개분야 전부 nall 값 제거 한 데이터)"
      ]
    },
    {
      "cell_type": "markdown",
      "metadata": {
        "id": "rVAKHqDQ4A9F"
      },
      "source": [
        "숙소 가격이 0인것 제외 / 숙소유형 entire home, private room 만 가져오기"
      ]
    },
    {
      "cell_type": "code",
      "execution_count": 71,
      "metadata": {
        "id": "qZ1RqPKw3vf_"
      },
      "outputs": [],
      "source": [
        "dat = dat[dat['숙소_가격'] != 0.0]"
      ]
    },
    {
      "cell_type": "code",
      "execution_count": 72,
      "metadata": {
        "colab": {
          "base_uri": "https://localhost:8080/"
        },
        "id": "h-XCsc4MyxOU",
        "outputId": "dec5267c-6040-4074-cca6-23b33781531f"
      },
      "outputs": [
        {
          "data": {
            "text/plain": [
              "숙소_유형\n",
              "Entire home/apt    13765\n",
              "Private room        8200\n",
              "Name: count, dtype: int64"
            ]
          },
          "execution_count": 72,
          "metadata": {},
          "output_type": "execute_result"
        }
      ],
      "source": [
        "dat[dat['숙소_가격'].isna()]['숙소_유형'].value_counts()"
      ]
    },
    {
      "cell_type": "code",
      "execution_count": 73,
      "metadata": {
        "id": "GyV-ABcfz64B"
      },
      "outputs": [],
      "source": [
        "condition = (dat['숙소_유형'] == 'Hotel room') | (dat['숙소_유형'] == 'Shared room')\n",
        "dat = dat[~condition]"
      ]
    },
    {
      "cell_type": "code",
      "execution_count": 74,
      "metadata": {
        "colab": {
          "base_uri": "https://localhost:8080/"
        },
        "id": "wgPw_7JGz6u4",
        "outputId": "5daa702c-318a-475b-8ecc-8fd5393edbef"
      },
      "outputs": [
        {
          "data": {
            "text/plain": [
              "(65146, 28)"
            ]
          },
          "execution_count": 74,
          "metadata": {},
          "output_type": "execute_result"
        }
      ],
      "source": [
        "dat.shape"
      ]
    },
    {
      "cell_type": "markdown",
      "metadata": {
        "id": "GlBoPkWp4Oeu"
      },
      "source": [
        "숙소가격이 널값인 데이터에 숙소유형과 지역별 가격 평균대치"
      ]
    },
    {
      "cell_type": "code",
      "execution_count": 75,
      "metadata": {
        "id": "yk7k4PzM4U4C"
      },
      "outputs": [],
      "source": [
        "London_Price_Nan = dat[dat['숙소_가격'].isna()]"
      ]
    },
    {
      "cell_type": "code",
      "execution_count": 76,
      "metadata": {
        "colab": {
          "base_uri": "https://localhost:8080/"
        },
        "id": "jZJ2opQa4pZ6",
        "outputId": "089caa84-f3af-4f6c-d4bf-3edc1b9d3d4d"
      },
      "outputs": [
        {
          "data": {
            "text/plain": [
              "(21965, 28)"
            ]
          },
          "execution_count": 76,
          "metadata": {},
          "output_type": "execute_result"
        }
      ],
      "source": [
        "London_Price_Nan.shape"
      ]
    },
    {
      "cell_type": "code",
      "execution_count": 77,
      "metadata": {
        "id": "jERY94vG0MEy"
      },
      "outputs": [],
      "source": [
        "# 숙소 지역과 숙소 유형별 가격의 평균 계산\n",
        "avg_price_by_area_type = df_clean.groupby(['숙소_지역', '숙소_유형'])['숙소_가격'].mean().reset_index()"
      ]
    },
    {
      "cell_type": "code",
      "execution_count": 78,
      "metadata": {
        "colab": {
          "base_uri": "https://localhost:8080/",
          "height": 424
        },
        "id": "m9YN7PuH0MBZ",
        "outputId": "b57adf71-5b43-4c10-a0d9-4535a1575d95"
      },
      "outputs": [
        {
          "data": {
            "text/html": [
              "<div>\n",
              "<style scoped>\n",
              "    .dataframe tbody tr th:only-of-type {\n",
              "        vertical-align: middle;\n",
              "    }\n",
              "\n",
              "    .dataframe tbody tr th {\n",
              "        vertical-align: top;\n",
              "    }\n",
              "\n",
              "    .dataframe thead th {\n",
              "        text-align: right;\n",
              "    }\n",
              "</style>\n",
              "<table border=\"1\" class=\"dataframe\">\n",
              "  <thead>\n",
              "    <tr style=\"text-align: right;\">\n",
              "      <th></th>\n",
              "      <th>숙소_지역</th>\n",
              "      <th>숙소_유형</th>\n",
              "      <th>숙소_가격</th>\n",
              "    </tr>\n",
              "  </thead>\n",
              "  <tbody>\n",
              "    <tr>\n",
              "      <th>0</th>\n",
              "      <td>Barking and Dagenham</td>\n",
              "      <td>Entire home/apt</td>\n",
              "      <td>134.945122</td>\n",
              "    </tr>\n",
              "    <tr>\n",
              "      <th>1</th>\n",
              "      <td>Barking and Dagenham</td>\n",
              "      <td>Private room</td>\n",
              "      <td>48.993464</td>\n",
              "    </tr>\n",
              "    <tr>\n",
              "      <th>2</th>\n",
              "      <td>Barnet</td>\n",
              "      <td>Entire home/apt</td>\n",
              "      <td>137.334258</td>\n",
              "    </tr>\n",
              "    <tr>\n",
              "      <th>3</th>\n",
              "      <td>Barnet</td>\n",
              "      <td>Private room</td>\n",
              "      <td>59.675393</td>\n",
              "    </tr>\n",
              "    <tr>\n",
              "      <th>4</th>\n",
              "      <td>Bexley</td>\n",
              "      <td>Entire home/apt</td>\n",
              "      <td>129.452381</td>\n",
              "    </tr>\n",
              "    <tr>\n",
              "      <th>...</th>\n",
              "      <td>...</td>\n",
              "      <td>...</td>\n",
              "      <td>...</td>\n",
              "    </tr>\n",
              "    <tr>\n",
              "      <th>61</th>\n",
              "      <td>Waltham Forest</td>\n",
              "      <td>Private room</td>\n",
              "      <td>55.256131</td>\n",
              "    </tr>\n",
              "    <tr>\n",
              "      <th>62</th>\n",
              "      <td>Wandsworth</td>\n",
              "      <td>Entire home/apt</td>\n",
              "      <td>172.205087</td>\n",
              "    </tr>\n",
              "    <tr>\n",
              "      <th>63</th>\n",
              "      <td>Wandsworth</td>\n",
              "      <td>Private room</td>\n",
              "      <td>71.191074</td>\n",
              "    </tr>\n",
              "    <tr>\n",
              "      <th>64</th>\n",
              "      <td>Westminster</td>\n",
              "      <td>Entire home/apt</td>\n",
              "      <td>199.434795</td>\n",
              "    </tr>\n",
              "    <tr>\n",
              "      <th>65</th>\n",
              "      <td>Westminster</td>\n",
              "      <td>Private room</td>\n",
              "      <td>101.971104</td>\n",
              "    </tr>\n",
              "  </tbody>\n",
              "</table>\n",
              "<p>66 rows × 3 columns</p>\n",
              "</div>"
            ],
            "text/plain": [
              "                   숙소_지역            숙소_유형       숙소_가격\n",
              "0   Barking and Dagenham  Entire home/apt  134.945122\n",
              "1   Barking and Dagenham     Private room   48.993464\n",
              "2                 Barnet  Entire home/apt  137.334258\n",
              "3                 Barnet     Private room   59.675393\n",
              "4                 Bexley  Entire home/apt  129.452381\n",
              "..                   ...              ...         ...\n",
              "61        Waltham Forest     Private room   55.256131\n",
              "62            Wandsworth  Entire home/apt  172.205087\n",
              "63            Wandsworth     Private room   71.191074\n",
              "64           Westminster  Entire home/apt  199.434795\n",
              "65           Westminster     Private room  101.971104\n",
              "\n",
              "[66 rows x 3 columns]"
            ]
          },
          "execution_count": 78,
          "metadata": {},
          "output_type": "execute_result"
        }
      ],
      "source": [
        "avg_price_by_area_type"
      ]
    },
    {
      "cell_type": "code",
      "execution_count": 79,
      "metadata": {
        "colab": {
          "base_uri": "https://localhost:8080/",
          "height": 843
        },
        "id": "jHt_TW9G0L9y",
        "outputId": "f82d3ae5-31d4-446f-f0ff-fe5a78daa44d"
      },
      "outputs": [
        {
          "data": {
            "text/html": [
              "<div>\n",
              "<style scoped>\n",
              "    .dataframe tbody tr th:only-of-type {\n",
              "        vertical-align: middle;\n",
              "    }\n",
              "\n",
              "    .dataframe tbody tr th {\n",
              "        vertical-align: top;\n",
              "    }\n",
              "\n",
              "    .dataframe thead th {\n",
              "        text-align: right;\n",
              "    }\n",
              "</style>\n",
              "<table border=\"1\" class=\"dataframe\">\n",
              "  <thead>\n",
              "    <tr style=\"text-align: right;\">\n",
              "      <th></th>\n",
              "      <th>숙소_id</th>\n",
              "      <th>숙소_url</th>\n",
              "      <th>호스트_id</th>\n",
              "      <th>숙소_특징</th>\n",
              "      <th>슈퍼호스트</th>\n",
              "      <th>숙소_수</th>\n",
              "      <th>숙소_지역</th>\n",
              "      <th>위도</th>\n",
              "      <th>경도</th>\n",
              "      <th>숙소_유형</th>\n",
              "      <th>...</th>\n",
              "      <th>리뷰수</th>\n",
              "      <th>30일_리뷰수</th>\n",
              "      <th>리뷰점수</th>\n",
              "      <th>숙소_정확성_리뷰점수</th>\n",
              "      <th>숙소_청결도_리뷰점수</th>\n",
              "      <th>숙소_체크인_리뷰점수</th>\n",
              "      <th>숙소_소통_리뷰점수</th>\n",
              "      <th>숙소_위치_리뷰점수</th>\n",
              "      <th>숙소_가격_리뷰점수</th>\n",
              "      <th>평균_리뷰수</th>\n",
              "    </tr>\n",
              "  </thead>\n",
              "  <tbody>\n",
              "    <tr>\n",
              "      <th>5</th>\n",
              "      <td>313710</td>\n",
              "      <td>https://www.airbnb.com/rooms/313710</td>\n",
              "      <td>1612623</td>\n",
              "      <td>Entire rental unit</td>\n",
              "      <td>f</td>\n",
              "      <td>1.0</td>\n",
              "      <td>Brent</td>\n",
              "      <td>51.533470</td>\n",
              "      <td>-0.232920</td>\n",
              "      <td>Entire home/apt</td>\n",
              "      <td>...</td>\n",
              "      <td>10</td>\n",
              "      <td>0</td>\n",
              "      <td>4.88</td>\n",
              "      <td>4.67</td>\n",
              "      <td>4.89</td>\n",
              "      <td>4.89</td>\n",
              "      <td>5.00</td>\n",
              "      <td>4.56</td>\n",
              "      <td>4.67</td>\n",
              "      <td>0.07</td>\n",
              "    </tr>\n",
              "    <tr>\n",
              "      <th>6</th>\n",
              "      <td>168359</td>\n",
              "      <td>https://www.airbnb.com/rooms/168359</td>\n",
              "      <td>648725</td>\n",
              "      <td>Entire rental unit</td>\n",
              "      <td>f</td>\n",
              "      <td>2.0</td>\n",
              "      <td>Southwark</td>\n",
              "      <td>51.491850</td>\n",
              "      <td>-0.088230</td>\n",
              "      <td>Entire home/apt</td>\n",
              "      <td>...</td>\n",
              "      <td>9</td>\n",
              "      <td>0</td>\n",
              "      <td>4.63</td>\n",
              "      <td>4.75</td>\n",
              "      <td>4.63</td>\n",
              "      <td>4.88</td>\n",
              "      <td>4.88</td>\n",
              "      <td>4.13</td>\n",
              "      <td>4.75</td>\n",
              "      <td>0.06</td>\n",
              "    </tr>\n",
              "    <tr>\n",
              "      <th>8</th>\n",
              "      <td>24328</td>\n",
              "      <td>https://www.airbnb.com/rooms/24328</td>\n",
              "      <td>41759</td>\n",
              "      <td>Entire townhouse</td>\n",
              "      <td>f</td>\n",
              "      <td>3.0</td>\n",
              "      <td>Wandsworth</td>\n",
              "      <td>51.470720</td>\n",
              "      <td>-0.162660</td>\n",
              "      <td>Entire home/apt</td>\n",
              "      <td>...</td>\n",
              "      <td>94</td>\n",
              "      <td>0</td>\n",
              "      <td>4.90</td>\n",
              "      <td>4.89</td>\n",
              "      <td>4.91</td>\n",
              "      <td>4.90</td>\n",
              "      <td>4.93</td>\n",
              "      <td>4.59</td>\n",
              "      <td>4.65</td>\n",
              "      <td>0.58</td>\n",
              "    </tr>\n",
              "    <tr>\n",
              "      <th>11</th>\n",
              "      <td>170702</td>\n",
              "      <td>https://www.airbnb.com/rooms/170702</td>\n",
              "      <td>814004</td>\n",
              "      <td>Private room in rental unit</td>\n",
              "      <td>f</td>\n",
              "      <td>1.0</td>\n",
              "      <td>Tower Hamlets</td>\n",
              "      <td>51.496860</td>\n",
              "      <td>-0.026270</td>\n",
              "      <td>Private room</td>\n",
              "      <td>...</td>\n",
              "      <td>135</td>\n",
              "      <td>0</td>\n",
              "      <td>4.95</td>\n",
              "      <td>4.97</td>\n",
              "      <td>4.98</td>\n",
              "      <td>4.94</td>\n",
              "      <td>4.98</td>\n",
              "      <td>4.79</td>\n",
              "      <td>4.93</td>\n",
              "      <td>0.88</td>\n",
              "    </tr>\n",
              "    <tr>\n",
              "      <th>13</th>\n",
              "      <td>314985</td>\n",
              "      <td>https://www.airbnb.com/rooms/314985</td>\n",
              "      <td>1617885</td>\n",
              "      <td>Private room in home</td>\n",
              "      <td>f</td>\n",
              "      <td>1.0</td>\n",
              "      <td>Newham</td>\n",
              "      <td>51.526260</td>\n",
              "      <td>0.029040</td>\n",
              "      <td>Private room</td>\n",
              "      <td>...</td>\n",
              "      <td>6</td>\n",
              "      <td>0</td>\n",
              "      <td>4.80</td>\n",
              "      <td>4.83</td>\n",
              "      <td>4.33</td>\n",
              "      <td>5.00</td>\n",
              "      <td>5.00</td>\n",
              "      <td>4.17</td>\n",
              "      <td>4.33</td>\n",
              "      <td>0.05</td>\n",
              "    </tr>\n",
              "    <tr>\n",
              "      <th>...</th>\n",
              "      <td>...</td>\n",
              "      <td>...</td>\n",
              "      <td>...</td>\n",
              "      <td>...</td>\n",
              "      <td>...</td>\n",
              "      <td>...</td>\n",
              "      <td>...</td>\n",
              "      <td>...</td>\n",
              "      <td>...</td>\n",
              "      <td>...</td>\n",
              "      <td>...</td>\n",
              "      <td>...</td>\n",
              "      <td>...</td>\n",
              "      <td>...</td>\n",
              "      <td>...</td>\n",
              "      <td>...</td>\n",
              "      <td>...</td>\n",
              "      <td>...</td>\n",
              "      <td>...</td>\n",
              "      <td>...</td>\n",
              "      <td>...</td>\n",
              "    </tr>\n",
              "    <tr>\n",
              "      <th>87029</th>\n",
              "      <td>1089297954935898261</td>\n",
              "      <td>https://www.airbnb.com/rooms/1089297954935898261</td>\n",
              "      <td>124413326</td>\n",
              "      <td>Entire rental unit</td>\n",
              "      <td>f</td>\n",
              "      <td>1.0</td>\n",
              "      <td>Kingston upon Thames</td>\n",
              "      <td>51.403807</td>\n",
              "      <td>-0.274750</td>\n",
              "      <td>Entire home/apt</td>\n",
              "      <td>...</td>\n",
              "      <td>6</td>\n",
              "      <td>6</td>\n",
              "      <td>5.00</td>\n",
              "      <td>5.00</td>\n",
              "      <td>4.75</td>\n",
              "      <td>5.00</td>\n",
              "      <td>4.75</td>\n",
              "      <td>4.75</td>\n",
              "      <td>5.00</td>\n",
              "      <td>6.00</td>\n",
              "    </tr>\n",
              "    <tr>\n",
              "      <th>87276</th>\n",
              "      <td>1090640057985958105</td>\n",
              "      <td>https://www.airbnb.com/rooms/1090640057985958105</td>\n",
              "      <td>543091250</td>\n",
              "      <td>Entire rental unit</td>\n",
              "      <td>f</td>\n",
              "      <td>2.0</td>\n",
              "      <td>Kensington and Chelsea</td>\n",
              "      <td>51.486730</td>\n",
              "      <td>-0.177350</td>\n",
              "      <td>Entire home/apt</td>\n",
              "      <td>...</td>\n",
              "      <td>3</td>\n",
              "      <td>3</td>\n",
              "      <td>5.00</td>\n",
              "      <td>5.00</td>\n",
              "      <td>5.00</td>\n",
              "      <td>5.00</td>\n",
              "      <td>5.00</td>\n",
              "      <td>5.00</td>\n",
              "      <td>5.00</td>\n",
              "      <td>3.00</td>\n",
              "    </tr>\n",
              "    <tr>\n",
              "      <th>87290</th>\n",
              "      <td>1090452783507963913</td>\n",
              "      <td>https://www.airbnb.com/rooms/1090452783507963913</td>\n",
              "      <td>403509869</td>\n",
              "      <td>Private room in home</td>\n",
              "      <td>t</td>\n",
              "      <td>11.0</td>\n",
              "      <td>Barking and Dagenham</td>\n",
              "      <td>51.536394</td>\n",
              "      <td>0.084043</td>\n",
              "      <td>Private room</td>\n",
              "      <td>...</td>\n",
              "      <td>5</td>\n",
              "      <td>5</td>\n",
              "      <td>4.40</td>\n",
              "      <td>4.60</td>\n",
              "      <td>4.80</td>\n",
              "      <td>4.80</td>\n",
              "      <td>4.40</td>\n",
              "      <td>4.20</td>\n",
              "      <td>4.20</td>\n",
              "      <td>5.00</td>\n",
              "    </tr>\n",
              "    <tr>\n",
              "      <th>87300</th>\n",
              "      <td>1090481573621124067</td>\n",
              "      <td>https://www.airbnb.com/rooms/1090481573621124067</td>\n",
              "      <td>431163410</td>\n",
              "      <td>Private room in rental unit</td>\n",
              "      <td>f</td>\n",
              "      <td>22.0</td>\n",
              "      <td>Tower Hamlets</td>\n",
              "      <td>51.520802</td>\n",
              "      <td>-0.052637</td>\n",
              "      <td>Private room</td>\n",
              "      <td>...</td>\n",
              "      <td>1</td>\n",
              "      <td>1</td>\n",
              "      <td>5.00</td>\n",
              "      <td>5.00</td>\n",
              "      <td>5.00</td>\n",
              "      <td>4.00</td>\n",
              "      <td>5.00</td>\n",
              "      <td>4.00</td>\n",
              "      <td>5.00</td>\n",
              "      <td>1.00</td>\n",
              "    </tr>\n",
              "    <tr>\n",
              "      <th>88004</th>\n",
              "      <td>1095441435477010989</td>\n",
              "      <td>https://www.airbnb.com/rooms/1095441435477010989</td>\n",
              "      <td>33561493</td>\n",
              "      <td>Entire home</td>\n",
              "      <td>f</td>\n",
              "      <td>2.0</td>\n",
              "      <td>Westminster</td>\n",
              "      <td>51.526263</td>\n",
              "      <td>-0.203725</td>\n",
              "      <td>Entire home/apt</td>\n",
              "      <td>...</td>\n",
              "      <td>3</td>\n",
              "      <td>3</td>\n",
              "      <td>5.00</td>\n",
              "      <td>5.00</td>\n",
              "      <td>5.00</td>\n",
              "      <td>5.00</td>\n",
              "      <td>5.00</td>\n",
              "      <td>5.00</td>\n",
              "      <td>5.00</td>\n",
              "      <td>3.00</td>\n",
              "    </tr>\n",
              "  </tbody>\n",
              "</table>\n",
              "<p>21965 rows × 28 columns</p>\n",
              "</div>"
            ],
            "text/plain": [
              "                     숙소_id                                            숙소_url  \\\n",
              "5                   313710               https://www.airbnb.com/rooms/313710   \n",
              "6                   168359               https://www.airbnb.com/rooms/168359   \n",
              "8                    24328                https://www.airbnb.com/rooms/24328   \n",
              "11                  170702               https://www.airbnb.com/rooms/170702   \n",
              "13                  314985               https://www.airbnb.com/rooms/314985   \n",
              "...                    ...                                               ...   \n",
              "87029  1089297954935898261  https://www.airbnb.com/rooms/1089297954935898261   \n",
              "87276  1090640057985958105  https://www.airbnb.com/rooms/1090640057985958105   \n",
              "87290  1090452783507963913  https://www.airbnb.com/rooms/1090452783507963913   \n",
              "87300  1090481573621124067  https://www.airbnb.com/rooms/1090481573621124067   \n",
              "88004  1095441435477010989  https://www.airbnb.com/rooms/1095441435477010989   \n",
              "\n",
              "          호스트_id                        숙소_특징 슈퍼호스트  숙소_수  \\\n",
              "5        1612623           Entire rental unit     f   1.0   \n",
              "6         648725           Entire rental unit     f   2.0   \n",
              "8          41759             Entire townhouse     f   3.0   \n",
              "11        814004  Private room in rental unit     f   1.0   \n",
              "13       1617885         Private room in home     f   1.0   \n",
              "...          ...                          ...   ...   ...   \n",
              "87029  124413326           Entire rental unit     f   1.0   \n",
              "87276  543091250           Entire rental unit     f   2.0   \n",
              "87290  403509869         Private room in home     t  11.0   \n",
              "87300  431163410  Private room in rental unit     f  22.0   \n",
              "88004   33561493                  Entire home     f   2.0   \n",
              "\n",
              "                        숙소_지역         위도        경도            숙소_유형  ...  리뷰수  \\\n",
              "5                       Brent  51.533470 -0.232920  Entire home/apt  ...   10   \n",
              "6                   Southwark  51.491850 -0.088230  Entire home/apt  ...    9   \n",
              "8                  Wandsworth  51.470720 -0.162660  Entire home/apt  ...   94   \n",
              "11              Tower Hamlets  51.496860 -0.026270     Private room  ...  135   \n",
              "13                     Newham  51.526260  0.029040     Private room  ...    6   \n",
              "...                       ...        ...       ...              ...  ...  ...   \n",
              "87029    Kingston upon Thames  51.403807 -0.274750  Entire home/apt  ...    6   \n",
              "87276  Kensington and Chelsea  51.486730 -0.177350  Entire home/apt  ...    3   \n",
              "87290    Barking and Dagenham  51.536394  0.084043     Private room  ...    5   \n",
              "87300           Tower Hamlets  51.520802 -0.052637     Private room  ...    1   \n",
              "88004             Westminster  51.526263 -0.203725  Entire home/apt  ...    3   \n",
              "\n",
              "       30일_리뷰수  리뷰점수  숙소_정확성_리뷰점수 숙소_청결도_리뷰점수  숙소_체크인_리뷰점수  숙소_소통_리뷰점수  \\\n",
              "5            0  4.88         4.67        4.89         4.89        5.00   \n",
              "6            0  4.63         4.75        4.63         4.88        4.88   \n",
              "8            0  4.90         4.89        4.91         4.90        4.93   \n",
              "11           0  4.95         4.97        4.98         4.94        4.98   \n",
              "13           0  4.80         4.83        4.33         5.00        5.00   \n",
              "...        ...   ...          ...         ...          ...         ...   \n",
              "87029        6  5.00         5.00        4.75         5.00        4.75   \n",
              "87276        3  5.00         5.00        5.00         5.00        5.00   \n",
              "87290        5  4.40         4.60        4.80         4.80        4.40   \n",
              "87300        1  5.00         5.00        5.00         4.00        5.00   \n",
              "88004        3  5.00         5.00        5.00         5.00        5.00   \n",
              "\n",
              "       숙소_위치_리뷰점수  숙소_가격_리뷰점수  평균_리뷰수  \n",
              "5            4.56        4.67    0.07  \n",
              "6            4.13        4.75    0.06  \n",
              "8            4.59        4.65    0.58  \n",
              "11           4.79        4.93    0.88  \n",
              "13           4.17        4.33    0.05  \n",
              "...           ...         ...     ...  \n",
              "87029        4.75        5.00    6.00  \n",
              "87276        5.00        5.00    3.00  \n",
              "87290        4.20        4.20    5.00  \n",
              "87300        4.00        5.00    1.00  \n",
              "88004        5.00        5.00    3.00  \n",
              "\n",
              "[21965 rows x 28 columns]"
            ]
          },
          "execution_count": 79,
          "metadata": {},
          "output_type": "execute_result"
        }
      ],
      "source": [
        "# London_Price_Nan의 숙소 지역과 숙소 유형의 컬럼값이 avg_price_by_area_type의 숙소 지역과 숙소 유형과 같은 조건을 충족하는 경우\n",
        "for index, row in London_Price_Nan.iterrows():\n",
        "    condition = (avg_price_by_area_type['숙소_지역'] == row['숙소_지역']) & (avg_price_by_area_type['숙소_유형'] == row['숙소_유형'])\n",
        "    # 조건을 충족하는 경우 London_Price_Nan의 숙소 가격 값에 avg_price_by_area_type의 조건에 맞는 숙소 가격 값을 대입\n",
        "    if condition.any():\n",
        "        avg_price = avg_price_by_area_type.loc[condition, '숙소_가격'].values[0]\n",
        "        London_Price_Nan.at[index, '숙소_가격'] = avg_price\n",
        "\n",
        "# 결과 확인\n",
        "London_Price_Nan"
      ]
    },
    {
      "cell_type": "code",
      "execution_count": 80,
      "metadata": {
        "colab": {
          "base_uri": "https://localhost:8080/"
        },
        "id": "ee470Hp_0L7a",
        "outputId": "8f8ae0fb-81ff-4edb-aee2-380e2ac8ec6e"
      },
      "outputs": [
        {
          "data": {
            "text/plain": [
              "숙소_id              0\n",
              "숙소_url             0\n",
              "호스트_id             0\n",
              "숙소_특징              0\n",
              "슈퍼호스트              0\n",
              "숙소_수               0\n",
              "숙소_지역              0\n",
              "위도                 0\n",
              "경도                 0\n",
              "숙소_유형              0\n",
              "수용인원수              0\n",
              "욕실수            21914\n",
              "침실수             7707\n",
              "침대수            21914\n",
              "어메니티               0\n",
              "숙소_가격              0\n",
              "최소_숙박일             0\n",
              "최대_숙박일             0\n",
              "리뷰수                0\n",
              "30일_리뷰수            0\n",
              "리뷰점수               0\n",
              "숙소_정확성_리뷰점수        8\n",
              "숙소_청결도_리뷰점수        2\n",
              "숙소_체크인_리뷰점수       37\n",
              "숙소_소통_리뷰점수        13\n",
              "숙소_위치_리뷰점수        37\n",
              "숙소_가격_리뷰점수        38\n",
              "평균_리뷰수             0\n",
              "dtype: int64"
            ]
          },
          "execution_count": 80,
          "metadata": {},
          "output_type": "execute_result"
        }
      ],
      "source": [
        "London_Price_Nan.isna().sum()"
      ]
    },
    {
      "cell_type": "code",
      "execution_count": 81,
      "metadata": {
        "id": "h5XNWoB149_2"
      },
      "outputs": [],
      "source": [
        "dat.loc[London_Price_Nan.index, '숙소_가격'] = London_Price_Nan['숙소_가격']\n"
      ]
    },
    {
      "cell_type": "code",
      "execution_count": 82,
      "metadata": {
        "colab": {
          "base_uri": "https://localhost:8080/"
        },
        "id": "a2CKdQNN5NhG",
        "outputId": "14334e14-c0bb-4ec0-c810-5bf10e7da44c"
      },
      "outputs": [
        {
          "data": {
            "text/plain": [
              "0"
            ]
          },
          "execution_count": 82,
          "metadata": {},
          "output_type": "execute_result"
        }
      ],
      "source": [
        "dat['숙소_가격'].isna().sum()"
      ]
    },
    {
      "cell_type": "code",
      "execution_count": 83,
      "metadata": {
        "colab": {
          "base_uri": "https://localhost:8080/"
        },
        "id": "mAPpMW2z6S7L",
        "outputId": "d764812c-746e-4324-e189-07f026c7d0b0"
      },
      "outputs": [
        {
          "data": {
            "text/plain": [
              "(65146, 28)"
            ]
          },
          "execution_count": 83,
          "metadata": {},
          "output_type": "execute_result"
        }
      ],
      "source": [
        "dat.shape"
      ]
    },
    {
      "cell_type": "markdown",
      "metadata": {
        "id": "0dYCe5PY5Yk-"
      },
      "source": [
        "이상치 처리"
      ]
    },
    {
      "cell_type": "code",
      "execution_count": 84,
      "metadata": {
        "id": "8egSlASU5P4n"
      },
      "outputs": [],
      "source": [
        "temp = dat.copy()"
      ]
    },
    {
      "cell_type": "code",
      "execution_count": 85,
      "metadata": {
        "colab": {
          "base_uri": "https://localhost:8080/"
        },
        "id": "k9zgQVNQ5d-t",
        "outputId": "dd58fd5a-0d39-453f-b9c5-92a623e29525"
      },
      "outputs": [
        {
          "name": "stdout",
          "output_type": "stream",
          "text": [
            "Lower Bound: -87.5, Upper Bound: 332.5\n",
            "Q1: 70.0, Q3: 175.0, IQR: 105.0\n"
          ]
        }
      ],
      "source": [
        "Q1 = dat['숙소_가격'].quantile(0.25)\n",
        "Q3 = dat['숙소_가격'].quantile(0.75)\n",
        "IQR = Q3 - Q1\n",
        "\n",
        "lower_bound = Q1 - 1.5 * IQR\n",
        "upper_bound = Q3 + 1.5 * IQR\n",
        "\n",
        "print(f\"Lower Bound: {lower_bound}, Upper Bound: {upper_bound}\")\n",
        "\n",
        "print(f\"Q1: {Q1}, Q3: {Q3}, IQR: {IQR}\")"
      ]
    },
    {
      "cell_type": "markdown",
      "metadata": {
        "id": "-0ZqCZ9v5-d-"
      },
      "source": [
        "이상치 확인"
      ]
    },
    {
      "cell_type": "code",
      "execution_count": 86,
      "metadata": {
        "colab": {
          "base_uri": "https://localhost:8080/",
          "height": 562
        },
        "id": "N81pP-kx5d8a",
        "outputId": "4b3367d8-424f-46b8-f9b0-27894288673e"
      },
      "outputs": [
        {
          "data": {
            "image/png": "[encoded data removed]",
            "text/plain": [
              "<Figure size 1200x600 with 1 Axes>"
            ]
          },
          "metadata": {},
          "output_type": "display_data"
        }
      ],
      "source": [
        "import seaborn as sns\n",
        "import matplotlib.pyplot as plt\n",
        "\n",
        "\n",
        "\n",
        "# 상자수염 그림(boxplot)으로 이상치 확인\n",
        "plt.figure(figsize=(12, 6))\n",
        "sns.boxplot(data=dat, x='숙소_가격')\n",
        "plt.title('숙소 지역 및 유형별 숙소 가격 이상치확인')\n",
        "plt.xlabel('숙소 가격')\n",
        "plt.show()"
      ]
    },
    {
      "cell_type": "markdown",
      "metadata": {
        "id": "lpdps6pM6HlK"
      },
      "source": [
        "이상치 제거 ( 3410개 발견)"
      ]
    },
    {
      "cell_type": "code",
      "execution_count": 87,
      "metadata": {
        "colab": {
          "base_uri": "https://localhost:8080/"
        },
        "id": "eF00wZdb6Ihz",
        "outputId": "c816e37a-02f6-4af5-9677-e953c6dd1c3d"
      },
      "outputs": [
        {
          "data": {
            "text/plain": [
              "0        True\n",
              "1        True\n",
              "2        True\n",
              "3        True\n",
              "4        True\n",
              "         ... \n",
              "90451    True\n",
              "90568    True\n",
              "90590    True\n",
              "90648    True\n",
              "90735    True\n",
              "Name: 숙소_가격, Length: 65146, dtype: bool"
            ]
          },
          "execution_count": 87,
          "metadata": {},
          "output_type": "execute_result"
        }
      ],
      "source": [
        "outliers = (dat['숙소_가격'] >= lower_bound) & (dat['숙소_가격'] <= upper_bound)\n",
        "outliers # 3410개"
      ]
    },
    {
      "cell_type": "code",
      "execution_count": 88,
      "metadata": {
        "id": "Q8UnKg4u6vG0"
      },
      "outputs": [],
      "source": [
        "# 이상치가 제거된 데이터\n",
        "dat_clean = dat[outliers]"
      ]
    },
    {
      "cell_type": "code",
      "execution_count": 89,
      "metadata": {
        "colab": {
          "base_uri": "https://localhost:8080/",
          "height": 679
        },
        "id": "nmoDlRpj6hll",
        "outputId": "1502b1fa-5e2b-41c8-abf4-780cc740d123"
      },
      "outputs": [
        {
          "data": {
            "image/png": "[encoded data removed]",
            "text/plain": [
              "<Figure size 1000x800 with 1 Axes>"
            ]
          },
          "metadata": {},
          "output_type": "display_data"
        }
      ],
      "source": [
        "# 이상치 제거 후 숙소 가격에 대해서만 boxplot 그리기\n",
        "import seaborn as sns\n",
        "import matplotlib.pyplot as plt\n",
        "\n",
        "plt.figure(figsize=(10, 8))\n",
        "sns.boxplot(data=dat_clean, y='숙소_가격')\n",
        "plt.title('이상치 제거 후 숙소가격 분포')\n",
        "plt.ylabel('숙소가격')\n",
        "\n",
        "# 최대값, 최소값, 중앙값 표시\n",
        "max_price = dat_clean['숙소_가격'].max()\n",
        "min_price = dat_clean['숙소_가격'].min()\n",
        "median_price = dat_clean['숙소_가격'].median()\n",
        "\n",
        "plt.text(0, max_price, f'최대값: {max_price}', horizontalalignment='center', color='red', weight='semibold')\n",
        "plt.text(0, min_price, f'최소값: {min_price}', horizontalalignment='center', color='red', weight='semibold')\n",
        "plt.text(0, median_price, f'중앙값: {median_price}', horizontalalignment='center', color='red', weight='semibold')\n",
        "\n",
        "plt.show()"
      ]
    },
    {
      "cell_type": "code",
      "execution_count": 90,
      "metadata": {
        "colab": {
          "base_uri": "https://localhost:8080/"
        },
        "id": "h0Qzhjw27fHw",
        "outputId": "28de3eb8-2808-4624-cf19-7ba7dc4a78dc"
      },
      "outputs": [
        {
          "data": {
            "text/plain": [
              "숙소_가격\n",
              "158.371128    1373\n",
              "199.434795    1331\n",
              "162.546550    1165\n",
              "158.846094    1140\n",
              "183.280605     992\n",
              "              ... \n",
              "17.000000        1\n",
              "1.000000         1\n",
              "16.000000        1\n",
              "9.000000         1\n",
              "8.000000         1\n",
              "Name: count, Length: 390, dtype: int64"
            ]
          },
          "execution_count": 90,
          "metadata": {},
          "output_type": "execute_result"
        }
      ],
      "source": [
        "dat_clean['숙소_가격'].value_counts()"
      ]
    },
    {
      "cell_type": "code",
      "execution_count": 91,
      "metadata": {
        "colab": {
          "base_uri": "https://localhost:8080/"
        },
        "id": "6zYaMZOw8CCH",
        "outputId": "f1178ff5-521d-48f2-f00b-d622153be19a"
      },
      "outputs": [
        {
          "data": {
            "text/plain": [
              "count    61736.000000\n",
              "mean       128.283719\n",
              "std         64.939592\n",
              "min          1.000000\n",
              "25%         69.492102\n",
              "50%        125.000000\n",
              "75%        169.173813\n",
              "max        332.000000\n",
              "Name: 숙소_가격, dtype: float64"
            ]
          },
          "execution_count": 91,
          "metadata": {},
          "output_type": "execute_result"
        }
      ],
      "source": [
        "dat_clean['숙소_가격'].describe()\n"
      ]
    },
    {
      "cell_type": "code",
      "execution_count": 92,
      "metadata": {
        "colab": {
          "base_uri": "https://localhost:8080/"
        },
        "id": "XgPAHO1O7li-",
        "outputId": "fd852142-31b0-40ec-ad56-73ebeebde605"
      },
      "outputs": [
        {
          "data": {
            "text/plain": [
              "35860    1.0\n",
              "66713    9.0\n",
              "87652    8.0\n",
              "Name: 숙소_가격, dtype: float64"
            ]
          },
          "execution_count": 92,
          "metadata": {},
          "output_type": "execute_result"
        }
      ],
      "source": [
        "dat_clean[dat_clean['숙소_가격'] <  10.0]['숙소_가격']"
      ]
    },
    {
      "cell_type": "code",
      "execution_count": 93,
      "metadata": {
        "colab": {
          "base_uri": "https://localhost:8080/"
        },
        "id": "xhcmgNbI9ByZ",
        "outputId": "894f5f37-9bb9-4582-de29-96b0d10cda95"
      },
      "outputs": [
        {
          "name": "stdout",
          "output_type": "stream",
          "text": [
            "<class 'pandas.core.frame.DataFrame'>\n",
            "Index: 61736 entries, 0 to 90735\n",
            "Data columns (total 28 columns):\n",
            " #   Column       Non-Null Count  Dtype  \n",
            "---  ------       --------------  -----  \n",
            " 0   숙소_id        61736 non-null  int64  \n",
            " 1   숙소_url       61736 non-null  object \n",
            " 2   호스트_id       61736 non-null  int64  \n",
            " 3   숙소_특징        61736 non-null  object \n",
            " 4   슈퍼호스트        61736 non-null  object \n",
            " 5   숙소_수         61736 non-null  float64\n",
            " 6   숙소_지역        61736 non-null  object \n",
            " 7   위도           61736 non-null  float64\n",
            " 8   경도           61736 non-null  float64\n",
            " 9   숙소_유형        61736 non-null  object \n",
            " 10  수용인원수        61736 non-null  int64  \n",
            " 11  욕실수          39802 non-null  float64\n",
            " 12  침실수          54018 non-null  float64\n",
            " 13  침대수          39748 non-null  float64\n",
            " 14  어메니티         61736 non-null  object \n",
            " 15  숙소_가격        61736 non-null  float64\n",
            " 16  최소_숙박일       61736 non-null  int64  \n",
            " 17  최대_숙박일       61736 non-null  int64  \n",
            " 18  리뷰수          61736 non-null  int64  \n",
            " 19  30일_리뷰수      61736 non-null  int64  \n",
            " 20  리뷰점수         61736 non-null  float64\n",
            " 21  숙소_정확성_리뷰점수  61727 non-null  float64\n",
            " 22  숙소_청결도_리뷰점수  61732 non-null  float64\n",
            " 23  숙소_체크인_리뷰점수  61697 non-null  float64\n",
            " 24  숙소_소통_리뷰점수   61722 non-null  float64\n",
            " 25  숙소_위치_리뷰점수   61697 non-null  float64\n",
            " 26  숙소_가격_리뷰점수   61695 non-null  float64\n",
            " 27  평균_리뷰수       61736 non-null  float64\n",
            "dtypes: float64(15), int64(7), object(6)\n",
            "memory usage: 13.7+ MB\n"
          ]
        }
      ],
      "source": [
        "dat_clean.info()"
      ]
    },
    {
      "cell_type": "markdown",
      "metadata": {
        "id": "eIq-v-cQKHAF"
      },
      "source": [
        "<h3>Min-Max_Scaler 정규화 후 상관관계분석</h3>"
      ]
    },
    {
      "cell_type": "code",
      "execution_count": 94,
      "metadata": {
        "colab": {
          "base_uri": "https://localhost:8080/"
        },
        "id": "a28yc_lwKMCE",
        "outputId": "dbf14b21-369f-4a2f-ab0b-eafafb61bb28"
      },
      "outputs": [
        {
          "data": {
            "text/plain": [
              "(61736, 28)"
            ]
          },
          "execution_count": 94,
          "metadata": {},
          "output_type": "execute_result"
        }
      ],
      "source": [
        "dat_clean.shape #숙소가격 널값을 평균대치하고 이상치 제거한 데이터"
      ]
    },
    {
      "cell_type": "code",
      "execution_count": 95,
      "metadata": {
        "colab": {
          "base_uri": "https://localhost:8080/"
        },
        "id": "mpPedF-gKXiL",
        "outputId": "6dfe9ec1-fcbf-4b10-f14b-7f16e67db8c4"
      },
      "outputs": [
        {
          "data": {
            "text/plain": [
              "(65146, 28)"
            ]
          },
          "execution_count": 95,
          "metadata": {},
          "output_type": "execute_result"
        }
      ],
      "source": [
        "temp.shape #숙소가격 널값을 평균대치하고 이상치 처리 안한 데이터\n"
      ]
    },
    {
      "cell_type": "code",
      "execution_count": 96,
      "metadata": {
        "colab": {
          "base_uri": "https://localhost:8080/"
        },
        "id": "5TujOVBaKXdQ",
        "outputId": "de773bc5-650f-44b3-8fc5-cc5b74a793fd"
      },
      "outputs": [
        {
          "data": {
            "text/plain": [
              "(43181, 28)"
            ]
          },
          "execution_count": 96,
          "metadata": {},
          "output_type": "execute_result"
        }
      ],
      "source": [
        "df.shape #숙소가격 결측치 제거하고 이상치 처리 안한 데이터"
      ]
    },
    {
      "cell_type": "code",
      "execution_count": 97,
      "metadata": {
        "colab": {
          "base_uri": "https://localhost:8080/"
        },
        "id": "s-c1iqjKKXfn",
        "outputId": "168e7819-5cf8-420e-8453-096686d2a93e"
      },
      "outputs": [
        {
          "data": {
            "text/plain": [
              "(40686, 28)"
            ]
          },
          "execution_count": 97,
          "metadata": {},
          "output_type": "execute_result"
        }
      ],
      "source": [
        "df_clean.shape #숙소가격 결측치 제거하고 이상치 한 데이터"
      ]
    },
    {
      "cell_type": "markdown",
      "metadata": {
        "id": "JWEWsPNQGy4e"
      },
      "source": [
        "숙소가격을 평균대치하고 이상치 제거를 했을때 dat_clean"
      ]
    },
    {
      "cell_type": "code",
      "execution_count": 118,
      "metadata": {
        "id": "rlRKOHac9MZ6"
      },
      "outputs": [],
      "source": [
        "dat_scores = dat_clean[['숙소_가격','리뷰점수','숙소_정확성_리뷰점수', '숙소_청결도_리뷰점수',\n",
        "       '숙소_체크인_리뷰점수', '숙소_소통_리뷰점수', '숙소_위치_리뷰점수', '숙소_가격_리뷰점수', '평균_리뷰수']]"
      ]
    },
    {
      "cell_type": "code",
      "execution_count": 122,
      "metadata": {},
      "outputs": [
        {
          "data": {
            "text/html": [
              "<div>\n",
              "<style scoped>\n",
              "    .dataframe tbody tr th:only-of-type {\n",
              "        vertical-align: middle;\n",
              "    }\n",
              "\n",
              "    .dataframe tbody tr th {\n",
              "        vertical-align: top;\n",
              "    }\n",
              "\n",
              "    .dataframe thead th {\n",
              "        text-align: right;\n",
              "    }\n",
              "</style>\n",
              "<table border=\"1\" class=\"dataframe\">\n",
              "  <thead>\n",
              "    <tr style=\"text-align: right;\">\n",
              "      <th></th>\n",
              "      <th>숙소_가격</th>\n",
              "      <th>리뷰점수</th>\n",
              "      <th>숙소_정확성_리뷰점수</th>\n",
              "      <th>숙소_청결도_리뷰점수</th>\n",
              "      <th>숙소_체크인_리뷰점수</th>\n",
              "      <th>숙소_소통_리뷰점수</th>\n",
              "      <th>숙소_위치_리뷰점수</th>\n",
              "      <th>숙소_가격_리뷰점수</th>\n",
              "      <th>평균_리뷰수</th>\n",
              "    </tr>\n",
              "  </thead>\n",
              "  <tbody>\n",
              "    <tr>\n",
              "      <th>0</th>\n",
              "      <td>0.480363</td>\n",
              "      <td>0.992</td>\n",
              "      <td>0.994</td>\n",
              "      <td>0.986</td>\n",
              "      <td>0.992</td>\n",
              "      <td>1.000</td>\n",
              "      <td>0.978</td>\n",
              "      <td>0.986</td>\n",
              "      <td>0.026357</td>\n",
              "    </tr>\n",
              "    <tr>\n",
              "      <th>1</th>\n",
              "      <td>0.193353</td>\n",
              "      <td>0.960</td>\n",
              "      <td>0.946</td>\n",
              "      <td>0.946</td>\n",
              "      <td>0.950</td>\n",
              "      <td>0.966</td>\n",
              "      <td>0.940</td>\n",
              "      <td>0.940</td>\n",
              "      <td>0.007442</td>\n",
              "    </tr>\n",
              "    <tr>\n",
              "      <th>2</th>\n",
              "      <td>0.359517</td>\n",
              "      <td>0.960</td>\n",
              "      <td>0.970</td>\n",
              "      <td>0.976</td>\n",
              "      <td>0.976</td>\n",
              "      <td>0.966</td>\n",
              "      <td>0.986</td>\n",
              "      <td>0.948</td>\n",
              "      <td>0.016434</td>\n",
              "    </tr>\n",
              "    <tr>\n",
              "      <th>3</th>\n",
              "      <td>0.193353</td>\n",
              "      <td>0.944</td>\n",
              "      <td>0.958</td>\n",
              "      <td>0.932</td>\n",
              "      <td>0.950</td>\n",
              "      <td>0.978</td>\n",
              "      <td>0.868</td>\n",
              "      <td>0.932</td>\n",
              "      <td>0.018915</td>\n",
              "    </tr>\n",
              "    <tr>\n",
              "      <th>4</th>\n",
              "      <td>0.299094</td>\n",
              "      <td>0.948</td>\n",
              "      <td>0.976</td>\n",
              "      <td>0.958</td>\n",
              "      <td>0.988</td>\n",
              "      <td>0.992</td>\n",
              "      <td>0.974</td>\n",
              "      <td>0.942</td>\n",
              "      <td>0.048372</td>\n",
              "    </tr>\n",
              "    <tr>\n",
              "      <th>...</th>\n",
              "      <td>...</td>\n",
              "      <td>...</td>\n",
              "      <td>...</td>\n",
              "      <td>...</td>\n",
              "      <td>...</td>\n",
              "      <td>...</td>\n",
              "      <td>...</td>\n",
              "      <td>...</td>\n",
              "      <td>...</td>\n",
              "    </tr>\n",
              "    <tr>\n",
              "      <th>90451</th>\n",
              "      <td>0.135952</td>\n",
              "      <td>0.600</td>\n",
              "      <td>0.600</td>\n",
              "      <td>0.800</td>\n",
              "      <td>0.600</td>\n",
              "      <td>0.800</td>\n",
              "      <td>0.600</td>\n",
              "      <td>0.800</td>\n",
              "      <td>0.030698</td>\n",
              "    </tr>\n",
              "    <tr>\n",
              "      <th>90568</th>\n",
              "      <td>0.232628</td>\n",
              "      <td>1.000</td>\n",
              "      <td>1.000</td>\n",
              "      <td>1.000</td>\n",
              "      <td>1.000</td>\n",
              "      <td>1.000</td>\n",
              "      <td>1.000</td>\n",
              "      <td>1.000</td>\n",
              "      <td>0.030698</td>\n",
              "    </tr>\n",
              "    <tr>\n",
              "      <th>90590</th>\n",
              "      <td>0.407855</td>\n",
              "      <td>1.000</td>\n",
              "      <td>1.000</td>\n",
              "      <td>1.000</td>\n",
              "      <td>1.000</td>\n",
              "      <td>1.000</td>\n",
              "      <td>1.000</td>\n",
              "      <td>1.000</td>\n",
              "      <td>0.061705</td>\n",
              "    </tr>\n",
              "    <tr>\n",
              "      <th>90648</th>\n",
              "      <td>0.326284</td>\n",
              "      <td>1.000</td>\n",
              "      <td>1.000</td>\n",
              "      <td>1.000</td>\n",
              "      <td>1.000</td>\n",
              "      <td>1.000</td>\n",
              "      <td>1.000</td>\n",
              "      <td>1.000</td>\n",
              "      <td>0.030698</td>\n",
              "    </tr>\n",
              "    <tr>\n",
              "      <th>90735</th>\n",
              "      <td>0.120846</td>\n",
              "      <td>1.000</td>\n",
              "      <td>1.000</td>\n",
              "      <td>1.000</td>\n",
              "      <td>1.000</td>\n",
              "      <td>1.000</td>\n",
              "      <td>1.000</td>\n",
              "      <td>1.000</td>\n",
              "      <td>0.030698</td>\n",
              "    </tr>\n",
              "  </tbody>\n",
              "</table>\n",
              "<p>61736 rows × 9 columns</p>\n",
              "</div>"
            ],
            "text/plain": [
              "          숙소_가격   리뷰점수  숙소_정확성_리뷰점수  숙소_청결도_리뷰점수  숙소_체크인_리뷰점수  숙소_소통_리뷰점수  \\\n",
              "0      0.480363  0.992        0.994        0.986        0.992       1.000   \n",
              "1      0.193353  0.960        0.946        0.946        0.950       0.966   \n",
              "2      0.359517  0.960        0.970        0.976        0.976       0.966   \n",
              "3      0.193353  0.944        0.958        0.932        0.950       0.978   \n",
              "4      0.299094  0.948        0.976        0.958        0.988       0.992   \n",
              "...         ...    ...          ...          ...          ...         ...   \n",
              "90451  0.135952  0.600        0.600        0.800        0.600       0.800   \n",
              "90568  0.232628  1.000        1.000        1.000        1.000       1.000   \n",
              "90590  0.407855  1.000        1.000        1.000        1.000       1.000   \n",
              "90648  0.326284  1.000        1.000        1.000        1.000       1.000   \n",
              "90735  0.120846  1.000        1.000        1.000        1.000       1.000   \n",
              "\n",
              "       숙소_위치_리뷰점수  숙소_가격_리뷰점수    평균_리뷰수  \n",
              "0           0.978       0.986  0.026357  \n",
              "1           0.940       0.940  0.007442  \n",
              "2           0.986       0.948  0.016434  \n",
              "3           0.868       0.932  0.018915  \n",
              "4           0.974       0.942  0.048372  \n",
              "...           ...         ...       ...  \n",
              "90451       0.600       0.800  0.030698  \n",
              "90568       1.000       1.000  0.030698  \n",
              "90590       1.000       1.000  0.061705  \n",
              "90648       1.000       1.000  0.030698  \n",
              "90735       1.000       1.000  0.030698  \n",
              "\n",
              "[61736 rows x 9 columns]"
            ]
          },
          "execution_count": 122,
          "metadata": {},
          "output_type": "execute_result"
        }
      ],
      "source": [
        "min_val = dat_scores.min()\n",
        "max_val = dat_scores.max()\n",
        "\n",
        "scaled_data = ( dat_scores- min_val) / (max_val - min_val)\n",
        "dat_clean_price_score = scaled_data\n",
        "dat_clean_price_score"
      ]
    },
    {
      "cell_type": "code",
      "execution_count": 126,
      "metadata": {},
      "outputs": [
        {
          "name": "stderr",
          "output_type": "stream",
          "text": [
            "d:\\Anaconda\\Lib\\site-packages\\seaborn\\matrix.py:260: FutureWarning: Format strings passed to MaskedConstant are ignored, but in future may error or produce different behavior\n",
            "  annotation = (\"{:\" + self.fmt + \"}\").format(val)\n"
          ]
        },
        {
          "data": {
            "image/png": "[encoded data removed]",
            "text/plain": [
              "<Figure size 1000x800 with 2 Axes>"
            ]
          },
          "metadata": {},
          "output_type": "display_data"
        }
      ],
      "source": [
        "import numpy as np\n",
        "import seaborn as sns\n",
        "import matplotlib.pyplot as plt\n",
        "import pandas as pd\n",
        "# 데이터프레임의 상관관계 계산\n",
        "corr = dat_clean_price_score.corr()\n",
        "\n",
        "# 마스크 생성 (상단 삼각형)\n",
        "mask = np.triu(np.ones_like(corr, dtype=bool))\n",
        "\n",
        "# 히트맵 그리기\n",
        "plt.figure(figsize=(10, 8))  # 그래프의 크기 설정\n",
        "sns.heatmap(corr, annot=True, cmap='coolwarm', fmt=\".2f\", linewidths=.5, mask=mask)\n",
        "plt.title('숙소 가격 및 리뷰 점수 간의 상관계수 히트맵')  # 그래프 제목 설정\n",
        "plt.show()"
      ]
    },
    {
      "cell_type": "markdown",
      "metadata": {
        "id": "ox1i3EEOGq4f"
      },
      "source": [
        "숙소가격을 평균대치하고 이상치 처리를 안했을때 temp"
      ]
    },
    {
      "cell_type": "code",
      "execution_count": 104,
      "metadata": {
        "id": "IC3ZqQbM9l1V"
      },
      "outputs": [],
      "source": [
        "temp_scores = temp[['숙소_가격','리뷰점수','숙소_정확성_리뷰점수', '숙소_청결도_리뷰점수',\n",
        "       '숙소_체크인_리뷰점수', '숙소_소통_리뷰점수', '숙소_위치_리뷰점수', '숙소_가격_리뷰점수', '평균_리뷰수']]"
      ]
    },
    {
      "cell_type": "code",
      "execution_count": 123,
      "metadata": {},
      "outputs": [
        {
          "data": {
            "text/html": [
              "<div>\n",
              "<style scoped>\n",
              "    .dataframe tbody tr th:only-of-type {\n",
              "        vertical-align: middle;\n",
              "    }\n",
              "\n",
              "    .dataframe tbody tr th {\n",
              "        vertical-align: top;\n",
              "    }\n",
              "\n",
              "    .dataframe thead th {\n",
              "        text-align: right;\n",
              "    }\n",
              "</style>\n",
              "<table border=\"1\" class=\"dataframe\">\n",
              "  <thead>\n",
              "    <tr style=\"text-align: right;\">\n",
              "      <th></th>\n",
              "      <th>숙소_가격</th>\n",
              "      <th>리뷰점수</th>\n",
              "      <th>숙소_정확성_리뷰점수</th>\n",
              "      <th>숙소_청결도_리뷰점수</th>\n",
              "      <th>숙소_체크인_리뷰점수</th>\n",
              "      <th>숙소_소통_리뷰점수</th>\n",
              "      <th>숙소_위치_리뷰점수</th>\n",
              "      <th>숙소_가격_리뷰점수</th>\n",
              "      <th>평균_리뷰수</th>\n",
              "    </tr>\n",
              "  </thead>\n",
              "  <tbody>\n",
              "    <tr>\n",
              "      <th>0</th>\n",
              "      <td>0.002967</td>\n",
              "      <td>0.992</td>\n",
              "      <td>0.994</td>\n",
              "      <td>0.986</td>\n",
              "      <td>0.992</td>\n",
              "      <td>1.000</td>\n",
              "      <td>0.978</td>\n",
              "      <td>0.986</td>\n",
              "      <td>0.026357</td>\n",
              "    </tr>\n",
              "    <tr>\n",
              "      <th>1</th>\n",
              "      <td>0.001194</td>\n",
              "      <td>0.960</td>\n",
              "      <td>0.946</td>\n",
              "      <td>0.946</td>\n",
              "      <td>0.950</td>\n",
              "      <td>0.966</td>\n",
              "      <td>0.940</td>\n",
              "      <td>0.940</td>\n",
              "      <td>0.007442</td>\n",
              "    </tr>\n",
              "    <tr>\n",
              "      <th>2</th>\n",
              "      <td>0.002221</td>\n",
              "      <td>0.960</td>\n",
              "      <td>0.970</td>\n",
              "      <td>0.976</td>\n",
              "      <td>0.976</td>\n",
              "      <td>0.966</td>\n",
              "      <td>0.986</td>\n",
              "      <td>0.948</td>\n",
              "      <td>0.016434</td>\n",
              "    </tr>\n",
              "    <tr>\n",
              "      <th>3</th>\n",
              "      <td>0.001194</td>\n",
              "      <td>0.944</td>\n",
              "      <td>0.958</td>\n",
              "      <td>0.932</td>\n",
              "      <td>0.950</td>\n",
              "      <td>0.978</td>\n",
              "      <td>0.868</td>\n",
              "      <td>0.932</td>\n",
              "      <td>0.018915</td>\n",
              "    </tr>\n",
              "    <tr>\n",
              "      <th>4</th>\n",
              "      <td>0.001847</td>\n",
              "      <td>0.948</td>\n",
              "      <td>0.976</td>\n",
              "      <td>0.958</td>\n",
              "      <td>0.988</td>\n",
              "      <td>0.992</td>\n",
              "      <td>0.974</td>\n",
              "      <td>0.942</td>\n",
              "      <td>0.048372</td>\n",
              "    </tr>\n",
              "    <tr>\n",
              "      <th>...</th>\n",
              "      <td>...</td>\n",
              "      <td>...</td>\n",
              "      <td>...</td>\n",
              "      <td>...</td>\n",
              "      <td>...</td>\n",
              "      <td>...</td>\n",
              "      <td>...</td>\n",
              "      <td>...</td>\n",
              "      <td>...</td>\n",
              "    </tr>\n",
              "    <tr>\n",
              "      <th>90451</th>\n",
              "      <td>0.000840</td>\n",
              "      <td>0.600</td>\n",
              "      <td>0.600</td>\n",
              "      <td>0.800</td>\n",
              "      <td>0.600</td>\n",
              "      <td>0.800</td>\n",
              "      <td>0.600</td>\n",
              "      <td>0.800</td>\n",
              "      <td>0.030698</td>\n",
              "    </tr>\n",
              "    <tr>\n",
              "      <th>90568</th>\n",
              "      <td>0.001437</td>\n",
              "      <td>1.000</td>\n",
              "      <td>1.000</td>\n",
              "      <td>1.000</td>\n",
              "      <td>1.000</td>\n",
              "      <td>1.000</td>\n",
              "      <td>1.000</td>\n",
              "      <td>1.000</td>\n",
              "      <td>0.030698</td>\n",
              "    </tr>\n",
              "    <tr>\n",
              "      <th>90590</th>\n",
              "      <td>0.002519</td>\n",
              "      <td>1.000</td>\n",
              "      <td>1.000</td>\n",
              "      <td>1.000</td>\n",
              "      <td>1.000</td>\n",
              "      <td>1.000</td>\n",
              "      <td>1.000</td>\n",
              "      <td>1.000</td>\n",
              "      <td>0.061705</td>\n",
              "    </tr>\n",
              "    <tr>\n",
              "      <th>90648</th>\n",
              "      <td>0.002015</td>\n",
              "      <td>1.000</td>\n",
              "      <td>1.000</td>\n",
              "      <td>1.000</td>\n",
              "      <td>1.000</td>\n",
              "      <td>1.000</td>\n",
              "      <td>1.000</td>\n",
              "      <td>1.000</td>\n",
              "      <td>0.030698</td>\n",
              "    </tr>\n",
              "    <tr>\n",
              "      <th>90735</th>\n",
              "      <td>0.000746</td>\n",
              "      <td>1.000</td>\n",
              "      <td>1.000</td>\n",
              "      <td>1.000</td>\n",
              "      <td>1.000</td>\n",
              "      <td>1.000</td>\n",
              "      <td>1.000</td>\n",
              "      <td>1.000</td>\n",
              "      <td>0.030698</td>\n",
              "    </tr>\n",
              "  </tbody>\n",
              "</table>\n",
              "<p>65146 rows × 9 columns</p>\n",
              "</div>"
            ],
            "text/plain": [
              "          숙소_가격   리뷰점수  숙소_정확성_리뷰점수  숙소_청결도_리뷰점수  숙소_체크인_리뷰점수  숙소_소통_리뷰점수  \\\n",
              "0      0.002967  0.992        0.994        0.986        0.992       1.000   \n",
              "1      0.001194  0.960        0.946        0.946        0.950       0.966   \n",
              "2      0.002221  0.960        0.970        0.976        0.976       0.966   \n",
              "3      0.001194  0.944        0.958        0.932        0.950       0.978   \n",
              "4      0.001847  0.948        0.976        0.958        0.988       0.992   \n",
              "...         ...    ...          ...          ...          ...         ...   \n",
              "90451  0.000840  0.600        0.600        0.800        0.600       0.800   \n",
              "90568  0.001437  1.000        1.000        1.000        1.000       1.000   \n",
              "90590  0.002519  1.000        1.000        1.000        1.000       1.000   \n",
              "90648  0.002015  1.000        1.000        1.000        1.000       1.000   \n",
              "90735  0.000746  1.000        1.000        1.000        1.000       1.000   \n",
              "\n",
              "       숙소_위치_리뷰점수  숙소_가격_리뷰점수    평균_리뷰수  \n",
              "0           0.978       0.986  0.026357  \n",
              "1           0.940       0.940  0.007442  \n",
              "2           0.986       0.948  0.016434  \n",
              "3           0.868       0.932  0.018915  \n",
              "4           0.974       0.942  0.048372  \n",
              "...           ...         ...       ...  \n",
              "90451       0.600       0.800  0.030698  \n",
              "90568       1.000       1.000  0.030698  \n",
              "90590       1.000       1.000  0.061705  \n",
              "90648       1.000       1.000  0.030698  \n",
              "90735       1.000       1.000  0.030698  \n",
              "\n",
              "[65146 rows x 9 columns]"
            ]
          },
          "execution_count": 123,
          "metadata": {},
          "output_type": "execute_result"
        }
      ],
      "source": [
        "min_val = temp_scores.min()\n",
        "max_val = temp_scores.max()\n",
        "\n",
        "scaled_data = ( temp_scores- min_val) / (max_val - min_val)\n",
        "temp_price_score = scaled_data\n",
        "temp_price_score"
      ]
    },
    {
      "cell_type": "code",
      "execution_count": 125,
      "metadata": {},
      "outputs": [
        {
          "name": "stderr",
          "output_type": "stream",
          "text": [
            "d:\\Anaconda\\Lib\\site-packages\\seaborn\\matrix.py:260: FutureWarning: Format strings passed to MaskedConstant are ignored, but in future may error or produce different behavior\n",
            "  annotation = (\"{:\" + self.fmt + \"}\").format(val)\n"
          ]
        },
        {
          "data": {
            "image/png": "[encoded data removed]",
            "text/plain": [
              "<Figure size 1000x800 with 2 Axes>"
            ]
          },
          "metadata": {},
          "output_type": "display_data"
        }
      ],
      "source": [
        "import numpy as np\n",
        "import seaborn as sns\n",
        "import matplotlib.pyplot as plt\n",
        "import pandas as pd\n",
        "# 데이터프레임의 상관관계 계산\n",
        "corr = temp_price_score.corr()\n",
        "\n",
        "# 마스크 생성 (상단 삼각형)\n",
        "mask = np.triu(np.ones_like(corr, dtype=bool))\n",
        "\n",
        "# 히트맵 그리기\n",
        "plt.figure(figsize=(10, 8))  # 그래프의 크기 설정\n",
        "sns.heatmap(corr, annot=True, cmap='coolwarm', fmt=\".2f\", linewidths=.5, mask=mask)\n",
        "plt.title('숙소 가격 및 리뷰 점수 간의 상관계수 히트맵')  # 그래프 제목 설정\n",
        "plt.show()"
      ]
    },
    {
      "cell_type": "markdown",
      "metadata": {
        "id": "NevfLeVaHF5h"
      },
      "source": [
        "숙소 널값 제거하고 이상치 안했을때 df"
      ]
    },
    {
      "cell_type": "code",
      "execution_count": 107,
      "metadata": {
        "id": "nl2hVgcP9lu_"
      },
      "outputs": [],
      "source": [
        "df_scores = df[['숙소_가격','리뷰점수','숙소_정확성_리뷰점수', '숙소_청결도_리뷰점수',\n",
        "       '숙소_체크인_리뷰점수', '숙소_소통_리뷰점수', '숙소_위치_리뷰점수', '숙소_가격_리뷰점수', '평균_리뷰수']]"
      ]
    },
    {
      "cell_type": "code",
      "execution_count": 124,
      "metadata": {},
      "outputs": [
        {
          "data": {
            "text/html": [
              "<div>\n",
              "<style scoped>\n",
              "    .dataframe tbody tr th:only-of-type {\n",
              "        vertical-align: middle;\n",
              "    }\n",
              "\n",
              "    .dataframe tbody tr th {\n",
              "        vertical-align: top;\n",
              "    }\n",
              "\n",
              "    .dataframe thead th {\n",
              "        text-align: right;\n",
              "    }\n",
              "</style>\n",
              "<table border=\"1\" class=\"dataframe\">\n",
              "  <thead>\n",
              "    <tr style=\"text-align: right;\">\n",
              "      <th></th>\n",
              "      <th>숙소_가격</th>\n",
              "      <th>리뷰점수</th>\n",
              "      <th>숙소_정확성_리뷰점수</th>\n",
              "      <th>숙소_청결도_리뷰점수</th>\n",
              "      <th>숙소_체크인_리뷰점수</th>\n",
              "      <th>숙소_소통_리뷰점수</th>\n",
              "      <th>숙소_위치_리뷰점수</th>\n",
              "      <th>숙소_가격_리뷰점수</th>\n",
              "      <th>평균_리뷰수</th>\n",
              "    </tr>\n",
              "  </thead>\n",
              "  <tbody>\n",
              "    <tr>\n",
              "      <th>0</th>\n",
              "      <td>0.002967</td>\n",
              "      <td>0.990</td>\n",
              "      <td>0.9925</td>\n",
              "      <td>0.9825</td>\n",
              "      <td>0.9900</td>\n",
              "      <td>1.0000</td>\n",
              "      <td>0.9725</td>\n",
              "      <td>0.9825</td>\n",
              "      <td>0.026357</td>\n",
              "    </tr>\n",
              "    <tr>\n",
              "      <th>1</th>\n",
              "      <td>0.001194</td>\n",
              "      <td>0.950</td>\n",
              "      <td>0.9325</td>\n",
              "      <td>0.9325</td>\n",
              "      <td>0.9375</td>\n",
              "      <td>0.9575</td>\n",
              "      <td>0.9250</td>\n",
              "      <td>0.9250</td>\n",
              "      <td>0.007442</td>\n",
              "    </tr>\n",
              "    <tr>\n",
              "      <th>2</th>\n",
              "      <td>0.002221</td>\n",
              "      <td>0.950</td>\n",
              "      <td>0.9625</td>\n",
              "      <td>0.9700</td>\n",
              "      <td>0.9700</td>\n",
              "      <td>0.9575</td>\n",
              "      <td>0.9825</td>\n",
              "      <td>0.9350</td>\n",
              "      <td>0.016434</td>\n",
              "    </tr>\n",
              "    <tr>\n",
              "      <th>3</th>\n",
              "      <td>0.001194</td>\n",
              "      <td>0.930</td>\n",
              "      <td>0.9475</td>\n",
              "      <td>0.9150</td>\n",
              "      <td>0.9375</td>\n",
              "      <td>0.9725</td>\n",
              "      <td>0.8350</td>\n",
              "      <td>0.9150</td>\n",
              "      <td>0.018915</td>\n",
              "    </tr>\n",
              "    <tr>\n",
              "      <th>4</th>\n",
              "      <td>0.001847</td>\n",
              "      <td>0.935</td>\n",
              "      <td>0.9700</td>\n",
              "      <td>0.9475</td>\n",
              "      <td>0.9850</td>\n",
              "      <td>0.9900</td>\n",
              "      <td>0.9675</td>\n",
              "      <td>0.9275</td>\n",
              "      <td>0.048372</td>\n",
              "    </tr>\n",
              "    <tr>\n",
              "      <th>...</th>\n",
              "      <td>...</td>\n",
              "      <td>...</td>\n",
              "      <td>...</td>\n",
              "      <td>...</td>\n",
              "      <td>...</td>\n",
              "      <td>...</td>\n",
              "      <td>...</td>\n",
              "      <td>...</td>\n",
              "      <td>...</td>\n",
              "    </tr>\n",
              "    <tr>\n",
              "      <th>90451</th>\n",
              "      <td>0.000840</td>\n",
              "      <td>0.500</td>\n",
              "      <td>0.5000</td>\n",
              "      <td>0.7500</td>\n",
              "      <td>0.5000</td>\n",
              "      <td>0.7500</td>\n",
              "      <td>0.5000</td>\n",
              "      <td>0.7500</td>\n",
              "      <td>0.030698</td>\n",
              "    </tr>\n",
              "    <tr>\n",
              "      <th>90568</th>\n",
              "      <td>0.001437</td>\n",
              "      <td>1.000</td>\n",
              "      <td>1.0000</td>\n",
              "      <td>1.0000</td>\n",
              "      <td>1.0000</td>\n",
              "      <td>1.0000</td>\n",
              "      <td>1.0000</td>\n",
              "      <td>1.0000</td>\n",
              "      <td>0.030698</td>\n",
              "    </tr>\n",
              "    <tr>\n",
              "      <th>90590</th>\n",
              "      <td>0.002519</td>\n",
              "      <td>1.000</td>\n",
              "      <td>1.0000</td>\n",
              "      <td>1.0000</td>\n",
              "      <td>1.0000</td>\n",
              "      <td>1.0000</td>\n",
              "      <td>1.0000</td>\n",
              "      <td>1.0000</td>\n",
              "      <td>0.061705</td>\n",
              "    </tr>\n",
              "    <tr>\n",
              "      <th>90648</th>\n",
              "      <td>0.002015</td>\n",
              "      <td>1.000</td>\n",
              "      <td>1.0000</td>\n",
              "      <td>1.0000</td>\n",
              "      <td>1.0000</td>\n",
              "      <td>1.0000</td>\n",
              "      <td>1.0000</td>\n",
              "      <td>1.0000</td>\n",
              "      <td>0.030698</td>\n",
              "    </tr>\n",
              "    <tr>\n",
              "      <th>90735</th>\n",
              "      <td>0.000746</td>\n",
              "      <td>1.000</td>\n",
              "      <td>1.0000</td>\n",
              "      <td>1.0000</td>\n",
              "      <td>1.0000</td>\n",
              "      <td>1.0000</td>\n",
              "      <td>1.0000</td>\n",
              "      <td>1.0000</td>\n",
              "      <td>0.030698</td>\n",
              "    </tr>\n",
              "  </tbody>\n",
              "</table>\n",
              "<p>43181 rows × 9 columns</p>\n",
              "</div>"
            ],
            "text/plain": [
              "          숙소_가격   리뷰점수  숙소_정확성_리뷰점수  숙소_청결도_리뷰점수  숙소_체크인_리뷰점수  숙소_소통_리뷰점수  \\\n",
              "0      0.002967  0.990       0.9925       0.9825       0.9900      1.0000   \n",
              "1      0.001194  0.950       0.9325       0.9325       0.9375      0.9575   \n",
              "2      0.002221  0.950       0.9625       0.9700       0.9700      0.9575   \n",
              "3      0.001194  0.930       0.9475       0.9150       0.9375      0.9725   \n",
              "4      0.001847  0.935       0.9700       0.9475       0.9850      0.9900   \n",
              "...         ...    ...          ...          ...          ...         ...   \n",
              "90451  0.000840  0.500       0.5000       0.7500       0.5000      0.7500   \n",
              "90568  0.001437  1.000       1.0000       1.0000       1.0000      1.0000   \n",
              "90590  0.002519  1.000       1.0000       1.0000       1.0000      1.0000   \n",
              "90648  0.002015  1.000       1.0000       1.0000       1.0000      1.0000   \n",
              "90735  0.000746  1.000       1.0000       1.0000       1.0000      1.0000   \n",
              "\n",
              "       숙소_위치_리뷰점수  숙소_가격_리뷰점수    평균_리뷰수  \n",
              "0          0.9725      0.9825  0.026357  \n",
              "1          0.9250      0.9250  0.007442  \n",
              "2          0.9825      0.9350  0.016434  \n",
              "3          0.8350      0.9150  0.018915  \n",
              "4          0.9675      0.9275  0.048372  \n",
              "...           ...         ...       ...  \n",
              "90451      0.5000      0.7500  0.030698  \n",
              "90568      1.0000      1.0000  0.030698  \n",
              "90590      1.0000      1.0000  0.061705  \n",
              "90648      1.0000      1.0000  0.030698  \n",
              "90735      1.0000      1.0000  0.030698  \n",
              "\n",
              "[43181 rows x 9 columns]"
            ]
          },
          "execution_count": 124,
          "metadata": {},
          "output_type": "execute_result"
        }
      ],
      "source": [
        "min_val = df_scores.min()\n",
        "max_val = df_scores.max()\n",
        "\n",
        "scaled_data = ( df_scores- min_val) / (max_val - min_val)\n",
        "df_price_score = scaled_data\n",
        "df_price_score"
      ]
    },
    {
      "cell_type": "code",
      "execution_count": 127,
      "metadata": {},
      "outputs": [
        {
          "name": "stderr",
          "output_type": "stream",
          "text": [
            "d:\\Anaconda\\Lib\\site-packages\\seaborn\\matrix.py:260: FutureWarning: Format strings passed to MaskedConstant are ignored, but in future may error or produce different behavior\n",
            "  annotation = (\"{:\" + self.fmt + \"}\").format(val)\n"
          ]
        },
        {
          "data": {
            "image/png": "[encoded data removed]",
            "text/plain": [
              "<Figure size 1000x800 with 2 Axes>"
            ]
          },
          "metadata": {},
          "output_type": "display_data"
        }
      ],
      "source": [
        "import numpy as np\n",
        "import seaborn as sns\n",
        "import matplotlib.pyplot as plt\n",
        "import pandas as pd\n",
        "# 데이터프레임의 상관관계 계산\n",
        "corr = df_price_score.corr()\n",
        "\n",
        "# 마스크 생성 (상단 삼각형)\n",
        "mask = np.triu(np.ones_like(corr, dtype=bool))\n",
        "\n",
        "# 히트맵 그리기\n",
        "plt.figure(figsize=(10, 8))  # 그래프의 크기 설정\n",
        "sns.heatmap(corr, annot=True, cmap='coolwarm', fmt=\".2f\", linewidths=.5, mask=mask)\n",
        "plt.title('숙소 가격 및 리뷰 점수 간의 상관계수 히트맵')  # 그래프 제목 설정\n",
        "plt.show()"
      ]
    },
    {
      "cell_type": "markdown",
      "metadata": {
        "id": "L__aNrpMIHEh"
      },
      "source": [
        "숙소가격 널값 제거하고 이상치도 제거한 데이터 df_clean"
      ]
    },
    {
      "cell_type": "code",
      "execution_count": 109,
      "metadata": {
        "id": "hGmf07QxH6Of"
      },
      "outputs": [],
      "source": [
        "df_clean_scores = df_clean[['숙소_가격','리뷰점수','숙소_정확성_리뷰점수', '숙소_청결도_리뷰점수',\n",
        "       '숙소_체크인_리뷰점수', '숙소_소통_리뷰점수', '숙소_위치_리뷰점수', '숙소_가격_리뷰점수', '평균_리뷰수']]"
      ]
    },
    {
      "cell_type": "code",
      "execution_count": 117,
      "metadata": {},
      "outputs": [
        {
          "data": {
            "text/html": [
              "<div>\n",
              "<style scoped>\n",
              "    .dataframe tbody tr th:only-of-type {\n",
              "        vertical-align: middle;\n",
              "    }\n",
              "\n",
              "    .dataframe tbody tr th {\n",
              "        vertical-align: top;\n",
              "    }\n",
              "\n",
              "    .dataframe thead th {\n",
              "        text-align: right;\n",
              "    }\n",
              "</style>\n",
              "<table border=\"1\" class=\"dataframe\">\n",
              "  <thead>\n",
              "    <tr style=\"text-align: right;\">\n",
              "      <th></th>\n",
              "      <th>숙소_가격</th>\n",
              "      <th>리뷰점수</th>\n",
              "      <th>숙소_정확성_리뷰점수</th>\n",
              "      <th>숙소_청결도_리뷰점수</th>\n",
              "      <th>숙소_체크인_리뷰점수</th>\n",
              "      <th>숙소_소통_리뷰점수</th>\n",
              "      <th>숙소_위치_리뷰점수</th>\n",
              "      <th>숙소_가격_리뷰점수</th>\n",
              "      <th>평균_리뷰수</th>\n",
              "    </tr>\n",
              "  </thead>\n",
              "  <tbody>\n",
              "    <tr>\n",
              "      <th>0</th>\n",
              "      <td>0.418421</td>\n",
              "      <td>0.990</td>\n",
              "      <td>0.9925</td>\n",
              "      <td>0.9825</td>\n",
              "      <td>0.9900</td>\n",
              "      <td>1.0000</td>\n",
              "      <td>0.9725</td>\n",
              "      <td>0.9825</td>\n",
              "      <td>0.026357</td>\n",
              "    </tr>\n",
              "    <tr>\n",
              "      <th>1</th>\n",
              "      <td>0.168421</td>\n",
              "      <td>0.950</td>\n",
              "      <td>0.9325</td>\n",
              "      <td>0.9325</td>\n",
              "      <td>0.9375</td>\n",
              "      <td>0.9575</td>\n",
              "      <td>0.9250</td>\n",
              "      <td>0.9250</td>\n",
              "      <td>0.007442</td>\n",
              "    </tr>\n",
              "    <tr>\n",
              "      <th>2</th>\n",
              "      <td>0.313158</td>\n",
              "      <td>0.950</td>\n",
              "      <td>0.9625</td>\n",
              "      <td>0.9700</td>\n",
              "      <td>0.9700</td>\n",
              "      <td>0.9575</td>\n",
              "      <td>0.9825</td>\n",
              "      <td>0.9350</td>\n",
              "      <td>0.016434</td>\n",
              "    </tr>\n",
              "    <tr>\n",
              "      <th>3</th>\n",
              "      <td>0.168421</td>\n",
              "      <td>0.930</td>\n",
              "      <td>0.9475</td>\n",
              "      <td>0.9150</td>\n",
              "      <td>0.9375</td>\n",
              "      <td>0.9725</td>\n",
              "      <td>0.8350</td>\n",
              "      <td>0.9150</td>\n",
              "      <td>0.018915</td>\n",
              "    </tr>\n",
              "    <tr>\n",
              "      <th>4</th>\n",
              "      <td>0.260526</td>\n",
              "      <td>0.935</td>\n",
              "      <td>0.9700</td>\n",
              "      <td>0.9475</td>\n",
              "      <td>0.9850</td>\n",
              "      <td>0.9900</td>\n",
              "      <td>0.9675</td>\n",
              "      <td>0.9275</td>\n",
              "      <td>0.048372</td>\n",
              "    </tr>\n",
              "    <tr>\n",
              "      <th>...</th>\n",
              "      <td>...</td>\n",
              "      <td>...</td>\n",
              "      <td>...</td>\n",
              "      <td>...</td>\n",
              "      <td>...</td>\n",
              "      <td>...</td>\n",
              "      <td>...</td>\n",
              "      <td>...</td>\n",
              "      <td>...</td>\n",
              "    </tr>\n",
              "    <tr>\n",
              "      <th>90451</th>\n",
              "      <td>0.118421</td>\n",
              "      <td>0.500</td>\n",
              "      <td>0.5000</td>\n",
              "      <td>0.7500</td>\n",
              "      <td>0.5000</td>\n",
              "      <td>0.7500</td>\n",
              "      <td>0.5000</td>\n",
              "      <td>0.7500</td>\n",
              "      <td>0.030698</td>\n",
              "    </tr>\n",
              "    <tr>\n",
              "      <th>90568</th>\n",
              "      <td>0.202632</td>\n",
              "      <td>1.000</td>\n",
              "      <td>1.0000</td>\n",
              "      <td>1.0000</td>\n",
              "      <td>1.0000</td>\n",
              "      <td>1.0000</td>\n",
              "      <td>1.0000</td>\n",
              "      <td>1.0000</td>\n",
              "      <td>0.030698</td>\n",
              "    </tr>\n",
              "    <tr>\n",
              "      <th>90590</th>\n",
              "      <td>0.355263</td>\n",
              "      <td>1.000</td>\n",
              "      <td>1.0000</td>\n",
              "      <td>1.0000</td>\n",
              "      <td>1.0000</td>\n",
              "      <td>1.0000</td>\n",
              "      <td>1.0000</td>\n",
              "      <td>1.0000</td>\n",
              "      <td>0.061705</td>\n",
              "    </tr>\n",
              "    <tr>\n",
              "      <th>90648</th>\n",
              "      <td>0.284211</td>\n",
              "      <td>1.000</td>\n",
              "      <td>1.0000</td>\n",
              "      <td>1.0000</td>\n",
              "      <td>1.0000</td>\n",
              "      <td>1.0000</td>\n",
              "      <td>1.0000</td>\n",
              "      <td>1.0000</td>\n",
              "      <td>0.030698</td>\n",
              "    </tr>\n",
              "    <tr>\n",
              "      <th>90735</th>\n",
              "      <td>0.105263</td>\n",
              "      <td>1.000</td>\n",
              "      <td>1.0000</td>\n",
              "      <td>1.0000</td>\n",
              "      <td>1.0000</td>\n",
              "      <td>1.0000</td>\n",
              "      <td>1.0000</td>\n",
              "      <td>1.0000</td>\n",
              "      <td>0.030698</td>\n",
              "    </tr>\n",
              "  </tbody>\n",
              "</table>\n",
              "<p>40686 rows × 9 columns</p>\n",
              "</div>"
            ],
            "text/plain": [
              "          숙소_가격   리뷰점수  숙소_정확성_리뷰점수  숙소_청결도_리뷰점수  숙소_체크인_리뷰점수  숙소_소통_리뷰점수  \\\n",
              "0      0.418421  0.990       0.9925       0.9825       0.9900      1.0000   \n",
              "1      0.168421  0.950       0.9325       0.9325       0.9375      0.9575   \n",
              "2      0.313158  0.950       0.9625       0.9700       0.9700      0.9575   \n",
              "3      0.168421  0.930       0.9475       0.9150       0.9375      0.9725   \n",
              "4      0.260526  0.935       0.9700       0.9475       0.9850      0.9900   \n",
              "...         ...    ...          ...          ...          ...         ...   \n",
              "90451  0.118421  0.500       0.5000       0.7500       0.5000      0.7500   \n",
              "90568  0.202632  1.000       1.0000       1.0000       1.0000      1.0000   \n",
              "90590  0.355263  1.000       1.0000       1.0000       1.0000      1.0000   \n",
              "90648  0.284211  1.000       1.0000       1.0000       1.0000      1.0000   \n",
              "90735  0.105263  1.000       1.0000       1.0000       1.0000      1.0000   \n",
              "\n",
              "       숙소_위치_리뷰점수  숙소_가격_리뷰점수    평균_리뷰수  \n",
              "0          0.9725      0.9825  0.026357  \n",
              "1          0.9250      0.9250  0.007442  \n",
              "2          0.9825      0.9350  0.016434  \n",
              "3          0.8350      0.9150  0.018915  \n",
              "4          0.9675      0.9275  0.048372  \n",
              "...           ...         ...       ...  \n",
              "90451      0.5000      0.7500  0.030698  \n",
              "90568      1.0000      1.0000  0.030698  \n",
              "90590      1.0000      1.0000  0.061705  \n",
              "90648      1.0000      1.0000  0.030698  \n",
              "90735      1.0000      1.0000  0.030698  \n",
              "\n",
              "[40686 rows x 9 columns]"
            ]
          },
          "execution_count": 117,
          "metadata": {},
          "output_type": "execute_result"
        }
      ],
      "source": [
        "min_val = df_clean_scores.min()\n",
        "max_val = df_clean_scores.max()\n",
        "\n",
        "scaled_data = ( df_clean_scores- min_val) / (max_val - min_val)\n",
        "df_clean_price_score = scaled_data\n",
        "df_clean_price_score"
      ]
    },
    {
      "cell_type": "code",
      "execution_count": 128,
      "metadata": {},
      "outputs": [
        {
          "name": "stderr",
          "output_type": "stream",
          "text": [
            "d:\\Anaconda\\Lib\\site-packages\\seaborn\\matrix.py:260: FutureWarning: Format strings passed to MaskedConstant are ignored, but in future may error or produce different behavior\n",
            "  annotation = (\"{:\" + self.fmt + \"}\").format(val)\n"
          ]
        },
        {
          "data": {
            "image/png": "[encoded data removed]",
            "text/plain": [
              "<Figure size 1000x800 with 2 Axes>"
            ]
          },
          "metadata": {},
          "output_type": "display_data"
        }
      ],
      "source": [
        "import numpy as np\n",
        "import seaborn as sns\n",
        "import matplotlib.pyplot as plt\n",
        "import pandas as pd\n",
        "# 데이터프레임의 상관관계 계산\n",
        "corr = df_clean_price_score.corr()\n",
        "\n",
        "# 마스크 생성 (상단 삼각형)\n",
        "mask = np.triu(np.ones_like(corr, dtype=bool))\n",
        "\n",
        "# 히트맵 그리기\n",
        "plt.figure(figsize=(10, 8))  # 그래프의 크기 설정\n",
        "sns.heatmap(corr, annot=True, cmap='coolwarm', fmt=\".2f\", linewidths=.5, mask=mask)\n",
        "plt.title('숙소 가격 및 리뷰 점수 간의 상관계수 히트맵')  # 그래프 제목 설정\n",
        "plt.show()"
      ]
    },
    {
      "cell_type": "markdown",
      "metadata": {
        "id": "MlbnzUzKLP5n"
      },
      "source": [
        "침대수, 침실수, 욕실수 상관관계 보자"
      ]
    },
    {
      "cell_type": "code",
      "execution_count": 111,
      "metadata": {
        "id": "KUsMuFsBKwx4"
      },
      "outputs": [],
      "source": [
        "dat_clean_bed = dat_clean[['숙소_가격','침실수','침대수','욕실수']]\n",
        "temp_bed = temp[['숙소_가격','침실수','침대수','욕실수']]\n",
        "df_bed = df[['숙소_가격','침실수','침대수','욕실수']]\n",
        "df_clean_bed = df_clean[['숙소_가격','침실수','침대수','욕실수']]\n"
      ]
    },
    {
      "cell_type": "markdown",
      "metadata": {
        "id": "LVn_XIB7LvbT"
      },
      "source": [
        "숙소가격을 평균대치하고 이상치 제거한 데이터 dat_clean"
      ]
    },
    {
      "cell_type": "code",
      "execution_count": 129,
      "metadata": {},
      "outputs": [
        {
          "data": {
            "text/html": [
              "<div>\n",
              "<style scoped>\n",
              "    .dataframe tbody tr th:only-of-type {\n",
              "        vertical-align: middle;\n",
              "    }\n",
              "\n",
              "    .dataframe tbody tr th {\n",
              "        vertical-align: top;\n",
              "    }\n",
              "\n",
              "    .dataframe thead th {\n",
              "        text-align: right;\n",
              "    }\n",
              "</style>\n",
              "<table border=\"1\" class=\"dataframe\">\n",
              "  <thead>\n",
              "    <tr style=\"text-align: right;\">\n",
              "      <th></th>\n",
              "      <th>숙소_가격</th>\n",
              "      <th>침실수</th>\n",
              "      <th>침대수</th>\n",
              "      <th>욕실수</th>\n",
              "    </tr>\n",
              "  </thead>\n",
              "  <tbody>\n",
              "    <tr>\n",
              "      <th>0</th>\n",
              "      <td>0.480363</td>\n",
              "      <td>0.066667</td>\n",
              "      <td>0.071429</td>\n",
              "      <td>0.083333</td>\n",
              "    </tr>\n",
              "    <tr>\n",
              "      <th>1</th>\n",
              "      <td>0.193353</td>\n",
              "      <td>0.066667</td>\n",
              "      <td>0.071429</td>\n",
              "      <td>0.083333</td>\n",
              "    </tr>\n",
              "    <tr>\n",
              "      <th>2</th>\n",
              "      <td>0.359517</td>\n",
              "      <td>0.066667</td>\n",
              "      <td>0.071429</td>\n",
              "      <td>0.083333</td>\n",
              "    </tr>\n",
              "    <tr>\n",
              "      <th>3</th>\n",
              "      <td>0.193353</td>\n",
              "      <td>0.066667</td>\n",
              "      <td>0.071429</td>\n",
              "      <td>0.083333</td>\n",
              "    </tr>\n",
              "    <tr>\n",
              "      <th>4</th>\n",
              "      <td>0.299094</td>\n",
              "      <td>0.066667</td>\n",
              "      <td>0.071429</td>\n",
              "      <td>0.083333</td>\n",
              "    </tr>\n",
              "    <tr>\n",
              "      <th>...</th>\n",
              "      <td>...</td>\n",
              "      <td>...</td>\n",
              "      <td>...</td>\n",
              "      <td>...</td>\n",
              "    </tr>\n",
              "    <tr>\n",
              "      <th>90451</th>\n",
              "      <td>0.135952</td>\n",
              "      <td>0.066667</td>\n",
              "      <td>0.071429</td>\n",
              "      <td>0.083333</td>\n",
              "    </tr>\n",
              "    <tr>\n",
              "      <th>90568</th>\n",
              "      <td>0.232628</td>\n",
              "      <td>0.066667</td>\n",
              "      <td>0.142857</td>\n",
              "      <td>0.166667</td>\n",
              "    </tr>\n",
              "    <tr>\n",
              "      <th>90590</th>\n",
              "      <td>0.407855</td>\n",
              "      <td>0.133333</td>\n",
              "      <td>0.214286</td>\n",
              "      <td>0.083333</td>\n",
              "    </tr>\n",
              "    <tr>\n",
              "      <th>90648</th>\n",
              "      <td>0.326284</td>\n",
              "      <td>0.066667</td>\n",
              "      <td>0.000000</td>\n",
              "      <td>0.083333</td>\n",
              "    </tr>\n",
              "    <tr>\n",
              "      <th>90735</th>\n",
              "      <td>0.120846</td>\n",
              "      <td>0.066667</td>\n",
              "      <td>0.071429</td>\n",
              "      <td>0.083333</td>\n",
              "    </tr>\n",
              "  </tbody>\n",
              "</table>\n",
              "<p>61736 rows × 4 columns</p>\n",
              "</div>"
            ],
            "text/plain": [
              "          숙소_가격       침실수       침대수       욕실수\n",
              "0      0.480363  0.066667  0.071429  0.083333\n",
              "1      0.193353  0.066667  0.071429  0.083333\n",
              "2      0.359517  0.066667  0.071429  0.083333\n",
              "3      0.193353  0.066667  0.071429  0.083333\n",
              "4      0.299094  0.066667  0.071429  0.083333\n",
              "...         ...       ...       ...       ...\n",
              "90451  0.135952  0.066667  0.071429  0.083333\n",
              "90568  0.232628  0.066667  0.142857  0.166667\n",
              "90590  0.407855  0.133333  0.214286  0.083333\n",
              "90648  0.326284  0.066667  0.000000  0.083333\n",
              "90735  0.120846  0.066667  0.071429  0.083333\n",
              "\n",
              "[61736 rows x 4 columns]"
            ]
          },
          "execution_count": 129,
          "metadata": {},
          "output_type": "execute_result"
        }
      ],
      "source": [
        "min_val = dat_clean_bed.min()\n",
        "max_val = dat_clean_bed.max()\n",
        "\n",
        "scaled_data = ( dat_clean_bed- min_val) / (max_val - min_val)\n",
        "dat_clean_score = scaled_data\n",
        "dat_clean_score"
      ]
    },
    {
      "cell_type": "code",
      "execution_count": 134,
      "metadata": {},
      "outputs": [
        {
          "name": "stderr",
          "output_type": "stream",
          "text": [
            "d:\\Anaconda\\Lib\\site-packages\\seaborn\\matrix.py:260: FutureWarning: Format strings passed to MaskedConstant are ignored, but in future may error or produce different behavior\n",
            "  annotation = (\"{:\" + self.fmt + \"}\").format(val)\n"
          ]
        },
        {
          "data": {
            "image/png": "[encoded data removed]",
            "text/plain": [
              "<Figure size 1000x800 with 2 Axes>"
            ]
          },
          "metadata": {},
          "output_type": "display_data"
        }
      ],
      "source": [
        "import numpy as np\n",
        "import seaborn as sns\n",
        "import matplotlib.pyplot as plt\n",
        "import pandas as pd\n",
        "# 데이터프레임의 상관관계 계산\n",
        "corr = dat_clean_score.corr()\n",
        "\n",
        "# 마스크 생성 (상단 삼각형)\n",
        "mask = np.triu(np.ones_like(corr, dtype=bool))\n",
        "\n",
        "# 히트맵 그리기\n",
        "plt.figure(figsize=(10, 8))  # 그래프의 크기 설정\n",
        "sns.heatmap(corr, annot=True, cmap='coolwarm', fmt=\".2f\", linewidths=.5, mask=mask)\n",
        "plt.title('숙소 가격 및 리뷰 점수 간의 상관계수 히트맵')  # 그래프 제목 설정\n",
        "plt.show()"
      ]
    },
    {
      "cell_type": "markdown",
      "metadata": {
        "id": "2MTfw935L1Hh"
      },
      "source": [
        "숙소가격을 평균대치하고 이상치 처리 안한 데이터 temp"
      ]
    },
    {
      "cell_type": "code",
      "execution_count": 131,
      "metadata": {},
      "outputs": [
        {
          "data": {
            "text/html": [
              "<div>\n",
              "<style scoped>\n",
              "    .dataframe tbody tr th:only-of-type {\n",
              "        vertical-align: middle;\n",
              "    }\n",
              "\n",
              "    .dataframe tbody tr th {\n",
              "        vertical-align: top;\n",
              "    }\n",
              "\n",
              "    .dataframe thead th {\n",
              "        text-align: right;\n",
              "    }\n",
              "</style>\n",
              "<table border=\"1\" class=\"dataframe\">\n",
              "  <thead>\n",
              "    <tr style=\"text-align: right;\">\n",
              "      <th></th>\n",
              "      <th>숙소_가격</th>\n",
              "      <th>침실수</th>\n",
              "      <th>침대수</th>\n",
              "      <th>욕실수</th>\n",
              "    </tr>\n",
              "  </thead>\n",
              "  <tbody>\n",
              "    <tr>\n",
              "      <th>0</th>\n",
              "      <td>0.002967</td>\n",
              "      <td>0.045455</td>\n",
              "      <td>0.026316</td>\n",
              "      <td>0.076923</td>\n",
              "    </tr>\n",
              "    <tr>\n",
              "      <th>1</th>\n",
              "      <td>0.001194</td>\n",
              "      <td>0.045455</td>\n",
              "      <td>0.026316</td>\n",
              "      <td>0.076923</td>\n",
              "    </tr>\n",
              "    <tr>\n",
              "      <th>2</th>\n",
              "      <td>0.002221</td>\n",
              "      <td>0.045455</td>\n",
              "      <td>0.026316</td>\n",
              "      <td>0.076923</td>\n",
              "    </tr>\n",
              "    <tr>\n",
              "      <th>3</th>\n",
              "      <td>0.001194</td>\n",
              "      <td>0.045455</td>\n",
              "      <td>0.026316</td>\n",
              "      <td>0.076923</td>\n",
              "    </tr>\n",
              "    <tr>\n",
              "      <th>4</th>\n",
              "      <td>0.001847</td>\n",
              "      <td>0.045455</td>\n",
              "      <td>0.026316</td>\n",
              "      <td>0.076923</td>\n",
              "    </tr>\n",
              "    <tr>\n",
              "      <th>...</th>\n",
              "      <td>...</td>\n",
              "      <td>...</td>\n",
              "      <td>...</td>\n",
              "      <td>...</td>\n",
              "    </tr>\n",
              "    <tr>\n",
              "      <th>90451</th>\n",
              "      <td>0.000840</td>\n",
              "      <td>0.045455</td>\n",
              "      <td>0.026316</td>\n",
              "      <td>0.076923</td>\n",
              "    </tr>\n",
              "    <tr>\n",
              "      <th>90568</th>\n",
              "      <td>0.001437</td>\n",
              "      <td>0.045455</td>\n",
              "      <td>0.052632</td>\n",
              "      <td>0.153846</td>\n",
              "    </tr>\n",
              "    <tr>\n",
              "      <th>90590</th>\n",
              "      <td>0.002519</td>\n",
              "      <td>0.090909</td>\n",
              "      <td>0.078947</td>\n",
              "      <td>0.076923</td>\n",
              "    </tr>\n",
              "    <tr>\n",
              "      <th>90648</th>\n",
              "      <td>0.002015</td>\n",
              "      <td>0.045455</td>\n",
              "      <td>0.000000</td>\n",
              "      <td>0.076923</td>\n",
              "    </tr>\n",
              "    <tr>\n",
              "      <th>90735</th>\n",
              "      <td>0.000746</td>\n",
              "      <td>0.045455</td>\n",
              "      <td>0.026316</td>\n",
              "      <td>0.076923</td>\n",
              "    </tr>\n",
              "  </tbody>\n",
              "</table>\n",
              "<p>65146 rows × 4 columns</p>\n",
              "</div>"
            ],
            "text/plain": [
              "          숙소_가격       침실수       침대수       욕실수\n",
              "0      0.002967  0.045455  0.026316  0.076923\n",
              "1      0.001194  0.045455  0.026316  0.076923\n",
              "2      0.002221  0.045455  0.026316  0.076923\n",
              "3      0.001194  0.045455  0.026316  0.076923\n",
              "4      0.001847  0.045455  0.026316  0.076923\n",
              "...         ...       ...       ...       ...\n",
              "90451  0.000840  0.045455  0.026316  0.076923\n",
              "90568  0.001437  0.045455  0.052632  0.153846\n",
              "90590  0.002519  0.090909  0.078947  0.076923\n",
              "90648  0.002015  0.045455  0.000000  0.076923\n",
              "90735  0.000746  0.045455  0.026316  0.076923\n",
              "\n",
              "[65146 rows x 4 columns]"
            ]
          },
          "execution_count": 131,
          "metadata": {},
          "output_type": "execute_result"
        }
      ],
      "source": [
        "min_val = temp_bed.min()\n",
        "max_val = temp_bed.max()\n",
        "\n",
        "scaled_data = ( temp_bed- min_val) / (max_val - min_val)\n",
        "temp_score = scaled_data\n",
        "temp_score"
      ]
    },
    {
      "cell_type": "code",
      "execution_count": 135,
      "metadata": {},
      "outputs": [
        {
          "name": "stderr",
          "output_type": "stream",
          "text": [
            "d:\\Anaconda\\Lib\\site-packages\\seaborn\\matrix.py:260: FutureWarning: Format strings passed to MaskedConstant are ignored, but in future may error or produce different behavior\n",
            "  annotation = (\"{:\" + self.fmt + \"}\").format(val)\n"
          ]
        },
        {
          "data": {
            "image/png": "[encoded data removed]",
            "text/plain": [
              "<Figure size 1000x800 with 2 Axes>"
            ]
          },
          "metadata": {},
          "output_type": "display_data"
        }
      ],
      "source": [
        "import numpy as np\n",
        "import seaborn as sns\n",
        "import matplotlib.pyplot as plt\n",
        "import pandas as pd\n",
        "# 데이터프레임의 상관관계 계산\n",
        "corr = temp_score.corr()\n",
        "\n",
        "# 마스크 생성 (상단 삼각형)\n",
        "mask = np.triu(np.ones_like(corr, dtype=bool))\n",
        "\n",
        "# 히트맵 그리기\n",
        "plt.figure(figsize=(10, 8))  # 그래프의 크기 설정\n",
        "sns.heatmap(corr, annot=True, cmap='coolwarm', fmt=\".2f\", linewidths=.5, mask=mask)\n",
        "plt.title('숙소 가격 및 리뷰 점수 간의 상관계수 히트맵')  # 그래프 제목 설정\n",
        "plt.show()"
      ]
    },
    {
      "cell_type": "markdown",
      "metadata": {
        "id": "5gEqGQuBL8OR"
      },
      "source": [
        "숙소 결측치 제거하고 이상치 처리 안한 데이터 df"
      ]
    },
    {
      "cell_type": "code",
      "execution_count": 132,
      "metadata": {},
      "outputs": [
        {
          "data": {
            "text/html": [
              "<div>\n",
              "<style scoped>\n",
              "    .dataframe tbody tr th:only-of-type {\n",
              "        vertical-align: middle;\n",
              "    }\n",
              "\n",
              "    .dataframe tbody tr th {\n",
              "        vertical-align: top;\n",
              "    }\n",
              "\n",
              "    .dataframe thead th {\n",
              "        text-align: right;\n",
              "    }\n",
              "</style>\n",
              "<table border=\"1\" class=\"dataframe\">\n",
              "  <thead>\n",
              "    <tr style=\"text-align: right;\">\n",
              "      <th></th>\n",
              "      <th>숙소_가격</th>\n",
              "      <th>침실수</th>\n",
              "      <th>침대수</th>\n",
              "      <th>욕실수</th>\n",
              "    </tr>\n",
              "  </thead>\n",
              "  <tbody>\n",
              "    <tr>\n",
              "      <th>0</th>\n",
              "      <td>0.002967</td>\n",
              "      <td>0.045455</td>\n",
              "      <td>0.026316</td>\n",
              "      <td>0.076923</td>\n",
              "    </tr>\n",
              "    <tr>\n",
              "      <th>1</th>\n",
              "      <td>0.001194</td>\n",
              "      <td>0.045455</td>\n",
              "      <td>0.026316</td>\n",
              "      <td>0.076923</td>\n",
              "    </tr>\n",
              "    <tr>\n",
              "      <th>2</th>\n",
              "      <td>0.002221</td>\n",
              "      <td>0.045455</td>\n",
              "      <td>0.026316</td>\n",
              "      <td>0.076923</td>\n",
              "    </tr>\n",
              "    <tr>\n",
              "      <th>3</th>\n",
              "      <td>0.001194</td>\n",
              "      <td>0.045455</td>\n",
              "      <td>0.026316</td>\n",
              "      <td>0.076923</td>\n",
              "    </tr>\n",
              "    <tr>\n",
              "      <th>4</th>\n",
              "      <td>0.001847</td>\n",
              "      <td>0.045455</td>\n",
              "      <td>0.026316</td>\n",
              "      <td>0.076923</td>\n",
              "    </tr>\n",
              "    <tr>\n",
              "      <th>...</th>\n",
              "      <td>...</td>\n",
              "      <td>...</td>\n",
              "      <td>...</td>\n",
              "      <td>...</td>\n",
              "    </tr>\n",
              "    <tr>\n",
              "      <th>90451</th>\n",
              "      <td>0.000840</td>\n",
              "      <td>0.045455</td>\n",
              "      <td>0.026316</td>\n",
              "      <td>0.076923</td>\n",
              "    </tr>\n",
              "    <tr>\n",
              "      <th>90568</th>\n",
              "      <td>0.001437</td>\n",
              "      <td>0.045455</td>\n",
              "      <td>0.052632</td>\n",
              "      <td>0.153846</td>\n",
              "    </tr>\n",
              "    <tr>\n",
              "      <th>90590</th>\n",
              "      <td>0.002519</td>\n",
              "      <td>0.090909</td>\n",
              "      <td>0.078947</td>\n",
              "      <td>0.076923</td>\n",
              "    </tr>\n",
              "    <tr>\n",
              "      <th>90648</th>\n",
              "      <td>0.002015</td>\n",
              "      <td>0.045455</td>\n",
              "      <td>0.000000</td>\n",
              "      <td>0.076923</td>\n",
              "    </tr>\n",
              "    <tr>\n",
              "      <th>90735</th>\n",
              "      <td>0.000746</td>\n",
              "      <td>0.045455</td>\n",
              "      <td>0.026316</td>\n",
              "      <td>0.076923</td>\n",
              "    </tr>\n",
              "  </tbody>\n",
              "</table>\n",
              "<p>43181 rows × 4 columns</p>\n",
              "</div>"
            ],
            "text/plain": [
              "          숙소_가격       침실수       침대수       욕실수\n",
              "0      0.002967  0.045455  0.026316  0.076923\n",
              "1      0.001194  0.045455  0.026316  0.076923\n",
              "2      0.002221  0.045455  0.026316  0.076923\n",
              "3      0.001194  0.045455  0.026316  0.076923\n",
              "4      0.001847  0.045455  0.026316  0.076923\n",
              "...         ...       ...       ...       ...\n",
              "90451  0.000840  0.045455  0.026316  0.076923\n",
              "90568  0.001437  0.045455  0.052632  0.153846\n",
              "90590  0.002519  0.090909  0.078947  0.076923\n",
              "90648  0.002015  0.045455  0.000000  0.076923\n",
              "90735  0.000746  0.045455  0.026316  0.076923\n",
              "\n",
              "[43181 rows x 4 columns]"
            ]
          },
          "execution_count": 132,
          "metadata": {},
          "output_type": "execute_result"
        }
      ],
      "source": [
        "min_val = df_bed.min()\n",
        "max_val = df_bed.max()\n",
        "\n",
        "scaled_data = ( df_bed- min_val) / (max_val - min_val)\n",
        "df_score = scaled_data\n",
        "df_score"
      ]
    },
    {
      "cell_type": "code",
      "execution_count": 136,
      "metadata": {},
      "outputs": [
        {
          "name": "stderr",
          "output_type": "stream",
          "text": [
            "d:\\Anaconda\\Lib\\site-packages\\seaborn\\matrix.py:260: FutureWarning: Format strings passed to MaskedConstant are ignored, but in future may error or produce different behavior\n",
            "  annotation = (\"{:\" + self.fmt + \"}\").format(val)\n"
          ]
        },
        {
          "data": {
            "image/png": "[encoded data removed]",
            "text/plain": [
              "<Figure size 1000x800 with 2 Axes>"
            ]
          },
          "metadata": {},
          "output_type": "display_data"
        }
      ],
      "source": [
        "import numpy as np\n",
        "import seaborn as sns\n",
        "import matplotlib.pyplot as plt\n",
        "import pandas as pd\n",
        "# 데이터프레임의 상관관계 계산\n",
        "corr = df_score.corr()\n",
        "\n",
        "# 마스크 생성 (상단 삼각형)\n",
        "mask = np.triu(np.ones_like(corr, dtype=bool))\n",
        "\n",
        "# 히트맵 그리기\n",
        "plt.figure(figsize=(10, 8))  # 그래프의 크기 설정\n",
        "sns.heatmap(corr, annot=True, cmap='coolwarm', fmt=\".2f\", linewidths=.5, mask=mask)\n",
        "plt.title('숙소 가격 및 리뷰 점수 간의 상관계수 히트맵')  # 그래프 제목 설정\n",
        "plt.show()"
      ]
    },
    {
      "cell_type": "markdown",
      "metadata": {
        "id": "Jul-l1hBMDwE"
      },
      "source": [
        "숙소 결측치 제거하고 이상치 제거 한 데이터 df_clean"
      ]
    },
    {
      "cell_type": "code",
      "execution_count": 133,
      "metadata": {},
      "outputs": [
        {
          "data": {
            "text/html": [
              "<div>\n",
              "<style scoped>\n",
              "    .dataframe tbody tr th:only-of-type {\n",
              "        vertical-align: middle;\n",
              "    }\n",
              "\n",
              "    .dataframe tbody tr th {\n",
              "        vertical-align: top;\n",
              "    }\n",
              "\n",
              "    .dataframe thead th {\n",
              "        text-align: right;\n",
              "    }\n",
              "</style>\n",
              "<table border=\"1\" class=\"dataframe\">\n",
              "  <thead>\n",
              "    <tr style=\"text-align: right;\">\n",
              "      <th></th>\n",
              "      <th>숙소_가격</th>\n",
              "      <th>침실수</th>\n",
              "      <th>침대수</th>\n",
              "      <th>욕실수</th>\n",
              "    </tr>\n",
              "  </thead>\n",
              "  <tbody>\n",
              "    <tr>\n",
              "      <th>0</th>\n",
              "      <td>0.418421</td>\n",
              "      <td>0.1</td>\n",
              "      <td>0.071429</td>\n",
              "      <td>0.083333</td>\n",
              "    </tr>\n",
              "    <tr>\n",
              "      <th>1</th>\n",
              "      <td>0.168421</td>\n",
              "      <td>0.1</td>\n",
              "      <td>0.071429</td>\n",
              "      <td>0.083333</td>\n",
              "    </tr>\n",
              "    <tr>\n",
              "      <th>2</th>\n",
              "      <td>0.313158</td>\n",
              "      <td>0.1</td>\n",
              "      <td>0.071429</td>\n",
              "      <td>0.083333</td>\n",
              "    </tr>\n",
              "    <tr>\n",
              "      <th>3</th>\n",
              "      <td>0.168421</td>\n",
              "      <td>0.1</td>\n",
              "      <td>0.071429</td>\n",
              "      <td>0.083333</td>\n",
              "    </tr>\n",
              "    <tr>\n",
              "      <th>4</th>\n",
              "      <td>0.260526</td>\n",
              "      <td>0.1</td>\n",
              "      <td>0.071429</td>\n",
              "      <td>0.083333</td>\n",
              "    </tr>\n",
              "    <tr>\n",
              "      <th>...</th>\n",
              "      <td>...</td>\n",
              "      <td>...</td>\n",
              "      <td>...</td>\n",
              "      <td>...</td>\n",
              "    </tr>\n",
              "    <tr>\n",
              "      <th>90451</th>\n",
              "      <td>0.118421</td>\n",
              "      <td>0.1</td>\n",
              "      <td>0.071429</td>\n",
              "      <td>0.083333</td>\n",
              "    </tr>\n",
              "    <tr>\n",
              "      <th>90568</th>\n",
              "      <td>0.202632</td>\n",
              "      <td>0.1</td>\n",
              "      <td>0.142857</td>\n",
              "      <td>0.166667</td>\n",
              "    </tr>\n",
              "    <tr>\n",
              "      <th>90590</th>\n",
              "      <td>0.355263</td>\n",
              "      <td>0.2</td>\n",
              "      <td>0.214286</td>\n",
              "      <td>0.083333</td>\n",
              "    </tr>\n",
              "    <tr>\n",
              "      <th>90648</th>\n",
              "      <td>0.284211</td>\n",
              "      <td>0.1</td>\n",
              "      <td>0.000000</td>\n",
              "      <td>0.083333</td>\n",
              "    </tr>\n",
              "    <tr>\n",
              "      <th>90735</th>\n",
              "      <td>0.105263</td>\n",
              "      <td>0.1</td>\n",
              "      <td>0.071429</td>\n",
              "      <td>0.083333</td>\n",
              "    </tr>\n",
              "  </tbody>\n",
              "</table>\n",
              "<p>40686 rows × 4 columns</p>\n",
              "</div>"
            ],
            "text/plain": [
              "          숙소_가격  침실수       침대수       욕실수\n",
              "0      0.418421  0.1  0.071429  0.083333\n",
              "1      0.168421  0.1  0.071429  0.083333\n",
              "2      0.313158  0.1  0.071429  0.083333\n",
              "3      0.168421  0.1  0.071429  0.083333\n",
              "4      0.260526  0.1  0.071429  0.083333\n",
              "...         ...  ...       ...       ...\n",
              "90451  0.118421  0.1  0.071429  0.083333\n",
              "90568  0.202632  0.1  0.142857  0.166667\n",
              "90590  0.355263  0.2  0.214286  0.083333\n",
              "90648  0.284211  0.1  0.000000  0.083333\n",
              "90735  0.105263  0.1  0.071429  0.083333\n",
              "\n",
              "[40686 rows x 4 columns]"
            ]
          },
          "execution_count": 133,
          "metadata": {},
          "output_type": "execute_result"
        }
      ],
      "source": [
        "min_val = df_clean_bed.min()\n",
        "max_val = df_clean_bed.max()\n",
        "\n",
        "scaled_data = ( df_clean_bed- min_val) / (max_val - min_val)\n",
        "df_clean_score = scaled_data\n",
        "df_clean_score"
      ]
    },
    {
      "cell_type": "code",
      "execution_count": 137,
      "metadata": {},
      "outputs": [
        {
          "name": "stderr",
          "output_type": "stream",
          "text": [
            "d:\\Anaconda\\Lib\\site-packages\\seaborn\\matrix.py:260: FutureWarning: Format strings passed to MaskedConstant are ignored, but in future may error or produce different behavior\n",
            "  annotation = (\"{:\" + self.fmt + \"}\").format(val)\n"
          ]
        },
        {
          "data": {
            "image/png": "[encoded data removed]",
            "text/plain": [
              "<Figure size 1000x800 with 2 Axes>"
            ]
          },
          "metadata": {},
          "output_type": "display_data"
        }
      ],
      "source": [
        "import numpy as np\n",
        "import seaborn as sns\n",
        "import matplotlib.pyplot as plt\n",
        "import pandas as pd\n",
        "# 데이터프레임의 상관관계 계산\n",
        "corr = df_clean_score.corr()\n",
        "\n",
        "# 마스크 생성 (상단 삼각형)\n",
        "mask = np.triu(np.ones_like(corr, dtype=bool))\n",
        "\n",
        "# 히트맵 그리기\n",
        "plt.figure(figsize=(10, 8))  # 그래프의 크기 설정\n",
        "sns.heatmap(corr, annot=True, cmap='coolwarm', fmt=\".2f\", linewidths=.5, mask=mask)\n",
        "plt.title('숙소 가격 및 리뷰 점수 간의 상관계수 히트맵')  # 그래프 제목 설정\n",
        "plt.show()"
      ]
    }
  ],
  "metadata": {
    "accelerator": "GPU",
    "colab": {
      "gpuType": "T4",
      "provenance": []
    },
    "kernelspec": {
      "display_name": "Python 3",
      "name": "python3"
    },
    "language_info": {
      "codemirror_mode": {
        "name": "ipython",
        "version": 3
      },
      "file_extension": ".py",
      "mimetype": "text/x-python",
      "name": "python",
      "nbconvert_exporter": "python",
      "pygments_lexer": "ipython3",
      "version": "3.11.7"
    }
  },
  "nbformat": 4,
  "nbformat_minor": 0
}
