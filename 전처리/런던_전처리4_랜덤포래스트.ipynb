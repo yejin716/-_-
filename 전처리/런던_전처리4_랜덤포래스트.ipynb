{
 "cells": [
  {
   "cell_type": "code",
   "execution_count": 1,
   "metadata": {},
   "outputs": [],
   "source": [
    "# !pip install koreanize-matplotlib\n",
    "import koreanize_matplotlib"
   ]
  },
  {
   "cell_type": "code",
   "execution_count": 2,
   "metadata": {},
   "outputs": [],
   "source": [
    "import numpy as np\n",
    "import pandas as pd\n",
    "import matplotlib.pyplot as plt\n",
    "\n",
    "path = '../../data/Airbnb_London/listings.csv'"
   ]
  },
  {
   "cell_type": "code",
   "execution_count": 3,
   "metadata": {},
   "outputs": [],
   "source": [
    "df = pd.read_csv(path)\n",
    "df = pd.DataFrame(df)"
   ]
  },
  {
   "cell_type": "code",
   "execution_count": 4,
   "metadata": {},
   "outputs": [],
   "source": [
    "dat = df.copy()"
   ]
  },
  {
   "cell_type": "markdown",
   "metadata": {},
   "source": [
    "<h3>필요한 컬럼 가져오기(24개) + property_type <h3>"
   ]
  },
  {
   "cell_type": "code",
   "execution_count": 5,
   "metadata": {},
   "outputs": [
    {
     "data": {
      "text/html": [
       "<div>\n",
       "<style scoped>\n",
       "    .dataframe tbody tr th:only-of-type {\n",
       "        vertical-align: middle;\n",
       "    }\n",
       "\n",
       "    .dataframe tbody tr th {\n",
       "        vertical-align: top;\n",
       "    }\n",
       "\n",
       "    .dataframe thead th {\n",
       "        text-align: right;\n",
       "    }\n",
       "</style>\n",
       "<table border=\"1\" class=\"dataframe\">\n",
       "  <thead>\n",
       "    <tr style=\"text-align: right;\">\n",
       "      <th></th>\n",
       "      <th>id</th>\n",
       "      <th>listing_url</th>\n",
       "      <th>host_id</th>\n",
       "      <th>property_type</th>\n",
       "      <th>host_is_superhost</th>\n",
       "      <th>host_total_listings_count</th>\n",
       "      <th>neighbourhood_cleansed</th>\n",
       "      <th>latitude</th>\n",
       "      <th>longitude</th>\n",
       "      <th>room_type</th>\n",
       "      <th>...</th>\n",
       "      <th>number_of_reviews</th>\n",
       "      <th>number_of_reviews_l30d</th>\n",
       "      <th>review_scores_rating</th>\n",
       "      <th>review_scores_accuracy</th>\n",
       "      <th>review_scores_cleanliness</th>\n",
       "      <th>review_scores_checkin</th>\n",
       "      <th>review_scores_communication</th>\n",
       "      <th>review_scores_location</th>\n",
       "      <th>review_scores_value</th>\n",
       "      <th>reviews_per_month</th>\n",
       "    </tr>\n",
       "  </thead>\n",
       "  <tbody>\n",
       "    <tr>\n",
       "      <th>0</th>\n",
       "      <td>312761</td>\n",
       "      <td>https://www.airbnb.com/rooms/312761</td>\n",
       "      <td>1608226</td>\n",
       "      <td>Entire rental unit</td>\n",
       "      <td>t</td>\n",
       "      <td>3.0</td>\n",
       "      <td>Hackney</td>\n",
       "      <td>51.52704</td>\n",
       "      <td>-0.08129</td>\n",
       "      <td>Entire home/apt</td>\n",
       "      <td>...</td>\n",
       "      <td>122</td>\n",
       "      <td>0</td>\n",
       "      <td>4.96</td>\n",
       "      <td>4.97</td>\n",
       "      <td>4.93</td>\n",
       "      <td>4.96</td>\n",
       "      <td>5.00</td>\n",
       "      <td>4.89</td>\n",
       "      <td>4.93</td>\n",
       "      <td>0.86</td>\n",
       "    </tr>\n",
       "    <tr>\n",
       "      <th>1</th>\n",
       "      <td>13913</td>\n",
       "      <td>https://www.airbnb.com/rooms/13913</td>\n",
       "      <td>54730</td>\n",
       "      <td>Private room in rental unit</td>\n",
       "      <td>t</td>\n",
       "      <td>5.0</td>\n",
       "      <td>Islington</td>\n",
       "      <td>51.56861</td>\n",
       "      <td>-0.11270</td>\n",
       "      <td>Private room</td>\n",
       "      <td>...</td>\n",
       "      <td>41</td>\n",
       "      <td>0</td>\n",
       "      <td>4.80</td>\n",
       "      <td>4.73</td>\n",
       "      <td>4.73</td>\n",
       "      <td>4.75</td>\n",
       "      <td>4.83</td>\n",
       "      <td>4.70</td>\n",
       "      <td>4.70</td>\n",
       "      <td>0.25</td>\n",
       "    </tr>\n",
       "    <tr>\n",
       "      <th>2</th>\n",
       "      <td>15400</td>\n",
       "      <td>https://www.airbnb.com/rooms/15400</td>\n",
       "      <td>60302</td>\n",
       "      <td>Entire rental unit</td>\n",
       "      <td>f</td>\n",
       "      <td>1.0</td>\n",
       "      <td>Kensington and Chelsea</td>\n",
       "      <td>51.48780</td>\n",
       "      <td>-0.16813</td>\n",
       "      <td>Entire home/apt</td>\n",
       "      <td>...</td>\n",
       "      <td>94</td>\n",
       "      <td>0</td>\n",
       "      <td>4.80</td>\n",
       "      <td>4.85</td>\n",
       "      <td>4.88</td>\n",
       "      <td>4.88</td>\n",
       "      <td>4.83</td>\n",
       "      <td>4.93</td>\n",
       "      <td>4.74</td>\n",
       "      <td>0.54</td>\n",
       "    </tr>\n",
       "  </tbody>\n",
       "</table>\n",
       "<p>3 rows × 28 columns</p>\n",
       "</div>"
      ],
      "text/plain": [
       "       id                          listing_url  host_id  \\\n",
       "0  312761  https://www.airbnb.com/rooms/312761  1608226   \n",
       "1   13913   https://www.airbnb.com/rooms/13913    54730   \n",
       "2   15400   https://www.airbnb.com/rooms/15400    60302   \n",
       "\n",
       "                 property_type host_is_superhost  host_total_listings_count  \\\n",
       "0           Entire rental unit                 t                        3.0   \n",
       "1  Private room in rental unit                 t                        5.0   \n",
       "2           Entire rental unit                 f                        1.0   \n",
       "\n",
       "   neighbourhood_cleansed  latitude  longitude        room_type  ...  \\\n",
       "0                 Hackney  51.52704   -0.08129  Entire home/apt  ...   \n",
       "1               Islington  51.56861   -0.11270     Private room  ...   \n",
       "2  Kensington and Chelsea  51.48780   -0.16813  Entire home/apt  ...   \n",
       "\n",
       "   number_of_reviews  number_of_reviews_l30d  review_scores_rating  \\\n",
       "0                122                       0                  4.96   \n",
       "1                 41                       0                  4.80   \n",
       "2                 94                       0                  4.80   \n",
       "\n",
       "   review_scores_accuracy review_scores_cleanliness review_scores_checkin  \\\n",
       "0                    4.97                      4.93                  4.96   \n",
       "1                    4.73                      4.73                  4.75   \n",
       "2                    4.85                      4.88                  4.88   \n",
       "\n",
       "   review_scores_communication  review_scores_location  review_scores_value  \\\n",
       "0                         5.00                    4.89                 4.93   \n",
       "1                         4.83                    4.70                 4.70   \n",
       "2                         4.83                    4.93                 4.74   \n",
       "\n",
       "   reviews_per_month  \n",
       "0               0.86  \n",
       "1               0.25  \n",
       "2               0.54  \n",
       "\n",
       "[3 rows x 28 columns]"
      ]
     },
     "execution_count": 5,
     "metadata": {},
     "output_type": "execute_result"
    }
   ],
   "source": [
    "#필요한 컬럼 가져오기\n",
    "selected_columns = ['id','listing_url','host_id', 'property_type',\n",
    "                    'host_is_superhost','host_total_listings_count','neighbourhood_cleansed','latitude',\n",
    "                    'longitude','room_type','accommodates','bathrooms','bedrooms','beds','amenities','price',\n",
    "                    'minimum_nights','maximum_nights','number_of_reviews','number_of_reviews_l30d',\n",
    "                    'review_scores_rating','review_scores_accuracy','review_scores_cleanliness',\n",
    "                    'review_scores_checkin','review_scores_communication','review_scores_location',\n",
    "                    'review_scores_value','reviews_per_month']\n",
    "df = df[selected_columns]\n",
    "\n",
    "df.head(3)"
   ]
  },
  {
   "cell_type": "markdown",
   "metadata": {},
   "source": [
    "<h3>필요한 컬럼명 변경</h3><br>\n",
    "\n",
    "\n",
    "컬렴명 변경\n",
    "\n",
    "- 'id' : '숙소 id'\n",
    "- 'property_type' : '숙소_특징'\n",
    "- 'listing_url' : '숙소 url'\n",
    "- 'host_id' : '호스트 id'\n",
    "- 'host_is_superhost' : '슈퍼호스트 여부'\n",
    "- 'latitude' : '위도'\n",
    "- 'longitude' : '경도'\n",
    "- 'host_total_listings_count' : '등록한 총 숙소 수'\n",
    "- 'neighbourhood_cleansed' : '클린된 숙소 구'\n",
    "- 'room_type' : '룸 유형'\n",
    "- 'accommodates' : '수용 인원수'\n",
    "- 'bathrooms' : '욕실수'\n",
    "- 'bedrooms' : '침실수'\n",
    "- 'beds' : '침대수'\n",
    "- 'amenities' : '어메니티'\n",
    "- 'price' : '숙소 가격'\n",
    "- 'minimum_nights' : '최소 숙박일'\n",
    "- 'maximum_nights' : '최대 숙박일'\n",
    "- 'number_of_reviews' : '총 리뷰수'\n",
    "- 'number_of_reviews_l30d' : '한달치 리뷰수'\n",
    "- 'review_scores_rating' : '리뷰 총점수'\n",
    "- 'review_scores_accuracy' : '리뷰점수(숙소정보 정확성 )'\n",
    "- 'review_scores_cleanliness' : '리뷰점수(청결함)'\n",
    "- 'review_scores_checkin' : '리뷰점수(체크인과정)'\n",
    "- 'review_scores_communication' : '리뷰점수(호스트와 소통)'\n",
    "- 'review_scores_location' : '리뷰점수(숙소위치)'\n",
    "- 'review_scores_value' : '리뷰점수(숙소가격)'\n",
    "- 'reviews_per_month' : '월별 평균 리뷰수'"
   ]
  },
  {
   "cell_type": "code",
   "execution_count": 6,
   "metadata": {},
   "outputs": [],
   "source": [
    "#컬럼명 변경\n",
    "df = df.rename(columns={\n",
    "    'id' : '숙소_id',\n",
    "    'listing_url' : '숙소_url',\n",
    "    'property_type' : '숙소_특징',\n",
    "    'host_id' : '호스트_id',\n",
    "    'host_is_superhost' : '슈퍼호스트',\n",
    "    'host_total_listings_count' : '숙소_수',\n",
    "    'neighbourhood_cleansed' : '숙소_지역',\n",
    "    'latitude' : '위도',\n",
    "    'longitude' : '경도',\n",
    "    'room_type' : '숙소_유형',\n",
    "    'accommodates' : '수용인원수',\n",
    "    'bathrooms' : '욕실수',\n",
    "    'bedrooms' : '침실수',\n",
    "    'beds' : '침대수',\n",
    "    'amenities' : '어메니티',\n",
    "    'price' : '숙소_가격',\n",
    "    'minimum_nights' : '최소_숙박일',\n",
    "    'maximum_nights' : '최대_숙박일',\n",
    "    'minimum_maximum_nights' : '적은_최대_숙박일',\n",
    "    'maximum_maximum_nights' : '많은_최대_숙박일',\n",
    "    'has_availability' : '숙소_예약가능_여부',\n",
    "    'number_of_reviews' : '리뷰수',\n",
    "    'number_of_reviews_l30d' : '30일_리뷰수',\n",
    "    'review_scores_rating' : '리뷰점수',\n",
    "    'review_scores_accuracy' : '숙소_정확성_리뷰점수',\n",
    "    'review_scores_cleanliness' : '숙소_청결도_리뷰점수',\n",
    "    'review_scores_checkin' : '숙소_체크인_리뷰점수',\n",
    "    'review_scores_communication' : '숙소_소통_리뷰점수',\n",
    "    'review_scores_location' : '숙소_위치_리뷰점수',\n",
    "    'review_scores_value' : '숙소_가격_리뷰점수',\n",
    "    'reviews_per_month' : '평균_리뷰수'\n",
    "})"
   ]
  },
  {
   "cell_type": "markdown",
   "metadata": {},
   "source": [
    "<h3>주제별 컬럼 분류<h3><br>\n",
    "\n",
    "숙소/숙박 컬럼 (25개) df_lodging - 리뷰 컬럼(10개) df_review"
   ]
  },
  {
   "cell_type": "code",
   "execution_count": 7,
   "metadata": {},
   "outputs": [
    {
     "data": {
      "text/html": [
       "<div>\n",
       "<style scoped>\n",
       "    .dataframe tbody tr th:only-of-type {\n",
       "        vertical-align: middle;\n",
       "    }\n",
       "\n",
       "    .dataframe tbody tr th {\n",
       "        vertical-align: top;\n",
       "    }\n",
       "\n",
       "    .dataframe thead th {\n",
       "        text-align: right;\n",
       "    }\n",
       "</style>\n",
       "<table border=\"1\" class=\"dataframe\">\n",
       "  <thead>\n",
       "    <tr style=\"text-align: right;\">\n",
       "      <th></th>\n",
       "      <th>id</th>\n",
       "      <th>listing_url</th>\n",
       "      <th>host_id</th>\n",
       "      <th>host_is_superhost</th>\n",
       "      <th>property_type</th>\n",
       "      <th>host_total_listings_count</th>\n",
       "      <th>neighbourhood_cleansed</th>\n",
       "      <th>room_type</th>\n",
       "      <th>accommodates</th>\n",
       "      <th>bathrooms</th>\n",
       "      <th>bedrooms</th>\n",
       "      <th>beds</th>\n",
       "      <th>amenities</th>\n",
       "      <th>price</th>\n",
       "      <th>minimum_nights</th>\n",
       "      <th>maximum_nights</th>\n",
       "    </tr>\n",
       "  </thead>\n",
       "  <tbody>\n",
       "    <tr>\n",
       "      <th>0</th>\n",
       "      <td>312761</td>\n",
       "      <td>https://www.airbnb.com/rooms/312761</td>\n",
       "      <td>1608226</td>\n",
       "      <td>t</td>\n",
       "      <td>Entire rental unit</td>\n",
       "      <td>3.0</td>\n",
       "      <td>Hackney</td>\n",
       "      <td>Entire home/apt</td>\n",
       "      <td>2</td>\n",
       "      <td>1.0</td>\n",
       "      <td>1.0</td>\n",
       "      <td>1.0</td>\n",
       "      <td>[\"Toaster\", \"Room-darkening shades\", \"Coffee m...</td>\n",
       "      <td>$160.00</td>\n",
       "      <td>9</td>\n",
       "      <td>180</td>\n",
       "    </tr>\n",
       "    <tr>\n",
       "      <th>1</th>\n",
       "      <td>13913</td>\n",
       "      <td>https://www.airbnb.com/rooms/13913</td>\n",
       "      <td>54730</td>\n",
       "      <td>t</td>\n",
       "      <td>Private room in rental unit</td>\n",
       "      <td>5.0</td>\n",
       "      <td>Islington</td>\n",
       "      <td>Private room</td>\n",
       "      <td>1</td>\n",
       "      <td>1.0</td>\n",
       "      <td>1.0</td>\n",
       "      <td>1.0</td>\n",
       "      <td>[\"Toaster\", \"Room-darkening shades\", \"Shampoo\"...</td>\n",
       "      <td>$65.00</td>\n",
       "      <td>1</td>\n",
       "      <td>29</td>\n",
       "    </tr>\n",
       "    <tr>\n",
       "      <th>2</th>\n",
       "      <td>15400</td>\n",
       "      <td>https://www.airbnb.com/rooms/15400</td>\n",
       "      <td>60302</td>\n",
       "      <td>f</td>\n",
       "      <td>Entire rental unit</td>\n",
       "      <td>1.0</td>\n",
       "      <td>Kensington and Chelsea</td>\n",
       "      <td>Entire home/apt</td>\n",
       "      <td>2</td>\n",
       "      <td>1.0</td>\n",
       "      <td>1.0</td>\n",
       "      <td>1.0</td>\n",
       "      <td>[\"Shampoo\", \"Wifi\", \"Fire extinguisher\", \"Lugg...</td>\n",
       "      <td>$120.00</td>\n",
       "      <td>4</td>\n",
       "      <td>30</td>\n",
       "    </tr>\n",
       "  </tbody>\n",
       "</table>\n",
       "</div>"
      ],
      "text/plain": [
       "       id                          listing_url  host_id host_is_superhost  \\\n",
       "0  312761  https://www.airbnb.com/rooms/312761  1608226                 t   \n",
       "1   13913   https://www.airbnb.com/rooms/13913    54730                 t   \n",
       "2   15400   https://www.airbnb.com/rooms/15400    60302                 f   \n",
       "\n",
       "                 property_type  host_total_listings_count  \\\n",
       "0           Entire rental unit                        3.0   \n",
       "1  Private room in rental unit                        5.0   \n",
       "2           Entire rental unit                        1.0   \n",
       "\n",
       "   neighbourhood_cleansed        room_type  accommodates  bathrooms  bedrooms  \\\n",
       "0                 Hackney  Entire home/apt             2        1.0       1.0   \n",
       "1               Islington     Private room             1        1.0       1.0   \n",
       "2  Kensington and Chelsea  Entire home/apt             2        1.0       1.0   \n",
       "\n",
       "   beds                                          amenities    price  \\\n",
       "0   1.0  [\"Toaster\", \"Room-darkening shades\", \"Coffee m...  $160.00   \n",
       "1   1.0  [\"Toaster\", \"Room-darkening shades\", \"Shampoo\"...   $65.00   \n",
       "2   1.0  [\"Shampoo\", \"Wifi\", \"Fire extinguisher\", \"Lugg...  $120.00   \n",
       "\n",
       "   minimum_nights  maximum_nights  \n",
       "0               9             180  \n",
       "1               1              29  \n",
       "2               4              30  "
      ]
     },
     "execution_count": 7,
     "metadata": {},
     "output_type": "execute_result"
    }
   ],
   "source": [
    "#숙소/숙박관련 컬럼\n",
    "\n",
    "df_lodging = dat[['id', 'listing_url','host_id','host_is_superhost','property_type',\n",
    "                  'host_total_listings_count','neighbourhood_cleansed','room_type','accommodates','bathrooms','bedrooms',\n",
    "                  'beds','amenities','price','minimum_nights','maximum_nights']]\n",
    "df_lodging.head(3)"
   ]
  },
  {
   "cell_type": "code",
   "execution_count": 8,
   "metadata": {},
   "outputs": [
    {
     "data": {
      "text/html": [
       "<div>\n",
       "<style scoped>\n",
       "    .dataframe tbody tr th:only-of-type {\n",
       "        vertical-align: middle;\n",
       "    }\n",
       "\n",
       "    .dataframe tbody tr th {\n",
       "        vertical-align: top;\n",
       "    }\n",
       "\n",
       "    .dataframe thead th {\n",
       "        text-align: right;\n",
       "    }\n",
       "</style>\n",
       "<table border=\"1\" class=\"dataframe\">\n",
       "  <thead>\n",
       "    <tr style=\"text-align: right;\">\n",
       "      <th></th>\n",
       "      <th>숙소_id</th>\n",
       "      <th>숙소_url</th>\n",
       "      <th>호스트_id</th>\n",
       "      <th>슈퍼호스트</th>\n",
       "      <th>숙소_특징</th>\n",
       "      <th>숙소_수</th>\n",
       "      <th>숙소_지역</th>\n",
       "      <th>숙소_유형</th>\n",
       "      <th>수용인원수</th>\n",
       "      <th>욕실수</th>\n",
       "      <th>침실수</th>\n",
       "      <th>침대수</th>\n",
       "      <th>편의시설</th>\n",
       "      <th>숙소_가격</th>\n",
       "      <th>최소_숙박일</th>\n",
       "      <th>최대_숙박일</th>\n",
       "    </tr>\n",
       "  </thead>\n",
       "  <tbody>\n",
       "    <tr>\n",
       "      <th>0</th>\n",
       "      <td>312761</td>\n",
       "      <td>https://www.airbnb.com/rooms/312761</td>\n",
       "      <td>1608226</td>\n",
       "      <td>t</td>\n",
       "      <td>Entire rental unit</td>\n",
       "      <td>3.0</td>\n",
       "      <td>Hackney</td>\n",
       "      <td>Entire home/apt</td>\n",
       "      <td>2</td>\n",
       "      <td>1.0</td>\n",
       "      <td>1.0</td>\n",
       "      <td>1.0</td>\n",
       "      <td>[\"Toaster\", \"Room-darkening shades\", \"Coffee m...</td>\n",
       "      <td>$160.00</td>\n",
       "      <td>9</td>\n",
       "      <td>180</td>\n",
       "    </tr>\n",
       "    <tr>\n",
       "      <th>1</th>\n",
       "      <td>13913</td>\n",
       "      <td>https://www.airbnb.com/rooms/13913</td>\n",
       "      <td>54730</td>\n",
       "      <td>t</td>\n",
       "      <td>Private room in rental unit</td>\n",
       "      <td>5.0</td>\n",
       "      <td>Islington</td>\n",
       "      <td>Private room</td>\n",
       "      <td>1</td>\n",
       "      <td>1.0</td>\n",
       "      <td>1.0</td>\n",
       "      <td>1.0</td>\n",
       "      <td>[\"Toaster\", \"Room-darkening shades\", \"Shampoo\"...</td>\n",
       "      <td>$65.00</td>\n",
       "      <td>1</td>\n",
       "      <td>29</td>\n",
       "    </tr>\n",
       "    <tr>\n",
       "      <th>2</th>\n",
       "      <td>15400</td>\n",
       "      <td>https://www.airbnb.com/rooms/15400</td>\n",
       "      <td>60302</td>\n",
       "      <td>f</td>\n",
       "      <td>Entire rental unit</td>\n",
       "      <td>1.0</td>\n",
       "      <td>Kensington and Chelsea</td>\n",
       "      <td>Entire home/apt</td>\n",
       "      <td>2</td>\n",
       "      <td>1.0</td>\n",
       "      <td>1.0</td>\n",
       "      <td>1.0</td>\n",
       "      <td>[\"Shampoo\", \"Wifi\", \"Fire extinguisher\", \"Lugg...</td>\n",
       "      <td>$120.00</td>\n",
       "      <td>4</td>\n",
       "      <td>30</td>\n",
       "    </tr>\n",
       "  </tbody>\n",
       "</table>\n",
       "</div>"
      ],
      "text/plain": [
       "    숙소_id                               숙소_url   호스트_id 슈퍼호스트  \\\n",
       "0  312761  https://www.airbnb.com/rooms/312761  1608226     t   \n",
       "1   13913   https://www.airbnb.com/rooms/13913    54730     t   \n",
       "2   15400   https://www.airbnb.com/rooms/15400    60302     f   \n",
       "\n",
       "                         숙소_특징  숙소_수                   숙소_지역            숙소_유형  \\\n",
       "0           Entire rental unit   3.0                 Hackney  Entire home/apt   \n",
       "1  Private room in rental unit   5.0               Islington     Private room   \n",
       "2           Entire rental unit   1.0  Kensington and Chelsea  Entire home/apt   \n",
       "\n",
       "   수용인원수  욕실수  침실수  침대수                                               편의시설  \\\n",
       "0      2  1.0  1.0  1.0  [\"Toaster\", \"Room-darkening shades\", \"Coffee m...   \n",
       "1      1  1.0  1.0  1.0  [\"Toaster\", \"Room-darkening shades\", \"Shampoo\"...   \n",
       "2      2  1.0  1.0  1.0  [\"Shampoo\", \"Wifi\", \"Fire extinguisher\", \"Lugg...   \n",
       "\n",
       "     숙소_가격  최소_숙박일  최대_숙박일  \n",
       "0  $160.00       9     180  \n",
       "1   $65.00       1      29  \n",
       "2  $120.00       4      30  "
      ]
     },
     "execution_count": 8,
     "metadata": {},
     "output_type": "execute_result"
    }
   ],
   "source": [
    "# 컬럼명 변경\n",
    "\n",
    "df_lodging = df_lodging.rename(columns={\n",
    "    'id': '숙소_id',\n",
    "    'host_id': '호스트_id',\n",
    "    'property_type' : '숙소_특징',\n",
    "    'listing_url' : '숙소_url',\n",
    "    'host_is_superhost': '슈퍼호스트',\n",
    "    'host_total_listings_count': '숙소_수',\n",
    "    'neighbourhood_cleansed': '숙소_지역',\n",
    "    'room_type': '숙소_유형',\n",
    "    'accommodates': '수용인원수',\n",
    "    'bathrooms': '욕실수',\n",
    "    'bedrooms': '침실수',\n",
    "    'beds': '침대수',\n",
    "    'amenities': '편의시설',\n",
    "    'price': '숙소_가격',\n",
    "    'minimum_nights': '최소_숙박일',\n",
    "    'maximum_nights': '최대_숙박일'\n",
    "})\n",
    "\n",
    "df_lodging.head(3)"
   ]
  },
  {
   "cell_type": "code",
   "execution_count": 9,
   "metadata": {},
   "outputs": [
    {
     "data": {
      "text/html": [
       "<div>\n",
       "<style scoped>\n",
       "    .dataframe tbody tr th:only-of-type {\n",
       "        vertical-align: middle;\n",
       "    }\n",
       "\n",
       "    .dataframe tbody tr th {\n",
       "        vertical-align: top;\n",
       "    }\n",
       "\n",
       "    .dataframe thead th {\n",
       "        text-align: right;\n",
       "    }\n",
       "</style>\n",
       "<table border=\"1\" class=\"dataframe\">\n",
       "  <thead>\n",
       "    <tr style=\"text-align: right;\">\n",
       "      <th></th>\n",
       "      <th>listing_url</th>\n",
       "      <th>number_of_reviews</th>\n",
       "      <th>number_of_reviews_l30d</th>\n",
       "      <th>review_scores_rating</th>\n",
       "      <th>review_scores_accuracy</th>\n",
       "      <th>review_scores_cleanliness</th>\n",
       "      <th>review_scores_checkin</th>\n",
       "      <th>review_scores_communication</th>\n",
       "      <th>review_scores_location</th>\n",
       "      <th>review_scores_value</th>\n",
       "      <th>reviews_per_month</th>\n",
       "    </tr>\n",
       "  </thead>\n",
       "  <tbody>\n",
       "    <tr>\n",
       "      <th>0</th>\n",
       "      <td>https://www.airbnb.com/rooms/312761</td>\n",
       "      <td>122</td>\n",
       "      <td>0</td>\n",
       "      <td>4.96</td>\n",
       "      <td>4.97</td>\n",
       "      <td>4.93</td>\n",
       "      <td>4.96</td>\n",
       "      <td>5.00</td>\n",
       "      <td>4.89</td>\n",
       "      <td>4.93</td>\n",
       "      <td>0.86</td>\n",
       "    </tr>\n",
       "    <tr>\n",
       "      <th>1</th>\n",
       "      <td>https://www.airbnb.com/rooms/13913</td>\n",
       "      <td>41</td>\n",
       "      <td>0</td>\n",
       "      <td>4.80</td>\n",
       "      <td>4.73</td>\n",
       "      <td>4.73</td>\n",
       "      <td>4.75</td>\n",
       "      <td>4.83</td>\n",
       "      <td>4.70</td>\n",
       "      <td>4.70</td>\n",
       "      <td>0.25</td>\n",
       "    </tr>\n",
       "    <tr>\n",
       "      <th>2</th>\n",
       "      <td>https://www.airbnb.com/rooms/15400</td>\n",
       "      <td>94</td>\n",
       "      <td>0</td>\n",
       "      <td>4.80</td>\n",
       "      <td>4.85</td>\n",
       "      <td>4.88</td>\n",
       "      <td>4.88</td>\n",
       "      <td>4.83</td>\n",
       "      <td>4.93</td>\n",
       "      <td>4.74</td>\n",
       "      <td>0.54</td>\n",
       "    </tr>\n",
       "  </tbody>\n",
       "</table>\n",
       "</div>"
      ],
      "text/plain": [
       "                           listing_url  number_of_reviews  \\\n",
       "0  https://www.airbnb.com/rooms/312761                122   \n",
       "1   https://www.airbnb.com/rooms/13913                 41   \n",
       "2   https://www.airbnb.com/rooms/15400                 94   \n",
       "\n",
       "   number_of_reviews_l30d  review_scores_rating  review_scores_accuracy  \\\n",
       "0                       0                  4.96                    4.97   \n",
       "1                       0                  4.80                    4.73   \n",
       "2                       0                  4.80                    4.85   \n",
       "\n",
       "   review_scores_cleanliness  review_scores_checkin  \\\n",
       "0                       4.93                   4.96   \n",
       "1                       4.73                   4.75   \n",
       "2                       4.88                   4.88   \n",
       "\n",
       "   review_scores_communication  review_scores_location  review_scores_value  \\\n",
       "0                         5.00                    4.89                 4.93   \n",
       "1                         4.83                    4.70                 4.70   \n",
       "2                         4.83                    4.93                 4.74   \n",
       "\n",
       "   reviews_per_month  \n",
       "0               0.86  \n",
       "1               0.25  \n",
       "2               0.54  "
      ]
     },
     "execution_count": 9,
     "metadata": {},
     "output_type": "execute_result"
    }
   ],
   "source": [
    "#리뷰관련데이터\n",
    "df_review = dat[['listing_url','number_of_reviews', 'number_of_reviews_l30d', 'review_scores_rating', 'review_scores_accuracy',\n",
    "                'review_scores_cleanliness', 'review_scores_checkin', 'review_scores_communication',\n",
    "                'review_scores_location', 'review_scores_value', 'reviews_per_month']]\n",
    "df_review.head(3)"
   ]
  },
  {
   "cell_type": "code",
   "execution_count": 10,
   "metadata": {},
   "outputs": [
    {
     "data": {
      "text/html": [
       "<div>\n",
       "<style scoped>\n",
       "    .dataframe tbody tr th:only-of-type {\n",
       "        vertical-align: middle;\n",
       "    }\n",
       "\n",
       "    .dataframe tbody tr th {\n",
       "        vertical-align: top;\n",
       "    }\n",
       "\n",
       "    .dataframe thead th {\n",
       "        text-align: right;\n",
       "    }\n",
       "</style>\n",
       "<table border=\"1\" class=\"dataframe\">\n",
       "  <thead>\n",
       "    <tr style=\"text-align: right;\">\n",
       "      <th></th>\n",
       "      <th>숙소_url</th>\n",
       "      <th>리뷰수</th>\n",
       "      <th>30일_리뷰수</th>\n",
       "      <th>리뷰점수</th>\n",
       "      <th>숙소_정확성_리뷰점수</th>\n",
       "      <th>숙소_청결도_리뷰점수</th>\n",
       "      <th>숙소_체크인_리뷰점수</th>\n",
       "      <th>숙소_소통_리뷰점수</th>\n",
       "      <th>숙소_위치_리뷰점수</th>\n",
       "      <th>숙소_가격_리뷰점수</th>\n",
       "      <th>평균_리뷰수</th>\n",
       "    </tr>\n",
       "  </thead>\n",
       "  <tbody>\n",
       "    <tr>\n",
       "      <th>0</th>\n",
       "      <td>https://www.airbnb.com/rooms/312761</td>\n",
       "      <td>122</td>\n",
       "      <td>0</td>\n",
       "      <td>4.96</td>\n",
       "      <td>4.97</td>\n",
       "      <td>4.93</td>\n",
       "      <td>4.96</td>\n",
       "      <td>5.00</td>\n",
       "      <td>4.89</td>\n",
       "      <td>4.93</td>\n",
       "      <td>0.86</td>\n",
       "    </tr>\n",
       "    <tr>\n",
       "      <th>1</th>\n",
       "      <td>https://www.airbnb.com/rooms/13913</td>\n",
       "      <td>41</td>\n",
       "      <td>0</td>\n",
       "      <td>4.80</td>\n",
       "      <td>4.73</td>\n",
       "      <td>4.73</td>\n",
       "      <td>4.75</td>\n",
       "      <td>4.83</td>\n",
       "      <td>4.70</td>\n",
       "      <td>4.70</td>\n",
       "      <td>0.25</td>\n",
       "    </tr>\n",
       "    <tr>\n",
       "      <th>2</th>\n",
       "      <td>https://www.airbnb.com/rooms/15400</td>\n",
       "      <td>94</td>\n",
       "      <td>0</td>\n",
       "      <td>4.80</td>\n",
       "      <td>4.85</td>\n",
       "      <td>4.88</td>\n",
       "      <td>4.88</td>\n",
       "      <td>4.83</td>\n",
       "      <td>4.93</td>\n",
       "      <td>4.74</td>\n",
       "      <td>0.54</td>\n",
       "    </tr>\n",
       "    <tr>\n",
       "      <th>3</th>\n",
       "      <td>https://www.airbnb.com/rooms/159736</td>\n",
       "      <td>96</td>\n",
       "      <td>0</td>\n",
       "      <td>4.72</td>\n",
       "      <td>4.79</td>\n",
       "      <td>4.66</td>\n",
       "      <td>4.75</td>\n",
       "      <td>4.89</td>\n",
       "      <td>4.34</td>\n",
       "      <td>4.66</td>\n",
       "      <td>0.62</td>\n",
       "    </tr>\n",
       "    <tr>\n",
       "      <th>4</th>\n",
       "      <td>https://www.airbnb.com/rooms/165336</td>\n",
       "      <td>237</td>\n",
       "      <td>2</td>\n",
       "      <td>4.74</td>\n",
       "      <td>4.88</td>\n",
       "      <td>4.79</td>\n",
       "      <td>4.94</td>\n",
       "      <td>4.96</td>\n",
       "      <td>4.87</td>\n",
       "      <td>4.71</td>\n",
       "      <td>1.57</td>\n",
       "    </tr>\n",
       "  </tbody>\n",
       "</table>\n",
       "</div>"
      ],
      "text/plain": [
       "                                숙소_url  리뷰수  30일_리뷰수  리뷰점수  숙소_정확성_리뷰점수  \\\n",
       "0  https://www.airbnb.com/rooms/312761  122        0  4.96         4.97   \n",
       "1   https://www.airbnb.com/rooms/13913   41        0  4.80         4.73   \n",
       "2   https://www.airbnb.com/rooms/15400   94        0  4.80         4.85   \n",
       "3  https://www.airbnb.com/rooms/159736   96        0  4.72         4.79   \n",
       "4  https://www.airbnb.com/rooms/165336  237        2  4.74         4.88   \n",
       "\n",
       "   숙소_청결도_리뷰점수  숙소_체크인_리뷰점수  숙소_소통_리뷰점수  숙소_위치_리뷰점수  숙소_가격_리뷰점수  평균_리뷰수  \n",
       "0         4.93         4.96        5.00        4.89        4.93    0.86  \n",
       "1         4.73         4.75        4.83        4.70        4.70    0.25  \n",
       "2         4.88         4.88        4.83        4.93        4.74    0.54  \n",
       "3         4.66         4.75        4.89        4.34        4.66    0.62  \n",
       "4         4.79         4.94        4.96        4.87        4.71    1.57  "
      ]
     },
     "execution_count": 10,
     "metadata": {},
     "output_type": "execute_result"
    }
   ],
   "source": [
    "# 컬럼명 변경\n",
    "df_review = df_review.rename(columns={\n",
    "    'listing_url' : '숙소_url',\n",
    "    'number_of_reviews': '리뷰수',\n",
    "    'number_of_reviews_l30d': '30일_리뷰수',\n",
    "    'review_scores_rating': '리뷰점수',\n",
    "    'review_scores_accuracy': '숙소_정확성_리뷰점수',\n",
    "    'review_scores_cleanliness': '숙소_청결도_리뷰점수',\n",
    "    'review_scores_checkin': '숙소_체크인_리뷰점수',\n",
    "    'review_scores_communication': '숙소_소통_리뷰점수',\n",
    "    'review_scores_location': '숙소_위치_리뷰점수',\n",
    "    'review_scores_value': '숙소_가격_리뷰점수',\n",
    "    'reviews_per_month': '평균_리뷰수'\n",
    "})\n",
    "df_review.head()"
   ]
  },
  {
   "cell_type": "code",
   "execution_count": 11,
   "metadata": {},
   "outputs": [
    {
     "data": {
      "text/plain": [
       "(90852, 16)"
      ]
     },
     "execution_count": 11,
     "metadata": {},
     "output_type": "execute_result"
    }
   ],
   "source": [
    "df_lodging.shape"
   ]
  },
  {
   "cell_type": "code",
   "execution_count": 12,
   "metadata": {},
   "outputs": [
    {
     "data": {
      "text/plain": [
       "(90852, 11)"
      ]
     },
     "execution_count": 12,
     "metadata": {},
     "output_type": "execute_result"
    }
   ],
   "source": [
    "df_review.shape\n"
   ]
  },
  {
   "cell_type": "code",
   "execution_count": 13,
   "metadata": {},
   "outputs": [
    {
     "data": {
      "text/plain": [
       "(90852, 28)"
      ]
     },
     "execution_count": 13,
     "metadata": {},
     "output_type": "execute_result"
    }
   ],
   "source": [
    "df.shape"
   ]
  },
  {
   "cell_type": "code",
   "execution_count": 14,
   "metadata": {},
   "outputs": [
    {
     "data": {
      "text/plain": [
       "숙소_id            int64\n",
       "숙소_url          object\n",
       "호스트_id           int64\n",
       "숙소_특징           object\n",
       "슈퍼호스트           object\n",
       "숙소_수           float64\n",
       "숙소_지역           object\n",
       "위도             float64\n",
       "경도             float64\n",
       "숙소_유형           object\n",
       "수용인원수            int64\n",
       "욕실수            float64\n",
       "침실수            float64\n",
       "침대수            float64\n",
       "어메니티            object\n",
       "숙소_가격           object\n",
       "최소_숙박일           int64\n",
       "최대_숙박일           int64\n",
       "리뷰수              int64\n",
       "30일_리뷰수          int64\n",
       "리뷰점수           float64\n",
       "숙소_정확성_리뷰점수    float64\n",
       "숙소_청결도_리뷰점수    float64\n",
       "숙소_체크인_리뷰점수    float64\n",
       "숙소_소통_리뷰점수     float64\n",
       "숙소_위치_리뷰점수     float64\n",
       "숙소_가격_리뷰점수     float64\n",
       "평균_리뷰수         float64\n",
       "dtype: object"
      ]
     },
     "execution_count": 14,
     "metadata": {},
     "output_type": "execute_result"
    }
   ],
   "source": [
    "df.dtypes\n"
   ]
  },
  {
   "cell_type": "code",
   "execution_count": 15,
   "metadata": {},
   "outputs": [
    {
     "name": "stdout",
     "output_type": "stream",
     "text": [
      "<class 'pandas.core.frame.DataFrame'>\n",
      "RangeIndex: 90852 entries, 0 to 90851\n",
      "Data columns (total 28 columns):\n",
      " #   Column       Non-Null Count  Dtype  \n",
      "---  ------       --------------  -----  \n",
      " 0   숙소_id        90852 non-null  int64  \n",
      " 1   숙소_url       90852 non-null  object \n",
      " 2   호스트_id       90852 non-null  int64  \n",
      " 3   숙소_특징        90852 non-null  object \n",
      " 4   슈퍼호스트        90463 non-null  object \n",
      " 5   숙소_수         90847 non-null  float64\n",
      " 6   숙소_지역        90852 non-null  object \n",
      " 7   위도           90852 non-null  float64\n",
      " 8   경도           90852 non-null  float64\n",
      " 9   숙소_유형        90852 non-null  object \n",
      " 10  수용인원수        90852 non-null  int64  \n",
      " 11  욕실수          57894 non-null  float64\n",
      " 12  침실수          78118 non-null  float64\n",
      " 13  침대수          57837 non-null  float64\n",
      " 14  어메니티         90852 non-null  object \n",
      " 15  숙소_가격        57885 non-null  object \n",
      " 16  최소_숙박일       90852 non-null  int64  \n",
      " 17  최대_숙박일       90852 non-null  int64  \n",
      " 18  리뷰수          90852 non-null  int64  \n",
      " 19  30일_리뷰수      90852 non-null  int64  \n",
      " 20  리뷰점수         65869 non-null  float64\n",
      " 21  숙소_정확성_리뷰점수  65838 non-null  float64\n",
      " 22  숙소_청결도_리뷰점수  65843 non-null  float64\n",
      " 23  숙소_체크인_리뷰점수  65808 non-null  float64\n",
      " 24  숙소_소통_리뷰점수   65833 non-null  float64\n",
      " 25  숙소_위치_리뷰점수   65808 non-null  float64\n",
      " 26  숙소_가격_리뷰점수   65806 non-null  float64\n",
      " 27  평균_리뷰수       65869 non-null  float64\n",
      "dtypes: float64(14), int64(7), object(7)\n",
      "memory usage: 19.4+ MB\n"
     ]
    }
   ],
   "source": [
    "df.info()\n"
   ]
  },
  {
   "cell_type": "markdown",
   "metadata": {},
   "source": [
    "<h3>결측치 개수</h3><br>\n",
    "\n",
    "- 슈퍼호스트 389개\n",
    "- 문의_응답률 33,055개\n",
    "- 숙소_수 5개\n",
    "- 욕실수 32,958개\n",
    "- 침실수 12,734개\n",
    "- 침대수 33,015개\n",
    "- 숙소_가격 32,967개\n",
    "- 리뷰점수 24,983개\n",
    "- 숙소_정확성_리뷰점수 25014개\n",
    "- 숙소_청결도_리뷰점수 25009개\n",
    "- 숙소_체크인_리뷰점수 25044개\n",
    "- 숙소_소통_리뷰점수 25019개\n",
    "- 숙소_위치_리뷰점수 25044개\n",
    "- 숙소_가격_리뷰점수 25046개\n",
    "- 평균_리뷰수 24983개\n",
    "\n",
    "- -----------------------------------------\n",
    "\n",
    "- 숙소_상세설명 3,001개\n",
    "- 프로필사진_소지_여부 5개\n",
    "- 신원_검증_여부 5개\n",
    "- 숙소_예약가능_여부 4079개"
   ]
  },
  {
   "cell_type": "markdown",
   "metadata": {},
   "source": [
    "결측치 제거 확정 <br>\n",
    "- 슈퍼호스트 null값 (389개) 5%이하\n",
    "- 리뷰수 = 0인 값 --> 리뷰수가 없으면 리뷰점수도 없다\n",
    "- 숙소수 null값 (5개)\n",
    "- 리뷰분야 6개 전부 nan값인 컬럼\n",
    "- 리뷰수 = 1 인값 "
   ]
  },
  {
   "cell_type": "markdown",
   "metadata": {},
   "source": [
    "<h3>슈퍼호스트 결측치 처리</h3>\n",
    "\n",
    "- 슈퍼호스트가 null값인 데이터 삭제 389개임(5%이하 해당)\n",
    "\n"
   ]
  },
  {
   "cell_type": "code",
   "execution_count": 16,
   "metadata": {},
   "outputs": [
    {
     "data": {
      "text/plain": [
       "389"
      ]
     },
     "execution_count": 16,
     "metadata": {},
     "output_type": "execute_result"
    }
   ],
   "source": [
    "df['슈퍼호스트'].isna().sum()\n"
   ]
  },
  {
   "cell_type": "code",
   "execution_count": 17,
   "metadata": {},
   "outputs": [
    {
     "data": {
      "text/plain": [
       "(90463, 28)"
      ]
     },
     "execution_count": 17,
     "metadata": {},
     "output_type": "execute_result"
    }
   ],
   "source": [
    "df = df.dropna(subset=['슈퍼호스트'])\n",
    "df.shape"
   ]
  },
  {
   "cell_type": "markdown",
   "metadata": {},
   "source": [
    "<h3>숙소수 결측치 처리</h3>\n",
    "\n",
    "- 숙소수가 null값인 데이터 삭제 5개임(5%이하 해당)"
   ]
  },
  {
   "cell_type": "code",
   "execution_count": 18,
   "metadata": {},
   "outputs": [
    {
     "data": {
      "text/plain": [
       "(90458, 28)"
      ]
     },
     "execution_count": 18,
     "metadata": {},
     "output_type": "execute_result"
    }
   ],
   "source": [
    "df = df.dropna(subset=['숙소_수'])\n",
    "\n",
    "df.shape"
   ]
  },
  {
   "cell_type": "markdown",
   "metadata": {},
   "source": [
    "<h3>리뷰수 결측치 처리</h3>"
   ]
  },
  {
   "cell_type": "code",
   "execution_count": 19,
   "metadata": {},
   "outputs": [
    {
     "data": {
      "text/html": [
       "<div>\n",
       "<style scoped>\n",
       "    .dataframe tbody tr th:only-of-type {\n",
       "        vertical-align: middle;\n",
       "    }\n",
       "\n",
       "    .dataframe tbody tr th {\n",
       "        vertical-align: top;\n",
       "    }\n",
       "\n",
       "    .dataframe thead th {\n",
       "        text-align: right;\n",
       "    }\n",
       "</style>\n",
       "<table border=\"1\" class=\"dataframe\">\n",
       "  <thead>\n",
       "    <tr style=\"text-align: right;\">\n",
       "      <th></th>\n",
       "      <th>숙소_id</th>\n",
       "      <th>숙소_url</th>\n",
       "      <th>호스트_id</th>\n",
       "      <th>숙소_특징</th>\n",
       "      <th>슈퍼호스트</th>\n",
       "      <th>숙소_수</th>\n",
       "      <th>숙소_지역</th>\n",
       "      <th>위도</th>\n",
       "      <th>경도</th>\n",
       "      <th>숙소_유형</th>\n",
       "      <th>...</th>\n",
       "      <th>리뷰수</th>\n",
       "      <th>30일_리뷰수</th>\n",
       "      <th>리뷰점수</th>\n",
       "      <th>숙소_정확성_리뷰점수</th>\n",
       "      <th>숙소_청결도_리뷰점수</th>\n",
       "      <th>숙소_체크인_리뷰점수</th>\n",
       "      <th>숙소_소통_리뷰점수</th>\n",
       "      <th>숙소_위치_리뷰점수</th>\n",
       "      <th>숙소_가격_리뷰점수</th>\n",
       "      <th>평균_리뷰수</th>\n",
       "    </tr>\n",
       "  </thead>\n",
       "  <tbody>\n",
       "    <tr>\n",
       "      <th>9</th>\n",
       "      <td>170524</td>\n",
       "      <td>https://www.airbnb.com/rooms/170524</td>\n",
       "      <td>194769</td>\n",
       "      <td>Entire rental unit</td>\n",
       "      <td>f</td>\n",
       "      <td>9.0</td>\n",
       "      <td>Westminster</td>\n",
       "      <td>51.506120</td>\n",
       "      <td>-0.140290</td>\n",
       "      <td>Entire home/apt</td>\n",
       "      <td>...</td>\n",
       "      <td>0</td>\n",
       "      <td>0</td>\n",
       "      <td>NaN</td>\n",
       "      <td>NaN</td>\n",
       "      <td>NaN</td>\n",
       "      <td>NaN</td>\n",
       "      <td>NaN</td>\n",
       "      <td>NaN</td>\n",
       "      <td>NaN</td>\n",
       "      <td>NaN</td>\n",
       "    </tr>\n",
       "    <tr>\n",
       "      <th>35</th>\n",
       "      <td>318986</td>\n",
       "      <td>https://www.airbnb.com/rooms/318986</td>\n",
       "      <td>1637212</td>\n",
       "      <td>Entire rental unit</td>\n",
       "      <td>f</td>\n",
       "      <td>1.0</td>\n",
       "      <td>Kensington and Chelsea</td>\n",
       "      <td>51.491130</td>\n",
       "      <td>-0.194820</td>\n",
       "      <td>Entire home/apt</td>\n",
       "      <td>...</td>\n",
       "      <td>0</td>\n",
       "      <td>0</td>\n",
       "      <td>NaN</td>\n",
       "      <td>NaN</td>\n",
       "      <td>NaN</td>\n",
       "      <td>NaN</td>\n",
       "      <td>NaN</td>\n",
       "      <td>NaN</td>\n",
       "      <td>NaN</td>\n",
       "      <td>NaN</td>\n",
       "    </tr>\n",
       "    <tr>\n",
       "      <th>45</th>\n",
       "      <td>42692</td>\n",
       "      <td>https://www.airbnb.com/rooms/42692</td>\n",
       "      <td>186510</td>\n",
       "      <td>Private room in rental unit</td>\n",
       "      <td>f</td>\n",
       "      <td>1.0</td>\n",
       "      <td>Hammersmith and Fulham</td>\n",
       "      <td>51.508220</td>\n",
       "      <td>-0.215620</td>\n",
       "      <td>Private room</td>\n",
       "      <td>...</td>\n",
       "      <td>0</td>\n",
       "      <td>0</td>\n",
       "      <td>NaN</td>\n",
       "      <td>NaN</td>\n",
       "      <td>NaN</td>\n",
       "      <td>NaN</td>\n",
       "      <td>NaN</td>\n",
       "      <td>NaN</td>\n",
       "      <td>NaN</td>\n",
       "      <td>NaN</td>\n",
       "    </tr>\n",
       "    <tr>\n",
       "      <th>49</th>\n",
       "      <td>44384</td>\n",
       "      <td>https://www.airbnb.com/rooms/44384</td>\n",
       "      <td>194769</td>\n",
       "      <td>Private room in rental unit</td>\n",
       "      <td>f</td>\n",
       "      <td>9.0</td>\n",
       "      <td>Barnet</td>\n",
       "      <td>51.597900</td>\n",
       "      <td>-0.243270</td>\n",
       "      <td>Private room</td>\n",
       "      <td>...</td>\n",
       "      <td>0</td>\n",
       "      <td>0</td>\n",
       "      <td>NaN</td>\n",
       "      <td>NaN</td>\n",
       "      <td>NaN</td>\n",
       "      <td>NaN</td>\n",
       "      <td>NaN</td>\n",
       "      <td>NaN</td>\n",
       "      <td>NaN</td>\n",
       "      <td>NaN</td>\n",
       "    </tr>\n",
       "    <tr>\n",
       "      <th>56</th>\n",
       "      <td>324055</td>\n",
       "      <td>https://www.airbnb.com/rooms/324055</td>\n",
       "      <td>1664001</td>\n",
       "      <td>Private room in home</td>\n",
       "      <td>f</td>\n",
       "      <td>1.0</td>\n",
       "      <td>Newham</td>\n",
       "      <td>51.553110</td>\n",
       "      <td>0.022730</td>\n",
       "      <td>Private room</td>\n",
       "      <td>...</td>\n",
       "      <td>0</td>\n",
       "      <td>0</td>\n",
       "      <td>NaN</td>\n",
       "      <td>NaN</td>\n",
       "      <td>NaN</td>\n",
       "      <td>NaN</td>\n",
       "      <td>NaN</td>\n",
       "      <td>NaN</td>\n",
       "      <td>NaN</td>\n",
       "      <td>NaN</td>\n",
       "    </tr>\n",
       "    <tr>\n",
       "      <th>...</th>\n",
       "      <td>...</td>\n",
       "      <td>...</td>\n",
       "      <td>...</td>\n",
       "      <td>...</td>\n",
       "      <td>...</td>\n",
       "      <td>...</td>\n",
       "      <td>...</td>\n",
       "      <td>...</td>\n",
       "      <td>...</td>\n",
       "      <td>...</td>\n",
       "      <td>...</td>\n",
       "      <td>...</td>\n",
       "      <td>...</td>\n",
       "      <td>...</td>\n",
       "      <td>...</td>\n",
       "      <td>...</td>\n",
       "      <td>...</td>\n",
       "      <td>...</td>\n",
       "      <td>...</td>\n",
       "      <td>...</td>\n",
       "      <td>...</td>\n",
       "    </tr>\n",
       "    <tr>\n",
       "      <th>90847</th>\n",
       "      <td>1115272743905612628</td>\n",
       "      <td>https://www.airbnb.com/rooms/1115272743905612628</td>\n",
       "      <td>565833376</td>\n",
       "      <td>Entire rental unit</td>\n",
       "      <td>f</td>\n",
       "      <td>55.0</td>\n",
       "      <td>Bexley</td>\n",
       "      <td>51.502721</td>\n",
       "      <td>0.147342</td>\n",
       "      <td>Entire home/apt</td>\n",
       "      <td>...</td>\n",
       "      <td>0</td>\n",
       "      <td>0</td>\n",
       "      <td>NaN</td>\n",
       "      <td>NaN</td>\n",
       "      <td>NaN</td>\n",
       "      <td>NaN</td>\n",
       "      <td>NaN</td>\n",
       "      <td>NaN</td>\n",
       "      <td>NaN</td>\n",
       "      <td>NaN</td>\n",
       "    </tr>\n",
       "    <tr>\n",
       "      <th>90848</th>\n",
       "      <td>1115272767893608505</td>\n",
       "      <td>https://www.airbnb.com/rooms/1115272767893608505</td>\n",
       "      <td>565833376</td>\n",
       "      <td>Entire rental unit</td>\n",
       "      <td>f</td>\n",
       "      <td>55.0</td>\n",
       "      <td>Bexley</td>\n",
       "      <td>51.504134</td>\n",
       "      <td>0.148848</td>\n",
       "      <td>Entire home/apt</td>\n",
       "      <td>...</td>\n",
       "      <td>0</td>\n",
       "      <td>0</td>\n",
       "      <td>NaN</td>\n",
       "      <td>NaN</td>\n",
       "      <td>NaN</td>\n",
       "      <td>NaN</td>\n",
       "      <td>NaN</td>\n",
       "      <td>NaN</td>\n",
       "      <td>NaN</td>\n",
       "      <td>NaN</td>\n",
       "    </tr>\n",
       "    <tr>\n",
       "      <th>90849</th>\n",
       "      <td>1115285644506865913</td>\n",
       "      <td>https://www.airbnb.com/rooms/1115285644506865913</td>\n",
       "      <td>444801189</td>\n",
       "      <td>Room in hotel</td>\n",
       "      <td>f</td>\n",
       "      <td>44.0</td>\n",
       "      <td>Westminster</td>\n",
       "      <td>51.506404</td>\n",
       "      <td>-0.148199</td>\n",
       "      <td>Private room</td>\n",
       "      <td>...</td>\n",
       "      <td>0</td>\n",
       "      <td>0</td>\n",
       "      <td>NaN</td>\n",
       "      <td>NaN</td>\n",
       "      <td>NaN</td>\n",
       "      <td>NaN</td>\n",
       "      <td>NaN</td>\n",
       "      <td>NaN</td>\n",
       "      <td>NaN</td>\n",
       "      <td>NaN</td>\n",
       "    </tr>\n",
       "    <tr>\n",
       "      <th>90850</th>\n",
       "      <td>1115338006572763275</td>\n",
       "      <td>https://www.airbnb.com/rooms/1115338006572763275</td>\n",
       "      <td>514234035</td>\n",
       "      <td>Entire rental unit</td>\n",
       "      <td>f</td>\n",
       "      <td>62.0</td>\n",
       "      <td>Westminster</td>\n",
       "      <td>51.513649</td>\n",
       "      <td>-0.161906</td>\n",
       "      <td>Entire home/apt</td>\n",
       "      <td>...</td>\n",
       "      <td>0</td>\n",
       "      <td>0</td>\n",
       "      <td>NaN</td>\n",
       "      <td>NaN</td>\n",
       "      <td>NaN</td>\n",
       "      <td>NaN</td>\n",
       "      <td>NaN</td>\n",
       "      <td>NaN</td>\n",
       "      <td>NaN</td>\n",
       "      <td>NaN</td>\n",
       "    </tr>\n",
       "    <tr>\n",
       "      <th>90851</th>\n",
       "      <td>1115347885713265376</td>\n",
       "      <td>https://www.airbnb.com/rooms/1115347885713265376</td>\n",
       "      <td>215155525</td>\n",
       "      <td>Entire townhouse</td>\n",
       "      <td>f</td>\n",
       "      <td>6.0</td>\n",
       "      <td>Haringey</td>\n",
       "      <td>51.600825</td>\n",
       "      <td>-0.104080</td>\n",
       "      <td>Entire home/apt</td>\n",
       "      <td>...</td>\n",
       "      <td>0</td>\n",
       "      <td>0</td>\n",
       "      <td>NaN</td>\n",
       "      <td>NaN</td>\n",
       "      <td>NaN</td>\n",
       "      <td>NaN</td>\n",
       "      <td>NaN</td>\n",
       "      <td>NaN</td>\n",
       "      <td>NaN</td>\n",
       "      <td>NaN</td>\n",
       "    </tr>\n",
       "  </tbody>\n",
       "</table>\n",
       "<p>24920 rows × 28 columns</p>\n",
       "</div>"
      ],
      "text/plain": [
       "                     숙소_id                                            숙소_url  \\\n",
       "9                   170524               https://www.airbnb.com/rooms/170524   \n",
       "35                  318986               https://www.airbnb.com/rooms/318986   \n",
       "45                   42692                https://www.airbnb.com/rooms/42692   \n",
       "49                   44384                https://www.airbnb.com/rooms/44384   \n",
       "56                  324055               https://www.airbnb.com/rooms/324055   \n",
       "...                    ...                                               ...   \n",
       "90847  1115272743905612628  https://www.airbnb.com/rooms/1115272743905612628   \n",
       "90848  1115272767893608505  https://www.airbnb.com/rooms/1115272767893608505   \n",
       "90849  1115285644506865913  https://www.airbnb.com/rooms/1115285644506865913   \n",
       "90850  1115338006572763275  https://www.airbnb.com/rooms/1115338006572763275   \n",
       "90851  1115347885713265376  https://www.airbnb.com/rooms/1115347885713265376   \n",
       "\n",
       "          호스트_id                        숙소_특징 슈퍼호스트  숙소_수  \\\n",
       "9         194769           Entire rental unit     f   9.0   \n",
       "35       1637212           Entire rental unit     f   1.0   \n",
       "45        186510  Private room in rental unit     f   1.0   \n",
       "49        194769  Private room in rental unit     f   9.0   \n",
       "56       1664001         Private room in home     f   1.0   \n",
       "...          ...                          ...   ...   ...   \n",
       "90847  565833376           Entire rental unit     f  55.0   \n",
       "90848  565833376           Entire rental unit     f  55.0   \n",
       "90849  444801189                Room in hotel     f  44.0   \n",
       "90850  514234035           Entire rental unit     f  62.0   \n",
       "90851  215155525             Entire townhouse     f   6.0   \n",
       "\n",
       "                        숙소_지역         위도        경도            숙소_유형  ...  리뷰수  \\\n",
       "9                 Westminster  51.506120 -0.140290  Entire home/apt  ...    0   \n",
       "35     Kensington and Chelsea  51.491130 -0.194820  Entire home/apt  ...    0   \n",
       "45     Hammersmith and Fulham  51.508220 -0.215620     Private room  ...    0   \n",
       "49                     Barnet  51.597900 -0.243270     Private room  ...    0   \n",
       "56                     Newham  51.553110  0.022730     Private room  ...    0   \n",
       "...                       ...        ...       ...              ...  ...  ...   \n",
       "90847                  Bexley  51.502721  0.147342  Entire home/apt  ...    0   \n",
       "90848                  Bexley  51.504134  0.148848  Entire home/apt  ...    0   \n",
       "90849             Westminster  51.506404 -0.148199     Private room  ...    0   \n",
       "90850             Westminster  51.513649 -0.161906  Entire home/apt  ...    0   \n",
       "90851                Haringey  51.600825 -0.104080  Entire home/apt  ...    0   \n",
       "\n",
       "       30일_리뷰수  리뷰점수  숙소_정확성_리뷰점수 숙소_청결도_리뷰점수 숙소_체크인_리뷰점수  숙소_소통_리뷰점수  \\\n",
       "9            0   NaN          NaN         NaN         NaN         NaN   \n",
       "35           0   NaN          NaN         NaN         NaN         NaN   \n",
       "45           0   NaN          NaN         NaN         NaN         NaN   \n",
       "49           0   NaN          NaN         NaN         NaN         NaN   \n",
       "56           0   NaN          NaN         NaN         NaN         NaN   \n",
       "...        ...   ...          ...         ...         ...         ...   \n",
       "90847        0   NaN          NaN         NaN         NaN         NaN   \n",
       "90848        0   NaN          NaN         NaN         NaN         NaN   \n",
       "90849        0   NaN          NaN         NaN         NaN         NaN   \n",
       "90850        0   NaN          NaN         NaN         NaN         NaN   \n",
       "90851        0   NaN          NaN         NaN         NaN         NaN   \n",
       "\n",
       "       숙소_위치_리뷰점수  숙소_가격_리뷰점수  평균_리뷰수  \n",
       "9             NaN         NaN     NaN  \n",
       "35            NaN         NaN     NaN  \n",
       "45            NaN         NaN     NaN  \n",
       "49            NaN         NaN     NaN  \n",
       "56            NaN         NaN     NaN  \n",
       "...           ...         ...     ...  \n",
       "90847         NaN         NaN     NaN  \n",
       "90848         NaN         NaN     NaN  \n",
       "90849         NaN         NaN     NaN  \n",
       "90850         NaN         NaN     NaN  \n",
       "90851         NaN         NaN     NaN  \n",
       "\n",
       "[24920 rows x 28 columns]"
      ]
     },
     "execution_count": 19,
     "metadata": {},
     "output_type": "execute_result"
    }
   ],
   "source": [
    "df[df['리뷰수'] == 0]\n"
   ]
  },
  {
   "cell_type": "code",
   "execution_count": 20,
   "metadata": {},
   "outputs": [],
   "source": [
    "df = df[(df['리뷰수'] != 0)]\n"
   ]
  },
  {
   "cell_type": "code",
   "execution_count": 21,
   "metadata": {},
   "outputs": [
    {
     "data": {
      "text/plain": [
       "(65538, 28)"
      ]
     },
     "execution_count": 21,
     "metadata": {},
     "output_type": "execute_result"
    }
   ],
   "source": [
    "df.shape\n"
   ]
  },
  {
   "cell_type": "markdown",
   "metadata": {},
   "source": [
    "<h3>리뷰분야 (6개)결측치 처리</h3>\n",
    "'숙소_정확성_리뷰점수', '숙소_청결도_리뷰점수', '숙소_체크인_리뷰점수',\n",
    "       '숙소_소통_리뷰점수', '숙소_위치_리뷰점수', '숙소_가격_리뷰점수'"
   ]
  },
  {
   "cell_type": "code",
   "execution_count": 22,
   "metadata": {},
   "outputs": [],
   "source": [
    "review_field = df['숙소_정확성_리뷰점수'].isna() & df['숙소_청결도_리뷰점수'].isna() & df['숙소_체크인_리뷰점수'].isna() & df['숙소_소통_리뷰점수'].isna() \\\n",
    "   & df['숙소_위치_리뷰점수'].isna() &df['숙소_가격_리뷰점수'].isna()"
   ]
  },
  {
   "cell_type": "code",
   "execution_count": 23,
   "metadata": {},
   "outputs": [],
   "source": [
    "df = df[~review_field]"
   ]
  },
  {
   "cell_type": "code",
   "execution_count": 24,
   "metadata": {},
   "outputs": [
    {
     "data": {
      "text/plain": [
       "(65516, 28)"
      ]
     },
     "execution_count": 24,
     "metadata": {},
     "output_type": "execute_result"
    }
   ],
   "source": [
    "df.shape"
   ]
  },
  {
   "cell_type": "code",
   "execution_count": 25,
   "metadata": {},
   "outputs": [
    {
     "data": {
      "text/plain": [
       "41"
      ]
     },
     "execution_count": 25,
     "metadata": {},
     "output_type": "execute_result"
    }
   ],
   "source": [
    "#각 분야의 널값\n",
    "df['숙소_정확성_리뷰점수'].isna().sum() # 9개\n",
    "df['숙소_청결도_리뷰점수'].isna().sum() # 4개\n",
    "df['숙소_소통_리뷰점수'].isna().sum() # 14개\n",
    "df['숙소_위치_리뷰점수'].isna().sum() # 39개\n",
    "df['숙소_가격_리뷰점수'].isna().sum() # 41개"
   ]
  },
  {
   "cell_type": "markdown",
   "metadata": {},
   "source": [
    "숙소유형이 Hotel room / Shared room 인 행 삭제\n",
    "\n",
    "- 에어비앤비 숙소의 특징인 개인실 대여, 아파트 집 대여인 점을 이용"
   ]
  },
  {
   "cell_type": "code",
   "execution_count": 26,
   "metadata": {},
   "outputs": [
    {
     "data": {
      "text/plain": [
       "숙소_유형\n",
       "Entire home/apt    42526\n",
       "Private room       22621\n",
       "Shared room          220\n",
       "Hotel room           149\n",
       "Name: count, dtype: int64"
      ]
     },
     "execution_count": 26,
     "metadata": {},
     "output_type": "execute_result"
    }
   ],
   "source": [
    "df['숙소_유형'].value_counts()"
   ]
  },
  {
   "cell_type": "code",
   "execution_count": 27,
   "metadata": {},
   "outputs": [
    {
     "data": {
      "image/png": "[encoded data removed]",
      "text/plain": [
       "<Figure size 640x480 with 1 Axes>"
      ]
     },
     "metadata": {},
     "output_type": "display_data"
    }
   ],
   "source": [
    "df['숙소_유형'].value_counts().plot(kind='bar')\n",
    "plt.show()"
   ]
  },
  {
   "cell_type": "code",
   "execution_count": 28,
   "metadata": {},
   "outputs": [],
   "source": [
    "condition = (df['숙소_유형'] == 'Hotel room') | (df['숙소_유형'] == 'Shared room')"
   ]
  },
  {
   "cell_type": "code",
   "execution_count": 29,
   "metadata": {},
   "outputs": [],
   "source": [
    "df = df[~condition]"
   ]
  },
  {
   "cell_type": "code",
   "execution_count": 30,
   "metadata": {},
   "outputs": [
    {
     "data": {
      "text/plain": [
       "숙소_유형\n",
       "Entire home/apt    42526\n",
       "Private room       22621\n",
       "Name: count, dtype: int64"
      ]
     },
     "execution_count": 30,
     "metadata": {},
     "output_type": "execute_result"
    }
   ],
   "source": [
    "df['숙소_유형'].value_counts()"
   ]
  },
  {
   "cell_type": "markdown",
   "metadata": {},
   "source": [
    "숙소가격 결측치 처리"
   ]
  },
  {
   "cell_type": "code",
   "execution_count": 31,
   "metadata": {},
   "outputs": [],
   "source": [
    "df.loc[:,'숙소_가격'] = df['숙소_가격'].str.replace('$', \"\")\n",
    "df.loc[:,'숙소_가격'] = df['숙소_가격'].str.replace(',', \"\")\n",
    "df.loc[:,'숙소_가격'] = df['숙소_가격'].str.strip()"
   ]
  },
  {
   "cell_type": "code",
   "execution_count": 32,
   "metadata": {},
   "outputs": [
    {
     "data": {
      "text/plain": [
       "0        160.0\n",
       "1         65.0\n",
       "2        120.0\n",
       "3         65.0\n",
       "4        100.0\n",
       "         ...  \n",
       "90451     46.0\n",
       "90568     78.0\n",
       "90590    136.0\n",
       "90648    109.0\n",
       "90735     41.0\n",
       "Name: 숙소_가격, Length: 65147, dtype: float64"
      ]
     },
     "execution_count": 32,
     "metadata": {},
     "output_type": "execute_result"
    }
   ],
   "source": [
    "df['숙소_가격'] = df.loc[:,'숙소_가격'].astype(float)\n",
    "df['숙소_가격']\n"
   ]
  },
  {
   "cell_type": "code",
   "execution_count": 33,
   "metadata": {},
   "outputs": [],
   "source": [
    "temp = df.copy()"
   ]
  },
  {
   "cell_type": "code",
   "execution_count": 34,
   "metadata": {},
   "outputs": [
    {
     "data": {
      "text/plain": [
       "21965"
      ]
     },
     "execution_count": 34,
     "metadata": {},
     "output_type": "execute_result"
    }
   ],
   "source": [
    "df['숙소_가격'].isna().sum()"
   ]
  },
  {
   "cell_type": "code",
   "execution_count": 35,
   "metadata": {},
   "outputs": [
    {
     "data": {
      "text/plain": [
       "숙소_id              0\n",
       "숙소_url             0\n",
       "호스트_id             0\n",
       "숙소_특징              0\n",
       "슈퍼호스트              0\n",
       "숙소_수               0\n",
       "숙소_지역              0\n",
       "위도                 0\n",
       "경도                 0\n",
       "숙소_유형              0\n",
       "수용인원수              0\n",
       "욕실수            21934\n",
       "침실수             7718\n",
       "침대수            21989\n",
       "어메니티               0\n",
       "숙소_가격          21965\n",
       "최소_숙박일             0\n",
       "최대_숙박일             0\n",
       "리뷰수                0\n",
       "30일_리뷰수            0\n",
       "리뷰점수               0\n",
       "숙소_정확성_리뷰점수        9\n",
       "숙소_청결도_리뷰점수        4\n",
       "숙소_체크인_리뷰점수       39\n",
       "숙소_소통_리뷰점수        14\n",
       "숙소_위치_리뷰점수        39\n",
       "숙소_가격_리뷰점수        41\n",
       "평균_리뷰수             0\n",
       "dtype: int64"
      ]
     },
     "execution_count": 35,
     "metadata": {},
     "output_type": "execute_result"
    }
   ],
   "source": [
    "temp.isna().sum()"
   ]
  },
  {
   "cell_type": "markdown",
   "metadata": {},
   "source": [
    "결측치 값 예측 (랜덤 포레스트 분석 )\n",
    "\n",
    "- 범주형 데이터를 수치형으로 변경 (원핫인코딩) 값이 2개만 나오는 데이터 (슈퍼호스트(T/F)) / 숙소_유형(entire/apt, private room)\n",
    "- 모든 컬럼에 결측값이 없어야함"
   ]
  },
  {
   "cell_type": "code",
   "execution_count": 36,
   "metadata": {},
   "outputs": [
    {
     "data": {
      "text/plain": [
       "Index(['숙소_id', '숙소_url', '호스트_id', '숙소_특징', '슈퍼호스트', '숙소_수', '숙소_지역', '위도',\n",
       "       '경도', '숙소_유형', '수용인원수', '욕실수', '침실수', '침대수', '어메니티', '숙소_가격', '최소_숙박일',\n",
       "       '최대_숙박일', '리뷰수', '30일_리뷰수', '리뷰점수', '숙소_정확성_리뷰점수', '숙소_청결도_리뷰점수',\n",
       "       '숙소_체크인_리뷰점수', '숙소_소통_리뷰점수', '숙소_위치_리뷰점수', '숙소_가격_리뷰점수', '평균_리뷰수'],\n",
       "      dtype='object')"
      ]
     },
     "execution_count": 36,
     "metadata": {},
     "output_type": "execute_result"
    }
   ],
   "source": [
    "df.columns"
   ]
  },
  {
   "cell_type": "code",
   "execution_count": 37,
   "metadata": {},
   "outputs": [],
   "source": [
    "df = df.dropna(subset=['숙소_id', '숙소_url', '호스트_id', '숙소_특징', '슈퍼호스트', '숙소_수', '숙소_지역', '위도',\n",
    "       '경도', '숙소_유형', '수용인원수', '욕실수', '침실수', '침대수', '어메니티', '최소_숙박일',\n",
    "       '최대_숙박일', '리뷰수', '30일_리뷰수', '리뷰점수', '숙소_정확성_리뷰점수', '숙소_청결도_리뷰점수',\n",
    "       '숙소_체크인_리뷰점수', '숙소_소통_리뷰점수', '숙소_위치_리뷰점수', '숙소_가격_리뷰점수', '평균_리뷰수'])"
   ]
  },
  {
   "cell_type": "code",
   "execution_count": 38,
   "metadata": {},
   "outputs": [
    {
     "data": {
      "text/html": [
       "<style>#sk-container-id-1 {color: black;background-color: white;}#sk-container-id-1 pre{padding: 0;}#sk-container-id-1 div.sk-toggleable {background-color: white;}#sk-container-id-1 label.sk-toggleable__label {cursor: pointer;display: block;width: 100%;margin-bottom: 0;padding: 0.3em;box-sizing: border-box;text-align: center;}#sk-container-id-1 label.sk-toggleable__label-arrow:before {content: \"▸\";float: left;margin-right: 0.25em;color: #696969;}#sk-container-id-1 label.sk-toggleable__label-arrow:hover:before {color: black;}#sk-container-id-1 div.sk-estimator:hover label.sk-toggleable__label-arrow:before {color: black;}#sk-container-id-1 div.sk-toggleable__content {max-height: 0;max-width: 0;overflow: hidden;text-align: left;background-color: #f0f8ff;}#sk-container-id-1 div.sk-toggleable__content pre {margin: 0.2em;color: black;border-radius: 0.25em;background-color: #f0f8ff;}#sk-container-id-1 input.sk-toggleable__control:checked~div.sk-toggleable__content {max-height: 200px;max-width: 100%;overflow: auto;}#sk-container-id-1 input.sk-toggleable__control:checked~label.sk-toggleable__label-arrow:before {content: \"▾\";}#sk-container-id-1 div.sk-estimator input.sk-toggleable__control:checked~label.sk-toggleable__label {background-color: #d4ebff;}#sk-container-id-1 div.sk-label input.sk-toggleable__control:checked~label.sk-toggleable__label {background-color: #d4ebff;}#sk-container-id-1 input.sk-hidden--visually {border: 0;clip: rect(1px 1px 1px 1px);clip: rect(1px, 1px, 1px, 1px);height: 1px;margin: -1px;overflow: hidden;padding: 0;position: absolute;width: 1px;}#sk-container-id-1 div.sk-estimator {font-family: monospace;background-color: #f0f8ff;border: 1px dotted black;border-radius: 0.25em;box-sizing: border-box;margin-bottom: 0.5em;}#sk-container-id-1 div.sk-estimator:hover {background-color: #d4ebff;}#sk-container-id-1 div.sk-parallel-item::after {content: \"\";width: 100%;border-bottom: 1px solid gray;flex-grow: 1;}#sk-container-id-1 div.sk-label:hover label.sk-toggleable__label {background-color: #d4ebff;}#sk-container-id-1 div.sk-serial::before {content: \"\";position: absolute;border-left: 1px solid gray;box-sizing: border-box;top: 0;bottom: 0;left: 50%;z-index: 0;}#sk-container-id-1 div.sk-serial {display: flex;flex-direction: column;align-items: center;background-color: white;padding-right: 0.2em;padding-left: 0.2em;position: relative;}#sk-container-id-1 div.sk-item {position: relative;z-index: 1;}#sk-container-id-1 div.sk-parallel {display: flex;align-items: stretch;justify-content: center;background-color: white;position: relative;}#sk-container-id-1 div.sk-item::before, #sk-container-id-1 div.sk-parallel-item::before {content: \"\";position: absolute;border-left: 1px solid gray;box-sizing: border-box;top: 0;bottom: 0;left: 50%;z-index: -1;}#sk-container-id-1 div.sk-parallel-item {display: flex;flex-direction: column;z-index: 1;position: relative;background-color: white;}#sk-container-id-1 div.sk-parallel-item:first-child::after {align-self: flex-end;width: 50%;}#sk-container-id-1 div.sk-parallel-item:last-child::after {align-self: flex-start;width: 50%;}#sk-container-id-1 div.sk-parallel-item:only-child::after {width: 0;}#sk-container-id-1 div.sk-dashed-wrapped {border: 1px dashed gray;margin: 0 0.4em 0.5em 0.4em;box-sizing: border-box;padding-bottom: 0.4em;background-color: white;}#sk-container-id-1 div.sk-label label {font-family: monospace;font-weight: bold;display: inline-block;line-height: 1.2em;}#sk-container-id-1 div.sk-label-container {text-align: center;}#sk-container-id-1 div.sk-container {/* jupyter's `normalize.less` sets `[hidden] { display: none; }` but bootstrap.min.css set `[hidden] { display: none !important; }` so we also need the `!important` here to be able to override the default hidden behavior on the sphinx rendered scikit-learn.org. See: https://github.com/scikit-learn/scikit-learn/issues/21755 */display: inline-block !important;position: relative;}#sk-container-id-1 div.sk-text-repr-fallback {display: none;}</style><div id=\"sk-container-id-1\" class=\"sk-top-container\"><div class=\"sk-text-repr-fallback\"><pre>RandomForestRegressor(random_state=42)</pre><b>In a Jupyter environment, please rerun this cell to show the HTML representation or trust the notebook. <br />On GitHub, the HTML representation is unable to render, please try loading this page with nbviewer.org.</b></div><div class=\"sk-container\" hidden><div class=\"sk-item\"><div class=\"sk-estimator sk-toggleable\"><input class=\"sk-toggleable__control sk-hidden--visually\" id=\"sk-estimator-id-1\" type=\"checkbox\" checked><label for=\"sk-estimator-id-1\" class=\"sk-toggleable__label sk-toggleable__label-arrow\">RandomForestRegressor</label><div class=\"sk-toggleable__content\"><pre>RandomForestRegressor(random_state=42)</pre></div></div></div></div></div>"
      ],
      "text/plain": [
       "RandomForestRegressor(random_state=42)"
      ]
     },
     "execution_count": 38,
     "metadata": {},
     "output_type": "execute_result"
    }
   ],
   "source": [
    "#범주형 데이터 >> 슈퍼호스트 (Yes/No) / 숙소_지역 / 숙소_유형 \n",
    "#수지형 데이터 >> '숙소_수', '수용인원수', '욕실수', '침실수', '침대수', '리뷰수', '30일_리뷰수', \n",
    "# '리뷰점수', '숙소_정확성_리뷰점수', '숙소_청결도_리뷰점수',\n",
    "# '숙소_체크인_리뷰점수', '숙소_소통_리뷰점수', '숙소_위치_리뷰점수', '숙소_가격_리뷰점수', '평균_리뷰수'\n",
    "\n",
    "import pandas as pd\n",
    "import numpy as np\n",
    "from sklearn.model_selection import train_test_split\n",
    "from sklearn.ensemble import RandomForestRegressor\n",
    "from sklearn.metrics import mean_absolute_error\n",
    "from sklearn.preprocessing import OneHotEncoder\n",
    "\n",
    "#수치형 데이터\n",
    "numeric_columns = ['숙소_수', '수용인원수', '욕실수', '침실수', '침대수', '리뷰수', '30일_리뷰수', \n",
    "                    '리뷰점수', '숙소_정확성_리뷰점수', '숙소_청결도_리뷰점수',\n",
    "                    '숙소_체크인_리뷰점수', '숙소_소통_리뷰점수', '숙소_위치_리뷰점수', '숙소_가격_리뷰점수', '평균_리뷰수']\n",
    "\n",
    "#범주형 데이터 \n",
    "category_columns = ['슈퍼호스트','숙소_유형']\n",
    "\n",
    "#결측치 없는 데이터 \n",
    "df_no_null = df.dropna(subset=['숙소_가격','욕실수','침실수','침대수','숙소_정확성_리뷰점수','숙소_청결도_리뷰점수',\n",
    "                               '숙소_체크인_리뷰점수', '숙소_소통_리뷰점수', '숙소_위치_리뷰점수','숙소_가격_리뷰점수'])\n",
    "\n",
    "#결측치 있는 데이터 \n",
    "df_null = df[df['숙소_가격'].isna()]\n",
    "\n",
    "#범주형 데이터 인코딩 \n",
    "encoder = OneHotEncoder(sparse_output=False, handle_unknown='ignore')\n",
    "encoded_columns = encoder.fit_transform(df_no_null[category_columns])\n",
    "\n",
    "#인코딩된 데이터프레임 생성\n",
    "encoded_df = pd.DataFrame(encoded_columns, columns=encoder.get_feature_names_out(category_columns))\n",
    "\n",
    "#수치형 데이터와 인코딩된 데이터 결합 \n",
    "X = pd.concat([df_no_null[numeric_columns].reset_index(drop=True), encoded_df],axis=1)\n",
    "y = df_no_null['숙소_가격']\n",
    "\n",
    "#랜덤 포레스트 모델 훈련 \n",
    "X_train, X_test, y_train, y_test = train_test_split(X,y, test_size=0.2, random_state=42)\n",
    "model = RandomForestRegressor(n_estimators=100, random_state= 42) #100개의 의사결정 트리\n",
    "model.fit(X_train, y_train)\n",
    " "
   ]
  },
  {
   "cell_type": "code",
   "execution_count": 39,
   "metadata": {},
   "outputs": [],
   "source": [
    "#모델 성능평가 \n",
    "y_pred = model.predict(X_test)"
   ]
  },
  {
   "cell_type": "code",
   "execution_count": 40,
   "metadata": {},
   "outputs": [
    {
     "name": "stdout",
     "output_type": "stream",
     "text": [
      "Mean Absolute Error:  68.06261506709593\n"
     ]
    }
   ],
   "source": [
    "#모델 성능평가 \n",
    "y_pred = model.predict(X_test)\n",
    "print(\"Mean Absolute Error: \", mean_absolute_error(y_test, y_pred))\n",
    "\n",
    "#결측치가 있는 데이터에 동일한 인코딩 적용 \n",
    "encoded_columns_null = encoder.transform(df_null[category_columns])\n",
    "encoded_df_null = pd.DataFrame(encoded_columns_null, columns=encoder.get_feature_names_out(category_columns))\n",
    "X_null = pd.concat([df_null[numeric_columns].reset_index(drop=True), encoded_df_null], axis=1)\n",
    "\n",
    "\n",
    "# #결측치 예측 \n",
    "y_pred_price = model.predict(X_null)\n",
    "\n"
   ]
  },
  {
   "cell_type": "code",
   "execution_count": 41,
   "metadata": {},
   "outputs": [
    {
     "data": {
      "text/plain": [
       "array([ 203.4       ,  576.19      ,  152.55      ,   93.57      ,\n",
       "         93.79      ,  352.14      ,  112.05      ,  351.87      ,\n",
       "        160.89      ,   51.17      ,  180.46      ,  245.69      ,\n",
       "       6680.17      ,   83.57      ,  171.5       ,  194.79      ,\n",
       "        156.48      ,  213.97      ,   92.95      ,  122.81      ,\n",
       "         95.73      ,   88.82      ,   52.33      ,  609.48      ,\n",
       "        185.85      ,  202.78      ,  148.90907143,   98.91      ,\n",
       "        395.772     ,   67.31      ,  147.06066667,  242.83      ,\n",
       "         79.42      ,  224.39      ,  179.32      ,  179.32      ,\n",
       "        181.        ,  335.34      ,   63.99      ,  167.02      ,\n",
       "        165.26      ,  147.04      ,  269.32      ,  141.63      ,\n",
       "         51.62      ,  106.75      ,  102.18      ,   84.13      ,\n",
       "        138.19      ,  141.18      ,  149.685     ])"
      ]
     },
     "execution_count": 41,
     "metadata": {},
     "output_type": "execute_result"
    }
   ],
   "source": [
    "y_pred_price"
   ]
  },
  {
   "cell_type": "code",
   "execution_count": 42,
   "metadata": {},
   "outputs": [],
   "source": [
    "df.loc[df['숙소_가격'].isna(), '숙소_가격'] = y_pred_price"
   ]
  },
  {
   "cell_type": "code",
   "execution_count": 43,
   "metadata": {},
   "outputs": [
    {
     "data": {
      "text/plain": [
       "0"
      ]
     },
     "execution_count": 43,
     "metadata": {},
     "output_type": "execute_result"
    }
   ],
   "source": [
    "df['숙소_가격'].isna().sum()"
   ]
  },
  {
   "cell_type": "code",
   "execution_count": 44,
   "metadata": {},
   "outputs": [
    {
     "name": "stdout",
     "output_type": "stream",
     "text": [
      "<class 'pandas.core.frame.DataFrame'>\n",
      "Index: 43120 entries, 0 to 90735\n",
      "Data columns (total 28 columns):\n",
      " #   Column       Non-Null Count  Dtype  \n",
      "---  ------       --------------  -----  \n",
      " 0   숙소_id        43120 non-null  int64  \n",
      " 1   숙소_url       43120 non-null  object \n",
      " 2   호스트_id       43120 non-null  int64  \n",
      " 3   숙소_특징        43120 non-null  object \n",
      " 4   슈퍼호스트        43120 non-null  object \n",
      " 5   숙소_수         43120 non-null  float64\n",
      " 6   숙소_지역        43120 non-null  object \n",
      " 7   위도           43120 non-null  float64\n",
      " 8   경도           43120 non-null  float64\n",
      " 9   숙소_유형        43120 non-null  object \n",
      " 10  수용인원수        43120 non-null  int64  \n",
      " 11  욕실수          43120 non-null  float64\n",
      " 12  침실수          43120 non-null  float64\n",
      " 13  침대수          43120 non-null  float64\n",
      " 14  어메니티         43120 non-null  object \n",
      " 15  숙소_가격        43120 non-null  float64\n",
      " 16  최소_숙박일       43120 non-null  int64  \n",
      " 17  최대_숙박일       43120 non-null  int64  \n",
      " 18  리뷰수          43120 non-null  int64  \n",
      " 19  30일_리뷰수      43120 non-null  int64  \n",
      " 20  리뷰점수         43120 non-null  float64\n",
      " 21  숙소_정확성_리뷰점수  43120 non-null  float64\n",
      " 22  숙소_청결도_리뷰점수  43120 non-null  float64\n",
      " 23  숙소_체크인_리뷰점수  43120 non-null  float64\n",
      " 24  숙소_소통_리뷰점수   43120 non-null  float64\n",
      " 25  숙소_위치_리뷰점수   43120 non-null  float64\n",
      " 26  숙소_가격_리뷰점수   43120 non-null  float64\n",
      " 27  평균_리뷰수       43120 non-null  float64\n",
      "dtypes: float64(15), int64(7), object(6)\n",
      "memory usage: 9.5+ MB\n"
     ]
    }
   ],
   "source": [
    "df.info()"
   ]
  },
  {
   "cell_type": "code",
   "execution_count": 51,
   "metadata": {},
   "outputs": [],
   "source": [
    "df_scores = df[['숙소_가격','리뷰점수','숙소_정확성_리뷰점수', '숙소_청결도_리뷰점수',\n",
    "       '숙소_체크인_리뷰점수', '숙소_소통_리뷰점수', '숙소_위치_리뷰점수', '숙소_가격_리뷰점수', '평균_리뷰수','수용인원수']]"
   ]
  },
  {
   "cell_type": "code",
   "execution_count": 58,
   "metadata": {},
   "outputs": [
    {
     "data": {
      "image/png": "[encoded data removed]",
      "text/plain": [
       "<Figure size 1000x800 with 2 Axes>"
      ]
     },
     "metadata": {},
     "output_type": "display_data"
    }
   ],
   "source": [
    "import numpy as np\n",
    "import seaborn as sns\n",
    "import matplotlib.pyplot as plt\n",
    "import pandas as pd\n",
    "import sys\n",
    "sys.executable\n",
    "\n",
    "# 데이터프레임의 상관관계 계산\n",
    "corr = x_null.corr()\n",
    "\n",
    "\n",
    "# 마스크 생성 (상단 삼각형)\n",
    "mask = np.triu(np.ones_like(corr, dtype=bool))\n",
    "\n",
    "# 히트맵 그리기\n",
    "plt.figure(figsize=(10, 8))  # 그래프의 크기 설정\n",
    "sns.heatmap(corr, mask=mask, annot=True, cmap='coolwarm', fmt=\".2f\", linewidths=.5)\n",
    "plt.title('숙소 가격 및 리뷰 점수 간의 상관계수 히트맵')  # 그래프 제목 설정\n",
    "plt.show()"
   ]
  },
  {
   "cell_type": "code",
   "execution_count": 62,
   "metadata": {},
   "outputs": [],
   "source": [
    "df_bed = df[['숙소_가격','침실수','침대수','욕실수']]\n"
   ]
  },
  {
   "cell_type": "code",
   "execution_count": 63,
   "metadata": {},
   "outputs": [
    {
     "data": {
      "image/png": "[encoded data removed]",
      "text/plain": [
       "<Figure size 1000x800 with 2 Axes>"
      ]
     },
     "metadata": {},
     "output_type": "display_data"
    }
   ],
   "source": [
    "import numpy as np\n",
    "import seaborn as sns\n",
    "import matplotlib.pyplot as plt\n",
    "import pandas as pd\n",
    "# 데이터프레임의 상관관계 계산\n",
    "corr = df_bed.corr()\n",
    "\n",
    "# 마스크 생성 (상단 삼각형)\n",
    "mask = np.triu(np.ones_like(corr, dtype=bool))\n",
    "\n",
    "# 히트맵 그리기\n",
    "plt.figure(figsize=(10, 8))  # 그래프의 크기 설정\n",
    "sns.heatmap(corr, annot=True, cmap='coolwarm', fmt=\".2f\", linewidths=.5, mask=mask)\n",
    "plt.title('숙소 가격 및 리뷰 점수 간의 상관계수 히트맵')  # 그래프 제목 설정\n",
    "plt.show()"
   ]
  },
  {
   "cell_type": "code",
   "execution_count": 64,
   "metadata": {},
   "outputs": [
    {
     "data": {
      "text/plain": [
       "숙소_유형\n",
       "Entire home/apt    28760\n",
       "Private room       14360\n",
       "Name: count, dtype: int64"
      ]
     },
     "execution_count": 64,
     "metadata": {},
     "output_type": "execute_result"
    }
   ],
   "source": [
    "df['숙소_유형'].value_counts()"
   ]
  },
  {
   "cell_type": "code",
   "execution_count": 67,
   "metadata": {},
   "outputs": [
    {
     "name": "stderr",
     "output_type": "stream",
     "text": [
      "C:\\Users\\Master\\AppData\\Local\\Temp\\ipykernel_11792\\2732007862.py:1: FutureWarning: Downcasting behavior in `replace` is deprecated and will be removed in a future version. To retain the old behavior, explicitly call `result.infer_objects(copy=False)`. To opt-in to the future behavior, set `pd.set_option('future.no_silent_downcasting', True)`\n",
      "  df.loc[:,'숙소_유형'] = df['숙소_유형'].replace({'Entire home/apt': 1, 'Private room': 2})\n"
     ]
    }
   ],
   "source": [
    "df.loc[:,'숙소_유형'] = df['숙소_유형'].replace({'Entire home/apt': 1, 'Private room': 2})"
   ]
  },
  {
   "cell_type": "code",
   "execution_count": 71,
   "metadata": {},
   "outputs": [
    {
     "data": {
      "text/plain": [
       "숙소_유형\n",
       "1    28760\n",
       "2    14360\n",
       "Name: count, dtype: int64"
      ]
     },
     "execution_count": 71,
     "metadata": {},
     "output_type": "execute_result"
    }
   ],
   "source": [
    "df['숙소_유형'].value_counts()"
   ]
  },
  {
   "cell_type": "code",
   "execution_count": 69,
   "metadata": {},
   "outputs": [],
   "source": [
    "df['숙소_유형'] = df.loc[:,'숙소_유형'].astype(int)\n"
   ]
  },
  {
   "cell_type": "code",
   "execution_count": 74,
   "metadata": {},
   "outputs": [
    {
     "data": {
      "text/plain": [
       "0         5\n",
       "1         9\n",
       "2         2\n",
       "3         7\n",
       "4         2\n",
       "         ..\n",
       "90451     7\n",
       "90568     9\n",
       "90590     4\n",
       "90648    14\n",
       "90735     5\n",
       "Name: 숙소_지역, Length: 43120, dtype: int64"
      ]
     },
     "execution_count": 74,
     "metadata": {},
     "output_type": "execute_result"
    }
   ],
   "source": [
    "import pandas as pd\n",
    "\n",
    "# 지역 목록\n",
    "areas = [\n",
    "    'Westminster', 'Kensington and Chelsea', 'Tower Hamlets', 'Camden', 'Hackney', \n",
    "    'Southwark', 'Lambeth', 'Wandsworth', 'Islington', 'Hammersmith and Fulham', \n",
    "    'Brent', 'Ealing', 'Newham', 'Lewisham', 'Barnet', 'Haringey', 'Greenwich', \n",
    "    'Waltham Forest', 'Croydon', 'Merton', 'Richmond upon Thames', 'Hounslow', \n",
    "    'Hillingdon', 'Enfield', 'Bromley', 'Redbridge', 'Kingston upon Thames', \n",
    "    'Barking and Dagenham', 'Harrow', 'City of London', 'Bexley', 'Havering', 'Sutton'\n",
    "]\n",
    "\n",
    "# 숫자로 매핑된 딕셔너리\n",
    "area_mapping = {area: i+1 for i, area in enumerate(areas)}\n",
    "\n",
    "\n",
    "# replace 메서드를 사용하여 값 변환\n",
    "df['숙소_지역'] = df['숙소_지역'].replace(area_mapping)\n",
    "\n",
    "df['숙소_지역']"
   ]
  },
  {
   "cell_type": "code",
   "execution_count": 75,
   "metadata": {},
   "outputs": [],
   "source": [
    "df_area_type = df[['숙소_지역','숙소_유형','숙소_가격','수용인원수']]"
   ]
  },
  {
   "cell_type": "code",
   "execution_count": 76,
   "metadata": {},
   "outputs": [
    {
     "data": {
      "image/png": "[encoded data removed]",
      "text/plain": [
       "<Figure size 1000x800 with 2 Axes>"
      ]
     },
     "metadata": {},
     "output_type": "display_data"
    }
   ],
   "source": [
    "import numpy as np\n",
    "import seaborn as sns\n",
    "import matplotlib.pyplot as plt\n",
    "import pandas as pd\n",
    "# 데이터프레임의 상관관계 계산\n",
    "corr = df_area_type.corr()\n",
    "\n",
    "# 마스크 생성 (상단 삼각형)\n",
    "mask = np.triu(np.ones_like(corr, dtype=bool))\n",
    "\n",
    "# 히트맵 그리기\n",
    "plt.figure(figsize=(10, 8))  # 그래프의 크기 설정\n",
    "sns.heatmap(corr, annot=True, cmap='coolwarm', fmt=\".2f\", linewidths=.5, mask=mask)\n",
    "plt.title('숙소 가격 및 리뷰 점수 간의 상관계수 히트맵')  # 그래프 제목 설정\n",
    "plt.show()"
   ]
  },
  {
   "cell_type": "code",
   "execution_count": 78,
   "metadata": {},
   "outputs": [
    {
     "name": "stderr",
     "output_type": "stream",
     "text": [
      "C:\\Users\\Master\\AppData\\Local\\Temp\\ipykernel_11792\\858935255.py:1: FutureWarning: Downcasting behavior in `replace` is deprecated and will be removed in a future version. To retain the old behavior, explicitly call `result.infer_objects(copy=False)`. To opt-in to the future behavior, set `pd.set_option('future.no_silent_downcasting', True)`\n",
      "  temp.loc[:,'숙소_유형'] = temp['숙소_유형'].replace({'Entire home/apt': 1, 'Private room': 2})\n"
     ]
    }
   ],
   "source": [
    "temp.loc[:,'숙소_유형'] = temp['숙소_유형'].replace({'Entire home/apt': 1, 'Private room': 2})\n",
    "temp['숙소_유형'] = temp.loc[:,'숙소_유형'].astype(int)"
   ]
  },
  {
   "cell_type": "code",
   "execution_count": 79,
   "metadata": {},
   "outputs": [
    {
     "name": "stderr",
     "output_type": "stream",
     "text": [
      "C:\\Users\\Master\\AppData\\Local\\Temp\\ipykernel_11792\\2372945853.py:18: FutureWarning: Downcasting behavior in `replace` is deprecated and will be removed in a future version. To retain the old behavior, explicitly call `result.infer_objects(copy=False)`. To opt-in to the future behavior, set `pd.set_option('future.no_silent_downcasting', True)`\n",
      "  temp['숙소_지역'] = temp['숙소_지역'].replace(area_mapping)\n"
     ]
    },
    {
     "data": {
      "text/plain": [
       "0         5\n",
       "1         9\n",
       "2         2\n",
       "3         7\n",
       "4         2\n",
       "         ..\n",
       "90451     7\n",
       "90568     9\n",
       "90590     4\n",
       "90648    14\n",
       "90735     5\n",
       "Name: 숙소_지역, Length: 65147, dtype: int64"
      ]
     },
     "execution_count": 79,
     "metadata": {},
     "output_type": "execute_result"
    }
   ],
   "source": [
    "import pandas as pd\n",
    "\n",
    "# 지역 목록\n",
    "areas = [\n",
    "    'Westminster', 'Kensington and Chelsea', 'Tower Hamlets', 'Camden', 'Hackney', \n",
    "    'Southwark', 'Lambeth', 'Wandsworth', 'Islington', 'Hammersmith and Fulham', \n",
    "    'Brent', 'Ealing', 'Newham', 'Lewisham', 'Barnet', 'Haringey', 'Greenwich', \n",
    "    'Waltham Forest', 'Croydon', 'Merton', 'Richmond upon Thames', 'Hounslow', \n",
    "    'Hillingdon', 'Enfield', 'Bromley', 'Redbridge', 'Kingston upon Thames', \n",
    "    'Barking and Dagenham', 'Harrow', 'City of London', 'Bexley', 'Havering', 'Sutton'\n",
    "]\n",
    "\n",
    "# 숫자로 매핑된 딕셔너리\n",
    "area_mapping = {area: i+1 for i, area in enumerate(areas)}\n",
    "\n",
    "\n",
    "# replace 메서드를 사용하여 값 변환\n",
    "temp['숙소_지역'] = temp['숙소_지역'].replace(area_mapping)\n",
    "\n",
    "temp['숙소_지역']"
   ]
  },
  {
   "cell_type": "code",
   "execution_count": 83,
   "metadata": {},
   "outputs": [],
   "source": [
    "temp = temp.dropna()"
   ]
  },
  {
   "cell_type": "code",
   "execution_count": 84,
   "metadata": {},
   "outputs": [
    {
     "name": "stdout",
     "output_type": "stream",
     "text": [
      "<class 'pandas.core.frame.DataFrame'>\n",
      "Index: 43069 entries, 0 to 90735\n",
      "Data columns (total 28 columns):\n",
      " #   Column       Non-Null Count  Dtype  \n",
      "---  ------       --------------  -----  \n",
      " 0   숙소_id        43069 non-null  int64  \n",
      " 1   숙소_url       43069 non-null  object \n",
      " 2   호스트_id       43069 non-null  int64  \n",
      " 3   숙소_특징        43069 non-null  object \n",
      " 4   슈퍼호스트        43069 non-null  object \n",
      " 5   숙소_수         43069 non-null  float64\n",
      " 6   숙소_지역        43069 non-null  int64  \n",
      " 7   위도           43069 non-null  float64\n",
      " 8   경도           43069 non-null  float64\n",
      " 9   숙소_유형        43069 non-null  int32  \n",
      " 10  수용인원수        43069 non-null  int64  \n",
      " 11  욕실수          43069 non-null  float64\n",
      " 12  침실수          43069 non-null  float64\n",
      " 13  침대수          43069 non-null  float64\n",
      " 14  어메니티         43069 non-null  object \n",
      " 15  숙소_가격        43069 non-null  float64\n",
      " 16  최소_숙박일       43069 non-null  int64  \n",
      " 17  최대_숙박일       43069 non-null  int64  \n",
      " 18  리뷰수          43069 non-null  int64  \n",
      " 19  30일_리뷰수      43069 non-null  int64  \n",
      " 20  리뷰점수         43069 non-null  float64\n",
      " 21  숙소_정확성_리뷰점수  43069 non-null  float64\n",
      " 22  숙소_청결도_리뷰점수  43069 non-null  float64\n",
      " 23  숙소_체크인_리뷰점수  43069 non-null  float64\n",
      " 24  숙소_소통_리뷰점수   43069 non-null  float64\n",
      " 25  숙소_위치_리뷰점수   43069 non-null  float64\n",
      " 26  숙소_가격_리뷰점수   43069 non-null  float64\n",
      " 27  평균_리뷰수       43069 non-null  float64\n",
      "dtypes: float64(15), int32(1), int64(8), object(4)\n",
      "memory usage: 9.4+ MB\n"
     ]
    }
   ],
   "source": [
    "temp.info()"
   ]
  },
  {
   "cell_type": "code",
   "execution_count": 85,
   "metadata": {},
   "outputs": [],
   "source": [
    "temp_area_type = temp[['숙소_지역','숙소_유형','숙소_가격','수용인원수']]"
   ]
  },
  {
   "cell_type": "code",
   "execution_count": 86,
   "metadata": {},
   "outputs": [
    {
     "data": {
      "image/png": "[encoded data removed]",
      "text/plain": [
       "<Figure size 1000x800 with 2 Axes>"
      ]
     },
     "metadata": {},
     "output_type": "display_data"
    }
   ],
   "source": [
    "import numpy as np\n",
    "import seaborn as sns\n",
    "import matplotlib.pyplot as plt\n",
    "import pandas as pd\n",
    "# 데이터프레임의 상관관계 계산\n",
    "corr = temp_area_type.corr()\n",
    "\n",
    "# 마스크 생성 (상단 삼각형)\n",
    "mask = np.triu(np.ones_like(corr, dtype=bool))\n",
    "\n",
    "# 히트맵 그리기\n",
    "plt.figure(figsize=(10, 8))  # 그래프의 크기 설정\n",
    "sns.heatmap(corr, annot=True, cmap='coolwarm', fmt=\".2f\", linewidths=.5, mask=mask)\n",
    "plt.title('숙소 가격 및 리뷰 점수 간의 상관계수 히트맵')  # 그래프 제목 설정\n",
    "plt.show()"
   ]
  }
 ],
 "metadata": {
  "kernelspec": {
   "display_name": "base",
   "language": "python",
   "name": "python3"
  },
  "language_info": {
   "codemirror_mode": {
    "name": "ipython",
    "version": 3
   },
   "file_extension": ".py",
   "mimetype": "text/x-python",
   "name": "python",
   "nbconvert_exporter": "python",
   "pygments_lexer": "ipython3",
   "version": "3.11.7"
  }
 },
 "nbformat": 4,
 "nbformat_minor": 2
}
