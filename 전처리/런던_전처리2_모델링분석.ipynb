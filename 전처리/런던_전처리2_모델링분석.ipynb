{
 "cells": [
  {
   "cell_type": "code",
   "execution_count": 2,
   "metadata": {},
   "outputs": [],
   "source": [
    "# !pip install matplotlib\n",
    "# !pip install pandas\n",
    "# !pip install seaborn\n",
    "# !pip install numpy \n"
   ]
  },
  {
   "cell_type": "code",
   "execution_count": 3,
   "metadata": {},
   "outputs": [],
   "source": [
    "import numpy as np\n",
    "import pandas as pd\n",
    "import matplotlib.pyplot as plt\n",
    "\n",
    "path = '../../data/Airbnb_London/listings.csv'"
   ]
  },
  {
   "cell_type": "code",
   "execution_count": 4,
   "metadata": {},
   "outputs": [],
   "source": [
    "# matplotlib 한글 폰트 오류 문제 해결\n",
    "from matplotlib import font_manager, rc\n",
    "import matplotlib as mpl\n",
    "font_path = '../../data/malgun.ttf'\n",
    "font_name = font_manager.FontProperties(fname=font_path).get_name()\n",
    "rc('font', family=font_name)\n",
    "# 마이너스 깨짐 현상 해결\n",
    "mpl.rcParams['axes.unicode_minus'] = False"
   ]
  },
  {
   "cell_type": "code",
   "execution_count": 5,
   "metadata": {},
   "outputs": [],
   "source": [
    "df = pd.read_csv(path)\n",
    "df = pd.DataFrame(df)"
   ]
  },
  {
   "cell_type": "code",
   "execution_count": 6,
   "metadata": {},
   "outputs": [],
   "source": [
    "dat = df.copy()"
   ]
  },
  {
   "cell_type": "markdown",
   "metadata": {},
   "source": [
    "<h3>필요한 컬럼 가져오기(32개) <h3> "
   ]
  },
  {
   "cell_type": "code",
   "execution_count": 7,
   "metadata": {},
   "outputs": [
    {
     "data": {
      "text/plain": [
       "Index(['id', 'listing_url', 'scrape_id', 'last_scraped', 'source', 'name',\n",
       "       'description', 'neighborhood_overview', 'picture_url', 'host_id',\n",
       "       'host_url', 'host_name', 'host_since', 'host_location', 'host_about',\n",
       "       'host_response_time', 'host_response_rate', 'host_acceptance_rate',\n",
       "       'host_is_superhost', 'host_thumbnail_url', 'host_picture_url',\n",
       "       'host_neighbourhood', 'host_listings_count',\n",
       "       'host_total_listings_count', 'host_verifications',\n",
       "       'host_has_profile_pic', 'host_identity_verified', 'neighbourhood',\n",
       "       'neighbourhood_cleansed', 'neighbourhood_group_cleansed', 'latitude',\n",
       "       'longitude', 'property_type', 'room_type', 'accommodates', 'bathrooms',\n",
       "       'bathrooms_text', 'bedrooms', 'beds', 'amenities', 'price',\n",
       "       'minimum_nights', 'maximum_nights', 'minimum_minimum_nights',\n",
       "       'maximum_minimum_nights', 'minimum_maximum_nights',\n",
       "       'maximum_maximum_nights', 'minimum_nights_avg_ntm',\n",
       "       'maximum_nights_avg_ntm', 'calendar_updated', 'has_availability',\n",
       "       'availability_30', 'availability_60', 'availability_90',\n",
       "       'availability_365', 'calendar_last_scraped', 'number_of_reviews',\n",
       "       'number_of_reviews_ltm', 'number_of_reviews_l30d', 'first_review',\n",
       "       'last_review', 'review_scores_rating', 'review_scores_accuracy',\n",
       "       'review_scores_cleanliness', 'review_scores_checkin',\n",
       "       'review_scores_communication', 'review_scores_location',\n",
       "       'review_scores_value', 'license', 'instant_bookable',\n",
       "       'calculated_host_listings_count',\n",
       "       'calculated_host_listings_count_entire_homes',\n",
       "       'calculated_host_listings_count_private_rooms',\n",
       "       'calculated_host_listings_count_shared_rooms', 'reviews_per_month'],\n",
       "      dtype='object')"
      ]
     },
     "execution_count": 7,
     "metadata": {},
     "output_type": "execute_result"
    }
   ],
   "source": [
    "dat.columns"
   ]
  },
  {
   "cell_type": "code",
   "execution_count": 8,
   "metadata": {},
   "outputs": [
    {
     "data": {
      "text/plain": [
       "0        2024-03-21\n",
       "1        2024-03-20\n",
       "2        2024-03-20\n",
       "3        2024-03-20\n",
       "4        2024-03-21\n",
       "            ...    \n",
       "90847    2024-03-19\n",
       "90848    2024-03-19\n",
       "90849    2024-03-21\n",
       "90850    2024-03-20\n",
       "90851    2024-03-19\n",
       "Name: last_scraped, Length: 90852, dtype: object"
      ]
     },
     "execution_count": 8,
     "metadata": {},
     "output_type": "execute_result"
    }
   ],
   "source": [
    "dat['last_scraped']"
   ]
  },
  {
   "cell_type": "code",
   "execution_count": 9,
   "metadata": {},
   "outputs": [
    {
     "data": {
      "text/html": [
       "<div>\n",
       "<style scoped>\n",
       "    .dataframe tbody tr th:only-of-type {\n",
       "        vertical-align: middle;\n",
       "    }\n",
       "\n",
       "    .dataframe tbody tr th {\n",
       "        vertical-align: top;\n",
       "    }\n",
       "\n",
       "    .dataframe thead th {\n",
       "        text-align: right;\n",
       "    }\n",
       "</style>\n",
       "<table border=\"1\" class=\"dataframe\">\n",
       "  <thead>\n",
       "    <tr style=\"text-align: right;\">\n",
       "      <th></th>\n",
       "      <th>id</th>\n",
       "      <th>listing_url</th>\n",
       "      <th>host_id</th>\n",
       "      <th>property_type</th>\n",
       "      <th>host_is_superhost</th>\n",
       "      <th>host_total_listings_count</th>\n",
       "      <th>neighbourhood_cleansed</th>\n",
       "      <th>latitude</th>\n",
       "      <th>longitude</th>\n",
       "      <th>room_type</th>\n",
       "      <th>...</th>\n",
       "      <th>number_of_reviews</th>\n",
       "      <th>number_of_reviews_l30d</th>\n",
       "      <th>review_scores_rating</th>\n",
       "      <th>review_scores_accuracy</th>\n",
       "      <th>review_scores_cleanliness</th>\n",
       "      <th>review_scores_checkin</th>\n",
       "      <th>review_scores_communication</th>\n",
       "      <th>review_scores_location</th>\n",
       "      <th>review_scores_value</th>\n",
       "      <th>reviews_per_month</th>\n",
       "    </tr>\n",
       "  </thead>\n",
       "  <tbody>\n",
       "    <tr>\n",
       "      <th>0</th>\n",
       "      <td>312761</td>\n",
       "      <td>https://www.airbnb.com/rooms/312761</td>\n",
       "      <td>1608226</td>\n",
       "      <td>Entire rental unit</td>\n",
       "      <td>t</td>\n",
       "      <td>3.0</td>\n",
       "      <td>Hackney</td>\n",
       "      <td>51.52704</td>\n",
       "      <td>-0.08129</td>\n",
       "      <td>Entire home/apt</td>\n",
       "      <td>...</td>\n",
       "      <td>122</td>\n",
       "      <td>0</td>\n",
       "      <td>4.96</td>\n",
       "      <td>4.97</td>\n",
       "      <td>4.93</td>\n",
       "      <td>4.96</td>\n",
       "      <td>5.00</td>\n",
       "      <td>4.89</td>\n",
       "      <td>4.93</td>\n",
       "      <td>0.86</td>\n",
       "    </tr>\n",
       "    <tr>\n",
       "      <th>1</th>\n",
       "      <td>13913</td>\n",
       "      <td>https://www.airbnb.com/rooms/13913</td>\n",
       "      <td>54730</td>\n",
       "      <td>Private room in rental unit</td>\n",
       "      <td>t</td>\n",
       "      <td>5.0</td>\n",
       "      <td>Islington</td>\n",
       "      <td>51.56861</td>\n",
       "      <td>-0.11270</td>\n",
       "      <td>Private room</td>\n",
       "      <td>...</td>\n",
       "      <td>41</td>\n",
       "      <td>0</td>\n",
       "      <td>4.80</td>\n",
       "      <td>4.73</td>\n",
       "      <td>4.73</td>\n",
       "      <td>4.75</td>\n",
       "      <td>4.83</td>\n",
       "      <td>4.70</td>\n",
       "      <td>4.70</td>\n",
       "      <td>0.25</td>\n",
       "    </tr>\n",
       "    <tr>\n",
       "      <th>2</th>\n",
       "      <td>15400</td>\n",
       "      <td>https://www.airbnb.com/rooms/15400</td>\n",
       "      <td>60302</td>\n",
       "      <td>Entire rental unit</td>\n",
       "      <td>f</td>\n",
       "      <td>1.0</td>\n",
       "      <td>Kensington and Chelsea</td>\n",
       "      <td>51.48780</td>\n",
       "      <td>-0.16813</td>\n",
       "      <td>Entire home/apt</td>\n",
       "      <td>...</td>\n",
       "      <td>94</td>\n",
       "      <td>0</td>\n",
       "      <td>4.80</td>\n",
       "      <td>4.85</td>\n",
       "      <td>4.88</td>\n",
       "      <td>4.88</td>\n",
       "      <td>4.83</td>\n",
       "      <td>4.93</td>\n",
       "      <td>4.74</td>\n",
       "      <td>0.54</td>\n",
       "    </tr>\n",
       "  </tbody>\n",
       "</table>\n",
       "<p>3 rows × 28 columns</p>\n",
       "</div>"
      ],
      "text/plain": [
       "       id                          listing_url  host_id  \\\n",
       "0  312761  https://www.airbnb.com/rooms/312761  1608226   \n",
       "1   13913   https://www.airbnb.com/rooms/13913    54730   \n",
       "2   15400   https://www.airbnb.com/rooms/15400    60302   \n",
       "\n",
       "                 property_type host_is_superhost  host_total_listings_count  \\\n",
       "0           Entire rental unit                 t                        3.0   \n",
       "1  Private room in rental unit                 t                        5.0   \n",
       "2           Entire rental unit                 f                        1.0   \n",
       "\n",
       "   neighbourhood_cleansed  latitude  longitude        room_type  ...  \\\n",
       "0                 Hackney  51.52704   -0.08129  Entire home/apt  ...   \n",
       "1               Islington  51.56861   -0.11270     Private room  ...   \n",
       "2  Kensington and Chelsea  51.48780   -0.16813  Entire home/apt  ...   \n",
       "\n",
       "   number_of_reviews  number_of_reviews_l30d  review_scores_rating  \\\n",
       "0                122                       0                  4.96   \n",
       "1                 41                       0                  4.80   \n",
       "2                 94                       0                  4.80   \n",
       "\n",
       "   review_scores_accuracy review_scores_cleanliness review_scores_checkin  \\\n",
       "0                    4.97                      4.93                  4.96   \n",
       "1                    4.73                      4.73                  4.75   \n",
       "2                    4.85                      4.88                  4.88   \n",
       "\n",
       "   review_scores_communication  review_scores_location  review_scores_value  \\\n",
       "0                         5.00                    4.89                 4.93   \n",
       "1                         4.83                    4.70                 4.70   \n",
       "2                         4.83                    4.93                 4.74   \n",
       "\n",
       "   reviews_per_month  \n",
       "0               0.86  \n",
       "1               0.25  \n",
       "2               0.54  \n",
       "\n",
       "[3 rows x 28 columns]"
      ]
     },
     "execution_count": 9,
     "metadata": {},
     "output_type": "execute_result"
    }
   ],
   "source": [
    "#필요한 컬럼 가져오기 \n",
    "selected_columns = ['id','listing_url','host_id', 'property_type',\n",
    "                    'host_is_superhost','host_total_listings_count','neighbourhood_cleansed','latitude',\n",
    "                    'longitude','room_type','accommodates','bathrooms','bedrooms','beds','amenities','price',\n",
    "                    'minimum_nights','maximum_nights','number_of_reviews','number_of_reviews_l30d',\n",
    "                    'review_scores_rating','review_scores_accuracy','review_scores_cleanliness',\n",
    "                    'review_scores_checkin','review_scores_communication','review_scores_location',\n",
    "                    'review_scores_value','reviews_per_month']\n",
    "df = df[selected_columns]\n",
    "\n",
    "df.head(3)\n"
   ]
  },
  {
   "cell_type": "code",
   "execution_count": 10,
   "metadata": {},
   "outputs": [
    {
     "data": {
      "text/plain": [
       "array(['Private room in rental unit', 'Private room in home',\n",
       "       'Private room in townhouse', 'Private room in condo',\n",
       "       'Room in aparthotel', 'Private room in loft', 'Private room',\n",
       "       'Private room in bed and breakfast',\n",
       "       'Private room in serviced apartment', 'Private room in bungalow',\n",
       "       'Private room in guesthouse', 'Private room in yurt',\n",
       "       'Private room in guest suite', 'Private room in villa',\n",
       "       'Private room in cottage', 'Private room in houseboat',\n",
       "       'Private room in casa particular', 'Private room in vacation home',\n",
       "       'Room in boutique hotel', 'Private room in hut',\n",
       "       'Private room in chalet', 'Private room in camper/rv',\n",
       "       'Private room in hostel', 'Private room in lighthouse',\n",
       "       'Private room in floor', 'Private room in cabin',\n",
       "       'Private room in island', 'Room in hotel',\n",
       "       'Private room in tiny home', 'Private room in farm stay',\n",
       "       'Private room in earthen home', 'Private room in treehouse',\n",
       "       'Private room in boat', \"Private room in shepherd's hut\",\n",
       "       'Private room in castle', 'Private room in nature lodge',\n",
       "       'Private room in religious building',\n",
       "       'Private room in shipping container'], dtype=object)"
      ]
     },
     "execution_count": 10,
     "metadata": {},
     "output_type": "execute_result"
    }
   ],
   "source": [
    "df[df['room_type'] == 'Private room']['property_type'].unique()"
   ]
  },
  {
   "cell_type": "code",
   "execution_count": 11,
   "metadata": {},
   "outputs": [
    {
     "data": {
      "text/plain": [
       "array(['Entire rental unit', 'Entire townhouse', 'Entire home',\n",
       "       'Entire guesthouse', 'Entire condo', 'Entire serviced apartment',\n",
       "       'Entire guest suite', 'Houseboat', 'Entire loft', 'Entire cabin',\n",
       "       'Boat', 'Entire cottage', 'Tiny home', 'Entire place',\n",
       "       'Shepherd’s hut', 'Camper/RV', 'Entire home/apt',\n",
       "       'Entire vacation home', 'Entire bungalow', 'Entire villa', 'Floor',\n",
       "       'Earthen home', 'Barn', 'Entire chalet', 'Room in aparthotel',\n",
       "       'Campsite', 'Religious building', 'Hut', 'Dome', 'Tent', 'Minsu',\n",
       "       'Casa particular', 'Riad', 'Island', 'Castle', 'Tower',\n",
       "       'Farm stay', 'Shipping container', 'Treehouse'], dtype=object)"
      ]
     },
     "execution_count": 11,
     "metadata": {},
     "output_type": "execute_result"
    }
   ],
   "source": [
    "df[df['room_type'] == 'Entire home/apt']['property_type'].unique()\n"
   ]
  },
  {
   "cell_type": "code",
   "execution_count": 12,
   "metadata": {},
   "outputs": [
    {
     "data": {
      "text/plain": [
       "id                             73\n",
       "listing_url                    73\n",
       "host_id                        73\n",
       "property_type                  73\n",
       "host_is_superhost              73\n",
       "host_total_listings_count      73\n",
       "neighbourhood_cleansed         73\n",
       "latitude                       73\n",
       "longitude                      73\n",
       "room_type                      73\n",
       "accommodates                   73\n",
       "bathrooms                      52\n",
       "bedrooms                       67\n",
       "beds                           51\n",
       "amenities                      73\n",
       "price                          52\n",
       "minimum_nights                 73\n",
       "maximum_nights                 73\n",
       "number_of_reviews              73\n",
       "number_of_reviews_l30d         73\n",
       "review_scores_rating           55\n",
       "review_scores_accuracy         55\n",
       "review_scores_cleanliness      55\n",
       "review_scores_checkin          55\n",
       "review_scores_communication    55\n",
       "review_scores_location         55\n",
       "review_scores_value            55\n",
       "reviews_per_month              55\n",
       "dtype: int64"
      ]
     },
     "execution_count": 12,
     "metadata": {},
     "output_type": "execute_result"
    }
   ],
   "source": [
    "df[df['property_type'] == 'Boat'].count()"
   ]
  },
  {
   "cell_type": "markdown",
   "metadata": {},
   "source": [
    "<h3>필요한 컬럼명 변경<h3>"
   ]
  },
  {
   "cell_type": "markdown",
   "metadata": {},
   "source": [
    "컬렴명 변경 \n",
    "\n",
    "- 'id' : '숙소 id'\n",
    "- 'listing_url' : '숙소 url'\n",
    "- 'host_id' : '호스트 id'\n",
    "- 'host_is_superhost' : '슈퍼호스트 여부'\n",
    "- 'latitude' : '위도'\n",
    "- 'longitude' : '경도'\n",
    "- 'host_total_listings_count' : '등록한 총 숙소 수'\n",
    "- 'neighbourhood_cleansed' : '클린된 숙소 구'\n",
    "- 'room_type' : '룸 유형'\n",
    "- 'accommodates' : '수용 인원수'\n",
    "- 'bathrooms' : '욕실수'\n",
    "- 'bedrooms' : '침실수'\n",
    "- 'beds' : '침대수'\n",
    "- 'amenities' : '어메니티'\n",
    "- 'price' : '숙소 가격'\n",
    "- 'minimum_nights' : '최소 숙박일'\n",
    "- 'maximum_nights' : '최대 숙박일'\n",
    "- 'number_of_reviews' : '총 리뷰수'\n",
    "- 'number_of_reviews_l30d' : '한달치 리뷰수'\n",
    "- 'review_scores_rating' : '리뷰 총점수'\n",
    "- 'review_scores_accuracy' : '리뷰점수(숙소정보 정확성 )'\n",
    "- 'review_scores_cleanliness' : '리뷰점수(청결함)'\n",
    "- 'review_scores_checkin' : '리뷰점수(체크인과정)'\n",
    "- 'review_scores_communication' : '리뷰점수(호스트와 소통)'\n",
    "- 'review_scores_location' : '리뷰점수(숙소위치)'\n",
    "- 'review_scores_value' : '리뷰점수(숙소가격)'\n",
    "- 'reviews_per_month' : '월별 평균 리뷰수'"
   ]
  },
  {
   "cell_type": "code",
   "execution_count": 13,
   "metadata": {},
   "outputs": [],
   "source": [
    "#컬럼명 변경 \n",
    "df = df.rename(columns={\n",
    "    'id' : '숙소_id',\n",
    "    'listing_url' : '숙소_url',\n",
    "    'host_id' : '호스트_id',\n",
    "    'host_is_superhost' : '슈퍼호스트',\n",
    "    'host_total_listings_count' : '숙소_수',\n",
    "    'neighbourhood_cleansed' : '숙소_지역',\n",
    "    'latitude' : '위도',\n",
    "    'longitude' : '경도',\n",
    "    'room_type' : '숙소_유형',\n",
    "    'accommodates' : '수용인원수',\n",
    "    'bathrooms' : '욕실수',\n",
    "    'bedrooms' : '침실수',\n",
    "    'beds' : '침대수',\n",
    "    'amenities' : '어메니티',\n",
    "    'price' : '숙소_가격',\n",
    "    'minimum_nights' : '최소_숙박일',\n",
    "    'maximum_nights' : '최대_숙박일',\n",
    "    'minimum_maximum_nights' : '적은_최대_숙박일',\n",
    "    'maximum_maximum_nights' : '많은_최대_숙박일',\n",
    "    'has_availability' : '숙소_예약가능_여부',\n",
    "    'number_of_reviews' : '리뷰수',\n",
    "    'number_of_reviews_l30d' : '30일_리뷰수',\n",
    "    'review_scores_rating' : '리뷰점수',\n",
    "    'review_scores_accuracy' : '숙소_정확성_리뷰점수',\n",
    "    'review_scores_cleanliness' : '숙소_청결도_리뷰점수',\n",
    "    'review_scores_checkin' : '숙소_체크인_리뷰점수',\n",
    "    'review_scores_communication' : '숙소_소통_리뷰점수',\n",
    "    'review_scores_location' : '숙소_위치_리뷰점수',\n",
    "    'review_scores_value' : '숙소_가격_리뷰점수',\n",
    "    'reviews_per_month' : '평균_리뷰수'\n",
    "})"
   ]
  },
  {
   "cell_type": "markdown",
   "metadata": {},
   "source": [
    "<h3>주제별 컬럼 분류<h3><br>\n",
    "\n",
    "숙소/숙박 컬럼 (25개) - 리뷰 컬럼(10개)"
   ]
  },
  {
   "cell_type": "code",
   "execution_count": 14,
   "metadata": {},
   "outputs": [
    {
     "data": {
      "text/html": [
       "<div>\n",
       "<style scoped>\n",
       "    .dataframe tbody tr th:only-of-type {\n",
       "        vertical-align: middle;\n",
       "    }\n",
       "\n",
       "    .dataframe tbody tr th {\n",
       "        vertical-align: top;\n",
       "    }\n",
       "\n",
       "    .dataframe thead th {\n",
       "        text-align: right;\n",
       "    }\n",
       "</style>\n",
       "<table border=\"1\" class=\"dataframe\">\n",
       "  <thead>\n",
       "    <tr style=\"text-align: right;\">\n",
       "      <th></th>\n",
       "      <th>id</th>\n",
       "      <th>listing_url</th>\n",
       "      <th>host_id</th>\n",
       "      <th>host_is_superhost</th>\n",
       "      <th>host_total_listings_count</th>\n",
       "      <th>neighbourhood_cleansed</th>\n",
       "      <th>room_type</th>\n",
       "      <th>accommodates</th>\n",
       "      <th>bathrooms</th>\n",
       "      <th>bedrooms</th>\n",
       "      <th>beds</th>\n",
       "      <th>amenities</th>\n",
       "      <th>price</th>\n",
       "      <th>minimum_nights</th>\n",
       "      <th>maximum_nights</th>\n",
       "    </tr>\n",
       "  </thead>\n",
       "  <tbody>\n",
       "    <tr>\n",
       "      <th>0</th>\n",
       "      <td>312761</td>\n",
       "      <td>https://www.airbnb.com/rooms/312761</td>\n",
       "      <td>1608226</td>\n",
       "      <td>t</td>\n",
       "      <td>3.0</td>\n",
       "      <td>Hackney</td>\n",
       "      <td>Entire home/apt</td>\n",
       "      <td>2</td>\n",
       "      <td>1.0</td>\n",
       "      <td>1.0</td>\n",
       "      <td>1.0</td>\n",
       "      <td>[\"Toaster\", \"Room-darkening shades\", \"Coffee m...</td>\n",
       "      <td>$160.00</td>\n",
       "      <td>9</td>\n",
       "      <td>180</td>\n",
       "    </tr>\n",
       "    <tr>\n",
       "      <th>1</th>\n",
       "      <td>13913</td>\n",
       "      <td>https://www.airbnb.com/rooms/13913</td>\n",
       "      <td>54730</td>\n",
       "      <td>t</td>\n",
       "      <td>5.0</td>\n",
       "      <td>Islington</td>\n",
       "      <td>Private room</td>\n",
       "      <td>1</td>\n",
       "      <td>1.0</td>\n",
       "      <td>1.0</td>\n",
       "      <td>1.0</td>\n",
       "      <td>[\"Toaster\", \"Room-darkening shades\", \"Shampoo\"...</td>\n",
       "      <td>$65.00</td>\n",
       "      <td>1</td>\n",
       "      <td>29</td>\n",
       "    </tr>\n",
       "    <tr>\n",
       "      <th>2</th>\n",
       "      <td>15400</td>\n",
       "      <td>https://www.airbnb.com/rooms/15400</td>\n",
       "      <td>60302</td>\n",
       "      <td>f</td>\n",
       "      <td>1.0</td>\n",
       "      <td>Kensington and Chelsea</td>\n",
       "      <td>Entire home/apt</td>\n",
       "      <td>2</td>\n",
       "      <td>1.0</td>\n",
       "      <td>1.0</td>\n",
       "      <td>1.0</td>\n",
       "      <td>[\"Shampoo\", \"Wifi\", \"Fire extinguisher\", \"Lugg...</td>\n",
       "      <td>$120.00</td>\n",
       "      <td>4</td>\n",
       "      <td>30</td>\n",
       "    </tr>\n",
       "  </tbody>\n",
       "</table>\n",
       "</div>"
      ],
      "text/plain": [
       "       id                          listing_url  host_id host_is_superhost  \\\n",
       "0  312761  https://www.airbnb.com/rooms/312761  1608226                 t   \n",
       "1   13913   https://www.airbnb.com/rooms/13913    54730                 t   \n",
       "2   15400   https://www.airbnb.com/rooms/15400    60302                 f   \n",
       "\n",
       "   host_total_listings_count  neighbourhood_cleansed        room_type  \\\n",
       "0                        3.0                 Hackney  Entire home/apt   \n",
       "1                        5.0               Islington     Private room   \n",
       "2                        1.0  Kensington and Chelsea  Entire home/apt   \n",
       "\n",
       "   accommodates  bathrooms  bedrooms  beds  \\\n",
       "0             2        1.0       1.0   1.0   \n",
       "1             1        1.0       1.0   1.0   \n",
       "2             2        1.0       1.0   1.0   \n",
       "\n",
       "                                           amenities    price  minimum_nights  \\\n",
       "0  [\"Toaster\", \"Room-darkening shades\", \"Coffee m...  $160.00               9   \n",
       "1  [\"Toaster\", \"Room-darkening shades\", \"Shampoo\"...   $65.00               1   \n",
       "2  [\"Shampoo\", \"Wifi\", \"Fire extinguisher\", \"Lugg...  $120.00               4   \n",
       "\n",
       "   maximum_nights  \n",
       "0             180  \n",
       "1              29  \n",
       "2              30  "
      ]
     },
     "execution_count": 14,
     "metadata": {},
     "output_type": "execute_result"
    }
   ],
   "source": [
    "#숙소/숙박관련 컬럼\n",
    "\n",
    "df_lodging = dat[['id', 'listing_url','host_id','host_is_superhost',\n",
    "                  'host_total_listings_count','neighbourhood_cleansed','room_type','accommodates','bathrooms','bedrooms',\n",
    "                  'beds','amenities','price','minimum_nights','maximum_nights']]\n",
    "df_lodging.head(3)"
   ]
  },
  {
   "cell_type": "code",
   "execution_count": 15,
   "metadata": {},
   "outputs": [
    {
     "data": {
      "text/html": [
       "<div>\n",
       "<style scoped>\n",
       "    .dataframe tbody tr th:only-of-type {\n",
       "        vertical-align: middle;\n",
       "    }\n",
       "\n",
       "    .dataframe tbody tr th {\n",
       "        vertical-align: top;\n",
       "    }\n",
       "\n",
       "    .dataframe thead th {\n",
       "        text-align: right;\n",
       "    }\n",
       "</style>\n",
       "<table border=\"1\" class=\"dataframe\">\n",
       "  <thead>\n",
       "    <tr style=\"text-align: right;\">\n",
       "      <th></th>\n",
       "      <th>숙소_id</th>\n",
       "      <th>숙소_url</th>\n",
       "      <th>호스트_id</th>\n",
       "      <th>슈퍼호스트</th>\n",
       "      <th>숙소_수</th>\n",
       "      <th>숙소_지역</th>\n",
       "      <th>숙소_유형</th>\n",
       "      <th>수용인원수</th>\n",
       "      <th>욕실수</th>\n",
       "      <th>침실수</th>\n",
       "      <th>침대수</th>\n",
       "      <th>편의시설</th>\n",
       "      <th>숙소_가격</th>\n",
       "      <th>최소_숙박일</th>\n",
       "      <th>최대_숙박일</th>\n",
       "    </tr>\n",
       "  </thead>\n",
       "  <tbody>\n",
       "    <tr>\n",
       "      <th>0</th>\n",
       "      <td>312761</td>\n",
       "      <td>https://www.airbnb.com/rooms/312761</td>\n",
       "      <td>1608226</td>\n",
       "      <td>t</td>\n",
       "      <td>3.0</td>\n",
       "      <td>Hackney</td>\n",
       "      <td>Entire home/apt</td>\n",
       "      <td>2</td>\n",
       "      <td>1.0</td>\n",
       "      <td>1.0</td>\n",
       "      <td>1.0</td>\n",
       "      <td>[\"Toaster\", \"Room-darkening shades\", \"Coffee m...</td>\n",
       "      <td>$160.00</td>\n",
       "      <td>9</td>\n",
       "      <td>180</td>\n",
       "    </tr>\n",
       "    <tr>\n",
       "      <th>1</th>\n",
       "      <td>13913</td>\n",
       "      <td>https://www.airbnb.com/rooms/13913</td>\n",
       "      <td>54730</td>\n",
       "      <td>t</td>\n",
       "      <td>5.0</td>\n",
       "      <td>Islington</td>\n",
       "      <td>Private room</td>\n",
       "      <td>1</td>\n",
       "      <td>1.0</td>\n",
       "      <td>1.0</td>\n",
       "      <td>1.0</td>\n",
       "      <td>[\"Toaster\", \"Room-darkening shades\", \"Shampoo\"...</td>\n",
       "      <td>$65.00</td>\n",
       "      <td>1</td>\n",
       "      <td>29</td>\n",
       "    </tr>\n",
       "    <tr>\n",
       "      <th>2</th>\n",
       "      <td>15400</td>\n",
       "      <td>https://www.airbnb.com/rooms/15400</td>\n",
       "      <td>60302</td>\n",
       "      <td>f</td>\n",
       "      <td>1.0</td>\n",
       "      <td>Kensington and Chelsea</td>\n",
       "      <td>Entire home/apt</td>\n",
       "      <td>2</td>\n",
       "      <td>1.0</td>\n",
       "      <td>1.0</td>\n",
       "      <td>1.0</td>\n",
       "      <td>[\"Shampoo\", \"Wifi\", \"Fire extinguisher\", \"Lugg...</td>\n",
       "      <td>$120.00</td>\n",
       "      <td>4</td>\n",
       "      <td>30</td>\n",
       "    </tr>\n",
       "  </tbody>\n",
       "</table>\n",
       "</div>"
      ],
      "text/plain": [
       "    숙소_id                               숙소_url   호스트_id 슈퍼호스트  숙소_수  \\\n",
       "0  312761  https://www.airbnb.com/rooms/312761  1608226     t   3.0   \n",
       "1   13913   https://www.airbnb.com/rooms/13913    54730     t   5.0   \n",
       "2   15400   https://www.airbnb.com/rooms/15400    60302     f   1.0   \n",
       "\n",
       "                    숙소_지역            숙소_유형  수용인원수  욕실수  침실수  침대수  \\\n",
       "0                 Hackney  Entire home/apt      2  1.0  1.0  1.0   \n",
       "1               Islington     Private room      1  1.0  1.0  1.0   \n",
       "2  Kensington and Chelsea  Entire home/apt      2  1.0  1.0  1.0   \n",
       "\n",
       "                                                편의시설    숙소_가격  최소_숙박일  최대_숙박일  \n",
       "0  [\"Toaster\", \"Room-darkening shades\", \"Coffee m...  $160.00       9     180  \n",
       "1  [\"Toaster\", \"Room-darkening shades\", \"Shampoo\"...   $65.00       1      29  \n",
       "2  [\"Shampoo\", \"Wifi\", \"Fire extinguisher\", \"Lugg...  $120.00       4      30  "
      ]
     },
     "execution_count": 15,
     "metadata": {},
     "output_type": "execute_result"
    }
   ],
   "source": [
    "# 컬럼명 변경\n",
    "\n",
    "df_lodging = df_lodging.rename(columns={\n",
    "    'id': '숙소_id',\n",
    "    'host_id': '호스트_id',\n",
    "    'listing_url' : '숙소_url',\n",
    "    'host_is_superhost': '슈퍼호스트',\n",
    "    'host_total_listings_count': '숙소_수',\n",
    "    'neighbourhood_cleansed': '숙소_지역',\n",
    "    'room_type': '숙소_유형',\n",
    "    'accommodates': '수용인원수',\n",
    "    'bathrooms': '욕실수',\n",
    "    'bedrooms': '침실수',\n",
    "    'beds': '침대수',\n",
    "    'amenities': '편의시설',\n",
    "    'price': '숙소_가격',\n",
    "    'minimum_nights': '최소_숙박일',\n",
    "    'maximum_nights': '최대_숙박일'\n",
    "})\n",
    "\n",
    "df_lodging.head(3)"
   ]
  },
  {
   "cell_type": "code",
   "execution_count": 16,
   "metadata": {},
   "outputs": [
    {
     "data": {
      "text/html": [
       "<div>\n",
       "<style scoped>\n",
       "    .dataframe tbody tr th:only-of-type {\n",
       "        vertical-align: middle;\n",
       "    }\n",
       "\n",
       "    .dataframe tbody tr th {\n",
       "        vertical-align: top;\n",
       "    }\n",
       "\n",
       "    .dataframe thead th {\n",
       "        text-align: right;\n",
       "    }\n",
       "</style>\n",
       "<table border=\"1\" class=\"dataframe\">\n",
       "  <thead>\n",
       "    <tr style=\"text-align: right;\">\n",
       "      <th></th>\n",
       "      <th>listing_url</th>\n",
       "      <th>number_of_reviews</th>\n",
       "      <th>number_of_reviews_l30d</th>\n",
       "      <th>review_scores_rating</th>\n",
       "      <th>review_scores_accuracy</th>\n",
       "      <th>review_scores_cleanliness</th>\n",
       "      <th>review_scores_checkin</th>\n",
       "      <th>review_scores_communication</th>\n",
       "      <th>review_scores_location</th>\n",
       "      <th>review_scores_value</th>\n",
       "      <th>reviews_per_month</th>\n",
       "    </tr>\n",
       "  </thead>\n",
       "  <tbody>\n",
       "    <tr>\n",
       "      <th>0</th>\n",
       "      <td>https://www.airbnb.com/rooms/312761</td>\n",
       "      <td>122</td>\n",
       "      <td>0</td>\n",
       "      <td>4.96</td>\n",
       "      <td>4.97</td>\n",
       "      <td>4.93</td>\n",
       "      <td>4.96</td>\n",
       "      <td>5.00</td>\n",
       "      <td>4.89</td>\n",
       "      <td>4.93</td>\n",
       "      <td>0.86</td>\n",
       "    </tr>\n",
       "    <tr>\n",
       "      <th>1</th>\n",
       "      <td>https://www.airbnb.com/rooms/13913</td>\n",
       "      <td>41</td>\n",
       "      <td>0</td>\n",
       "      <td>4.80</td>\n",
       "      <td>4.73</td>\n",
       "      <td>4.73</td>\n",
       "      <td>4.75</td>\n",
       "      <td>4.83</td>\n",
       "      <td>4.70</td>\n",
       "      <td>4.70</td>\n",
       "      <td>0.25</td>\n",
       "    </tr>\n",
       "    <tr>\n",
       "      <th>2</th>\n",
       "      <td>https://www.airbnb.com/rooms/15400</td>\n",
       "      <td>94</td>\n",
       "      <td>0</td>\n",
       "      <td>4.80</td>\n",
       "      <td>4.85</td>\n",
       "      <td>4.88</td>\n",
       "      <td>4.88</td>\n",
       "      <td>4.83</td>\n",
       "      <td>4.93</td>\n",
       "      <td>4.74</td>\n",
       "      <td>0.54</td>\n",
       "    </tr>\n",
       "  </tbody>\n",
       "</table>\n",
       "</div>"
      ],
      "text/plain": [
       "                           listing_url  number_of_reviews  \\\n",
       "0  https://www.airbnb.com/rooms/312761                122   \n",
       "1   https://www.airbnb.com/rooms/13913                 41   \n",
       "2   https://www.airbnb.com/rooms/15400                 94   \n",
       "\n",
       "   number_of_reviews_l30d  review_scores_rating  review_scores_accuracy  \\\n",
       "0                       0                  4.96                    4.97   \n",
       "1                       0                  4.80                    4.73   \n",
       "2                       0                  4.80                    4.85   \n",
       "\n",
       "   review_scores_cleanliness  review_scores_checkin  \\\n",
       "0                       4.93                   4.96   \n",
       "1                       4.73                   4.75   \n",
       "2                       4.88                   4.88   \n",
       "\n",
       "   review_scores_communication  review_scores_location  review_scores_value  \\\n",
       "0                         5.00                    4.89                 4.93   \n",
       "1                         4.83                    4.70                 4.70   \n",
       "2                         4.83                    4.93                 4.74   \n",
       "\n",
       "   reviews_per_month  \n",
       "0               0.86  \n",
       "1               0.25  \n",
       "2               0.54  "
      ]
     },
     "execution_count": 16,
     "metadata": {},
     "output_type": "execute_result"
    }
   ],
   "source": [
    "#리뷰관련데이터\n",
    "df_review = dat[['listing_url','number_of_reviews', 'number_of_reviews_l30d', 'review_scores_rating', 'review_scores_accuracy', \n",
    "                'review_scores_cleanliness', 'review_scores_checkin', 'review_scores_communication', \n",
    "                'review_scores_location', 'review_scores_value', 'reviews_per_month']]\n",
    "df_review.head(3)"
   ]
  },
  {
   "cell_type": "code",
   "execution_count": 17,
   "metadata": {},
   "outputs": [
    {
     "data": {
      "text/html": [
       "<div>\n",
       "<style scoped>\n",
       "    .dataframe tbody tr th:only-of-type {\n",
       "        vertical-align: middle;\n",
       "    }\n",
       "\n",
       "    .dataframe tbody tr th {\n",
       "        vertical-align: top;\n",
       "    }\n",
       "\n",
       "    .dataframe thead th {\n",
       "        text-align: right;\n",
       "    }\n",
       "</style>\n",
       "<table border=\"1\" class=\"dataframe\">\n",
       "  <thead>\n",
       "    <tr style=\"text-align: right;\">\n",
       "      <th></th>\n",
       "      <th>숙소_url</th>\n",
       "      <th>리뷰수</th>\n",
       "      <th>30일_리뷰수</th>\n",
       "      <th>리뷰점수</th>\n",
       "      <th>숙소_정확성_리뷰점수</th>\n",
       "      <th>숙소_청결도_리뷰점수</th>\n",
       "      <th>숙소_체크인_리뷰점수</th>\n",
       "      <th>숙소_소통_리뷰점수</th>\n",
       "      <th>숙소_위치_리뷰점수</th>\n",
       "      <th>숙소_가격_리뷰점수</th>\n",
       "      <th>평균_리뷰수</th>\n",
       "    </tr>\n",
       "  </thead>\n",
       "  <tbody>\n",
       "    <tr>\n",
       "      <th>0</th>\n",
       "      <td>https://www.airbnb.com/rooms/312761</td>\n",
       "      <td>122</td>\n",
       "      <td>0</td>\n",
       "      <td>4.96</td>\n",
       "      <td>4.97</td>\n",
       "      <td>4.93</td>\n",
       "      <td>4.96</td>\n",
       "      <td>5.00</td>\n",
       "      <td>4.89</td>\n",
       "      <td>4.93</td>\n",
       "      <td>0.86</td>\n",
       "    </tr>\n",
       "    <tr>\n",
       "      <th>1</th>\n",
       "      <td>https://www.airbnb.com/rooms/13913</td>\n",
       "      <td>41</td>\n",
       "      <td>0</td>\n",
       "      <td>4.80</td>\n",
       "      <td>4.73</td>\n",
       "      <td>4.73</td>\n",
       "      <td>4.75</td>\n",
       "      <td>4.83</td>\n",
       "      <td>4.70</td>\n",
       "      <td>4.70</td>\n",
       "      <td>0.25</td>\n",
       "    </tr>\n",
       "    <tr>\n",
       "      <th>2</th>\n",
       "      <td>https://www.airbnb.com/rooms/15400</td>\n",
       "      <td>94</td>\n",
       "      <td>0</td>\n",
       "      <td>4.80</td>\n",
       "      <td>4.85</td>\n",
       "      <td>4.88</td>\n",
       "      <td>4.88</td>\n",
       "      <td>4.83</td>\n",
       "      <td>4.93</td>\n",
       "      <td>4.74</td>\n",
       "      <td>0.54</td>\n",
       "    </tr>\n",
       "    <tr>\n",
       "      <th>3</th>\n",
       "      <td>https://www.airbnb.com/rooms/159736</td>\n",
       "      <td>96</td>\n",
       "      <td>0</td>\n",
       "      <td>4.72</td>\n",
       "      <td>4.79</td>\n",
       "      <td>4.66</td>\n",
       "      <td>4.75</td>\n",
       "      <td>4.89</td>\n",
       "      <td>4.34</td>\n",
       "      <td>4.66</td>\n",
       "      <td>0.62</td>\n",
       "    </tr>\n",
       "    <tr>\n",
       "      <th>4</th>\n",
       "      <td>https://www.airbnb.com/rooms/165336</td>\n",
       "      <td>237</td>\n",
       "      <td>2</td>\n",
       "      <td>4.74</td>\n",
       "      <td>4.88</td>\n",
       "      <td>4.79</td>\n",
       "      <td>4.94</td>\n",
       "      <td>4.96</td>\n",
       "      <td>4.87</td>\n",
       "      <td>4.71</td>\n",
       "      <td>1.57</td>\n",
       "    </tr>\n",
       "  </tbody>\n",
       "</table>\n",
       "</div>"
      ],
      "text/plain": [
       "                                숙소_url  리뷰수  30일_리뷰수  리뷰점수  숙소_정확성_리뷰점수  \\\n",
       "0  https://www.airbnb.com/rooms/312761  122        0  4.96         4.97   \n",
       "1   https://www.airbnb.com/rooms/13913   41        0  4.80         4.73   \n",
       "2   https://www.airbnb.com/rooms/15400   94        0  4.80         4.85   \n",
       "3  https://www.airbnb.com/rooms/159736   96        0  4.72         4.79   \n",
       "4  https://www.airbnb.com/rooms/165336  237        2  4.74         4.88   \n",
       "\n",
       "   숙소_청결도_리뷰점수  숙소_체크인_리뷰점수  숙소_소통_리뷰점수  숙소_위치_리뷰점수  숙소_가격_리뷰점수  평균_리뷰수  \n",
       "0         4.93         4.96        5.00        4.89        4.93    0.86  \n",
       "1         4.73         4.75        4.83        4.70        4.70    0.25  \n",
       "2         4.88         4.88        4.83        4.93        4.74    0.54  \n",
       "3         4.66         4.75        4.89        4.34        4.66    0.62  \n",
       "4         4.79         4.94        4.96        4.87        4.71    1.57  "
      ]
     },
     "execution_count": 17,
     "metadata": {},
     "output_type": "execute_result"
    }
   ],
   "source": [
    "# 컬럼명 변경\n",
    "df_review = df_review.rename(columns={\n",
    "    'listing_url' : '숙소_url',\n",
    "    'number_of_reviews': '리뷰수',\n",
    "    'number_of_reviews_l30d': '30일_리뷰수',\n",
    "    'review_scores_rating': '리뷰점수',\n",
    "    'review_scores_accuracy': '숙소_정확성_리뷰점수',\n",
    "    'review_scores_cleanliness': '숙소_청결도_리뷰점수',\n",
    "    'review_scores_checkin': '숙소_체크인_리뷰점수',\n",
    "    'review_scores_communication': '숙소_소통_리뷰점수',\n",
    "    'review_scores_location': '숙소_위치_리뷰점수',\n",
    "    'review_scores_value': '숙소_가격_리뷰점수',\n",
    "    'reviews_per_month': '평균_리뷰수'\n",
    "})\n",
    "df_review.head()"
   ]
  },
  {
   "cell_type": "code",
   "execution_count": 18,
   "metadata": {},
   "outputs": [
    {
     "data": {
      "text/plain": [
       "(90852, 15)"
      ]
     },
     "execution_count": 18,
     "metadata": {},
     "output_type": "execute_result"
    }
   ],
   "source": [
    "df_lodging.shape\n"
   ]
  },
  {
   "cell_type": "code",
   "execution_count": 19,
   "metadata": {},
   "outputs": [
    {
     "data": {
      "text/plain": [
       "(90852, 11)"
      ]
     },
     "execution_count": 19,
     "metadata": {},
     "output_type": "execute_result"
    }
   ],
   "source": [
    "df_review.shape\n"
   ]
  },
  {
   "cell_type": "code",
   "execution_count": 20,
   "metadata": {},
   "outputs": [
    {
     "data": {
      "text/plain": [
       "(90852, 28)"
      ]
     },
     "execution_count": 20,
     "metadata": {},
     "output_type": "execute_result"
    }
   ],
   "source": [
    "df.shape\n"
   ]
  },
  {
   "cell_type": "code",
   "execution_count": 21,
   "metadata": {},
   "outputs": [
    {
     "data": {
      "text/plain": [
       "Index(['숙소_id', '숙소_url', '호스트_id', 'property_type', '슈퍼호스트', '숙소_수', '숙소_지역',\n",
       "       '위도', '경도', '숙소_유형', '수용인원수', '욕실수', '침실수', '침대수', '어메니티', '숙소_가격',\n",
       "       '최소_숙박일', '최대_숙박일', '리뷰수', '30일_리뷰수', '리뷰점수', '숙소_정확성_리뷰점수',\n",
       "       '숙소_청결도_리뷰점수', '숙소_체크인_리뷰점수', '숙소_소통_리뷰점수', '숙소_위치_리뷰점수', '숙소_가격_리뷰점수',\n",
       "       '평균_리뷰수'],\n",
       "      dtype='object')"
      ]
     },
     "execution_count": 21,
     "metadata": {},
     "output_type": "execute_result"
    }
   ],
   "source": [
    "df.columns\n"
   ]
  },
  {
   "cell_type": "code",
   "execution_count": 22,
   "metadata": {},
   "outputs": [
    {
     "data": {
      "text/plain": [
       "숙소_id              int64\n",
       "숙소_url            object\n",
       "호스트_id             int64\n",
       "property_type     object\n",
       "슈퍼호스트             object\n",
       "숙소_수             float64\n",
       "숙소_지역             object\n",
       "위도               float64\n",
       "경도               float64\n",
       "숙소_유형             object\n",
       "수용인원수              int64\n",
       "욕실수              float64\n",
       "침실수              float64\n",
       "침대수              float64\n",
       "어메니티              object\n",
       "숙소_가격             object\n",
       "최소_숙박일             int64\n",
       "최대_숙박일             int64\n",
       "리뷰수                int64\n",
       "30일_리뷰수            int64\n",
       "리뷰점수             float64\n",
       "숙소_정확성_리뷰점수      float64\n",
       "숙소_청결도_리뷰점수      float64\n",
       "숙소_체크인_리뷰점수      float64\n",
       "숙소_소통_리뷰점수       float64\n",
       "숙소_위치_리뷰점수       float64\n",
       "숙소_가격_리뷰점수       float64\n",
       "평균_리뷰수           float64\n",
       "dtype: object"
      ]
     },
     "execution_count": 22,
     "metadata": {},
     "output_type": "execute_result"
    }
   ],
   "source": [
    "df.dtypes\n"
   ]
  },
  {
   "cell_type": "code",
   "execution_count": 23,
   "metadata": {},
   "outputs": [],
   "source": [
    "#중복값 제거 \n",
    "df.drop_duplicates(inplace=True)"
   ]
  },
  {
   "cell_type": "code",
   "execution_count": 24,
   "metadata": {},
   "outputs": [
    {
     "name": "stdout",
     "output_type": "stream",
     "text": [
      "<class 'pandas.core.frame.DataFrame'>\n",
      "RangeIndex: 90852 entries, 0 to 90851\n",
      "Data columns (total 28 columns):\n",
      " #   Column         Non-Null Count  Dtype  \n",
      "---  ------         --------------  -----  \n",
      " 0   숙소_id          90852 non-null  int64  \n",
      " 1   숙소_url         90852 non-null  object \n",
      " 2   호스트_id         90852 non-null  int64  \n",
      " 3   property_type  90852 non-null  object \n",
      " 4   슈퍼호스트          90463 non-null  object \n",
      " 5   숙소_수           90847 non-null  float64\n",
      " 6   숙소_지역          90852 non-null  object \n",
      " 7   위도             90852 non-null  float64\n",
      " 8   경도             90852 non-null  float64\n",
      " 9   숙소_유형          90852 non-null  object \n",
      " 10  수용인원수          90852 non-null  int64  \n",
      " 11  욕실수            57894 non-null  float64\n",
      " 12  침실수            78118 non-null  float64\n",
      " 13  침대수            57837 non-null  float64\n",
      " 14  어메니티           90852 non-null  object \n",
      " 15  숙소_가격          57885 non-null  object \n",
      " 16  최소_숙박일         90852 non-null  int64  \n",
      " 17  최대_숙박일         90852 non-null  int64  \n",
      " 18  리뷰수            90852 non-null  int64  \n",
      " 19  30일_리뷰수        90852 non-null  int64  \n",
      " 20  리뷰점수           65869 non-null  float64\n",
      " 21  숙소_정확성_리뷰점수    65838 non-null  float64\n",
      " 22  숙소_청결도_리뷰점수    65843 non-null  float64\n",
      " 23  숙소_체크인_리뷰점수    65808 non-null  float64\n",
      " 24  숙소_소통_리뷰점수     65833 non-null  float64\n",
      " 25  숙소_위치_리뷰점수     65808 non-null  float64\n",
      " 26  숙소_가격_리뷰점수     65806 non-null  float64\n",
      " 27  평균_리뷰수         65869 non-null  float64\n",
      "dtypes: float64(14), int64(7), object(7)\n",
      "memory usage: 19.4+ MB\n"
     ]
    }
   ],
   "source": [
    "df.info()"
   ]
  },
  {
   "cell_type": "markdown",
   "metadata": {},
   "source": [
    "<h3>결측치 개수</h3><br>\n",
    "\n",
    "- 슈퍼호스트 389개\n",
    "- 문의_응답률 33,055개\n",
    "- 숙소_수 5개\n",
    "- 욕실수 32,958개\n",
    "- 침실수 12,734개\n",
    "- 침대수 33,015개 \n",
    "- 숙소_가격 32,967개\n",
    "- 리뷰점수 24,983개\n",
    "- 숙소_정확성_리뷰점수 25014개\n",
    "- 숙소_청결도_리뷰점수 25009개\n",
    "- 숙소_체크인_리뷰점수 25044개\n",
    "- 숙소_소통_리뷰점수 25019개\n",
    "- 숙소_위치_리뷰점수 25044개\n",
    "- 숙소_가격_리뷰점수 25046개 \n",
    "- 평균_리뷰수 24983개\n",
    "\n",
    "- -----------------------------------------\n",
    "\n",
    "- 숙소_상세설명 3,001개\n",
    "- 프로필사진_소지_여부 5개\n",
    "- 신원_검증_여부 5개 \n",
    "- 숙소_예약가능_여부 4079개"
   ]
  },
  {
   "cell_type": "markdown",
   "metadata": {},
   "source": [
    "결측치 제거 확정 <br>\n",
    "- 슈퍼호스트 null값 (389개) 5%이하 \n",
    "- 리뷰수 = 0인 값 --> 리뷰수가 없으면 리뷰점수도 없다 \n",
    "- 숙소수 null값 (5개)\n",
    "- 리뷰분야 6개 전부 nan값인 컬럼"
   ]
  },
  {
   "cell_type": "markdown",
   "metadata": {},
   "source": [
    "<h3>슈퍼호스트 결측치 처리</h3>\n",
    "\n",
    "- 슈퍼호스트가 null값인 데이터 삭제 389개임(5%이하 해당)\n",
    "\n"
   ]
  },
  {
   "cell_type": "code",
   "execution_count": 25,
   "metadata": {},
   "outputs": [
    {
     "data": {
      "text/plain": [
       "389"
      ]
     },
     "execution_count": 25,
     "metadata": {},
     "output_type": "execute_result"
    }
   ],
   "source": [
    "df['슈퍼호스트'].isna().sum()"
   ]
  },
  {
   "cell_type": "code",
   "execution_count": 26,
   "metadata": {},
   "outputs": [],
   "source": [
    "df = df.dropna(subset=['슈퍼호스트'])"
   ]
  },
  {
   "cell_type": "code",
   "execution_count": 27,
   "metadata": {},
   "outputs": [
    {
     "data": {
      "text/plain": [
       "(90463, 28)"
      ]
     },
     "execution_count": 27,
     "metadata": {},
     "output_type": "execute_result"
    }
   ],
   "source": [
    "df.shape"
   ]
  },
  {
   "cell_type": "markdown",
   "metadata": {},
   "source": [
    "<h3>숙소수 결측치 처리</h3>\n",
    "\n",
    "- 숙소수가 null값인 데이터 삭제 5개임(5%이하 해당)"
   ]
  },
  {
   "cell_type": "code",
   "execution_count": 28,
   "metadata": {},
   "outputs": [],
   "source": [
    "df = df.dropna(subset=['숙소_수'])"
   ]
  },
  {
   "cell_type": "code",
   "execution_count": 29,
   "metadata": {},
   "outputs": [
    {
     "data": {
      "text/plain": [
       "(90458, 28)"
      ]
     },
     "execution_count": 29,
     "metadata": {},
     "output_type": "execute_result"
    }
   ],
   "source": [
    "df.shape\n"
   ]
  },
  {
   "cell_type": "code",
   "execution_count": 30,
   "metadata": {},
   "outputs": [
    {
     "data": {
      "text/plain": [
       "array(['Hackney', 'Islington', 'Kensington and Chelsea', 'Lambeth',\n",
       "       'Brent', 'Southwark', 'Westminster', 'Wandsworth', 'Tower Hamlets',\n",
       "       'Richmond upon Thames', 'Newham', 'Camden', 'Haringey', 'Enfield',\n",
       "       'Hammersmith and Fulham', 'Waltham Forest', 'Barnet', 'Hounslow',\n",
       "       'Barking and Dagenham', 'Croydon', 'Lewisham', 'Ealing', 'Merton',\n",
       "       'City of London', 'Havering', 'Greenwich', 'Hillingdon', 'Bromley',\n",
       "       'Redbridge', 'Harrow', 'Bexley', 'Kingston upon Thames', 'Sutton'],\n",
       "      dtype=object)"
      ]
     },
     "execution_count": 30,
     "metadata": {},
     "output_type": "execute_result"
    }
   ],
   "source": [
    "df['숙소_지역'].unique()"
   ]
  },
  {
   "cell_type": "markdown",
   "metadata": {},
   "source": [
    "<h3>리뷰수 결측치 처리</h3>"
   ]
  },
  {
   "cell_type": "code",
   "execution_count": 31,
   "metadata": {},
   "outputs": [
    {
     "data": {
      "text/html": [
       "<div>\n",
       "<style scoped>\n",
       "    .dataframe tbody tr th:only-of-type {\n",
       "        vertical-align: middle;\n",
       "    }\n",
       "\n",
       "    .dataframe tbody tr th {\n",
       "        vertical-align: top;\n",
       "    }\n",
       "\n",
       "    .dataframe thead th {\n",
       "        text-align: right;\n",
       "    }\n",
       "</style>\n",
       "<table border=\"1\" class=\"dataframe\">\n",
       "  <thead>\n",
       "    <tr style=\"text-align: right;\">\n",
       "      <th></th>\n",
       "      <th>숙소_id</th>\n",
       "      <th>숙소_url</th>\n",
       "      <th>호스트_id</th>\n",
       "      <th>property_type</th>\n",
       "      <th>슈퍼호스트</th>\n",
       "      <th>숙소_수</th>\n",
       "      <th>숙소_지역</th>\n",
       "      <th>위도</th>\n",
       "      <th>경도</th>\n",
       "      <th>숙소_유형</th>\n",
       "      <th>...</th>\n",
       "      <th>리뷰수</th>\n",
       "      <th>30일_리뷰수</th>\n",
       "      <th>리뷰점수</th>\n",
       "      <th>숙소_정확성_리뷰점수</th>\n",
       "      <th>숙소_청결도_리뷰점수</th>\n",
       "      <th>숙소_체크인_리뷰점수</th>\n",
       "      <th>숙소_소통_리뷰점수</th>\n",
       "      <th>숙소_위치_리뷰점수</th>\n",
       "      <th>숙소_가격_리뷰점수</th>\n",
       "      <th>평균_리뷰수</th>\n",
       "    </tr>\n",
       "  </thead>\n",
       "  <tbody>\n",
       "    <tr>\n",
       "      <th>9</th>\n",
       "      <td>170524</td>\n",
       "      <td>https://www.airbnb.com/rooms/170524</td>\n",
       "      <td>194769</td>\n",
       "      <td>Entire rental unit</td>\n",
       "      <td>f</td>\n",
       "      <td>9.0</td>\n",
       "      <td>Westminster</td>\n",
       "      <td>51.506120</td>\n",
       "      <td>-0.140290</td>\n",
       "      <td>Entire home/apt</td>\n",
       "      <td>...</td>\n",
       "      <td>0</td>\n",
       "      <td>0</td>\n",
       "      <td>NaN</td>\n",
       "      <td>NaN</td>\n",
       "      <td>NaN</td>\n",
       "      <td>NaN</td>\n",
       "      <td>NaN</td>\n",
       "      <td>NaN</td>\n",
       "      <td>NaN</td>\n",
       "      <td>NaN</td>\n",
       "    </tr>\n",
       "    <tr>\n",
       "      <th>35</th>\n",
       "      <td>318986</td>\n",
       "      <td>https://www.airbnb.com/rooms/318986</td>\n",
       "      <td>1637212</td>\n",
       "      <td>Entire rental unit</td>\n",
       "      <td>f</td>\n",
       "      <td>1.0</td>\n",
       "      <td>Kensington and Chelsea</td>\n",
       "      <td>51.491130</td>\n",
       "      <td>-0.194820</td>\n",
       "      <td>Entire home/apt</td>\n",
       "      <td>...</td>\n",
       "      <td>0</td>\n",
       "      <td>0</td>\n",
       "      <td>NaN</td>\n",
       "      <td>NaN</td>\n",
       "      <td>NaN</td>\n",
       "      <td>NaN</td>\n",
       "      <td>NaN</td>\n",
       "      <td>NaN</td>\n",
       "      <td>NaN</td>\n",
       "      <td>NaN</td>\n",
       "    </tr>\n",
       "    <tr>\n",
       "      <th>45</th>\n",
       "      <td>42692</td>\n",
       "      <td>https://www.airbnb.com/rooms/42692</td>\n",
       "      <td>186510</td>\n",
       "      <td>Private room in rental unit</td>\n",
       "      <td>f</td>\n",
       "      <td>1.0</td>\n",
       "      <td>Hammersmith and Fulham</td>\n",
       "      <td>51.508220</td>\n",
       "      <td>-0.215620</td>\n",
       "      <td>Private room</td>\n",
       "      <td>...</td>\n",
       "      <td>0</td>\n",
       "      <td>0</td>\n",
       "      <td>NaN</td>\n",
       "      <td>NaN</td>\n",
       "      <td>NaN</td>\n",
       "      <td>NaN</td>\n",
       "      <td>NaN</td>\n",
       "      <td>NaN</td>\n",
       "      <td>NaN</td>\n",
       "      <td>NaN</td>\n",
       "    </tr>\n",
       "    <tr>\n",
       "      <th>49</th>\n",
       "      <td>44384</td>\n",
       "      <td>https://www.airbnb.com/rooms/44384</td>\n",
       "      <td>194769</td>\n",
       "      <td>Private room in rental unit</td>\n",
       "      <td>f</td>\n",
       "      <td>9.0</td>\n",
       "      <td>Barnet</td>\n",
       "      <td>51.597900</td>\n",
       "      <td>-0.243270</td>\n",
       "      <td>Private room</td>\n",
       "      <td>...</td>\n",
       "      <td>0</td>\n",
       "      <td>0</td>\n",
       "      <td>NaN</td>\n",
       "      <td>NaN</td>\n",
       "      <td>NaN</td>\n",
       "      <td>NaN</td>\n",
       "      <td>NaN</td>\n",
       "      <td>NaN</td>\n",
       "      <td>NaN</td>\n",
       "      <td>NaN</td>\n",
       "    </tr>\n",
       "    <tr>\n",
       "      <th>56</th>\n",
       "      <td>324055</td>\n",
       "      <td>https://www.airbnb.com/rooms/324055</td>\n",
       "      <td>1664001</td>\n",
       "      <td>Private room in home</td>\n",
       "      <td>f</td>\n",
       "      <td>1.0</td>\n",
       "      <td>Newham</td>\n",
       "      <td>51.553110</td>\n",
       "      <td>0.022730</td>\n",
       "      <td>Private room</td>\n",
       "      <td>...</td>\n",
       "      <td>0</td>\n",
       "      <td>0</td>\n",
       "      <td>NaN</td>\n",
       "      <td>NaN</td>\n",
       "      <td>NaN</td>\n",
       "      <td>NaN</td>\n",
       "      <td>NaN</td>\n",
       "      <td>NaN</td>\n",
       "      <td>NaN</td>\n",
       "      <td>NaN</td>\n",
       "    </tr>\n",
       "    <tr>\n",
       "      <th>...</th>\n",
       "      <td>...</td>\n",
       "      <td>...</td>\n",
       "      <td>...</td>\n",
       "      <td>...</td>\n",
       "      <td>...</td>\n",
       "      <td>...</td>\n",
       "      <td>...</td>\n",
       "      <td>...</td>\n",
       "      <td>...</td>\n",
       "      <td>...</td>\n",
       "      <td>...</td>\n",
       "      <td>...</td>\n",
       "      <td>...</td>\n",
       "      <td>...</td>\n",
       "      <td>...</td>\n",
       "      <td>...</td>\n",
       "      <td>...</td>\n",
       "      <td>...</td>\n",
       "      <td>...</td>\n",
       "      <td>...</td>\n",
       "      <td>...</td>\n",
       "    </tr>\n",
       "    <tr>\n",
       "      <th>90847</th>\n",
       "      <td>1115272743905612628</td>\n",
       "      <td>https://www.airbnb.com/rooms/1115272743905612628</td>\n",
       "      <td>565833376</td>\n",
       "      <td>Entire rental unit</td>\n",
       "      <td>f</td>\n",
       "      <td>55.0</td>\n",
       "      <td>Bexley</td>\n",
       "      <td>51.502721</td>\n",
       "      <td>0.147342</td>\n",
       "      <td>Entire home/apt</td>\n",
       "      <td>...</td>\n",
       "      <td>0</td>\n",
       "      <td>0</td>\n",
       "      <td>NaN</td>\n",
       "      <td>NaN</td>\n",
       "      <td>NaN</td>\n",
       "      <td>NaN</td>\n",
       "      <td>NaN</td>\n",
       "      <td>NaN</td>\n",
       "      <td>NaN</td>\n",
       "      <td>NaN</td>\n",
       "    </tr>\n",
       "    <tr>\n",
       "      <th>90848</th>\n",
       "      <td>1115272767893608505</td>\n",
       "      <td>https://www.airbnb.com/rooms/1115272767893608505</td>\n",
       "      <td>565833376</td>\n",
       "      <td>Entire rental unit</td>\n",
       "      <td>f</td>\n",
       "      <td>55.0</td>\n",
       "      <td>Bexley</td>\n",
       "      <td>51.504134</td>\n",
       "      <td>0.148848</td>\n",
       "      <td>Entire home/apt</td>\n",
       "      <td>...</td>\n",
       "      <td>0</td>\n",
       "      <td>0</td>\n",
       "      <td>NaN</td>\n",
       "      <td>NaN</td>\n",
       "      <td>NaN</td>\n",
       "      <td>NaN</td>\n",
       "      <td>NaN</td>\n",
       "      <td>NaN</td>\n",
       "      <td>NaN</td>\n",
       "      <td>NaN</td>\n",
       "    </tr>\n",
       "    <tr>\n",
       "      <th>90849</th>\n",
       "      <td>1115285644506865913</td>\n",
       "      <td>https://www.airbnb.com/rooms/1115285644506865913</td>\n",
       "      <td>444801189</td>\n",
       "      <td>Room in hotel</td>\n",
       "      <td>f</td>\n",
       "      <td>44.0</td>\n",
       "      <td>Westminster</td>\n",
       "      <td>51.506404</td>\n",
       "      <td>-0.148199</td>\n",
       "      <td>Private room</td>\n",
       "      <td>...</td>\n",
       "      <td>0</td>\n",
       "      <td>0</td>\n",
       "      <td>NaN</td>\n",
       "      <td>NaN</td>\n",
       "      <td>NaN</td>\n",
       "      <td>NaN</td>\n",
       "      <td>NaN</td>\n",
       "      <td>NaN</td>\n",
       "      <td>NaN</td>\n",
       "      <td>NaN</td>\n",
       "    </tr>\n",
       "    <tr>\n",
       "      <th>90850</th>\n",
       "      <td>1115338006572763275</td>\n",
       "      <td>https://www.airbnb.com/rooms/1115338006572763275</td>\n",
       "      <td>514234035</td>\n",
       "      <td>Entire rental unit</td>\n",
       "      <td>f</td>\n",
       "      <td>62.0</td>\n",
       "      <td>Westminster</td>\n",
       "      <td>51.513649</td>\n",
       "      <td>-0.161906</td>\n",
       "      <td>Entire home/apt</td>\n",
       "      <td>...</td>\n",
       "      <td>0</td>\n",
       "      <td>0</td>\n",
       "      <td>NaN</td>\n",
       "      <td>NaN</td>\n",
       "      <td>NaN</td>\n",
       "      <td>NaN</td>\n",
       "      <td>NaN</td>\n",
       "      <td>NaN</td>\n",
       "      <td>NaN</td>\n",
       "      <td>NaN</td>\n",
       "    </tr>\n",
       "    <tr>\n",
       "      <th>90851</th>\n",
       "      <td>1115347885713265376</td>\n",
       "      <td>https://www.airbnb.com/rooms/1115347885713265376</td>\n",
       "      <td>215155525</td>\n",
       "      <td>Entire townhouse</td>\n",
       "      <td>f</td>\n",
       "      <td>6.0</td>\n",
       "      <td>Haringey</td>\n",
       "      <td>51.600825</td>\n",
       "      <td>-0.104080</td>\n",
       "      <td>Entire home/apt</td>\n",
       "      <td>...</td>\n",
       "      <td>0</td>\n",
       "      <td>0</td>\n",
       "      <td>NaN</td>\n",
       "      <td>NaN</td>\n",
       "      <td>NaN</td>\n",
       "      <td>NaN</td>\n",
       "      <td>NaN</td>\n",
       "      <td>NaN</td>\n",
       "      <td>NaN</td>\n",
       "      <td>NaN</td>\n",
       "    </tr>\n",
       "  </tbody>\n",
       "</table>\n",
       "<p>24920 rows × 28 columns</p>\n",
       "</div>"
      ],
      "text/plain": [
       "                     숙소_id                                            숙소_url  \\\n",
       "9                   170524               https://www.airbnb.com/rooms/170524   \n",
       "35                  318986               https://www.airbnb.com/rooms/318986   \n",
       "45                   42692                https://www.airbnb.com/rooms/42692   \n",
       "49                   44384                https://www.airbnb.com/rooms/44384   \n",
       "56                  324055               https://www.airbnb.com/rooms/324055   \n",
       "...                    ...                                               ...   \n",
       "90847  1115272743905612628  https://www.airbnb.com/rooms/1115272743905612628   \n",
       "90848  1115272767893608505  https://www.airbnb.com/rooms/1115272767893608505   \n",
       "90849  1115285644506865913  https://www.airbnb.com/rooms/1115285644506865913   \n",
       "90850  1115338006572763275  https://www.airbnb.com/rooms/1115338006572763275   \n",
       "90851  1115347885713265376  https://www.airbnb.com/rooms/1115347885713265376   \n",
       "\n",
       "          호스트_id                property_type 슈퍼호스트  숙소_수  \\\n",
       "9         194769           Entire rental unit     f   9.0   \n",
       "35       1637212           Entire rental unit     f   1.0   \n",
       "45        186510  Private room in rental unit     f   1.0   \n",
       "49        194769  Private room in rental unit     f   9.0   \n",
       "56       1664001         Private room in home     f   1.0   \n",
       "...          ...                          ...   ...   ...   \n",
       "90847  565833376           Entire rental unit     f  55.0   \n",
       "90848  565833376           Entire rental unit     f  55.0   \n",
       "90849  444801189                Room in hotel     f  44.0   \n",
       "90850  514234035           Entire rental unit     f  62.0   \n",
       "90851  215155525             Entire townhouse     f   6.0   \n",
       "\n",
       "                        숙소_지역         위도        경도            숙소_유형  ...  리뷰수  \\\n",
       "9                 Westminster  51.506120 -0.140290  Entire home/apt  ...    0   \n",
       "35     Kensington and Chelsea  51.491130 -0.194820  Entire home/apt  ...    0   \n",
       "45     Hammersmith and Fulham  51.508220 -0.215620     Private room  ...    0   \n",
       "49                     Barnet  51.597900 -0.243270     Private room  ...    0   \n",
       "56                     Newham  51.553110  0.022730     Private room  ...    0   \n",
       "...                       ...        ...       ...              ...  ...  ...   \n",
       "90847                  Bexley  51.502721  0.147342  Entire home/apt  ...    0   \n",
       "90848                  Bexley  51.504134  0.148848  Entire home/apt  ...    0   \n",
       "90849             Westminster  51.506404 -0.148199     Private room  ...    0   \n",
       "90850             Westminster  51.513649 -0.161906  Entire home/apt  ...    0   \n",
       "90851                Haringey  51.600825 -0.104080  Entire home/apt  ...    0   \n",
       "\n",
       "       30일_리뷰수  리뷰점수  숙소_정확성_리뷰점수 숙소_청결도_리뷰점수 숙소_체크인_리뷰점수  숙소_소통_리뷰점수  \\\n",
       "9            0   NaN          NaN         NaN         NaN         NaN   \n",
       "35           0   NaN          NaN         NaN         NaN         NaN   \n",
       "45           0   NaN          NaN         NaN         NaN         NaN   \n",
       "49           0   NaN          NaN         NaN         NaN         NaN   \n",
       "56           0   NaN          NaN         NaN         NaN         NaN   \n",
       "...        ...   ...          ...         ...         ...         ...   \n",
       "90847        0   NaN          NaN         NaN         NaN         NaN   \n",
       "90848        0   NaN          NaN         NaN         NaN         NaN   \n",
       "90849        0   NaN          NaN         NaN         NaN         NaN   \n",
       "90850        0   NaN          NaN         NaN         NaN         NaN   \n",
       "90851        0   NaN          NaN         NaN         NaN         NaN   \n",
       "\n",
       "       숙소_위치_리뷰점수  숙소_가격_리뷰점수  평균_리뷰수  \n",
       "9             NaN         NaN     NaN  \n",
       "35            NaN         NaN     NaN  \n",
       "45            NaN         NaN     NaN  \n",
       "49            NaN         NaN     NaN  \n",
       "56            NaN         NaN     NaN  \n",
       "...           ...         ...     ...  \n",
       "90847         NaN         NaN     NaN  \n",
       "90848         NaN         NaN     NaN  \n",
       "90849         NaN         NaN     NaN  \n",
       "90850         NaN         NaN     NaN  \n",
       "90851         NaN         NaN     NaN  \n",
       "\n",
       "[24920 rows x 28 columns]"
      ]
     },
     "execution_count": 31,
     "metadata": {},
     "output_type": "execute_result"
    }
   ],
   "source": [
    "df[df['리뷰수'] == 0]"
   ]
  },
  {
   "cell_type": "code",
   "execution_count": 32,
   "metadata": {},
   "outputs": [],
   "source": [
    "df = df[df['리뷰수'] != 0]"
   ]
  },
  {
   "cell_type": "code",
   "execution_count": 33,
   "metadata": {},
   "outputs": [
    {
     "data": {
      "text/plain": [
       "(65538, 28)"
      ]
     },
     "execution_count": 33,
     "metadata": {},
     "output_type": "execute_result"
    }
   ],
   "source": [
    "df.shape"
   ]
  },
  {
   "cell_type": "markdown",
   "metadata": {},
   "source": [
    "<h3>리뷰분야 (6개)결측치 처리</h3>\n",
    "'숙소_정확성_리뷰점수', '숙소_청결도_리뷰점수', '숙소_체크인_리뷰점수',\n",
    "       '숙소_소통_리뷰점수', '숙소_위치_리뷰점수', '숙소_가격_리뷰점수'"
   ]
  },
  {
   "cell_type": "code",
   "execution_count": 34,
   "metadata": {},
   "outputs": [
    {
     "data": {
      "text/plain": [
       "Index(['숙소_id', '숙소_url', '호스트_id', 'property_type', '슈퍼호스트', '숙소_수', '숙소_지역',\n",
       "       '위도', '경도', '숙소_유형', '수용인원수', '욕실수', '침실수', '침대수', '어메니티', '숙소_가격',\n",
       "       '최소_숙박일', '최대_숙박일', '리뷰수', '30일_리뷰수', '리뷰점수', '숙소_정확성_리뷰점수',\n",
       "       '숙소_청결도_리뷰점수', '숙소_체크인_리뷰점수', '숙소_소통_리뷰점수', '숙소_위치_리뷰점수', '숙소_가격_리뷰점수',\n",
       "       '평균_리뷰수'],\n",
       "      dtype='object')"
      ]
     },
     "execution_count": 34,
     "metadata": {},
     "output_type": "execute_result"
    }
   ],
   "source": [
    "df.columns"
   ]
  },
  {
   "cell_type": "code",
   "execution_count": 35,
   "metadata": {},
   "outputs": [
    {
     "data": {
      "text/plain": [
       "숙소_id            0\n",
       "숙소_url           0\n",
       "호스트_id           0\n",
       "property_type    0\n",
       "슈퍼호스트            0\n",
       "숙소_수             0\n",
       "숙소_지역            0\n",
       "위도               0\n",
       "경도               0\n",
       "숙소_유형            0\n",
       "수용인원수            0\n",
       "욕실수              0\n",
       "침실수              0\n",
       "침대수              0\n",
       "어메니티             0\n",
       "숙소_가격            0\n",
       "최소_숙박일           0\n",
       "최대_숙박일           0\n",
       "리뷰수              0\n",
       "30일_리뷰수          0\n",
       "리뷰점수             0\n",
       "숙소_정확성_리뷰점수      0\n",
       "숙소_청결도_리뷰점수      0\n",
       "숙소_체크인_리뷰점수      0\n",
       "숙소_소통_리뷰점수       0\n",
       "숙소_위치_리뷰점수       0\n",
       "숙소_가격_리뷰점수       0\n",
       "평균_리뷰수           0\n",
       "dtype: int64"
      ]
     },
     "execution_count": 35,
     "metadata": {},
     "output_type": "execute_result"
    }
   ],
   "source": [
    "df[df['리뷰수'] == 0 ].count()"
   ]
  },
  {
   "cell_type": "code",
   "execution_count": 36,
   "metadata": {},
   "outputs": [
    {
     "data": {
      "text/plain": [
       "31"
      ]
     },
     "execution_count": 36,
     "metadata": {},
     "output_type": "execute_result"
    }
   ],
   "source": [
    "df['숙소_정확성_리뷰점수'].isna().sum()"
   ]
  },
  {
   "cell_type": "markdown",
   "metadata": {},
   "source": [
    "6개분야의 리뷰점수가 전부 널값 제거"
   ]
  },
  {
   "cell_type": "code",
   "execution_count": 37,
   "metadata": {},
   "outputs": [],
   "source": [
    "review_field = df['숙소_정확성_리뷰점수'].isna() & df['숙소_청결도_리뷰점수'].isna() & df['숙소_체크인_리뷰점수'].isna() & df['숙소_소통_리뷰점수'].isna() \\\n",
    "   & df['숙소_위치_리뷰점수'].isna() &df['숙소_가격_리뷰점수'].isna()"
   ]
  },
  {
   "cell_type": "code",
   "execution_count": 38,
   "metadata": {},
   "outputs": [],
   "source": [
    "df = df[~review_field]"
   ]
  },
  {
   "cell_type": "code",
   "execution_count": 39,
   "metadata": {},
   "outputs": [
    {
     "data": {
      "text/plain": [
       "(65516, 28)"
      ]
     },
     "execution_count": 39,
     "metadata": {},
     "output_type": "execute_result"
    }
   ],
   "source": [
    "df.shape"
   ]
  },
  {
   "cell_type": "code",
   "execution_count": 40,
   "metadata": {},
   "outputs": [
    {
     "data": {
      "text/plain": [
       "41"
      ]
     },
     "execution_count": 40,
     "metadata": {},
     "output_type": "execute_result"
    }
   ],
   "source": [
    "#각 분야의 널값\n",
    "df['숙소_정확성_리뷰점수'].isna().sum() # 9개\n",
    "df['숙소_청결도_리뷰점수'].isna().sum() # 4개\n",
    "df['숙소_소통_리뷰점수'].isna().sum() # 14개\n",
    "df['숙소_위치_리뷰점수'].isna().sum() # 39개\n",
    "df['숙소_가격_리뷰점수'].isna().sum() # 41개 "
   ]
  },
  {
   "cell_type": "markdown",
   "metadata": {},
   "source": [
    "<h3>숙소유형 특징 </h3>\n",
    "\n",
    "- Entire home/apt \n",
    "- Private room (호스텔)\n",
    "- Hotel room\n",
    "- Shared room (게스트하우스느낌)"
   ]
  },
  {
   "cell_type": "code",
   "execution_count": 41,
   "metadata": {},
   "outputs": [
    {
     "data": {
      "text/plain": [
       "array(['Entire home/apt', 'Private room', 'Hotel room', 'Shared room'],\n",
       "      dtype=object)"
      ]
     },
     "execution_count": 41,
     "metadata": {},
     "output_type": "execute_result"
    }
   ],
   "source": [
    "df['숙소_유형'].unique()"
   ]
  },
  {
   "cell_type": "code",
   "execution_count": 42,
   "metadata": {},
   "outputs": [],
   "source": [
    "from scipy.stats import chisquare\n",
    "from scipy import stats\n",
    "import scipy as sp \n",
    "\n",
    "import statsmodels.api as sm \n",
    "from statsmodels.formula.api import ols, logit, glm"
   ]
  },
  {
   "cell_type": "code",
   "execution_count": 43,
   "metadata": {},
   "outputs": [
    {
     "data": {
      "image/png": "[encoded data removed]",
      "text/plain": [
       "<Figure size 640x480 with 1 Axes>"
      ]
     },
     "metadata": {},
     "output_type": "display_data"
    }
   ],
   "source": [
    "df['숙소_유형'].value_counts().plot(kind='bar')\n",
    "plt.show()"
   ]
  },
  {
   "cell_type": "markdown",
   "metadata": {},
   "source": [
    "<h3>숙소지역 특징 </h3>\n",
    "\n",
    "1. Hackney(해크니): <span style=\"color:yellow\">동런던</span>에 위치한 트렌디한 지역 / <span style=\"color:yellow\">예술가와 창의적</span>인 커뮤니티가 많이 거주\n",
    "\n",
    "2. Islington(이슬링턴): <span style=\"color:yellow\">중북부</span>에 위치 / <span style=\"color:yellow\">고급 주거 지역</span> (고풍스러운 타운하우스와 다양한 음식점, 극장)\n",
    "\n",
    "3. Kensington and Chelsea(켄싱턴 앤드 첼시): <span style=\"color:yellow\">서쪽</span>에 위치 / <span style=\"color:yellow\">가장 부유한 지역</span> (고급 부티크와 박물관, 아름다운 주택)\n",
    "\n",
    "4. Lambeth(램버스): <span style=\"color:yellow\">남쪽</span>위치한 지역 / 런던 아이와 사우스뱅크 센터 같은 <span style=\"color:yellow\">주요 관광지</span> (다양하고 활기찬 커뮤니티)\n",
    "\n",
    "5. Brent(브렌트): <span style=\"color:yellow\">북서쪽</span>위치 / <span style=\"color:yellow\">스포츠와 음악 이벤트</span> (웸블리 스타디움이 있는 곳)\n",
    "\n",
    "6. Southwark(사우스워크): <span style=\"color:yellow\">남동쪽</span> 위치 /   <span style=\"color:yellow\">문화 관광 거리</span> (테이트 모던 미술관과 버러 마켓이 유명)\n",
    "\n",
    "7. Westminster(웨스트민스터): <span style=\"color:yellow\">중심부</span>위치 / <span style=\"color:yellow\">정부 기관 지역</span> (국회의사당, 버킹엄 궁전, 트라팔가 광장)\n",
    "\n",
    "8. Wandsworth(원스워스):<span style=\"color:yellow\">남서쪽</span>위치 / \n",
    "<span style=\"color:yellow\">주거 지역</span> (큰 공원과 가족 친화적인 분위기가 특징)\n",
    "\n",
    "9. Tower Hamlets(타워햄리츠): <span style=\"color:yellow\">동쪽</span> 위치 / 런던 타워와 카나리 워프 같은 <span style=\"color:yellow\">역사적이고 상업적인 중심지</span>\n",
    "\n",
    "10. Richmond upon Thames(리치먼드): <span style=\"color:yellow\">남서쪽</span>에 위치 / <span style=\"color:yellow\">풍요롭고 피크닉 장소</span> (리치몬드 공원과 템스 강이 유명)\n",
    "\n",
    "11. Newham(뉴험): <span style=\"color:yellow\">동쪽</span>에 위치 / <span style=\"color:yellow\">다문화 지역</span> (올림픽 공원과 웨스트필드 쇼핑센터)\n",
    "\n",
    "12. Camden(캠던): <span style=\"color:yellow\">북부</span>에 위치 / <span style=\"color:yellow\">보헤미안 지역</span> (캠든 마켓과 음악 공연장이 많음)\n",
    "\n",
    "13. Haringey(하린지): <span style=\"color:yellow\">북쪽</span>에 위치 / <span style=\"color:yellow\">주거 지역</span> (알렉산드라 팰리스와 큰 공원)\n",
    "\n",
    "14. Enfield(엔필드): <span style=\"color:yellow\">북쪽 외곽</span>에 위치 / <span style=\"color:yellow\">자연적인 지역</span> (넓은 녹지와 가족 친화적인 분위기가 특징)\n",
    "\n",
    "15. Hammersmith and Fulham(해머스미스 앤드 풀럼): <span style=\"color:yellow\">서쪽</span>에 위치 / <span style=\"color:yellow\">국제 기업의 사무소 지역</span> (템스 강변의 아름다운 경치와 고급 주택들)\n",
    "\n",
    "16. Waltham Forest(월섬 포레스트): <span style=\"color:yellow\">북동쪽</span>에 위치 / <span style=\"color:yellow\">녹지와 공원 지역</span> (예술과 문화적 활동이 활발한 곳)\n",
    "\n",
    "17. Barnet(바넷): <span style=\"color:yellow\">북서쪽</span>에 위치 / <span style=\"color:yellow\">큰 주거 지역</span> (가족과 함께 살기 좋은 환경을 제공)\n",
    "\n",
    "18. Hounslow(하운슬로): <span style=\"color:yellow\">서쪽 외곽</span>에 위치 / <span style=\"color:yellow\">히드로 공항과 가까운</span>특징 (교통이 편리)\n",
    "\n",
    "19. Barking and Dagenham(바킹 앤드 다게넘): <span style=\"color:yellow\">동쪽 외곽</span>에 위치 / <span style=\"color:yellow\">공업 지대와 주거 지역이 혼재</span> 다문화 지역\n",
    "\n",
    "20. Croydon(크로이던): <span style=\"color:yellow\">남쪽</span>에 위치 / <span style=\"color:yellow\">큰 상업 중심지</span> (쇼핑몰과 비즈니스 허브가 많음)\n",
    "\n",
    "21. Lewisham(루이섬): <span style=\"color:yellow\">남동쪽</span>에 위치 / <span style=\"color:yellow\">다양한 문화적 배경을 가진 사람들이 거주</span> (활기찬 시장이 있다)\n",
    "\n",
    "22. Ealing(일링): <span style=\"color:yellow\">서쪽</span>에 위치 / <span style=\"color:yellow\">가족 친화적인 분위기</span> (철도역이 있고 큰 공원)\n",
    "\n",
    "23. Merton(머튼): <span style=\"color:yellow\">남서쪽</span>에 위치 / <span style=\"color:yellow\">윔블던 테니스 챔피언십이 열리는 윔블던이 있음</span> \n",
    "\n",
    "24. City of London: <span style=\"color:yellow\">북동쪽</span>에 위치 / <span style=\"color:yellow\">런던의 금융 중심지</span> (고층 건물과 역사적인 랜드마크가 혼재)\n",
    "\n",
    "25. Greenwich(그리니치): <span style=\"color:yellow\">남동쪽</span>에 위치 / <span style=\"color:yellow\">그리니치 천문대 유명</span> (해양 박물관이 유명, 관광지)\n",
    "\n",
    "26. Hillingdon(힐링던): <span style=\"color:yellow\">서쪽 외곽</span>에 위치 / <span style=\"color:yellow\">히드로 공항이 있다.</span>\n",
    "\n",
    "27. Bromley(브롬리): <span style=\"color:yellow\">남동쪽 외곽</span>에 위치 / <span style=\"color:yellow\"> 큰 주거 지역</span> (녹지가 많고 가족들이 많이 거주)\n",
    "\n",
    "28. Havering(해버링): <span style=\"color:yellow\">동쪽 외곽</span>에 위치 / <span style=\"color:yellow\">주거 지역 느낌</span> 평온하고 넓은 녹지가 있다.\n",
    "\n",
    "29. Harrow(해로): <span style=\"color:yellow\">북서쪽</span>에 위치 / <span style=\"color:yellow\">주거 지역</span> (좋은 교육 시설이 많음)\n",
    "\n",
    "30. Bexley(벡슬리): <span style=\"color:yellow\">남동쪽 외곽</span>에 위치 / <span style=\"color:yellow\">주거 지역</span> 가족 친화적인 분위기와 공원이 많습니다.\n",
    "\n",
    "31. Redbridge(레드브리지): <span style=\"color:yellow\">북동쪽</span>에 위치 / <span style=\"color:yellow\">주거 지역</span> (다양한 커뮤니티와 녹지가 있다)\n",
    "\n",
    "32. Kingston upon Thames(킹스턴): <span style=\"color:yellow\">남서쪽</span>에 위치 / <span style=\"color:yellow\">쇼핑 지역이 유명</span> (템스 강변의 아름다운 경치)\n",
    "\n",
    "33. Sutton(서턴): <span style=\"color:yellow\">남쪽 외곽</span>에 위치 / <span style=\"color:yellow\">주거 지역</span> (가족들이 살기 좋은 환경을 제공)"
   ]
  },
  {
   "cell_type": "code",
   "execution_count": 44,
   "metadata": {},
   "outputs": [
    {
     "data": {
      "text/plain": [
       "array(['Hackney', 'Islington', 'Kensington and Chelsea', 'Lambeth',\n",
       "       'Brent', 'Southwark', 'Westminster', 'Wandsworth', 'Tower Hamlets',\n",
       "       'Richmond upon Thames', 'Newham', 'Camden', 'Haringey', 'Enfield',\n",
       "       'Hammersmith and Fulham', 'Waltham Forest', 'Barnet', 'Hounslow',\n",
       "       'Barking and Dagenham', 'Croydon', 'Lewisham', 'Ealing', 'Merton',\n",
       "       'City of London', 'Greenwich', 'Hillingdon', 'Bromley', 'Havering',\n",
       "       'Harrow', 'Bexley', 'Redbridge', 'Kingston upon Thames', 'Sutton'],\n",
       "      dtype=object)"
      ]
     },
     "execution_count": 44,
     "metadata": {},
     "output_type": "execute_result"
    }
   ],
   "source": [
    "df['숙소_지역'].unique() # 33개 "
   ]
  },
  {
   "cell_type": "code",
   "execution_count": 45,
   "metadata": {},
   "outputs": [
    {
     "data": {
      "text/plain": [
       "0                       Hackney\n",
       "1                     Islington\n",
       "2        Kensington and Chelsea\n",
       "3                       Lambeth\n",
       "4        Kensington and Chelsea\n",
       "                  ...          \n",
       "90451                   Lambeth\n",
       "90568                 Islington\n",
       "90590                    Camden\n",
       "90648                  Lewisham\n",
       "90735                   Hackney\n",
       "Name: 숙소_지역, Length: 65516, dtype: object"
      ]
     },
     "execution_count": 45,
     "metadata": {},
     "output_type": "execute_result"
    }
   ],
   "source": [
    "df['숙소_지역']"
   ]
  },
  {
   "cell_type": "markdown",
   "metadata": {},
   "source": [
    "<h3>숙소_가격 결측치 처리 </h3>\n",
    "\n",
    "- 숙소_가격이 선정되는 기준 --> 숙소지역과 숙소유형별로 비교분석 시도 "
   ]
  },
  {
   "cell_type": "markdown",
   "metadata": {},
   "source": [
    "숙소가격 데이터타입 >> float로 변경 "
   ]
  },
  {
   "cell_type": "code",
   "execution_count": 46,
   "metadata": {},
   "outputs": [],
   "source": [
    "df.loc[:,'숙소_가격'] = df['숙소_가격'].str.replace('$', \"\")\n",
    "df.loc[:,'숙소_가격'] = df['숙소_가격'].str.replace(',', \"\")\n",
    "df.loc[:,'숙소_가격'] = df['숙소_가격'].str.strip()"
   ]
  },
  {
   "cell_type": "code",
   "execution_count": 47,
   "metadata": {},
   "outputs": [
    {
     "data": {
      "text/plain": [
       "0        160.00\n",
       "1         65.00\n",
       "2        120.00\n",
       "3         65.00\n",
       "4        100.00\n",
       "          ...  \n",
       "90451     46.00\n",
       "90568     78.00\n",
       "90590    136.00\n",
       "90648    109.00\n",
       "90735     41.00\n",
       "Name: 숙소_가격, Length: 65516, dtype: object"
      ]
     },
     "execution_count": 47,
     "metadata": {},
     "output_type": "execute_result"
    }
   ],
   "source": [
    "df['숙소_가격']"
   ]
  },
  {
   "cell_type": "code",
   "execution_count": 48,
   "metadata": {},
   "outputs": [],
   "source": [
    "df['숙소_가격'] = df.loc[:,'숙소_가격'].astype(float)"
   ]
  },
  {
   "cell_type": "code",
   "execution_count": 49,
   "metadata": {},
   "outputs": [
    {
     "name": "stdout",
     "output_type": "stream",
     "text": [
      "<class 'pandas.core.frame.DataFrame'>\n",
      "RangeIndex: 90852 entries, 0 to 90851\n",
      "Data columns (total 75 columns):\n",
      " #   Column                                        Non-Null Count  Dtype  \n",
      "---  ------                                        --------------  -----  \n",
      " 0   id                                            90852 non-null  int64  \n",
      " 1   listing_url                                   90852 non-null  object \n",
      " 2   scrape_id                                     90852 non-null  int64  \n",
      " 3   last_scraped                                  90852 non-null  object \n",
      " 4   source                                        90852 non-null  object \n",
      " 5   name                                          90852 non-null  object \n",
      " 6   description                                   87851 non-null  object \n",
      " 7   neighborhood_overview                         47521 non-null  object \n",
      " 8   picture_url                                   90842 non-null  object \n",
      " 9   host_id                                       90852 non-null  int64  \n",
      " 10  host_url                                      90852 non-null  object \n",
      " 11  host_name                                     90847 non-null  object \n",
      " 12  host_since                                    90847 non-null  object \n",
      " 13  host_location                                 70566 non-null  object \n",
      " 14  host_about                                    46814 non-null  object \n",
      " 15  host_response_time                            57797 non-null  object \n",
      " 16  host_response_rate                            57797 non-null  object \n",
      " 17  host_acceptance_rate                          65213 non-null  object \n",
      " 18  host_is_superhost                             90463 non-null  object \n",
      " 19  host_thumbnail_url                            90847 non-null  object \n",
      " 20  host_picture_url                              90847 non-null  object \n",
      " 21  host_neighbourhood                            46955 non-null  object \n",
      " 22  host_listings_count                           90847 non-null  float64\n",
      " 23  host_total_listings_count                     90847 non-null  float64\n",
      " 24  host_verifications                            90847 non-null  object \n",
      " 25  host_has_profile_pic                          90847 non-null  object \n",
      " 26  host_identity_verified                        90847 non-null  object \n",
      " 27  neighbourhood                                 47522 non-null  object \n",
      " 28  neighbourhood_cleansed                        90852 non-null  object \n",
      " 29  neighbourhood_group_cleansed                  0 non-null      float64\n",
      " 30  latitude                                      90852 non-null  float64\n",
      " 31  longitude                                     90852 non-null  float64\n",
      " 32  property_type                                 90852 non-null  object \n",
      " 33  room_type                                     90852 non-null  object \n",
      " 34  accommodates                                  90852 non-null  int64  \n",
      " 35  bathrooms                                     57894 non-null  float64\n",
      " 36  bathrooms_text                                90722 non-null  object \n",
      " 37  bedrooms                                      78118 non-null  float64\n",
      " 38  beds                                          57837 non-null  float64\n",
      " 39  amenities                                     90852 non-null  object \n",
      " 40  price                                         57885 non-null  object \n",
      " 41  minimum_nights                                90852 non-null  int64  \n",
      " 42  maximum_nights                                90852 non-null  int64  \n",
      " 43  minimum_minimum_nights                        90851 non-null  float64\n",
      " 44  maximum_minimum_nights                        90851 non-null  float64\n",
      " 45  minimum_maximum_nights                        90851 non-null  float64\n",
      " 46  maximum_maximum_nights                        90851 non-null  float64\n",
      " 47  minimum_nights_avg_ntm                        90851 non-null  float64\n",
      " 48  maximum_nights_avg_ntm                        90851 non-null  float64\n",
      " 49  calendar_updated                              0 non-null      float64\n",
      " 50  has_availability                              86773 non-null  object \n",
      " 51  availability_30                               90852 non-null  int64  \n",
      " 52  availability_60                               90852 non-null  int64  \n",
      " 53  availability_90                               90852 non-null  int64  \n",
      " 54  availability_365                              90852 non-null  int64  \n",
      " 55  calendar_last_scraped                         90852 non-null  object \n",
      " 56  number_of_reviews                             90852 non-null  int64  \n",
      " 57  number_of_reviews_ltm                         90852 non-null  int64  \n",
      " 58  number_of_reviews_l30d                        90852 non-null  int64  \n",
      " 59  first_review                                  65869 non-null  object \n",
      " 60  last_review                                   65869 non-null  object \n",
      " 61  review_scores_rating                          65869 non-null  float64\n",
      " 62  review_scores_accuracy                        65838 non-null  float64\n",
      " 63  review_scores_cleanliness                     65843 non-null  float64\n",
      " 64  review_scores_checkin                         65808 non-null  float64\n",
      " 65  review_scores_communication                   65833 non-null  float64\n",
      " 66  review_scores_location                        65808 non-null  float64\n",
      " 67  review_scores_value                           65806 non-null  float64\n",
      " 68  license                                       0 non-null      float64\n",
      " 69  instant_bookable                              90852 non-null  object \n",
      " 70  calculated_host_listings_count                90852 non-null  int64  \n",
      " 71  calculated_host_listings_count_entire_homes   90852 non-null  int64  \n",
      " 72  calculated_host_listings_count_private_rooms  90852 non-null  int64  \n",
      " 73  calculated_host_listings_count_shared_rooms   90852 non-null  int64  \n",
      " 74  reviews_per_month                             65869 non-null  float64\n",
      "dtypes: float64(24), int64(17), object(34)\n",
      "memory usage: 52.0+ MB\n"
     ]
    }
   ],
   "source": [
    "dat.info()"
   ]
  },
  {
   "cell_type": "code",
   "execution_count": 50,
   "metadata": {},
   "outputs": [
    {
     "data": {
      "text/plain": [
       "166"
      ]
     },
     "execution_count": 50,
     "metadata": {},
     "output_type": "execute_result"
    }
   ],
   "source": [
    "dat[dat['room_type'] == 'Shared room']['price'].isna().sum()"
   ]
  },
  {
   "cell_type": "code",
   "execution_count": 51,
   "metadata": {},
   "outputs": [
    {
     "data": {
      "text/plain": [
       "69"
      ]
     },
     "execution_count": 51,
     "metadata": {},
     "output_type": "execute_result"
    }
   ],
   "source": [
    "dat[dat['room_type'] == 'Hotel room']['price'].isna().sum()\n"
   ]
  },
  {
   "cell_type": "code",
   "execution_count": 52,
   "metadata": {},
   "outputs": [
    {
     "data": {
      "text/plain": [
       "dtype('float64')"
      ]
     },
     "execution_count": 52,
     "metadata": {},
     "output_type": "execute_result"
    }
   ],
   "source": [
    "df['숙소_가격'].dtypes"
   ]
  },
  {
   "cell_type": "code",
   "execution_count": 53,
   "metadata": {},
   "outputs": [
    {
     "data": {
      "text/plain": [
       "count    43446.000000\n",
       "mean       165.145307\n",
       "std        419.950280\n",
       "min          0.000000\n",
       "25%         70.000000\n",
       "50%        120.000000\n",
       "75%        195.000000\n",
       "max      53588.000000\n",
       "Name: 숙소_가격, dtype: float64"
      ]
     },
     "execution_count": 53,
     "metadata": {},
     "output_type": "execute_result"
    }
   ],
   "source": [
    "df['숙소_가격'].describe()"
   ]
  },
  {
   "cell_type": "code",
   "execution_count": 54,
   "metadata": {},
   "outputs": [],
   "source": [
    "dat = df.copy()"
   ]
  },
  {
   "cell_type": "markdown",
   "metadata": {},
   "source": [
    "숙소가격 널값 제거 후 분석 df"
   ]
  },
  {
   "cell_type": "code",
   "execution_count": 55,
   "metadata": {},
   "outputs": [
    {
     "data": {
      "text/plain": [
       "22070"
      ]
     },
     "execution_count": 55,
     "metadata": {},
     "output_type": "execute_result"
    }
   ],
   "source": [
    "df[\"숙소_가격\"].isna().sum()\n"
   ]
  },
  {
   "cell_type": "code",
   "execution_count": 56,
   "metadata": {},
   "outputs": [],
   "source": [
    "df.dropna(subset=['숙소_가격'], inplace =  True)"
   ]
  },
  {
   "cell_type": "code",
   "execution_count": 57,
   "metadata": {},
   "outputs": [
    {
     "data": {
      "text/plain": [
       "(43446, 28)"
      ]
     },
     "execution_count": 57,
     "metadata": {},
     "output_type": "execute_result"
    }
   ],
   "source": [
    "df.shape"
   ]
  },
  {
   "cell_type": "markdown",
   "metadata": {},
   "source": [
    "<h3>숙소 유형과 숙소가격 연관성 분석</h3>"
   ]
  },
  {
   "cell_type": "code",
   "execution_count": 58,
   "metadata": {},
   "outputs": [
    {
     "data": {
      "text/plain": [
       "array(['Entire home/apt', 'Private room', 'Hotel room', 'Shared room'],\n",
       "      dtype=object)"
      ]
     },
     "execution_count": 58,
     "metadata": {},
     "output_type": "execute_result"
    }
   ],
   "source": [
    "df.숙소_유형.unique()"
   ]
  },
  {
   "cell_type": "markdown",
   "metadata": {},
   "source": [
    "ANOVA 분석 (범주형데이터와 연속형데이터 비교)\n",
    "\n",
    "- 독립성 \n",
    "- 정규성\n",
    "- 등분산성 \n",
    "\n",
    "범주형데이터 - 숙소지역 (33개) / 숙소유형(4개)<br>\n",
    "연속형데이터 - 숙소가격"
   ]
  },
  {
   "cell_type": "code",
   "execution_count": 59,
   "metadata": {},
   "outputs": [
    {
     "name": "stdout",
     "output_type": "stream",
     "text": [
      "Levene's test statistic: 65.00667521682823\n",
      "p-value: 6.23641484714332e-42\n",
      "등분산성을 만족하지 않습니다.\n"
     ]
    }
   ],
   "source": [
    "from scipy.stats import levene\n",
    "\n",
    "# 숙소 유형별로 숙소 가격 데이터를 추출\n",
    "prices_by_type = [df[df['숙소_유형'] == typ]['숙소_가격'].values for typ in df['숙소_유형'].unique()]\n",
    "\n",
    "# 등분산성 검정 수행\n",
    "statistic, p_value = levene(*prices_by_type)\n",
    "\n",
    "# 결과 출력\n",
    "print(\"Levene's test statistic:\", statistic)\n",
    "print(\"p-value:\", p_value)\n",
    "\n",
    "# p-value를 기준으로 등분산성 여부 판단\n",
    "if p_value > 0.05:\n",
    "    print(\"등분산성을 만족합니다.\")\n",
    "else:\n",
    "    print(\"등분산성을 만족하지 않습니다.\")"
   ]
  },
  {
   "cell_type": "code",
   "execution_count": 60,
   "metadata": {},
   "outputs": [],
   "source": [
    "mean = df['숙소_가격'].values\n",
    "\n",
    "mean1 = df[df['숙소_유형'] == 'Entire home/apt'].숙소_가격.values\n",
    "mean2 = df[df['숙소_유형'] == 'Private room'].숙소_가격.values\n",
    "mean3 = df[df['숙소_유형'] == 'Hotel room'].숙소_가격.values\n",
    "mean4 = df[df['숙소_유형'] == 'Shared room'].숙소_가격.values"
   ]
  },
  {
   "cell_type": "code",
   "execution_count": 61,
   "metadata": {},
   "outputs": [
    {
     "name": "stdout",
     "output_type": "stream",
     "text": [
      "ANOVA 결과 : F_onewayResult(statistic=299.8908443847532, pvalue=1.0210599539625403e-192)\n",
      "숙소 유형별로 숙소 가격에 유의미한 차이가 있습니다.\n"
     ]
    }
   ],
   "source": [
    "\n",
    "import pandas as pd\n",
    "import scipy.stats as stats\n",
    "\n",
    "# ANOVA 분석 수행\n",
    "anova_result = stats.f_oneway(mean1, mean2, mean3, mean4)\n",
    "\n",
    "print('ANOVA 결과 :', anova_result)\n",
    "\n",
    "# p-value가 유의수준(일반적으로 0.05)보다 작은지 확인\n",
    "if anova_result.pvalue < 0.05:\n",
    "    print('숙소 유형별로 숙소 가격에 유의미한 차이가 있습니다.')\n",
    "else:\n",
    "    print('숙소 유형별로 숙소 가격에 유의미한 차이가 없습니다.')"
   ]
  },
  {
   "cell_type": "markdown",
   "metadata": {},
   "source": [
    "<h4>귀무가설 : 두 그룹의 평균이 동일하다</h4>\n",
    "mean1 과 mean3는 귀무가설 채택 pvalue=0.0927190882997952 (0.05보다 큼)<br>\n",
    "entire home/apt 와 hotel room은 reject가 false 이기때문에 <br>\n",
    "두 그룹의 평균이 동일하다라고 판단"
   ]
  },
  {
   "cell_type": "code",
   "execution_count": 62,
   "metadata": {},
   "outputs": [
    {
     "name": "stdout",
     "output_type": "stream",
     "text": [
      "          Multiple Comparison of Means - Tukey HSD, FWER=0.05          \n",
      "=======================================================================\n",
      "     group1        group2     meandiff p-adj    lower    upper   reject\n",
      "-----------------------------------------------------------------------\n",
      "Entire home/apt   Hotel room    9.1447 0.9961  -96.2711 114.5605  False\n",
      "Entire home/apt Private room -127.0289    0.0 -137.9257 -116.132   True\n",
      "Entire home/apt  Shared room   -77.052  0.088  -161.453   7.3489  False\n",
      "     Hotel room Private room -136.1735 0.0051 -241.7762 -30.5709   True\n",
      "     Hotel room  Shared room  -86.1967 0.3542 -220.9435  48.5501  False\n",
      "   Private room  Shared room   49.9768 0.4272  -34.6574  134.611  False\n",
      "-----------------------------------------------------------------------\n"
     ]
    }
   ],
   "source": [
    "from statsmodels.stats.multicomp import pairwise_tukeyhsd\n",
    "\n",
    "\n",
    "\n",
    "# Tukey's HSD 검정 수행\n",
    "tukey_result = pairwise_tukeyhsd(df['숙소_가격'], df['숙소_유형'])\n",
    "\n",
    "# 결과 출력\n",
    "print(tukey_result)"
   ]
  },
  {
   "cell_type": "markdown",
   "metadata": {},
   "source": [
    "pvalue=1.0210599539625403e-192 (0.05보다 작으므로 귀무가설 기각)<br>\n",
    "귀무가설 : 숙소가격과 숙소유형간의 평균차이가 없다 >> 기각<br>\n",
    "결론 >> 숙소가격과 숙소유형간의 평균차이가 있음 ."
   ]
  },
  {
   "cell_type": "markdown",
   "metadata": {},
   "source": [
    "<h3>숙소유형과 숙소지역간의 연관성 분석 </h3><br>\n",
    "범주형데이터끼리의 독립성 확인 >> 카이제곱검정 <br>\n",
    "\n"
   ]
  },
  {
   "cell_type": "markdown",
   "metadata": {},
   "source": [
    "- 큰 카이제곱 값과 p-값(0.0)은 귀무 가설을 기각할 가능성이 높은 것 \n",
    "- 관측된 데이터와 모델이 예측하는 기대값 간에 유의미한 차이가 있음을 의미합니다.\n",
    "- 자유도 96은 이 검정에서 사용된 데이터 포인트의 수와 관련된 정보\n",
    "\n",
    "- 결론 : 귀무 가설은 기각 ! 두 변수는 독립적이지 않다는 결론 --> 연관성이 있음"
   ]
  },
  {
   "cell_type": "markdown",
   "metadata": {},
   "source": [
    "- Chi-square value (카이제곱 값)이 크면 실제로 기대빈도와 관찰된 빈도 간에 유의미한 차이가 있다는 뜻 \n",
    "- p-value 0.05보다 작으므로 통계적으로 유의미한 관련성이 있다. \n",
    "- Degrees of freedom (자유도) : 96개의 독립적인 정보를 조작할수 있다 . 자유도가 높을수록 검정 통계량이 더욱 정확하게 측정된다. 96으로 높으므로 결과의 신뢰도가 높음"
   ]
  },
  {
   "cell_type": "code",
   "execution_count": 63,
   "metadata": {},
   "outputs": [
    {
     "name": "stdout",
     "output_type": "stream",
     "text": [
      "Chi-square value: 2694.801564124822\n",
      "p-value: 0.0\n",
      "Degrees of freedom: 96\n",
      "Expected frequencies table:\n",
      "[[2.11838144e+02 7.54011393e+02 1.95950283e+02 9.49299682e+02\n",
      "  2.95249413e+02 2.01246237e+03 1.96612277e+02 5.29595360e+02\n",
      "  7.63279312e+02 3.09813285e+02 6.56698246e+02 1.69073319e+03\n",
      "  1.29155068e+03 7.05685817e+02 2.07866179e+02 1.64836556e+02\n",
      "  3.27687129e+02 4.38902154e+02 1.30942453e+03 2.12301540e+03\n",
      "  2.34345947e+02 1.43983738e+03 7.55997376e+02 4.57437992e+02\n",
      "  7.65927289e+02 2.82671523e+02 4.50818050e+02 1.47558507e+03\n",
      "  1.36370805e+02 2.08395774e+03 5.65343047e+02 1.38687785e+03\n",
      "  3.59131853e+03]\n",
      " [7.58642913e-01 2.70029462e+00 7.01744695e-01 3.39966855e+00\n",
      "  1.05735856e+00 7.20710767e+00 7.04115454e-01 1.89660728e+00\n",
      "  2.73348525e+00 1.10951526e+00 2.35179303e+00 6.05491875e+00\n",
      "  4.62535101e+00 2.52722920e+00 7.44418358e-01 5.90319017e-01\n",
      "  1.17352576e+00 1.57181329e+00 4.68936151e+00 7.60302444e+00\n",
      "  8.39248723e-01 5.15640105e+00 2.70740690e+00 1.63819454e+00\n",
      "  2.74296828e+00 1.01231414e+00 1.61448695e+00 5.28442204e+00\n",
      "  4.88376375e-01 7.46314966e+00 2.02462827e+00 4.96674032e+00\n",
      "  1.28613681e+01]\n",
      " [1.06217373e+02 3.78067463e+02 9.82510703e+01 4.75986604e+02\n",
      "  1.48040464e+02 1.00906505e+03 9.85829996e+01 2.65543433e+02\n",
      "  3.82714473e+02 1.55342908e+02 3.29273857e+02 8.47747411e+02\n",
      "  6.47594048e+02 3.53836625e+02 1.04225798e+02 8.26503936e+01\n",
      "  1.64304999e+02 2.20069120e+02 6.56556139e+02 1.06449724e+03\n",
      "  1.17502969e+02 7.21946209e+02 3.79063251e+02 2.29363140e+02\n",
      "  3.84042190e+02 1.41733807e+02 2.26043848e+02 7.39870391e+02\n",
      "  6.83774341e+01 1.04491341e+03 2.83467615e+02 6.95391866e+02\n",
      "  1.80071641e+03]\n",
      " [1.18583989e+00 4.22084887e+00 1.09690190e+00 5.31404502e+00\n",
      "  1.65276435e+00 1.12654790e+01 1.10060765e+00 2.96459973e+00\n",
      "  4.27272937e+00 1.73429084e+00 3.67610367e+00 9.46448465e+00\n",
      "  7.22991760e+00 3.95032914e+00 1.16360540e+00 9.22731667e-01\n",
      "  1.83434608e+00 2.45691203e+00 7.32997284e+00 1.18843392e+01\n",
      "  1.31183538e+00 8.06000552e+00 4.23196612e+00 2.56067302e+00\n",
      "  4.28755236e+00 1.58235511e+00 2.52361552e+00 8.26011601e+00\n",
      "  7.63384431e-01 1.16656999e+01 3.16471021e+00 7.76354555e+00\n",
      "  2.01036919e+01]]\n"
     ]
    }
   ],
   "source": [
    "from scipy.stats import chi2_contingency\n",
    "\n",
    "\n",
    "\n",
    "# 카이제곱 검정 수행\n",
    "chi2, p, dof, expected = chi2_contingency(pd.crosstab(df['숙소_유형'], df['숙소_지역']))\n",
    "\n",
    "# 결과 출력\n",
    "print(\"Chi-square value:\", chi2)\n",
    "print(\"p-value:\", p)\n",
    "print(\"Degrees of freedom:\", dof)\n",
    "print(\"Expected frequencies table:\")\n",
    "print(expected)\n"
   ]
  },
  {
   "cell_type": "code",
   "execution_count": 64,
   "metadata": {},
   "outputs": [
    {
     "data": {
      "text/html": [
       "<div>\n",
       "<style scoped>\n",
       "    .dataframe tbody tr th:only-of-type {\n",
       "        vertical-align: middle;\n",
       "    }\n",
       "\n",
       "    .dataframe tbody tr th {\n",
       "        vertical-align: top;\n",
       "    }\n",
       "\n",
       "    .dataframe thead th {\n",
       "        text-align: right;\n",
       "    }\n",
       "</style>\n",
       "<table border=\"1\" class=\"dataframe\">\n",
       "  <thead>\n",
       "    <tr style=\"text-align: right;\">\n",
       "      <th>숙소_지역</th>\n",
       "      <th>Barking and Dagenham</th>\n",
       "      <th>Barnet</th>\n",
       "      <th>Bexley</th>\n",
       "      <th>Brent</th>\n",
       "      <th>Bromley</th>\n",
       "      <th>Camden</th>\n",
       "      <th>City of London</th>\n",
       "      <th>Croydon</th>\n",
       "      <th>Ealing</th>\n",
       "      <th>Enfield</th>\n",
       "      <th>...</th>\n",
       "      <th>Merton</th>\n",
       "      <th>Newham</th>\n",
       "      <th>Redbridge</th>\n",
       "      <th>Richmond upon Thames</th>\n",
       "      <th>Southwark</th>\n",
       "      <th>Sutton</th>\n",
       "      <th>Tower Hamlets</th>\n",
       "      <th>Waltham Forest</th>\n",
       "      <th>Wandsworth</th>\n",
       "      <th>Westminster</th>\n",
       "    </tr>\n",
       "    <tr>\n",
       "      <th>숙소_유형</th>\n",
       "      <th></th>\n",
       "      <th></th>\n",
       "      <th></th>\n",
       "      <th></th>\n",
       "      <th></th>\n",
       "      <th></th>\n",
       "      <th></th>\n",
       "      <th></th>\n",
       "      <th></th>\n",
       "      <th></th>\n",
       "      <th></th>\n",
       "      <th></th>\n",
       "      <th></th>\n",
       "      <th></th>\n",
       "      <th></th>\n",
       "      <th></th>\n",
       "      <th></th>\n",
       "      <th></th>\n",
       "      <th></th>\n",
       "      <th></th>\n",
       "      <th></th>\n",
       "    </tr>\n",
       "  </thead>\n",
       "  <tbody>\n",
       "    <tr>\n",
       "      <th>Entire home/apt</th>\n",
       "      <td>204</td>\n",
       "      <td>934</td>\n",
       "      <td>149</td>\n",
       "      <td>1163</td>\n",
       "      <td>336</td>\n",
       "      <td>3196</td>\n",
       "      <td>349</td>\n",
       "      <td>561</td>\n",
       "      <td>874</td>\n",
       "      <td>278</td>\n",
       "      <td>...</td>\n",
       "      <td>596</td>\n",
       "      <td>858</td>\n",
       "      <td>261</td>\n",
       "      <td>627</td>\n",
       "      <td>2341</td>\n",
       "      <td>151</td>\n",
       "      <td>3072</td>\n",
       "      <td>756</td>\n",
       "      <td>2166</td>\n",
       "      <td>5711</td>\n",
       "    </tr>\n",
       "    <tr>\n",
       "      <th>Hotel room</th>\n",
       "      <td>0</td>\n",
       "      <td>1</td>\n",
       "      <td>0</td>\n",
       "      <td>0</td>\n",
       "      <td>0</td>\n",
       "      <td>12</td>\n",
       "      <td>0</td>\n",
       "      <td>2</td>\n",
       "      <td>0</td>\n",
       "      <td>11</td>\n",
       "      <td>...</td>\n",
       "      <td>0</td>\n",
       "      <td>3</td>\n",
       "      <td>0</td>\n",
       "      <td>1</td>\n",
       "      <td>5</td>\n",
       "      <td>0</td>\n",
       "      <td>8</td>\n",
       "      <td>0</td>\n",
       "      <td>3</td>\n",
       "      <td>35</td>\n",
       "    </tr>\n",
       "    <tr>\n",
       "      <th>Private room</th>\n",
       "      <td>196</td>\n",
       "      <td>541</td>\n",
       "      <td>195</td>\n",
       "      <td>818</td>\n",
       "      <td>257</td>\n",
       "      <td>1305</td>\n",
       "      <td>44</td>\n",
       "      <td>517</td>\n",
       "      <td>706</td>\n",
       "      <td>284</td>\n",
       "      <td>...</td>\n",
       "      <td>446</td>\n",
       "      <td>766</td>\n",
       "      <td>328</td>\n",
       "      <td>319</td>\n",
       "      <td>1427</td>\n",
       "      <td>122</td>\n",
       "      <td>2166</td>\n",
       "      <td>543</td>\n",
       "      <td>1157</td>\n",
       "      <td>1510</td>\n",
       "    </tr>\n",
       "    <tr>\n",
       "      <th>Shared room</th>\n",
       "      <td>2</td>\n",
       "      <td>10</td>\n",
       "      <td>2</td>\n",
       "      <td>8</td>\n",
       "      <td>1</td>\n",
       "      <td>28</td>\n",
       "      <td>1</td>\n",
       "      <td>2</td>\n",
       "      <td>4</td>\n",
       "      <td>0</td>\n",
       "      <td>...</td>\n",
       "      <td>8</td>\n",
       "      <td>13</td>\n",
       "      <td>4</td>\n",
       "      <td>3</td>\n",
       "      <td>11</td>\n",
       "      <td>1</td>\n",
       "      <td>27</td>\n",
       "      <td>8</td>\n",
       "      <td>3</td>\n",
       "      <td>24</td>\n",
       "    </tr>\n",
       "  </tbody>\n",
       "</table>\n",
       "<p>4 rows × 33 columns</p>\n",
       "</div>"
      ],
      "text/plain": [
       "숙소_지역            Barking and Dagenham  Barnet  Bexley  Brent  Bromley  Camden  \\\n",
       "숙소_유형                                                                           \n",
       "Entire home/apt                   204     934     149   1163      336    3196   \n",
       "Hotel room                          0       1       0      0        0      12   \n",
       "Private room                      196     541     195    818      257    1305   \n",
       "Shared room                         2      10       2      8        1      28   \n",
       "\n",
       "숙소_지역            City of London  Croydon  Ealing  Enfield  ...  Merton  \\\n",
       "숙소_유형                                                      ...           \n",
       "Entire home/apt             349      561     874      278  ...     596   \n",
       "Hotel room                    0        2       0       11  ...       0   \n",
       "Private room                 44      517     706      284  ...     446   \n",
       "Shared room                   1        2       4        0  ...       8   \n",
       "\n",
       "숙소_지역            Newham  Redbridge  Richmond upon Thames  Southwark  Sutton  \\\n",
       "숙소_유형                                                                         \n",
       "Entire home/apt     858        261                   627       2341     151   \n",
       "Hotel room            3          0                     1          5       0   \n",
       "Private room        766        328                   319       1427     122   \n",
       "Shared room          13          4                     3         11       1   \n",
       "\n",
       "숙소_지역            Tower Hamlets  Waltham Forest  Wandsworth  Westminster  \n",
       "숙소_유형                                                                    \n",
       "Entire home/apt           3072             756        2166         5711  \n",
       "Hotel room                   8               0           3           35  \n",
       "Private room              2166             543        1157         1510  \n",
       "Shared room                 27               8           3           24  \n",
       "\n",
       "[4 rows x 33 columns]"
      ]
     },
     "execution_count": 64,
     "metadata": {},
     "output_type": "execute_result"
    }
   ],
   "source": [
    "#crosstab(교차분석표) 2개의 범주형데이터 비교분석 >> 빈도수 파악\n",
    "import pandas as pd \n",
    "\n",
    "\n",
    "# 교차 분석표\n",
    "crosstab = pd.crosstab(dat['숙소_유형'], dat['숙소_지역'])\n",
    "crosstab"
   ]
  },
  {
   "cell_type": "code",
   "execution_count": 65,
   "metadata": {},
   "outputs": [
    {
     "data": {
      "image/png": "[encoded data removed]",
      "text/plain": [
       "<Figure size 1500x600 with 1 Axes>"
      ]
     },
     "metadata": {},
     "output_type": "display_data"
    }
   ],
   "source": [
    "import seaborn as sns\n",
    "import matplotlib.pyplot as plt\n",
    "\n",
    "plt.figure(figsize=(15, 6))\n",
    "sns.heatmap(crosstab, annot=True, fmt=\"d\", cmap=\"YlGnBu\",cbar=False)\n",
    "plt.title('숙소 유형과 지역 간의 교차분석표')\n",
    "plt.show()"
   ]
  },
  {
   "cell_type": "markdown",
   "metadata": {},
   "source": [
    "의문점<br>\n",
    "숙소유형별로 숙소가격의 평균차이를 알 필요가 없음 <br>\n",
    "boxplot으로 숙소가격의 이상치 여부와 제거할 필요가 있음<br>"
   ]
  },
  {
   "cell_type": "code",
   "execution_count": 66,
   "metadata": {},
   "outputs": [
    {
     "data": {
      "text/html": [
       "<div>\n",
       "<style scoped>\n",
       "    .dataframe tbody tr th:only-of-type {\n",
       "        vertical-align: middle;\n",
       "    }\n",
       "\n",
       "    .dataframe tbody tr th {\n",
       "        vertical-align: top;\n",
       "    }\n",
       "\n",
       "    .dataframe thead th {\n",
       "        text-align: right;\n",
       "    }\n",
       "</style>\n",
       "<table border=\"1\" class=\"dataframe\">\n",
       "  <thead>\n",
       "    <tr style=\"text-align: right;\">\n",
       "      <th></th>\n",
       "      <th>숙소_지역</th>\n",
       "      <th>숙소_유형</th>\n",
       "      <th>숙소_가격</th>\n",
       "    </tr>\n",
       "  </thead>\n",
       "  <tbody>\n",
       "    <tr>\n",
       "      <th>0</th>\n",
       "      <td>Barking and Dagenham</td>\n",
       "      <td>Entire home/apt</td>\n",
       "      <td>136.5</td>\n",
       "    </tr>\n",
       "    <tr>\n",
       "      <th>1</th>\n",
       "      <td>Barking and Dagenham</td>\n",
       "      <td>Private room</td>\n",
       "      <td>61.7</td>\n",
       "    </tr>\n",
       "    <tr>\n",
       "      <th>2</th>\n",
       "      <td>Barking and Dagenham</td>\n",
       "      <td>Shared room</td>\n",
       "      <td>70.0</td>\n",
       "    </tr>\n",
       "    <tr>\n",
       "      <th>3</th>\n",
       "      <td>Barnet</td>\n",
       "      <td>Entire home/apt</td>\n",
       "      <td>151.6</td>\n",
       "    </tr>\n",
       "    <tr>\n",
       "      <th>4</th>\n",
       "      <td>Barnet</td>\n",
       "      <td>Private room</td>\n",
       "      <td>65.9</td>\n",
       "    </tr>\n",
       "    <tr>\n",
       "      <th>...</th>\n",
       "      <td>...</td>\n",
       "      <td>...</td>\n",
       "      <td>...</td>\n",
       "    </tr>\n",
       "    <tr>\n",
       "      <th>103</th>\n",
       "      <td>Wandsworth</td>\n",
       "      <td>Shared room</td>\n",
       "      <td>66.7</td>\n",
       "    </tr>\n",
       "    <tr>\n",
       "      <th>104</th>\n",
       "      <td>Westminster</td>\n",
       "      <td>Entire home/apt</td>\n",
       "      <td>280.3</td>\n",
       "    </tr>\n",
       "    <tr>\n",
       "      <th>105</th>\n",
       "      <td>Westminster</td>\n",
       "      <td>Hotel room</td>\n",
       "      <td>423.4</td>\n",
       "    </tr>\n",
       "    <tr>\n",
       "      <th>106</th>\n",
       "      <td>Westminster</td>\n",
       "      <td>Private room</td>\n",
       "      <td>134.2</td>\n",
       "    </tr>\n",
       "    <tr>\n",
       "      <th>107</th>\n",
       "      <td>Westminster</td>\n",
       "      <td>Shared room</td>\n",
       "      <td>454.7</td>\n",
       "    </tr>\n",
       "  </tbody>\n",
       "</table>\n",
       "<p>108 rows × 3 columns</p>\n",
       "</div>"
      ],
      "text/plain": [
       "                    숙소_지역            숙소_유형  숙소_가격\n",
       "0    Barking and Dagenham  Entire home/apt  136.5\n",
       "1    Barking and Dagenham     Private room   61.7\n",
       "2    Barking and Dagenham      Shared room   70.0\n",
       "3                  Barnet  Entire home/apt  151.6\n",
       "4                  Barnet     Private room   65.9\n",
       "..                    ...              ...    ...\n",
       "103            Wandsworth      Shared room   66.7\n",
       "104           Westminster  Entire home/apt  280.3\n",
       "105           Westminster       Hotel room  423.4\n",
       "106           Westminster     Private room  134.2\n",
       "107           Westminster      Shared room  454.7\n",
       "\n",
       "[108 rows x 3 columns]"
      ]
     },
     "execution_count": 66,
     "metadata": {},
     "output_type": "execute_result"
    }
   ],
   "source": [
    "avg_price_by_area_type = round(df.groupby(['숙소_지역', '숙소_유형'])['숙소_가격'].mean(),1).reset_index()\n",
    "\n",
    "avg_price_by_area_type"
   ]
  },
  {
   "cell_type": "code",
   "execution_count": 67,
   "metadata": {},
   "outputs": [
    {
     "data": {
      "image/png": "[encoded data removed]",
      "text/plain": [
       "<Figure size 1200x600 with 1 Axes>"
      ]
     },
     "metadata": {},
     "output_type": "display_data"
    }
   ],
   "source": [
    "import seaborn as sns\n",
    "import matplotlib.pyplot as plt\n",
    "\n",
    "# 숙소 지역과 숙소 유형별 가격의 평균 계산\n",
    "avg_price_by_area_type = df.groupby(['숙소_지역', '숙소_유형'])['숙소_가격'].mean().reset_index()\n",
    "\n",
    "# 상자수염 그림(boxplot)으로 이상치 확인\n",
    "plt.figure(figsize=(12, 6))\n",
    "sns.boxplot(data=avg_price_by_area_type, x='숙소_가격')\n",
    "plt.title('숙소 지역 및 유형별 숙소 가격 이상치확인')\n",
    "plt.xlabel('숙소 가격')\n",
    "plt.show()"
   ]
  },
  {
   "cell_type": "code",
   "execution_count": 68,
   "metadata": {},
   "outputs": [
    {
     "data": {
      "text/html": [
       "<div>\n",
       "<style scoped>\n",
       "    .dataframe tbody tr th:only-of-type {\n",
       "        vertical-align: middle;\n",
       "    }\n",
       "\n",
       "    .dataframe tbody tr th {\n",
       "        vertical-align: top;\n",
       "    }\n",
       "\n",
       "    .dataframe thead th {\n",
       "        text-align: right;\n",
       "    }\n",
       "</style>\n",
       "<table border=\"1\" class=\"dataframe\">\n",
       "  <thead>\n",
       "    <tr style=\"text-align: right;\">\n",
       "      <th></th>\n",
       "      <th>숙소_가격</th>\n",
       "    </tr>\n",
       "  </thead>\n",
       "  <tbody>\n",
       "    <tr>\n",
       "      <th>count</th>\n",
       "      <td>108.000000</td>\n",
       "    </tr>\n",
       "    <tr>\n",
       "      <th>mean</th>\n",
       "      <td>121.951096</td>\n",
       "    </tr>\n",
       "    <tr>\n",
       "      <th>std</th>\n",
       "      <td>79.052092</td>\n",
       "    </tr>\n",
       "    <tr>\n",
       "      <th>min</th>\n",
       "      <td>18.000000</td>\n",
       "    </tr>\n",
       "    <tr>\n",
       "      <th>25%</th>\n",
       "      <td>59.833038</td>\n",
       "    </tr>\n",
       "    <tr>\n",
       "      <th>50%</th>\n",
       "      <td>97.625458</td>\n",
       "    </tr>\n",
       "    <tr>\n",
       "      <th>75%</th>\n",
       "      <td>164.361121</td>\n",
       "    </tr>\n",
       "    <tr>\n",
       "      <th>max</th>\n",
       "      <td>454.666667</td>\n",
       "    </tr>\n",
       "  </tbody>\n",
       "</table>\n",
       "</div>"
      ],
      "text/plain": [
       "            숙소_가격\n",
       "count  108.000000\n",
       "mean   121.951096\n",
       "std     79.052092\n",
       "min     18.000000\n",
       "25%     59.833038\n",
       "50%     97.625458\n",
       "75%    164.361121\n",
       "max    454.666667"
      ]
     },
     "execution_count": 68,
     "metadata": {},
     "output_type": "execute_result"
    }
   ],
   "source": [
    "avg_price_by_area_type.describe()"
   ]
  },
  {
   "cell_type": "code",
   "execution_count": 69,
   "metadata": {},
   "outputs": [
    {
     "name": "stdout",
     "output_type": "stream",
     "text": [
      "이상치 인덱스: []\n"
     ]
    }
   ],
   "source": [
    "import pandas as pd\n",
    "\n",
    "# 숙소 지역과 숙소 유형별 가격의 평균 계산\n",
    "avg_price_by_area_type = df.groupby(['숙소_지역', '숙소_유형'])['숙소_가격'].mean().reset_index()\n",
    "\n",
    "# 각 그룹에서 이상치를 식별\n",
    "outliers = []\n",
    "for group, data in avg_price_by_area_type.groupby(['숙소_지역', '숙소_유형']):\n",
    "    q1 = data['숙소_가격'].quantile(0.25)\n",
    "    q3 = data['숙소_가격'].quantile(0.75)\n",
    "    iqr = q3 - q1\n",
    "    lower_bound = q1 - 1.5 * iqr\n",
    "    upper_bound = q3 + 1.5 * iqr\n",
    "    # 이상치 식별 및 저장\n",
    "    outliers.extend(data[(data['숙소_가격'] < lower_bound) | (data['숙소_가격'] > upper_bound)].index)\n",
    "\n",
    "# 이상치 출력\n",
    "print(\"이상치 인덱스:\", outliers)\n"
   ]
  },
  {
   "cell_type": "code",
   "execution_count": 70,
   "metadata": {},
   "outputs": [
    {
     "name": "stdout",
     "output_type": "stream",
     "text": [
      "이상치의 개수: 0\n"
     ]
    }
   ],
   "source": [
    "# 이상치의 개수\n",
    "num_outliers = len(outliers)\n",
    "\n",
    "# 결과 출력\n",
    "print(\"이상치의 개수:\", num_outliers)"
   ]
  },
  {
   "cell_type": "code",
   "execution_count": 71,
   "metadata": {},
   "outputs": [
    {
     "data": {
      "image/png": "[encoded data removed]",
      "text/plain": [
       "<Figure size 1000x600 with 1 Axes>"
      ]
     },
     "metadata": {},
     "output_type": "display_data"
    }
   ],
   "source": [
    "import seaborn as sns\n",
    "import matplotlib.pyplot as plt\n",
    "\n",
    "# 숙소 유형별로 숙소 가격의 분포를 시각화\n",
    "plt.figure(figsize=(10, 6))\n",
    "sns.boxplot(data=df, x='숙소_유형', y='숙소_가격')\n",
    "plt.title('숙소유형별 숙소가격 이상치 확인')\n",
    "plt.xlabel('숙소유형')\n",
    "plt.ylabel('숙소가격')\n",
    "plt.show()"
   ]
  },
  {
   "cell_type": "code",
   "execution_count": 72,
   "metadata": {},
   "outputs": [
    {
     "name": "stdout",
     "output_type": "stream",
     "text": [
      "                 숙소_유형  숙소_가격\n",
      "0      Entire home/apt  160.0\n",
      "2      Entire home/apt  120.0\n",
      "4      Entire home/apt  100.0\n",
      "10     Entire home/apt  137.0\n",
      "14     Entire home/apt  112.0\n",
      "...                ...    ...\n",
      "84622      Shared room   20.0\n",
      "86052      Shared room   34.0\n",
      "86741      Shared room   24.0\n",
      "87509      Shared room   45.0\n",
      "88536      Shared room   24.0\n",
      "\n",
      "[40685 rows x 2 columns]\n"
     ]
    }
   ],
   "source": [
    "import pandas as pd\n",
    "import numpy as np\n",
    "\n",
    "# 이상치 제거 함수 정의\n",
    "def remove_outliers(df):\n",
    "    London_lodging_type = pd.DataFrame()\n",
    "    for room_type in df['숙소_유형'].unique():\n",
    "        # 각 숙소 유형별 가격 데이터 추출\n",
    "        prices = df[df['숙소_유형'] == room_type]['숙소_가격']\n",
    "        # 이상치 경계 계산\n",
    "        Q1 = np.percentile(prices, 25)\n",
    "        Q3 = np.percentile(prices, 75)\n",
    "        IQR = Q3 - Q1\n",
    "        lower_bound = Q1 - 1.5 * IQR\n",
    "        upper_bound = Q3 + 1.5 * IQR\n",
    "        # 이상치 제거\n",
    "        outliers_removed = prices[(prices >= lower_bound) & (prices <= upper_bound)]\n",
    "        # 이상치가 제거된 데이터를 새로운 데이터프레임에 추가\n",
    "        London_lodging_type = pd.concat([London_lodging_type, pd.DataFrame({'숙소_유형': room_type, '숙소_가격': outliers_removed})])\n",
    "    return London_lodging_type\n",
    "\n",
    "# 이상치 제거 함수 호출\n",
    "London_lodging_type = remove_outliers(df)\n",
    "\n",
    "# 이상치 제거 후 결과 확인\n",
    "print(London_lodging_type)"
   ]
  },
  {
   "cell_type": "code",
   "execution_count": 73,
   "metadata": {},
   "outputs": [
    {
     "name": "stdout",
     "output_type": "stream",
     "text": [
      "43446\n",
      "40685\n",
      "이상치 값의 개수: 2761\n"
     ]
    }
   ],
   "source": [
    "# 이상치 제거 전 데이터프레임의 크기\n",
    "original_size = len(df)\n",
    "\n",
    "# 이상치 제거 후 데이터프레임의 크기\n",
    "cleaned_size = len(London_lodging_type)\n",
    "\n",
    "# 이상치 값의 개수 계산\n",
    "outliers_removed_count = original_size - cleaned_size\n",
    "print(original_size)\n",
    "print(cleaned_size)\n",
    "\n",
    "print(\"이상치 값의 개수:\", outliers_removed_count)"
   ]
  },
  {
   "cell_type": "code",
   "execution_count": 74,
   "metadata": {},
   "outputs": [
    {
     "data": {
      "text/html": [
       "<div>\n",
       "<style scoped>\n",
       "    .dataframe tbody tr th:only-of-type {\n",
       "        vertical-align: middle;\n",
       "    }\n",
       "\n",
       "    .dataframe tbody tr th {\n",
       "        vertical-align: top;\n",
       "    }\n",
       "\n",
       "    .dataframe thead th {\n",
       "        text-align: right;\n",
       "    }\n",
       "</style>\n",
       "<table border=\"1\" class=\"dataframe\">\n",
       "  <thead>\n",
       "    <tr style=\"text-align: right;\">\n",
       "      <th></th>\n",
       "      <th>숙소_유형</th>\n",
       "      <th>숙소_가격</th>\n",
       "    </tr>\n",
       "  </thead>\n",
       "  <tbody>\n",
       "    <tr>\n",
       "      <th>0</th>\n",
       "      <td>Entire home/apt</td>\n",
       "      <td>160.0</td>\n",
       "    </tr>\n",
       "    <tr>\n",
       "      <th>2</th>\n",
       "      <td>Entire home/apt</td>\n",
       "      <td>120.0</td>\n",
       "    </tr>\n",
       "    <tr>\n",
       "      <th>4</th>\n",
       "      <td>Entire home/apt</td>\n",
       "      <td>100.0</td>\n",
       "    </tr>\n",
       "    <tr>\n",
       "      <th>10</th>\n",
       "      <td>Entire home/apt</td>\n",
       "      <td>137.0</td>\n",
       "    </tr>\n",
       "    <tr>\n",
       "      <th>14</th>\n",
       "      <td>Entire home/apt</td>\n",
       "      <td>112.0</td>\n",
       "    </tr>\n",
       "    <tr>\n",
       "      <th>...</th>\n",
       "      <td>...</td>\n",
       "      <td>...</td>\n",
       "    </tr>\n",
       "    <tr>\n",
       "      <th>84622</th>\n",
       "      <td>Shared room</td>\n",
       "      <td>20.0</td>\n",
       "    </tr>\n",
       "    <tr>\n",
       "      <th>86052</th>\n",
       "      <td>Shared room</td>\n",
       "      <td>34.0</td>\n",
       "    </tr>\n",
       "    <tr>\n",
       "      <th>86741</th>\n",
       "      <td>Shared room</td>\n",
       "      <td>24.0</td>\n",
       "    </tr>\n",
       "    <tr>\n",
       "      <th>87509</th>\n",
       "      <td>Shared room</td>\n",
       "      <td>45.0</td>\n",
       "    </tr>\n",
       "    <tr>\n",
       "      <th>88536</th>\n",
       "      <td>Shared room</td>\n",
       "      <td>24.0</td>\n",
       "    </tr>\n",
       "  </tbody>\n",
       "</table>\n",
       "<p>40685 rows × 2 columns</p>\n",
       "</div>"
      ],
      "text/plain": [
       "                 숙소_유형  숙소_가격\n",
       "0      Entire home/apt  160.0\n",
       "2      Entire home/apt  120.0\n",
       "4      Entire home/apt  100.0\n",
       "10     Entire home/apt  137.0\n",
       "14     Entire home/apt  112.0\n",
       "...                ...    ...\n",
       "84622      Shared room   20.0\n",
       "86052      Shared room   34.0\n",
       "86741      Shared room   24.0\n",
       "87509      Shared room   45.0\n",
       "88536      Shared room   24.0\n",
       "\n",
       "[40685 rows x 2 columns]"
      ]
     },
     "execution_count": 74,
     "metadata": {},
     "output_type": "execute_result"
    }
   ],
   "source": [
    "#숙소유형별 숙소_가격 이상치 제거한 데이터\n",
    "London_lodging_type"
   ]
  },
  {
   "cell_type": "code",
   "execution_count": 75,
   "metadata": {},
   "outputs": [
    {
     "name": "stdout",
     "output_type": "stream",
     "text": [
      "Levene's test statistic: 2737.1786841967096\n",
      "p-value: 0.0\n",
      "등분산성을 만족하지 않습니다.\n"
     ]
    }
   ],
   "source": [
    "from scipy.stats import levene\n",
    "\n",
    "# 숙소 유형별로 숙소 가격 데이터를 추출\n",
    "prices_by_type = [London_lodging_type[London_lodging_type['숙소_유형'] == typ]['숙소_가격'].values for typ in df['숙소_유형'].unique()]\n",
    "\n",
    "# 등분산성 검정 수행\n",
    "statistic, p_value = levene(*prices_by_type)\n",
    "\n",
    "# 결과 출력\n",
    "print(\"Levene's test statistic:\", statistic)\n",
    "print(\"p-value:\", p_value)\n",
    "\n",
    "# p-value를 기준으로 등분산성 여부 판단\n",
    "if p_value > 0.05:\n",
    "    print(\"등분산성을 만족합니다.\")\n",
    "else:\n",
    "    print(\"등분산성을 만족하지 않습니다.\")"
   ]
  },
  {
   "cell_type": "code",
   "execution_count": 76,
   "metadata": {},
   "outputs": [
    {
     "data": {
      "image/png": "[encoded data removed]",
      "text/plain": [
       "<Figure size 1000x600 with 1 Axes>"
      ]
     },
     "metadata": {},
     "output_type": "display_data"
    }
   ],
   "source": [
    "import seaborn as sns\n",
    "import matplotlib.pyplot as plt\n",
    "\n",
    "# 숙소 유형별로 숙소 가격의 분포를 시각화\n",
    "plt.figure(figsize=(10, 6))\n",
    "sns.boxplot(data=London_lodging_type, x='숙소_유형', y='숙소_가격')\n",
    "plt.title('숙소유형별 숙소가격 이상치 제거')\n",
    "plt.xlabel('숙소유형')\n",
    "plt.ylabel('숙소가격')\n",
    "plt.show()"
   ]
  },
  {
   "cell_type": "code",
   "execution_count": 77,
   "metadata": {},
   "outputs": [
    {
     "data": {
      "text/html": [
       "<div>\n",
       "<style scoped>\n",
       "    .dataframe tbody tr th:only-of-type {\n",
       "        vertical-align: middle;\n",
       "    }\n",
       "\n",
       "    .dataframe tbody tr th {\n",
       "        vertical-align: top;\n",
       "    }\n",
       "\n",
       "    .dataframe thead th {\n",
       "        text-align: right;\n",
       "    }\n",
       "</style>\n",
       "<table border=\"1\" class=\"dataframe\">\n",
       "  <thead>\n",
       "    <tr style=\"text-align: right;\">\n",
       "      <th></th>\n",
       "      <th>숙소_가격</th>\n",
       "    </tr>\n",
       "  </thead>\n",
       "  <tbody>\n",
       "    <tr>\n",
       "      <th>count</th>\n",
       "      <td>40685.000000</td>\n",
       "    </tr>\n",
       "    <tr>\n",
       "      <th>mean</th>\n",
       "      <td>134.723903</td>\n",
       "    </tr>\n",
       "    <tr>\n",
       "      <th>std</th>\n",
       "      <td>84.423476</td>\n",
       "    </tr>\n",
       "    <tr>\n",
       "      <th>min</th>\n",
       "      <td>0.000000</td>\n",
       "    </tr>\n",
       "    <tr>\n",
       "      <th>25%</th>\n",
       "      <td>69.000000</td>\n",
       "    </tr>\n",
       "    <tr>\n",
       "      <th>50%</th>\n",
       "      <td>115.000000</td>\n",
       "    </tr>\n",
       "    <tr>\n",
       "      <th>75%</th>\n",
       "      <td>180.000000</td>\n",
       "    </tr>\n",
       "    <tr>\n",
       "      <th>max</th>\n",
       "      <td>417.000000</td>\n",
       "    </tr>\n",
       "  </tbody>\n",
       "</table>\n",
       "</div>"
      ],
      "text/plain": [
       "              숙소_가격\n",
       "count  40685.000000\n",
       "mean     134.723903\n",
       "std       84.423476\n",
       "min        0.000000\n",
       "25%       69.000000\n",
       "50%      115.000000\n",
       "75%      180.000000\n",
       "max      417.000000"
      ]
     },
     "execution_count": 77,
     "metadata": {},
     "output_type": "execute_result"
    }
   ],
   "source": [
    "London_lodging_type.describe()"
   ]
  },
  {
   "cell_type": "code",
   "execution_count": 78,
   "metadata": {},
   "outputs": [
    {
     "data": {
      "text/html": [
       "<div>\n",
       "<style scoped>\n",
       "    .dataframe tbody tr th:only-of-type {\n",
       "        vertical-align: middle;\n",
       "    }\n",
       "\n",
       "    .dataframe tbody tr th {\n",
       "        vertical-align: top;\n",
       "    }\n",
       "\n",
       "    .dataframe thead th {\n",
       "        text-align: right;\n",
       "    }\n",
       "</style>\n",
       "<table border=\"1\" class=\"dataframe\">\n",
       "  <thead>\n",
       "    <tr style=\"text-align: right;\">\n",
       "      <th></th>\n",
       "      <th>숙소_유형</th>\n",
       "      <th>숙소_가격</th>\n",
       "    </tr>\n",
       "  </thead>\n",
       "  <tbody>\n",
       "    <tr>\n",
       "      <th>0</th>\n",
       "      <td>Entire home/apt</td>\n",
       "      <td>160.0</td>\n",
       "    </tr>\n",
       "    <tr>\n",
       "      <th>2</th>\n",
       "      <td>Entire home/apt</td>\n",
       "      <td>120.0</td>\n",
       "    </tr>\n",
       "    <tr>\n",
       "      <th>4</th>\n",
       "      <td>Entire home/apt</td>\n",
       "      <td>100.0</td>\n",
       "    </tr>\n",
       "    <tr>\n",
       "      <th>10</th>\n",
       "      <td>Entire home/apt</td>\n",
       "      <td>137.0</td>\n",
       "    </tr>\n",
       "    <tr>\n",
       "      <th>14</th>\n",
       "      <td>Entire home/apt</td>\n",
       "      <td>112.0</td>\n",
       "    </tr>\n",
       "    <tr>\n",
       "      <th>...</th>\n",
       "      <td>...</td>\n",
       "      <td>...</td>\n",
       "    </tr>\n",
       "    <tr>\n",
       "      <th>84622</th>\n",
       "      <td>Shared room</td>\n",
       "      <td>20.0</td>\n",
       "    </tr>\n",
       "    <tr>\n",
       "      <th>86052</th>\n",
       "      <td>Shared room</td>\n",
       "      <td>34.0</td>\n",
       "    </tr>\n",
       "    <tr>\n",
       "      <th>86741</th>\n",
       "      <td>Shared room</td>\n",
       "      <td>24.0</td>\n",
       "    </tr>\n",
       "    <tr>\n",
       "      <th>87509</th>\n",
       "      <td>Shared room</td>\n",
       "      <td>45.0</td>\n",
       "    </tr>\n",
       "    <tr>\n",
       "      <th>88536</th>\n",
       "      <td>Shared room</td>\n",
       "      <td>24.0</td>\n",
       "    </tr>\n",
       "  </tbody>\n",
       "</table>\n",
       "<p>40685 rows × 2 columns</p>\n",
       "</div>"
      ],
      "text/plain": [
       "                 숙소_유형  숙소_가격\n",
       "0      Entire home/apt  160.0\n",
       "2      Entire home/apt  120.0\n",
       "4      Entire home/apt  100.0\n",
       "10     Entire home/apt  137.0\n",
       "14     Entire home/apt  112.0\n",
       "...                ...    ...\n",
       "84622      Shared room   20.0\n",
       "86052      Shared room   34.0\n",
       "86741      Shared room   24.0\n",
       "87509      Shared room   45.0\n",
       "88536      Shared room   24.0\n",
       "\n",
       "[40685 rows x 2 columns]"
      ]
     },
     "execution_count": 78,
     "metadata": {},
     "output_type": "execute_result"
    }
   ],
   "source": [
    "London_lodging_type"
   ]
  },
  {
   "cell_type": "code",
   "execution_count": 79,
   "metadata": {},
   "outputs": [
    {
     "data": {
      "text/plain": [
       "숙소_유형\n",
       "Entire home/apt    28761\n",
       "Private room       14421\n",
       "Shared room          161\n",
       "Hotel room           103\n",
       "Name: count, dtype: int64"
      ]
     },
     "execution_count": 79,
     "metadata": {},
     "output_type": "execute_result"
    }
   ],
   "source": [
    "df['숙소_유형'].value_counts()"
   ]
  },
  {
   "cell_type": "code",
   "execution_count": 80,
   "metadata": {},
   "outputs": [
    {
     "data": {
      "text/plain": [
       "숙소_유형\n",
       "Entire home/apt    26925\n",
       "Private room       13524\n",
       "Shared room          143\n",
       "Hotel room            93\n",
       "Name: count, dtype: int64"
      ]
     },
     "execution_count": 80,
     "metadata": {},
     "output_type": "execute_result"
    }
   ],
   "source": [
    "London_lodging_type['숙소_유형'].value_counts()"
   ]
  },
  {
   "cell_type": "code",
   "execution_count": 81,
   "metadata": {},
   "outputs": [
    {
     "name": "stdout",
     "output_type": "stream",
     "text": [
      "             숙소_유형  숙소_가격\n",
      "0  Entire home/apt  171.9\n",
      "1       Hotel room  163.2\n",
      "2     Private room   61.4\n",
      "3      Shared room   46.4\n"
     ]
    }
   ],
   "source": [
    "# 각 유형별 가격의 평균 \n",
    "avg_price_by_type = round(London_lodging_type.groupby('숙소_유형')['숙소_가격'].mean(),1).reset_index()\n",
    "\n",
    "# 결과 출력\n",
    "print(avg_price_by_type)"
   ]
  },
  {
   "cell_type": "code",
   "execution_count": 82,
   "metadata": {},
   "outputs": [],
   "source": [
    "London_type = df['숙소_유형']\n",
    "\n",
    "London_Entire_home = df[df['숙소_유형'] == 'Entire home/apt']\n",
    "London_Private_room = df[df['숙소_유형'] == 'Private room']\n",
    "London_Hotel_room = df[df['숙소_유형'] == 'Hotel room']\n",
    "London_Shared_room = df[df['숙소_유형'] == 'Shared room']\n"
   ]
  },
  {
   "cell_type": "markdown",
   "metadata": {},
   "source": [
    "<h3>숙소 지역과 숙소가격 이상치 제거</h3>\n"
   ]
  },
  {
   "cell_type": "code",
   "execution_count": 83,
   "metadata": {},
   "outputs": [
    {
     "data": {
      "image/png": "[encoded data removed]",
      "text/plain": [
       "<Figure size 1000x600 with 1 Axes>"
      ]
     },
     "metadata": {},
     "output_type": "display_data"
    }
   ],
   "source": [
    "import seaborn as sns\n",
    "import matplotlib.pyplot as plt\n",
    "\n",
    "# 숙소 유형별로 숙소 가격의 분포를 시각화\n",
    "plt.figure(figsize=(10, 6))\n",
    "sns.boxplot(data=df, x='숙소_지역', y='숙소_가격')\n",
    "plt.title('숙소지역별 숙소가격 이상치 확인')\n",
    "plt.xlabel('숙소지역')\n",
    "plt.ylabel('숙소가격')\n",
    "plt.xticks(rotation=90)\n",
    "plt.show()"
   ]
  },
  {
   "cell_type": "code",
   "execution_count": 84,
   "metadata": {},
   "outputs": [
    {
     "name": "stdout",
     "output_type": "stream",
     "text": [
      "         숙소_지역  숙소_가격\n",
      "0      Hackney  160.0\n",
      "10     Hackney  137.0\n",
      "16     Hackney  145.0\n",
      "75     Hackney  200.0\n",
      "121    Hackney  250.0\n",
      "...        ...    ...\n",
      "85888   Bexley  106.0\n",
      "85957   Bexley   28.0\n",
      "87010   Bexley  129.0\n",
      "88386   Bexley   40.0\n",
      "89602   Bexley   30.0\n",
      "\n",
      "[41119 rows x 2 columns]\n"
     ]
    }
   ],
   "source": [
    "import pandas as pd\n",
    "import numpy as np\n",
    "\n",
    "# 이상치 제거 함수 정의\n",
    "def remove_outliers(df):\n",
    "    London_lodging_area = pd.DataFrame()\n",
    "    for room_area in df['숙소_지역'].unique():\n",
    "        # 각 숙소 유형별 가격 데이터 추출\n",
    "        prices = df[df['숙소_지역'] == room_area]['숙소_가격']\n",
    "        # 이상치 경계 계산\n",
    "        Q1 = np.percentile(prices, 25)\n",
    "        Q3 = np.percentile(prices, 75)\n",
    "        IQR = Q3 - Q1\n",
    "        lower_bound = Q1 - 1.5 * IQR\n",
    "        upper_bound = Q3 + 1.5 * IQR\n",
    "        # 이상치 제거\n",
    "        outliers_removed = prices[(prices >= lower_bound) & (prices <= upper_bound)]\n",
    "        # 이상치가 제거된 데이터를 새로운 데이터프레임에 추가\n",
    "        London_lodging_area = pd.concat([London_lodging_area, pd.DataFrame({'숙소_지역': room_area, '숙소_가격': outliers_removed})])\n",
    "    return London_lodging_area\n",
    "\n",
    "# 이상치 제거 함수 호출\n",
    "London_lodging_area = remove_outliers(df)\n",
    "\n",
    "# 이상치 제거 후 결과 확인\n",
    "print(London_lodging_area)"
   ]
  },
  {
   "cell_type": "code",
   "execution_count": 85,
   "metadata": {},
   "outputs": [
    {
     "name": "stdout",
     "output_type": "stream",
     "text": [
      "43446\n",
      "41119\n",
      "이상치 값의 개수: 2327\n"
     ]
    }
   ],
   "source": [
    "# 이상치 제거 전 데이터프레임의 크기\n",
    "original_size = len(df)\n",
    "\n",
    "# 이상치 제거 후 데이터프레임의 크기\n",
    "cleaned_size = len(London_lodging_area)\n",
    "\n",
    "# 이상치 값의 개수 계산\n",
    "outliers_removed_count = original_size - cleaned_size\n",
    "print(original_size)\n",
    "print(cleaned_size)\n",
    "\n",
    "print(\"이상치 값의 개수:\", outliers_removed_count)"
   ]
  },
  {
   "cell_type": "code",
   "execution_count": 86,
   "metadata": {},
   "outputs": [
    {
     "data": {
      "image/png": "[encoded data removed]",
      "text/plain": [
       "<Figure size 1000x600 with 1 Axes>"
      ]
     },
     "metadata": {},
     "output_type": "display_data"
    }
   ],
   "source": [
    "import seaborn as sns\n",
    "import matplotlib.pyplot as plt\n",
    "\n",
    "# 숙소 유형별로 숙소 가격의 분포를 시각화\n",
    "plt.figure(figsize=(10, 6))\n",
    "sns.boxplot(data=London_lodging_area, x='숙소_지역', y='숙소_가격')\n",
    "plt.title('숙소지역별 숙소가격 이상치 제거')\n",
    "plt.xlabel('숙소지역')\n",
    "plt.ylabel('숙소가격')\n",
    "plt.xticks(rotation=90)\n",
    "\n",
    "plt.show()"
   ]
  },
  {
   "cell_type": "code",
   "execution_count": 87,
   "metadata": {},
   "outputs": [
    {
     "name": "stdout",
     "output_type": "stream",
     "text": [
      "                     숙소_지역  숙소_가격\n",
      "0     Barking and Dagenham   88.4\n",
      "1                   Barnet  102.6\n",
      "2                   Bexley   79.2\n",
      "3                    Brent  102.8\n",
      "4                  Bromley   95.0\n",
      "5                   Camden  158.6\n",
      "6           City of London  182.8\n",
      "7                  Croydon   73.6\n",
      "8                   Ealing   96.5\n",
      "9                  Enfield   90.9\n",
      "10               Greenwich  108.6\n",
      "11                 Hackney  127.0\n",
      "12  Hammersmith and Fulham  139.4\n",
      "13                Haringey  102.9\n",
      "14                  Harrow   83.8\n",
      "15                Havering   99.9\n",
      "16              Hillingdon   83.3\n",
      "17                Hounslow  109.0\n",
      "18               Islington  128.2\n",
      "19  Kensington and Chelsea  207.6\n",
      "20    Kingston upon Thames  102.3\n",
      "21                 Lambeth  118.6\n",
      "22                Lewisham   94.4\n",
      "23                  Merton  106.5\n",
      "24                  Newham  114.0\n",
      "25               Redbridge   88.7\n",
      "26    Richmond upon Thames  136.5\n",
      "27               Southwark  126.9\n",
      "28                  Sutton   72.4\n",
      "29           Tower Hamlets  120.2\n",
      "30          Waltham Forest   93.5\n",
      "31              Wandsworth  135.5\n",
      "32             Westminster  206.4\n"
     ]
    }
   ],
   "source": [
    "# 각 지역별 가격의 평균 \n",
    "avg_price_by_area = round(London_lodging_area.groupby('숙소_지역')['숙소_가격'].mean(),1).reset_index()\n",
    "\n",
    "# 결과 출력\n",
    "print(avg_price_by_area)"
   ]
  },
  {
   "cell_type": "code",
   "execution_count": 88,
   "metadata": {},
   "outputs": [
    {
     "data": {
      "text/plain": [
       "array(['Hackney', 'Islington', 'Kensington and Chelsea', 'Lambeth',\n",
       "       'Westminster', 'Richmond upon Thames', 'Tower Hamlets',\n",
       "       'Wandsworth', 'Camden', 'Haringey', 'Enfield',\n",
       "       'Hammersmith and Fulham', 'Southwark', 'Brent', 'Waltham Forest',\n",
       "       'Barnet', 'Barking and Dagenham', 'Croydon', 'Ealing', 'Lewisham',\n",
       "       'Merton', 'City of London', 'Greenwich', 'Hounslow', 'Newham',\n",
       "       'Hillingdon', 'Harrow', 'Redbridge', 'Kingston upon Thames',\n",
       "       'Bromley', 'Sutton', 'Havering', 'Bexley'], dtype=object)"
      ]
     },
     "execution_count": 88,
     "metadata": {},
     "output_type": "execute_result"
    }
   ],
   "source": [
    "df['숙소_지역'].unique()"
   ]
  },
  {
   "cell_type": "code",
   "execution_count": 89,
   "metadata": {},
   "outputs": [],
   "source": [
    "mean = df['숙소_가격'].values\n",
    "\n",
    "mean1 = df[df['숙소_유형'] == 'Entire home/apt'].숙소_가격\n",
    "mean2 = df[df['숙소_유형'] == 'Private room'].숙소_가격\n",
    "mean3 = df[df['숙소_유형'] == 'Hotel room'].숙소_가격\n",
    "mean4 = df[df['숙소_유형'] == 'Shared room'].숙소_가격"
   ]
  },
  {
   "cell_type": "code",
   "execution_count": 90,
   "metadata": {},
   "outputs": [
    {
     "data": {
      "image/png": "[encoded data removed]",
      "text/plain": [
       "<Figure size 1000x600 with 1 Axes>"
      ]
     },
     "metadata": {},
     "output_type": "display_data"
    }
   ],
   "source": [
    "# 막대 그래프 그리기\n",
    "\n",
    "import seaborn as sns \n",
    "\n",
    "plt.figure(figsize=(10, 6))\n",
    "sns.barplot(data=London_lodging_type, x='숙소_유형', y='숙소_가격')\n",
    "plt.title('숙소유형별 평균가격 범위')\n",
    "plt.xlabel('숙소유형')\n",
    "plt.ylabel('평균가격')\n",
    "plt.xticks(rotation=45)\n",
    "plt.show()"
   ]
  },
  {
   "cell_type": "code",
   "execution_count": 91,
   "metadata": {},
   "outputs": [
    {
     "data": {
      "image/png": "[encoded data removed]",
      "text/plain": [
       "<Figure size 1000x600 with 1 Axes>"
      ]
     },
     "metadata": {},
     "output_type": "display_data"
    }
   ],
   "source": [
    "# 막대 그래프 그리기\n",
    "\n",
    "import seaborn as sns \n",
    "\n",
    "plt.figure(figsize=(10, 6))\n",
    "sns.barplot(data=London_lodging_area, x='숙소_지역', y='숙소_가격')\n",
    "plt.title('숙소지역별 평균가격 범위')\n",
    "plt.xlabel('숙소지역')\n",
    "plt.ylabel('평균가격')\n",
    "plt.xticks(rotation=90)\n",
    "plt.show()"
   ]
  },
  {
   "cell_type": "markdown",
   "metadata": {},
   "source": [
    "<h3>숙소가격 결측치 처리 </h3>"
   ]
  },
  {
   "cell_type": "code",
   "execution_count": 92,
   "metadata": {},
   "outputs": [
    {
     "data": {
      "text/plain": [
       "(65516, 28)"
      ]
     },
     "execution_count": 92,
     "metadata": {},
     "output_type": "execute_result"
    }
   ],
   "source": [
    "#리뷰수가 0 인 값 / 숙소수 null 값 / 슈퍼호스트 null 값 제거한 데이터\n",
    "#(숙소 유형. 지역 별 숙소가격의 이상치값 제거는 원본 df값에 반영 안함)\n",
    "#단지 숙소가격 결측치 처리를 위해 실행한 것 \n",
    "dat.shape"
   ]
  },
  {
   "cell_type": "code",
   "execution_count": 93,
   "metadata": {},
   "outputs": [
    {
     "data": {
      "text/html": [
       "<div>\n",
       "<style scoped>\n",
       "    .dataframe tbody tr th:only-of-type {\n",
       "        vertical-align: middle;\n",
       "    }\n",
       "\n",
       "    .dataframe tbody tr th {\n",
       "        vertical-align: top;\n",
       "    }\n",
       "\n",
       "    .dataframe thead th {\n",
       "        text-align: right;\n",
       "    }\n",
       "</style>\n",
       "<table border=\"1\" class=\"dataframe\">\n",
       "  <thead>\n",
       "    <tr style=\"text-align: right;\">\n",
       "      <th></th>\n",
       "      <th>숙소_유형</th>\n",
       "      <th>숙소_가격</th>\n",
       "    </tr>\n",
       "  </thead>\n",
       "  <tbody>\n",
       "    <tr>\n",
       "      <th>0</th>\n",
       "      <td>Entire home/apt</td>\n",
       "      <td>171.9</td>\n",
       "    </tr>\n",
       "    <tr>\n",
       "      <th>1</th>\n",
       "      <td>Hotel room</td>\n",
       "      <td>163.2</td>\n",
       "    </tr>\n",
       "    <tr>\n",
       "      <th>2</th>\n",
       "      <td>Private room</td>\n",
       "      <td>61.4</td>\n",
       "    </tr>\n",
       "    <tr>\n",
       "      <th>3</th>\n",
       "      <td>Shared room</td>\n",
       "      <td>46.4</td>\n",
       "    </tr>\n",
       "  </tbody>\n",
       "</table>\n",
       "</div>"
      ],
      "text/plain": [
       "             숙소_유형  숙소_가격\n",
       "0  Entire home/apt  171.9\n",
       "1       Hotel room  163.2\n",
       "2     Private room   61.4\n",
       "3      Shared room   46.4"
      ]
     },
     "execution_count": 93,
     "metadata": {},
     "output_type": "execute_result"
    }
   ],
   "source": [
    "avg_price_by_type"
   ]
  },
  {
   "cell_type": "code",
   "execution_count": 94,
   "metadata": {},
   "outputs": [
    {
     "data": {
      "text/html": [
       "<div>\n",
       "<style scoped>\n",
       "    .dataframe tbody tr th:only-of-type {\n",
       "        vertical-align: middle;\n",
       "    }\n",
       "\n",
       "    .dataframe tbody tr th {\n",
       "        vertical-align: top;\n",
       "    }\n",
       "\n",
       "    .dataframe thead th {\n",
       "        text-align: right;\n",
       "    }\n",
       "</style>\n",
       "<table border=\"1\" class=\"dataframe\">\n",
       "  <thead>\n",
       "    <tr style=\"text-align: right;\">\n",
       "      <th></th>\n",
       "      <th>숙소_지역</th>\n",
       "      <th>숙소_가격</th>\n",
       "    </tr>\n",
       "  </thead>\n",
       "  <tbody>\n",
       "    <tr>\n",
       "      <th>0</th>\n",
       "      <td>Barking and Dagenham</td>\n",
       "      <td>88.4</td>\n",
       "    </tr>\n",
       "    <tr>\n",
       "      <th>1</th>\n",
       "      <td>Barnet</td>\n",
       "      <td>102.6</td>\n",
       "    </tr>\n",
       "    <tr>\n",
       "      <th>2</th>\n",
       "      <td>Bexley</td>\n",
       "      <td>79.2</td>\n",
       "    </tr>\n",
       "    <tr>\n",
       "      <th>3</th>\n",
       "      <td>Brent</td>\n",
       "      <td>102.8</td>\n",
       "    </tr>\n",
       "    <tr>\n",
       "      <th>4</th>\n",
       "      <td>Bromley</td>\n",
       "      <td>95.0</td>\n",
       "    </tr>\n",
       "    <tr>\n",
       "      <th>5</th>\n",
       "      <td>Camden</td>\n",
       "      <td>158.6</td>\n",
       "    </tr>\n",
       "    <tr>\n",
       "      <th>6</th>\n",
       "      <td>City of London</td>\n",
       "      <td>182.8</td>\n",
       "    </tr>\n",
       "    <tr>\n",
       "      <th>7</th>\n",
       "      <td>Croydon</td>\n",
       "      <td>73.6</td>\n",
       "    </tr>\n",
       "    <tr>\n",
       "      <th>8</th>\n",
       "      <td>Ealing</td>\n",
       "      <td>96.5</td>\n",
       "    </tr>\n",
       "    <tr>\n",
       "      <th>9</th>\n",
       "      <td>Enfield</td>\n",
       "      <td>90.9</td>\n",
       "    </tr>\n",
       "    <tr>\n",
       "      <th>10</th>\n",
       "      <td>Greenwich</td>\n",
       "      <td>108.6</td>\n",
       "    </tr>\n",
       "    <tr>\n",
       "      <th>11</th>\n",
       "      <td>Hackney</td>\n",
       "      <td>127.0</td>\n",
       "    </tr>\n",
       "    <tr>\n",
       "      <th>12</th>\n",
       "      <td>Hammersmith and Fulham</td>\n",
       "      <td>139.4</td>\n",
       "    </tr>\n",
       "    <tr>\n",
       "      <th>13</th>\n",
       "      <td>Haringey</td>\n",
       "      <td>102.9</td>\n",
       "    </tr>\n",
       "    <tr>\n",
       "      <th>14</th>\n",
       "      <td>Harrow</td>\n",
       "      <td>83.8</td>\n",
       "    </tr>\n",
       "    <tr>\n",
       "      <th>15</th>\n",
       "      <td>Havering</td>\n",
       "      <td>99.9</td>\n",
       "    </tr>\n",
       "    <tr>\n",
       "      <th>16</th>\n",
       "      <td>Hillingdon</td>\n",
       "      <td>83.3</td>\n",
       "    </tr>\n",
       "    <tr>\n",
       "      <th>17</th>\n",
       "      <td>Hounslow</td>\n",
       "      <td>109.0</td>\n",
       "    </tr>\n",
       "    <tr>\n",
       "      <th>18</th>\n",
       "      <td>Islington</td>\n",
       "      <td>128.2</td>\n",
       "    </tr>\n",
       "    <tr>\n",
       "      <th>19</th>\n",
       "      <td>Kensington and Chelsea</td>\n",
       "      <td>207.6</td>\n",
       "    </tr>\n",
       "    <tr>\n",
       "      <th>20</th>\n",
       "      <td>Kingston upon Thames</td>\n",
       "      <td>102.3</td>\n",
       "    </tr>\n",
       "    <tr>\n",
       "      <th>21</th>\n",
       "      <td>Lambeth</td>\n",
       "      <td>118.6</td>\n",
       "    </tr>\n",
       "    <tr>\n",
       "      <th>22</th>\n",
       "      <td>Lewisham</td>\n",
       "      <td>94.4</td>\n",
       "    </tr>\n",
       "    <tr>\n",
       "      <th>23</th>\n",
       "      <td>Merton</td>\n",
       "      <td>106.5</td>\n",
       "    </tr>\n",
       "    <tr>\n",
       "      <th>24</th>\n",
       "      <td>Newham</td>\n",
       "      <td>114.0</td>\n",
       "    </tr>\n",
       "    <tr>\n",
       "      <th>25</th>\n",
       "      <td>Redbridge</td>\n",
       "      <td>88.7</td>\n",
       "    </tr>\n",
       "    <tr>\n",
       "      <th>26</th>\n",
       "      <td>Richmond upon Thames</td>\n",
       "      <td>136.5</td>\n",
       "    </tr>\n",
       "    <tr>\n",
       "      <th>27</th>\n",
       "      <td>Southwark</td>\n",
       "      <td>126.9</td>\n",
       "    </tr>\n",
       "    <tr>\n",
       "      <th>28</th>\n",
       "      <td>Sutton</td>\n",
       "      <td>72.4</td>\n",
       "    </tr>\n",
       "    <tr>\n",
       "      <th>29</th>\n",
       "      <td>Tower Hamlets</td>\n",
       "      <td>120.2</td>\n",
       "    </tr>\n",
       "    <tr>\n",
       "      <th>30</th>\n",
       "      <td>Waltham Forest</td>\n",
       "      <td>93.5</td>\n",
       "    </tr>\n",
       "    <tr>\n",
       "      <th>31</th>\n",
       "      <td>Wandsworth</td>\n",
       "      <td>135.5</td>\n",
       "    </tr>\n",
       "    <tr>\n",
       "      <th>32</th>\n",
       "      <td>Westminster</td>\n",
       "      <td>206.4</td>\n",
       "    </tr>\n",
       "  </tbody>\n",
       "</table>\n",
       "</div>"
      ],
      "text/plain": [
       "                     숙소_지역  숙소_가격\n",
       "0     Barking and Dagenham   88.4\n",
       "1                   Barnet  102.6\n",
       "2                   Bexley   79.2\n",
       "3                    Brent  102.8\n",
       "4                  Bromley   95.0\n",
       "5                   Camden  158.6\n",
       "6           City of London  182.8\n",
       "7                  Croydon   73.6\n",
       "8                   Ealing   96.5\n",
       "9                  Enfield   90.9\n",
       "10               Greenwich  108.6\n",
       "11                 Hackney  127.0\n",
       "12  Hammersmith and Fulham  139.4\n",
       "13                Haringey  102.9\n",
       "14                  Harrow   83.8\n",
       "15                Havering   99.9\n",
       "16              Hillingdon   83.3\n",
       "17                Hounslow  109.0\n",
       "18               Islington  128.2\n",
       "19  Kensington and Chelsea  207.6\n",
       "20    Kingston upon Thames  102.3\n",
       "21                 Lambeth  118.6\n",
       "22                Lewisham   94.4\n",
       "23                  Merton  106.5\n",
       "24                  Newham  114.0\n",
       "25               Redbridge   88.7\n",
       "26    Richmond upon Thames  136.5\n",
       "27               Southwark  126.9\n",
       "28                  Sutton   72.4\n",
       "29           Tower Hamlets  120.2\n",
       "30          Waltham Forest   93.5\n",
       "31              Wandsworth  135.5\n",
       "32             Westminster  206.4"
      ]
     },
     "execution_count": 94,
     "metadata": {},
     "output_type": "execute_result"
    }
   ],
   "source": [
    "avg_price_by_area"
   ]
  },
  {
   "cell_type": "code",
   "execution_count": 95,
   "metadata": {},
   "outputs": [
    {
     "data": {
      "text/html": [
       "<div>\n",
       "<style scoped>\n",
       "    .dataframe tbody tr th:only-of-type {\n",
       "        vertical-align: middle;\n",
       "    }\n",
       "\n",
       "    .dataframe tbody tr th {\n",
       "        vertical-align: top;\n",
       "    }\n",
       "\n",
       "    .dataframe thead th {\n",
       "        text-align: right;\n",
       "    }\n",
       "</style>\n",
       "<table border=\"1\" class=\"dataframe\">\n",
       "  <thead>\n",
       "    <tr style=\"text-align: right;\">\n",
       "      <th></th>\n",
       "      <th>숙소_지역</th>\n",
       "      <th>숙소_유형</th>\n",
       "      <th>숙소_가격</th>\n",
       "    </tr>\n",
       "  </thead>\n",
       "  <tbody>\n",
       "    <tr>\n",
       "      <th>0</th>\n",
       "      <td>Barking and Dagenham</td>\n",
       "      <td>Entire home/apt</td>\n",
       "      <td>136.515152</td>\n",
       "    </tr>\n",
       "    <tr>\n",
       "      <th>1</th>\n",
       "      <td>Barking and Dagenham</td>\n",
       "      <td>Private room</td>\n",
       "      <td>61.662338</td>\n",
       "    </tr>\n",
       "    <tr>\n",
       "      <th>2</th>\n",
       "      <td>Barking and Dagenham</td>\n",
       "      <td>Shared room</td>\n",
       "      <td>70.000000</td>\n",
       "    </tr>\n",
       "    <tr>\n",
       "      <th>3</th>\n",
       "      <td>Barnet</td>\n",
       "      <td>Entire home/apt</td>\n",
       "      <td>151.645638</td>\n",
       "    </tr>\n",
       "    <tr>\n",
       "      <th>4</th>\n",
       "      <td>Barnet</td>\n",
       "      <td>Private room</td>\n",
       "      <td>65.859740</td>\n",
       "    </tr>\n",
       "    <tr>\n",
       "      <th>...</th>\n",
       "      <td>...</td>\n",
       "      <td>...</td>\n",
       "      <td>...</td>\n",
       "    </tr>\n",
       "    <tr>\n",
       "      <th>103</th>\n",
       "      <td>Wandsworth</td>\n",
       "      <td>Shared room</td>\n",
       "      <td>66.666667</td>\n",
       "    </tr>\n",
       "    <tr>\n",
       "      <th>104</th>\n",
       "      <td>Westminster</td>\n",
       "      <td>Entire home/apt</td>\n",
       "      <td>280.312100</td>\n",
       "    </tr>\n",
       "    <tr>\n",
       "      <th>105</th>\n",
       "      <td>Westminster</td>\n",
       "      <td>Hotel room</td>\n",
       "      <td>423.440000</td>\n",
       "    </tr>\n",
       "    <tr>\n",
       "      <th>106</th>\n",
       "      <td>Westminster</td>\n",
       "      <td>Private room</td>\n",
       "      <td>134.220220</td>\n",
       "    </tr>\n",
       "    <tr>\n",
       "      <th>107</th>\n",
       "      <td>Westminster</td>\n",
       "      <td>Shared room</td>\n",
       "      <td>454.666667</td>\n",
       "    </tr>\n",
       "  </tbody>\n",
       "</table>\n",
       "<p>108 rows × 3 columns</p>\n",
       "</div>"
      ],
      "text/plain": [
       "                    숙소_지역            숙소_유형       숙소_가격\n",
       "0    Barking and Dagenham  Entire home/apt  136.515152\n",
       "1    Barking and Dagenham     Private room   61.662338\n",
       "2    Barking and Dagenham      Shared room   70.000000\n",
       "3                  Barnet  Entire home/apt  151.645638\n",
       "4                  Barnet     Private room   65.859740\n",
       "..                    ...              ...         ...\n",
       "103            Wandsworth      Shared room   66.666667\n",
       "104           Westminster  Entire home/apt  280.312100\n",
       "105           Westminster       Hotel room  423.440000\n",
       "106           Westminster     Private room  134.220220\n",
       "107           Westminster      Shared room  454.666667\n",
       "\n",
       "[108 rows x 3 columns]"
      ]
     },
     "execution_count": 95,
     "metadata": {},
     "output_type": "execute_result"
    }
   ],
   "source": [
    "avg_price_by_area_type"
   ]
  },
  {
   "cell_type": "code",
   "execution_count": 96,
   "metadata": {},
   "outputs": [],
   "source": [
    "London_Price_Nan = dat[dat['숙소_가격'].isna()]"
   ]
  },
  {
   "cell_type": "code",
   "execution_count": 97,
   "metadata": {},
   "outputs": [
    {
     "data": {
      "text/plain": [
       "22070"
      ]
     },
     "execution_count": 97,
     "metadata": {},
     "output_type": "execute_result"
    }
   ],
   "source": [
    "dat['숙소_가격'].isna().sum()"
   ]
  },
  {
   "cell_type": "markdown",
   "metadata": {},
   "source": [
    "원본 숙소지역과 숙소유형 별 숙소 가격의 평균 --> (가격이 nan값인 데이터)의 숙소지역과 숙소유형 별 숙소 가격에 반영"
   ]
  },
  {
   "cell_type": "code",
   "execution_count": 98,
   "metadata": {},
   "outputs": [
    {
     "name": "stdout",
     "output_type": "stream",
     "text": [
      "                     숙소_id                                            숙소_url  \\\n",
      "5                   313710               https://www.airbnb.com/rooms/313710   \n",
      "6                   168359               https://www.airbnb.com/rooms/168359   \n",
      "8                    24328                https://www.airbnb.com/rooms/24328   \n",
      "11                  170702               https://www.airbnb.com/rooms/170702   \n",
      "13                  314985               https://www.airbnb.com/rooms/314985   \n",
      "...                    ...                                               ...   \n",
      "87029  1089297954935898261  https://www.airbnb.com/rooms/1089297954935898261   \n",
      "87276  1090640057985958105  https://www.airbnb.com/rooms/1090640057985958105   \n",
      "87290  1090452783507963913  https://www.airbnb.com/rooms/1090452783507963913   \n",
      "87300  1090481573621124067  https://www.airbnb.com/rooms/1090481573621124067   \n",
      "88004  1095441435477010989  https://www.airbnb.com/rooms/1095441435477010989   \n",
      "\n",
      "          호스트_id                property_type 슈퍼호스트  숙소_수  \\\n",
      "5        1612623           Entire rental unit     f   1.0   \n",
      "6         648725           Entire rental unit     f   2.0   \n",
      "8          41759             Entire townhouse     f   3.0   \n",
      "11        814004  Private room in rental unit     f   1.0   \n",
      "13       1617885         Private room in home     f   1.0   \n",
      "...          ...                          ...   ...   ...   \n",
      "87029  124413326           Entire rental unit     f   1.0   \n",
      "87276  543091250           Entire rental unit     f   2.0   \n",
      "87290  403509869         Private room in home     t  11.0   \n",
      "87300  431163410  Private room in rental unit     f  22.0   \n",
      "88004   33561493                  Entire home     f   2.0   \n",
      "\n",
      "                        숙소_지역         위도        경도            숙소_유형  ...  리뷰수  \\\n",
      "5                       Brent  51.533470 -0.232920  Entire home/apt  ...   10   \n",
      "6                   Southwark  51.491850 -0.088230  Entire home/apt  ...    9   \n",
      "8                  Wandsworth  51.470720 -0.162660  Entire home/apt  ...   94   \n",
      "11              Tower Hamlets  51.496860 -0.026270     Private room  ...  135   \n",
      "13                     Newham  51.526260  0.029040     Private room  ...    6   \n",
      "...                       ...        ...       ...              ...  ...  ...   \n",
      "87029    Kingston upon Thames  51.403807 -0.274750  Entire home/apt  ...    6   \n",
      "87276  Kensington and Chelsea  51.486730 -0.177350  Entire home/apt  ...    3   \n",
      "87290    Barking and Dagenham  51.536394  0.084043     Private room  ...    5   \n",
      "87300           Tower Hamlets  51.520802 -0.052637     Private room  ...    1   \n",
      "88004             Westminster  51.526263 -0.203725  Entire home/apt  ...    3   \n",
      "\n",
      "       30일_리뷰수  리뷰점수  숙소_정확성_리뷰점수 숙소_청결도_리뷰점수  숙소_체크인_리뷰점수  숙소_소통_리뷰점수  \\\n",
      "5            0  4.88         4.67        4.89         4.89        5.00   \n",
      "6            0  4.63         4.75        4.63         4.88        4.88   \n",
      "8            0  4.90         4.89        4.91         4.90        4.93   \n",
      "11           0  4.95         4.97        4.98         4.94        4.98   \n",
      "13           0  4.80         4.83        4.33         5.00        5.00   \n",
      "...        ...   ...          ...         ...          ...         ...   \n",
      "87029        6  5.00         5.00        4.75         5.00        4.75   \n",
      "87276        3  5.00         5.00        5.00         5.00        5.00   \n",
      "87290        5  4.40         4.60        4.80         4.80        4.40   \n",
      "87300        1  5.00         5.00        5.00         4.00        5.00   \n",
      "88004        3  5.00         5.00        5.00         5.00        5.00   \n",
      "\n",
      "       숙소_위치_리뷰점수  숙소_가격_리뷰점수  평균_리뷰수  \n",
      "5            4.56        4.67    0.07  \n",
      "6            4.13        4.75    0.06  \n",
      "8            4.59        4.65    0.58  \n",
      "11           4.79        4.93    0.88  \n",
      "13           4.17        4.33    0.05  \n",
      "...           ...         ...     ...  \n",
      "87029        4.75        5.00    6.00  \n",
      "87276        5.00        5.00    3.00  \n",
      "87290        4.20        4.20    5.00  \n",
      "87300        4.00        5.00    1.00  \n",
      "88004        5.00        5.00    3.00  \n",
      "\n",
      "[22070 rows x 28 columns]\n"
     ]
    }
   ],
   "source": [
    "# London_Price_Nan의 숙소 지역과 숙소 유형의 컬럼값이 avg_price_by_area_type의 숙소 지역과 숙소 유형과 같은 조건을 충족하는 경우\n",
    "for index, row in London_Price_Nan.iterrows():\n",
    "    condition = (avg_price_by_area_type['숙소_지역'] == row['숙소_지역']) & (avg_price_by_area_type['숙소_유형'] == row['숙소_유형'])\n",
    "    # 조건을 충족하는 경우 London_Price_Nan의 숙소 가격 값에 avg_price_by_area_type의 조건에 맞는 숙소 가격 값을 대입\n",
    "    if condition.any():\n",
    "        avg_price = avg_price_by_area_type.loc[condition, '숙소_가격'].values[0]\n",
    "        London_Price_Nan.at[index, '숙소_가격'] = avg_price\n",
    "\n",
    "# 결과 확인\n",
    "print(London_Price_Nan)"
   ]
  },
  {
   "cell_type": "code",
   "execution_count": 99,
   "metadata": {},
   "outputs": [
    {
     "data": {
      "text/plain": [
       "12"
      ]
     },
     "execution_count": 99,
     "metadata": {},
     "output_type": "execute_result"
    }
   ],
   "source": [
    "London_Price_Nan['숙소_가격'].isna().sum()"
   ]
  },
  {
   "cell_type": "markdown",
   "metadata": {},
   "source": [
    "대체후에도 결측치 12개가 나옴<br>\n",
    "이유는 각 해당 지역에 4개의숙소_유형이 다 있는게 아니였음 <br> "
   ]
  },
  {
   "cell_type": "code",
   "execution_count": 100,
   "metadata": {},
   "outputs": [
    {
     "data": {
      "text/html": [
       "<div>\n",
       "<style scoped>\n",
       "    .dataframe tbody tr th:only-of-type {\n",
       "        vertical-align: middle;\n",
       "    }\n",
       "\n",
       "    .dataframe tbody tr th {\n",
       "        vertical-align: top;\n",
       "    }\n",
       "\n",
       "    .dataframe thead th {\n",
       "        text-align: right;\n",
       "    }\n",
       "</style>\n",
       "<table border=\"1\" class=\"dataframe\">\n",
       "  <thead>\n",
       "    <tr style=\"text-align: right;\">\n",
       "      <th></th>\n",
       "      <th>숙소_지역</th>\n",
       "      <th>숙소_유형</th>\n",
       "    </tr>\n",
       "  </thead>\n",
       "  <tbody>\n",
       "    <tr>\n",
       "      <th>1090</th>\n",
       "      <td>Islington</td>\n",
       "      <td>Shared room</td>\n",
       "    </tr>\n",
       "    <tr>\n",
       "      <th>8790</th>\n",
       "      <td>Islington</td>\n",
       "      <td>Shared room</td>\n",
       "    </tr>\n",
       "    <tr>\n",
       "      <th>18641</th>\n",
       "      <td>Islington</td>\n",
       "      <td>Shared room</td>\n",
       "    </tr>\n",
       "    <tr>\n",
       "      <th>20890</th>\n",
       "      <td>Barnet</td>\n",
       "      <td>Hotel room</td>\n",
       "    </tr>\n",
       "    <tr>\n",
       "      <th>21230</th>\n",
       "      <td>Islington</td>\n",
       "      <td>Hotel room</td>\n",
       "    </tr>\n",
       "    <tr>\n",
       "      <th>25508</th>\n",
       "      <td>Islington</td>\n",
       "      <td>Hotel room</td>\n",
       "    </tr>\n",
       "    <tr>\n",
       "      <th>27366</th>\n",
       "      <td>Islington</td>\n",
       "      <td>Hotel room</td>\n",
       "    </tr>\n",
       "    <tr>\n",
       "      <th>27367</th>\n",
       "      <td>Islington</td>\n",
       "      <td>Hotel room</td>\n",
       "    </tr>\n",
       "    <tr>\n",
       "      <th>27372</th>\n",
       "      <td>Islington</td>\n",
       "      <td>Hotel room</td>\n",
       "    </tr>\n",
       "    <tr>\n",
       "      <th>27433</th>\n",
       "      <td>Islington</td>\n",
       "      <td>Hotel room</td>\n",
       "    </tr>\n",
       "    <tr>\n",
       "      <th>32174</th>\n",
       "      <td>Lambeth</td>\n",
       "      <td>Hotel room</td>\n",
       "    </tr>\n",
       "    <tr>\n",
       "      <th>32768</th>\n",
       "      <td>Islington</td>\n",
       "      <td>Shared room</td>\n",
       "    </tr>\n",
       "  </tbody>\n",
       "</table>\n",
       "</div>"
      ],
      "text/plain": [
       "           숙소_지역        숙소_유형\n",
       "1090   Islington  Shared room\n",
       "8790   Islington  Shared room\n",
       "18641  Islington  Shared room\n",
       "20890     Barnet   Hotel room\n",
       "21230  Islington   Hotel room\n",
       "25508  Islington   Hotel room\n",
       "27366  Islington   Hotel room\n",
       "27367  Islington   Hotel room\n",
       "27372  Islington   Hotel room\n",
       "27433  Islington   Hotel room\n",
       "32174    Lambeth   Hotel room\n",
       "32768  Islington  Shared room"
      ]
     },
     "execution_count": 100,
     "metadata": {},
     "output_type": "execute_result"
    }
   ],
   "source": [
    "London_Price_Nan[London_Price_Nan['숙소_가격'].isna()][['숙소_지역','숙소_유형']]"
   ]
  },
  {
   "cell_type": "code",
   "execution_count": 101,
   "metadata": {},
   "outputs": [
    {
     "data": {
      "text/html": [
       "<div>\n",
       "<style scoped>\n",
       "    .dataframe tbody tr th:only-of-type {\n",
       "        vertical-align: middle;\n",
       "    }\n",
       "\n",
       "    .dataframe tbody tr th {\n",
       "        vertical-align: top;\n",
       "    }\n",
       "\n",
       "    .dataframe thead th {\n",
       "        text-align: right;\n",
       "    }\n",
       "</style>\n",
       "<table border=\"1\" class=\"dataframe\">\n",
       "  <thead>\n",
       "    <tr style=\"text-align: right;\">\n",
       "      <th></th>\n",
       "      <th>숙소_지역</th>\n",
       "      <th>숙소_유형</th>\n",
       "      <th>숙소_가격</th>\n",
       "    </tr>\n",
       "  </thead>\n",
       "  <tbody>\n",
       "    <tr>\n",
       "      <th>58</th>\n",
       "      <td>Islington</td>\n",
       "      <td>Entire home/apt</td>\n",
       "      <td>184.11456</td>\n",
       "    </tr>\n",
       "    <tr>\n",
       "      <th>59</th>\n",
       "      <td>Islington</td>\n",
       "      <td>Private room</td>\n",
       "      <td>91.93440</td>\n",
       "    </tr>\n",
       "  </tbody>\n",
       "</table>\n",
       "</div>"
      ],
      "text/plain": [
       "        숙소_지역            숙소_유형      숙소_가격\n",
       "58  Islington  Entire home/apt  184.11456\n",
       "59  Islington     Private room   91.93440"
      ]
     },
     "execution_count": 101,
     "metadata": {},
     "output_type": "execute_result"
    }
   ],
   "source": [
    "#원본 데이터에는 Islington 지역의 숙소유형이 2가지밖에 없었다.\n",
    "avg_price_by_area_type[avg_price_by_area_type['숙소_지역']=='Islington']\n"
   ]
  },
  {
   "cell_type": "code",
   "execution_count": 102,
   "metadata": {},
   "outputs": [
    {
     "data": {
      "text/html": [
       "<div>\n",
       "<style scoped>\n",
       "    .dataframe tbody tr th:only-of-type {\n",
       "        vertical-align: middle;\n",
       "    }\n",
       "\n",
       "    .dataframe tbody tr th {\n",
       "        vertical-align: top;\n",
       "    }\n",
       "\n",
       "    .dataframe thead th {\n",
       "        text-align: right;\n",
       "    }\n",
       "</style>\n",
       "<table border=\"1\" class=\"dataframe\">\n",
       "  <thead>\n",
       "    <tr style=\"text-align: right;\">\n",
       "      <th></th>\n",
       "      <th>숙소_지역</th>\n",
       "      <th>숙소_유형</th>\n",
       "      <th>숙소_가격</th>\n",
       "    </tr>\n",
       "  </thead>\n",
       "  <tbody>\n",
       "    <tr>\n",
       "      <th>3</th>\n",
       "      <td>Barnet</td>\n",
       "      <td>Entire home/apt</td>\n",
       "      <td>151.645638</td>\n",
       "    </tr>\n",
       "    <tr>\n",
       "      <th>4</th>\n",
       "      <td>Barnet</td>\n",
       "      <td>Private room</td>\n",
       "      <td>65.859740</td>\n",
       "    </tr>\n",
       "    <tr>\n",
       "      <th>5</th>\n",
       "      <td>Barnet</td>\n",
       "      <td>Shared room</td>\n",
       "      <td>18.000000</td>\n",
       "    </tr>\n",
       "  </tbody>\n",
       "</table>\n",
       "</div>"
      ],
      "text/plain": [
       "    숙소_지역            숙소_유형       숙소_가격\n",
       "3  Barnet  Entire home/apt  151.645638\n",
       "4  Barnet     Private room   65.859740\n",
       "5  Barnet      Shared room   18.000000"
      ]
     },
     "execution_count": 102,
     "metadata": {},
     "output_type": "execute_result"
    }
   ],
   "source": [
    "avg_price_by_area_type[avg_price_by_area_type['숙소_지역']=='Barnet']"
   ]
  },
  {
   "cell_type": "code",
   "execution_count": 103,
   "metadata": {},
   "outputs": [
    {
     "data": {
      "text/html": [
       "<div>\n",
       "<style scoped>\n",
       "    .dataframe tbody tr th:only-of-type {\n",
       "        vertical-align: middle;\n",
       "    }\n",
       "\n",
       "    .dataframe tbody tr th {\n",
       "        vertical-align: top;\n",
       "    }\n",
       "\n",
       "    .dataframe thead th {\n",
       "        text-align: right;\n",
       "    }\n",
       "</style>\n",
       "<table border=\"1\" class=\"dataframe\">\n",
       "  <thead>\n",
       "    <tr style=\"text-align: right;\">\n",
       "      <th></th>\n",
       "      <th>숙소_지역</th>\n",
       "      <th>숙소_유형</th>\n",
       "      <th>숙소_가격</th>\n",
       "    </tr>\n",
       "  </thead>\n",
       "  <tbody>\n",
       "    <tr>\n",
       "      <th>66</th>\n",
       "      <td>Lambeth</td>\n",
       "      <td>Entire home/apt</td>\n",
       "      <td>184.679718</td>\n",
       "    </tr>\n",
       "    <tr>\n",
       "      <th>67</th>\n",
       "      <td>Lambeth</td>\n",
       "      <td>Private room</td>\n",
       "      <td>76.445312</td>\n",
       "    </tr>\n",
       "    <tr>\n",
       "      <th>68</th>\n",
       "      <td>Lambeth</td>\n",
       "      <td>Shared room</td>\n",
       "      <td>59.000000</td>\n",
       "    </tr>\n",
       "  </tbody>\n",
       "</table>\n",
       "</div>"
      ],
      "text/plain": [
       "      숙소_지역            숙소_유형       숙소_가격\n",
       "66  Lambeth  Entire home/apt  184.679718\n",
       "67  Lambeth     Private room   76.445312\n",
       "68  Lambeth      Shared room   59.000000"
      ]
     },
     "execution_count": 103,
     "metadata": {},
     "output_type": "execute_result"
    }
   ],
   "source": [
    "avg_price_by_area_type[avg_price_by_area_type['숙소_지역']=='Lambeth']\n"
   ]
  },
  {
   "cell_type": "markdown",
   "metadata": {},
   "source": [
    "결측치 12개를 숙소 유형별 평균가격으로 대체 "
   ]
  },
  {
   "cell_type": "code",
   "execution_count": 104,
   "metadata": {},
   "outputs": [
    {
     "data": {
      "text/html": [
       "<div>\n",
       "<style scoped>\n",
       "    .dataframe tbody tr th:only-of-type {\n",
       "        vertical-align: middle;\n",
       "    }\n",
       "\n",
       "    .dataframe tbody tr th {\n",
       "        vertical-align: top;\n",
       "    }\n",
       "\n",
       "    .dataframe thead th {\n",
       "        text-align: right;\n",
       "    }\n",
       "</style>\n",
       "<table border=\"1\" class=\"dataframe\">\n",
       "  <thead>\n",
       "    <tr style=\"text-align: right;\">\n",
       "      <th></th>\n",
       "      <th>숙소_유형</th>\n",
       "      <th>숙소_가격</th>\n",
       "    </tr>\n",
       "  </thead>\n",
       "  <tbody>\n",
       "    <tr>\n",
       "      <th>0</th>\n",
       "      <td>Entire home/apt</td>\n",
       "      <td>171.9</td>\n",
       "    </tr>\n",
       "    <tr>\n",
       "      <th>1</th>\n",
       "      <td>Hotel room</td>\n",
       "      <td>163.2</td>\n",
       "    </tr>\n",
       "    <tr>\n",
       "      <th>2</th>\n",
       "      <td>Private room</td>\n",
       "      <td>61.4</td>\n",
       "    </tr>\n",
       "    <tr>\n",
       "      <th>3</th>\n",
       "      <td>Shared room</td>\n",
       "      <td>46.4</td>\n",
       "    </tr>\n",
       "  </tbody>\n",
       "</table>\n",
       "</div>"
      ],
      "text/plain": [
       "             숙소_유형  숙소_가격\n",
       "0  Entire home/apt  171.9\n",
       "1       Hotel room  163.2\n",
       "2     Private room   61.4\n",
       "3      Shared room   46.4"
      ]
     },
     "execution_count": 104,
     "metadata": {},
     "output_type": "execute_result"
    }
   ],
   "source": [
    "avg_price_by_type"
   ]
  },
  {
   "cell_type": "code",
   "execution_count": 105,
   "metadata": {},
   "outputs": [
    {
     "name": "stdout",
     "output_type": "stream",
     "text": [
      "                     숙소_id                                            숙소_url  \\\n",
      "5                   313710               https://www.airbnb.com/rooms/313710   \n",
      "6                   168359               https://www.airbnb.com/rooms/168359   \n",
      "8                    24328                https://www.airbnb.com/rooms/24328   \n",
      "11                  170702               https://www.airbnb.com/rooms/170702   \n",
      "13                  314985               https://www.airbnb.com/rooms/314985   \n",
      "...                    ...                                               ...   \n",
      "87029  1089297954935898261  https://www.airbnb.com/rooms/1089297954935898261   \n",
      "87276  1090640057985958105  https://www.airbnb.com/rooms/1090640057985958105   \n",
      "87290  1090452783507963913  https://www.airbnb.com/rooms/1090452783507963913   \n",
      "87300  1090481573621124067  https://www.airbnb.com/rooms/1090481573621124067   \n",
      "88004  1095441435477010989  https://www.airbnb.com/rooms/1095441435477010989   \n",
      "\n",
      "          호스트_id                property_type 슈퍼호스트  숙소_수  \\\n",
      "5        1612623           Entire rental unit     f   1.0   \n",
      "6         648725           Entire rental unit     f   2.0   \n",
      "8          41759             Entire townhouse     f   3.0   \n",
      "11        814004  Private room in rental unit     f   1.0   \n",
      "13       1617885         Private room in home     f   1.0   \n",
      "...          ...                          ...   ...   ...   \n",
      "87029  124413326           Entire rental unit     f   1.0   \n",
      "87276  543091250           Entire rental unit     f   2.0   \n",
      "87290  403509869         Private room in home     t  11.0   \n",
      "87300  431163410  Private room in rental unit     f  22.0   \n",
      "88004   33561493                  Entire home     f   2.0   \n",
      "\n",
      "                        숙소_지역         위도        경도            숙소_유형  ...  리뷰수  \\\n",
      "5                       Brent  51.533470 -0.232920  Entire home/apt  ...   10   \n",
      "6                   Southwark  51.491850 -0.088230  Entire home/apt  ...    9   \n",
      "8                  Wandsworth  51.470720 -0.162660  Entire home/apt  ...   94   \n",
      "11              Tower Hamlets  51.496860 -0.026270     Private room  ...  135   \n",
      "13                     Newham  51.526260  0.029040     Private room  ...    6   \n",
      "...                       ...        ...       ...              ...  ...  ...   \n",
      "87029    Kingston upon Thames  51.403807 -0.274750  Entire home/apt  ...    6   \n",
      "87276  Kensington and Chelsea  51.486730 -0.177350  Entire home/apt  ...    3   \n",
      "87290    Barking and Dagenham  51.536394  0.084043     Private room  ...    5   \n",
      "87300           Tower Hamlets  51.520802 -0.052637     Private room  ...    1   \n",
      "88004             Westminster  51.526263 -0.203725  Entire home/apt  ...    3   \n",
      "\n",
      "       30일_리뷰수  리뷰점수  숙소_정확성_리뷰점수 숙소_청결도_리뷰점수  숙소_체크인_리뷰점수  숙소_소통_리뷰점수  \\\n",
      "5            0  4.88         4.67        4.89         4.89        5.00   \n",
      "6            0  4.63         4.75        4.63         4.88        4.88   \n",
      "8            0  4.90         4.89        4.91         4.90        4.93   \n",
      "11           0  4.95         4.97        4.98         4.94        4.98   \n",
      "13           0  4.80         4.83        4.33         5.00        5.00   \n",
      "...        ...   ...          ...         ...          ...         ...   \n",
      "87029        6  5.00         5.00        4.75         5.00        4.75   \n",
      "87276        3  5.00         5.00        5.00         5.00        5.00   \n",
      "87290        5  4.40         4.60        4.80         4.80        4.40   \n",
      "87300        1  5.00         5.00        5.00         4.00        5.00   \n",
      "88004        3  5.00         5.00        5.00         5.00        5.00   \n",
      "\n",
      "       숙소_위치_리뷰점수  숙소_가격_리뷰점수  평균_리뷰수  \n",
      "5            4.56        4.67    0.07  \n",
      "6            4.13        4.75    0.06  \n",
      "8            4.59        4.65    0.58  \n",
      "11           4.79        4.93    0.88  \n",
      "13           4.17        4.33    0.05  \n",
      "...           ...         ...     ...  \n",
      "87029        4.75        5.00    6.00  \n",
      "87276        5.00        5.00    3.00  \n",
      "87290        4.20        4.20    5.00  \n",
      "87300        4.00        5.00    1.00  \n",
      "88004        5.00        5.00    3.00  \n",
      "\n",
      "[22070 rows x 28 columns]\n"
     ]
    }
   ],
   "source": [
    "# London_Price_Nan의 숙소 지역과 숙소 유형의 컬럼값이 avg_price_by_area_type의 숙소 지역과 숙소 유형과 같은 조건을 충족하는 경우\n",
    "for index, row in London_Price_Nan.iterrows():\n",
    "    condition = (avg_price_by_area_type['숙소_유형'] == row['숙소_유형'])\n",
    "    # 조건을 충족하는 경우 London_Price_Nan의 숙소 가격 값에 avg_price_by_area_type의 조건에 맞는 숙소 가격 값을 대입\n",
    "    if condition.any():\n",
    "        avg_price = avg_price_by_area_type.loc[condition, '숙소_가격'].values[0]\n",
    "        London_Price_Nan.at[index, '숙소_가격'] = avg_price\n",
    "\n",
    "# 결과 확인\n",
    "print(London_Price_Nan)"
   ]
  },
  {
   "cell_type": "code",
   "execution_count": 106,
   "metadata": {},
   "outputs": [
    {
     "data": {
      "text/plain": [
       "0"
      ]
     },
     "execution_count": 106,
     "metadata": {},
     "output_type": "execute_result"
    }
   ],
   "source": [
    "London_Price_Nan['숙소_가격'].isna().sum()"
   ]
  },
  {
   "cell_type": "code",
   "execution_count": 107,
   "metadata": {},
   "outputs": [],
   "source": [
    "dat.loc[London_Price_Nan.index, '숙소_가격'] = London_Price_Nan['숙소_가격']"
   ]
  },
  {
   "cell_type": "code",
   "execution_count": 108,
   "metadata": {},
   "outputs": [
    {
     "data": {
      "text/plain": [
       "0"
      ]
     },
     "execution_count": 108,
     "metadata": {},
     "output_type": "execute_result"
    }
   ],
   "source": [
    "dat['숙소_가격'].isna().sum()"
   ]
  },
  {
   "cell_type": "markdown",
   "metadata": {},
   "source": [
    "회귀분석"
   ]
  },
  {
   "cell_type": "code",
   "execution_count": 109,
   "metadata": {},
   "outputs": [],
   "source": [
    "from scipy import stats\n",
    "from statsmodels.formula.api import ols, glm"
   ]
  },
  {
   "cell_type": "code",
   "execution_count": 110,
   "metadata": {},
   "outputs": [],
   "source": [
    "\n",
    "London_Entire_home = dat.loc[dat['숙소_유형'] == 'Entire home/apt','숙소_가격']\n",
    "London_Private_room = dat.loc[dat['숙소_유형'] == 'Private room', '숙소_가격']\n",
    "London_Hotel_room = dat.loc[dat['숙소_유형'] == 'Hotel room','숙소_가격']\n",
    "London_Shared_room = dat.loc[dat['숙소_유형'] == 'Shared room','숙소_가격']"
   ]
  },
  {
   "cell_type": "code",
   "execution_count": 111,
   "metadata": {},
   "outputs": [
    {
     "data": {
      "text/plain": [
       "TtestResult(statistic=37.16951398815615, pvalue=3.698961047759885e-297, df=38678.42755224376)"
      ]
     },
     "execution_count": 111,
     "metadata": {},
     "output_type": "execute_result"
    }
   ],
   "source": [
    "stats.ttest_ind(London_Entire_home, London_Private_room, equal_var=False)\n"
   ]
  },
  {
   "cell_type": "code",
   "execution_count": 112,
   "metadata": {},
   "outputs": [
    {
     "data": {
      "text/plain": [
       "Index(['숙소_id', '숙소_url', '호스트_id', 'property_type', '슈퍼호스트', '숙소_수', '숙소_지역',\n",
       "       '위도', '경도', '숙소_유형', '수용인원수', '욕실수', '침실수', '침대수', '어메니티', '숙소_가격',\n",
       "       '최소_숙박일', '최대_숙박일', '리뷰수', '30일_리뷰수', '리뷰점수', '숙소_정확성_리뷰점수',\n",
       "       '숙소_청결도_리뷰점수', '숙소_체크인_리뷰점수', '숙소_소통_리뷰점수', '숙소_위치_리뷰점수', '숙소_가격_리뷰점수',\n",
       "       '평균_리뷰수'],\n",
       "      dtype='object')"
      ]
     },
     "execution_count": 112,
     "metadata": {},
     "output_type": "execute_result"
    }
   ],
   "source": [
    "dat.columns"
   ]
  },
  {
   "cell_type": "code",
   "execution_count": 113,
   "metadata": {},
   "outputs": [
    {
     "data": {
      "text/plain": [
       "22039"
      ]
     },
     "execution_count": 113,
     "metadata": {},
     "output_type": "execute_result"
    }
   ],
   "source": [
    "dat.욕실수.isna().sum()"
   ]
  },
  {
   "cell_type": "code",
   "execution_count": 114,
   "metadata": {},
   "outputs": [
    {
     "data": {
      "text/plain": [
       "숙소_id                0\n",
       "숙소_url               0\n",
       "호스트_id               0\n",
       "property_type        0\n",
       "슈퍼호스트                0\n",
       "숙소_수                 0\n",
       "숙소_지역                0\n",
       "위도                   0\n",
       "경도                   0\n",
       "숙소_유형                0\n",
       "수용인원수                0\n",
       "욕실수              22039\n",
       "침실수               7774\n",
       "침대수              22094\n",
       "어메니티                 0\n",
       "숙소_가격                0\n",
       "최소_숙박일               0\n",
       "최대_숙박일               0\n",
       "리뷰수                  0\n",
       "30일_리뷰수              0\n",
       "리뷰점수                 0\n",
       "숙소_정확성_리뷰점수          9\n",
       "숙소_청결도_리뷰점수          4\n",
       "숙소_체크인_리뷰점수         39\n",
       "숙소_소통_리뷰점수          14\n",
       "숙소_위치_리뷰점수          39\n",
       "숙소_가격_리뷰점수          41\n",
       "평균_리뷰수               0\n",
       "dtype: int64"
      ]
     },
     "execution_count": 114,
     "metadata": {},
     "output_type": "execute_result"
    }
   ],
   "source": [
    "dat.isna().sum()"
   ]
  },
  {
   "cell_type": "code",
   "execution_count": 115,
   "metadata": {},
   "outputs": [
    {
     "data": {
      "text/html": [
       "<div>\n",
       "<style scoped>\n",
       "    .dataframe tbody tr th:only-of-type {\n",
       "        vertical-align: middle;\n",
       "    }\n",
       "\n",
       "    .dataframe tbody tr th {\n",
       "        vertical-align: top;\n",
       "    }\n",
       "\n",
       "    .dataframe thead th {\n",
       "        text-align: right;\n",
       "    }\n",
       "</style>\n",
       "<table border=\"1\" class=\"dataframe\">\n",
       "  <thead>\n",
       "    <tr style=\"text-align: right;\">\n",
       "      <th></th>\n",
       "      <th>침대수</th>\n",
       "      <th>침실수</th>\n",
       "      <th>욕실수</th>\n",
       "    </tr>\n",
       "  </thead>\n",
       "  <tbody>\n",
       "    <tr>\n",
       "      <th>0</th>\n",
       "      <td>1.0</td>\n",
       "      <td>1.0</td>\n",
       "      <td>1.0</td>\n",
       "    </tr>\n",
       "    <tr>\n",
       "      <th>1</th>\n",
       "      <td>1.0</td>\n",
       "      <td>1.0</td>\n",
       "      <td>1.0</td>\n",
       "    </tr>\n",
       "    <tr>\n",
       "      <th>2</th>\n",
       "      <td>1.0</td>\n",
       "      <td>1.0</td>\n",
       "      <td>1.0</td>\n",
       "    </tr>\n",
       "    <tr>\n",
       "      <th>3</th>\n",
       "      <td>1.0</td>\n",
       "      <td>1.0</td>\n",
       "      <td>1.0</td>\n",
       "    </tr>\n",
       "    <tr>\n",
       "      <th>4</th>\n",
       "      <td>1.0</td>\n",
       "      <td>1.0</td>\n",
       "      <td>1.0</td>\n",
       "    </tr>\n",
       "  </tbody>\n",
       "</table>\n",
       "</div>"
      ],
      "text/plain": [
       "   침대수  침실수  욕실수\n",
       "0  1.0  1.0  1.0\n",
       "1  1.0  1.0  1.0\n",
       "2  1.0  1.0  1.0\n",
       "3  1.0  1.0  1.0\n",
       "4  1.0  1.0  1.0"
      ]
     },
     "execution_count": 115,
     "metadata": {},
     "output_type": "execute_result"
    }
   ],
   "source": [
    "beds_bedrooms_bathrooms = dat[['침대수','침실수','욕실수']]\n",
    "beds_bedrooms_bathrooms.head()"
   ]
  },
  {
   "cell_type": "code",
   "execution_count": 116,
   "metadata": {},
   "outputs": [
    {
     "data": {
      "text/html": [
       "<div>\n",
       "<style scoped>\n",
       "    .dataframe tbody tr th:only-of-type {\n",
       "        vertical-align: middle;\n",
       "    }\n",
       "\n",
       "    .dataframe tbody tr th {\n",
       "        vertical-align: top;\n",
       "    }\n",
       "\n",
       "    .dataframe thead th {\n",
       "        text-align: right;\n",
       "    }\n",
       "</style>\n",
       "<table border=\"1\" class=\"dataframe\">\n",
       "  <thead>\n",
       "    <tr style=\"text-align: right;\">\n",
       "      <th></th>\n",
       "      <th>침대수</th>\n",
       "      <th>침실수</th>\n",
       "      <th>욕실수</th>\n",
       "    </tr>\n",
       "  </thead>\n",
       "  <tbody>\n",
       "    <tr>\n",
       "      <th>count</th>\n",
       "      <td>43422.000000</td>\n",
       "      <td>57742.000000</td>\n",
       "      <td>43477.000000</td>\n",
       "    </tr>\n",
       "    <tr>\n",
       "      <th>mean</th>\n",
       "      <td>1.846806</td>\n",
       "      <td>1.557064</td>\n",
       "      <td>1.348978</td>\n",
       "    </tr>\n",
       "    <tr>\n",
       "      <th>std</th>\n",
       "      <td>1.372453</td>\n",
       "      <td>0.945763</td>\n",
       "      <td>0.636362</td>\n",
       "    </tr>\n",
       "    <tr>\n",
       "      <th>min</th>\n",
       "      <td>0.000000</td>\n",
       "      <td>0.000000</td>\n",
       "      <td>0.000000</td>\n",
       "    </tr>\n",
       "    <tr>\n",
       "      <th>25%</th>\n",
       "      <td>1.000000</td>\n",
       "      <td>1.000000</td>\n",
       "      <td>1.000000</td>\n",
       "    </tr>\n",
       "    <tr>\n",
       "      <th>50%</th>\n",
       "      <td>1.000000</td>\n",
       "      <td>1.000000</td>\n",
       "      <td>1.000000</td>\n",
       "    </tr>\n",
       "    <tr>\n",
       "      <th>75%</th>\n",
       "      <td>2.000000</td>\n",
       "      <td>2.000000</td>\n",
       "      <td>1.500000</td>\n",
       "    </tr>\n",
       "    <tr>\n",
       "      <th>max</th>\n",
       "      <td>38.000000</td>\n",
       "      <td>22.000000</td>\n",
       "      <td>13.000000</td>\n",
       "    </tr>\n",
       "  </tbody>\n",
       "</table>\n",
       "</div>"
      ],
      "text/plain": [
       "                침대수           침실수           욕실수\n",
       "count  43422.000000  57742.000000  43477.000000\n",
       "mean       1.846806      1.557064      1.348978\n",
       "std        1.372453      0.945763      0.636362\n",
       "min        0.000000      0.000000      0.000000\n",
       "25%        1.000000      1.000000      1.000000\n",
       "50%        1.000000      1.000000      1.000000\n",
       "75%        2.000000      2.000000      1.500000\n",
       "max       38.000000     22.000000     13.000000"
      ]
     },
     "execution_count": 116,
     "metadata": {},
     "output_type": "execute_result"
    }
   ],
   "source": [
    "beds_bedrooms_bathrooms.describe()"
   ]
  },
  {
   "cell_type": "code",
   "execution_count": 117,
   "metadata": {},
   "outputs": [
    {
     "data": {
      "text/plain": [
       "침대수   침실수   욕실수 \n",
       "1.0   1.0   1.0     15023\n",
       "2.0   1.0   1.0      3887\n",
       "1.0   1.0   1.5      2921\n",
       "2.0   2.0   1.0      2761\n",
       "            2.0      2120\n",
       "                    ...  \n",
       "6.0   5.0   0.0         1\n",
       "            1.0         1\n",
       "            5.5         1\n",
       "      6.0   1.0         1\n",
       "38.0  16.0  13.0        1\n",
       "Name: count, Length: 495, dtype: int64"
      ]
     },
     "execution_count": 117,
     "metadata": {},
     "output_type": "execute_result"
    }
   ],
   "source": [
    "beds_bedrooms_bathrooms.value_counts()"
   ]
  },
  {
   "cell_type": "code",
   "execution_count": 118,
   "metadata": {},
   "outputs": [
    {
     "data": {
      "text/html": [
       "<div>\n",
       "<style scoped>\n",
       "    .dataframe tbody tr th:only-of-type {\n",
       "        vertical-align: middle;\n",
       "    }\n",
       "\n",
       "    .dataframe tbody tr th {\n",
       "        vertical-align: top;\n",
       "    }\n",
       "\n",
       "    .dataframe thead th {\n",
       "        text-align: right;\n",
       "    }\n",
       "</style>\n",
       "<table border=\"1\" class=\"dataframe\">\n",
       "  <thead>\n",
       "    <tr style=\"text-align: right;\">\n",
       "      <th></th>\n",
       "      <th>숙소_가격</th>\n",
       "      <th>침대수</th>\n",
       "      <th>침실수</th>\n",
       "      <th>욕실수</th>\n",
       "      <th>숙소_유형</th>\n",
       "      <th>최대_숙박일</th>\n",
       "    </tr>\n",
       "  </thead>\n",
       "  <tbody>\n",
       "    <tr>\n",
       "      <th>34670</th>\n",
       "      <td>600.0</td>\n",
       "      <td>38.0</td>\n",
       "      <td>16.0</td>\n",
       "      <td>13.0</td>\n",
       "      <td>Entire home/apt</td>\n",
       "      <td>1125</td>\n",
       "    </tr>\n",
       "  </tbody>\n",
       "</table>\n",
       "</div>"
      ],
      "text/plain": [
       "       숙소_가격   침대수   침실수   욕실수            숙소_유형  최대_숙박일\n",
       "34670  600.0  38.0  16.0  13.0  Entire home/apt    1125"
      ]
     },
     "execution_count": 118,
     "metadata": {},
     "output_type": "execute_result"
    }
   ],
   "source": [
    "dat[(dat['침대수'] == 38)][['숙소_가격','침대수','침실수','욕실수','숙소_유형','최대_숙박일']]"
   ]
  },
  {
   "cell_type": "code",
   "execution_count": 119,
   "metadata": {},
   "outputs": [
    {
     "data": {
      "text/html": [
       "<div>\n",
       "<style scoped>\n",
       "    .dataframe tbody tr th:only-of-type {\n",
       "        vertical-align: middle;\n",
       "    }\n",
       "\n",
       "    .dataframe tbody tr th {\n",
       "        vertical-align: top;\n",
       "    }\n",
       "\n",
       "    .dataframe thead th {\n",
       "        text-align: right;\n",
       "    }\n",
       "</style>\n",
       "<table border=\"1\" class=\"dataframe\">\n",
       "  <thead>\n",
       "    <tr style=\"text-align: right;\">\n",
       "      <th></th>\n",
       "      <th>숙소_가격</th>\n",
       "      <th>침대수</th>\n",
       "      <th>침실수</th>\n",
       "      <th>욕실수</th>\n",
       "      <th>숙소_유형</th>\n",
       "      <th>최대_숙박일</th>\n",
       "    </tr>\n",
       "  </thead>\n",
       "  <tbody>\n",
       "    <tr>\n",
       "      <th>10492</th>\n",
       "      <td>53588.0</td>\n",
       "      <td>1.0</td>\n",
       "      <td>1.0</td>\n",
       "      <td>1.0</td>\n",
       "      <td>Private room</td>\n",
       "      <td>12</td>\n",
       "    </tr>\n",
       "  </tbody>\n",
       "</table>\n",
       "</div>"
      ],
      "text/plain": [
       "         숙소_가격  침대수  침실수  욕실수         숙소_유형  최대_숙박일\n",
       "10492  53588.0  1.0  1.0  1.0  Private room      12"
      ]
     },
     "execution_count": 119,
     "metadata": {},
     "output_type": "execute_result"
    }
   ],
   "source": [
    "dat[(dat['숙소_가격'] == 53588)][['숙소_가격','침대수','침실수','욕실수','숙소_유형','최대_숙박일']]\n"
   ]
  },
  {
   "cell_type": "code",
   "execution_count": 120,
   "metadata": {},
   "outputs": [
    {
     "data": {
      "text/plain": [
       "count    65516.000000\n",
       "mean       146.068761\n",
       "std        343.665707\n",
       "min          0.000000\n",
       "25%         61.662338\n",
       "50%        135.000000\n",
       "75%        150.000000\n",
       "max      53588.000000\n",
       "Name: 숙소_가격, dtype: float64"
      ]
     },
     "execution_count": 120,
     "metadata": {},
     "output_type": "execute_result"
    }
   ],
   "source": [
    "dat['숙소_가격'].describe()"
   ]
  },
  {
   "cell_type": "markdown",
   "metadata": {},
   "source": [
    "- 숙소가격 50000달러 이상 1건 \n",
    "- 숙소가격 40000달러 이상 1건\n",
    "- 숙소가격 10000달러 이상 3건\n",
    "- 숙소가격 2000달러 이상 51건\n",
    "- 숙소가격 1000달러 이상 205건\n",
    "\n"
   ]
  },
  {
   "cell_type": "code",
   "execution_count": 121,
   "metadata": {},
   "outputs": [
    {
     "data": {
      "text/plain": [
       "숙소_id            1203\n",
       "숙소_url           1203\n",
       "호스트_id           1203\n",
       "property_type    1203\n",
       "슈퍼호스트            1203\n",
       "숙소_수             1203\n",
       "숙소_지역            1203\n",
       "위도               1203\n",
       "경도               1203\n",
       "숙소_유형            1203\n",
       "수용인원수            1203\n",
       "욕실수              1203\n",
       "침실수              1203\n",
       "침대수              1203\n",
       "어메니티             1203\n",
       "숙소_가격            1203\n",
       "최소_숙박일           1203\n",
       "최대_숙박일           1203\n",
       "리뷰수              1203\n",
       "30일_리뷰수          1203\n",
       "리뷰점수             1203\n",
       "숙소_정확성_리뷰점수      1203\n",
       "숙소_청결도_리뷰점수      1203\n",
       "숙소_체크인_리뷰점수      1203\n",
       "숙소_소통_리뷰점수       1203\n",
       "숙소_위치_리뷰점수       1203\n",
       "숙소_가격_리뷰점수       1203\n",
       "평균_리뷰수           1203\n",
       "dtype: int64"
      ]
     },
     "execution_count": 121,
     "metadata": {},
     "output_type": "execute_result"
    }
   ],
   "source": [
    "dat[dat['숙소_가격'] > 500].count()"
   ]
  },
  {
   "cell_type": "code",
   "execution_count": 122,
   "metadata": {},
   "outputs": [
    {
     "data": {
      "text/plain": [
       "(65516, 28)"
      ]
     },
     "execution_count": 122,
     "metadata": {},
     "output_type": "execute_result"
    }
   ],
   "source": [
    "dat.shape"
   ]
  },
  {
   "cell_type": "code",
   "execution_count": 123,
   "metadata": {},
   "outputs": [
    {
     "data": {
      "text/html": [
       "<div>\n",
       "<style scoped>\n",
       "    .dataframe tbody tr th:only-of-type {\n",
       "        vertical-align: middle;\n",
       "    }\n",
       "\n",
       "    .dataframe tbody tr th {\n",
       "        vertical-align: top;\n",
       "    }\n",
       "\n",
       "    .dataframe thead th {\n",
       "        text-align: right;\n",
       "    }\n",
       "</style>\n",
       "<table border=\"1\" class=\"dataframe\">\n",
       "  <thead>\n",
       "    <tr style=\"text-align: right;\">\n",
       "      <th></th>\n",
       "      <th>숙소_id</th>\n",
       "      <th>숙소_url</th>\n",
       "      <th>호스트_id</th>\n",
       "      <th>property_type</th>\n",
       "      <th>슈퍼호스트</th>\n",
       "      <th>숙소_수</th>\n",
       "      <th>숙소_지역</th>\n",
       "      <th>위도</th>\n",
       "      <th>경도</th>\n",
       "      <th>숙소_유형</th>\n",
       "      <th>...</th>\n",
       "      <th>리뷰수</th>\n",
       "      <th>30일_리뷰수</th>\n",
       "      <th>리뷰점수</th>\n",
       "      <th>숙소_정확성_리뷰점수</th>\n",
       "      <th>숙소_청결도_리뷰점수</th>\n",
       "      <th>숙소_체크인_리뷰점수</th>\n",
       "      <th>숙소_소통_리뷰점수</th>\n",
       "      <th>숙소_위치_리뷰점수</th>\n",
       "      <th>숙소_가격_리뷰점수</th>\n",
       "      <th>평균_리뷰수</th>\n",
       "    </tr>\n",
       "  </thead>\n",
       "  <tbody>\n",
       "    <tr>\n",
       "      <th>11</th>\n",
       "      <td>170702</td>\n",
       "      <td>https://www.airbnb.com/rooms/170702</td>\n",
       "      <td>814004</td>\n",
       "      <td>Private room in rental unit</td>\n",
       "      <td>f</td>\n",
       "      <td>1.0</td>\n",
       "      <td>Tower Hamlets</td>\n",
       "      <td>51.496860</td>\n",
       "      <td>-0.026270</td>\n",
       "      <td>Private room</td>\n",
       "      <td>...</td>\n",
       "      <td>135</td>\n",
       "      <td>0</td>\n",
       "      <td>4.95</td>\n",
       "      <td>4.97</td>\n",
       "      <td>4.98</td>\n",
       "      <td>4.94</td>\n",
       "      <td>4.98</td>\n",
       "      <td>4.79</td>\n",
       "      <td>4.93</td>\n",
       "      <td>0.88</td>\n",
       "    </tr>\n",
       "    <tr>\n",
       "      <th>13</th>\n",
       "      <td>314985</td>\n",
       "      <td>https://www.airbnb.com/rooms/314985</td>\n",
       "      <td>1617885</td>\n",
       "      <td>Private room in home</td>\n",
       "      <td>f</td>\n",
       "      <td>1.0</td>\n",
       "      <td>Newham</td>\n",
       "      <td>51.526260</td>\n",
       "      <td>0.029040</td>\n",
       "      <td>Private room</td>\n",
       "      <td>...</td>\n",
       "      <td>6</td>\n",
       "      <td>0</td>\n",
       "      <td>4.80</td>\n",
       "      <td>4.83</td>\n",
       "      <td>4.33</td>\n",
       "      <td>5.00</td>\n",
       "      <td>5.00</td>\n",
       "      <td>4.17</td>\n",
       "      <td>4.33</td>\n",
       "      <td>0.05</td>\n",
       "    </tr>\n",
       "    <tr>\n",
       "      <th>20</th>\n",
       "      <td>315658</td>\n",
       "      <td>https://www.airbnb.com/rooms/315658</td>\n",
       "      <td>1620906</td>\n",
       "      <td>Private room in rental unit</td>\n",
       "      <td>f</td>\n",
       "      <td>2.0</td>\n",
       "      <td>Lambeth</td>\n",
       "      <td>51.483830</td>\n",
       "      <td>-0.116550</td>\n",
       "      <td>Private room</td>\n",
       "      <td>...</td>\n",
       "      <td>389</td>\n",
       "      <td>0</td>\n",
       "      <td>4.75</td>\n",
       "      <td>4.83</td>\n",
       "      <td>4.75</td>\n",
       "      <td>4.77</td>\n",
       "      <td>4.80</td>\n",
       "      <td>4.56</td>\n",
       "      <td>4.74</td>\n",
       "      <td>2.68</td>\n",
       "    </tr>\n",
       "    <tr>\n",
       "      <th>32</th>\n",
       "      <td>39387</td>\n",
       "      <td>https://www.airbnb.com/rooms/39387</td>\n",
       "      <td>168920</td>\n",
       "      <td>Private room in condo</td>\n",
       "      <td>f</td>\n",
       "      <td>1.0</td>\n",
       "      <td>Westminster</td>\n",
       "      <td>51.526050</td>\n",
       "      <td>-0.199420</td>\n",
       "      <td>Private room</td>\n",
       "      <td>...</td>\n",
       "      <td>10</td>\n",
       "      <td>0</td>\n",
       "      <td>4.50</td>\n",
       "      <td>4.60</td>\n",
       "      <td>3.60</td>\n",
       "      <td>4.80</td>\n",
       "      <td>4.90</td>\n",
       "      <td>4.50</td>\n",
       "      <td>4.30</td>\n",
       "      <td>0.08</td>\n",
       "    </tr>\n",
       "    <tr>\n",
       "      <th>36</th>\n",
       "      <td>41509</td>\n",
       "      <td>https://www.airbnb.com/rooms/41509</td>\n",
       "      <td>181028</td>\n",
       "      <td>Private room in rental unit</td>\n",
       "      <td>f</td>\n",
       "      <td>8.0</td>\n",
       "      <td>Hounslow</td>\n",
       "      <td>51.493510</td>\n",
       "      <td>-0.255680</td>\n",
       "      <td>Private room</td>\n",
       "      <td>...</td>\n",
       "      <td>71</td>\n",
       "      <td>0</td>\n",
       "      <td>4.50</td>\n",
       "      <td>4.45</td>\n",
       "      <td>4.29</td>\n",
       "      <td>4.74</td>\n",
       "      <td>4.80</td>\n",
       "      <td>4.84</td>\n",
       "      <td>4.54</td>\n",
       "      <td>0.46</td>\n",
       "    </tr>\n",
       "    <tr>\n",
       "      <th>...</th>\n",
       "      <td>...</td>\n",
       "      <td>...</td>\n",
       "      <td>...</td>\n",
       "      <td>...</td>\n",
       "      <td>...</td>\n",
       "      <td>...</td>\n",
       "      <td>...</td>\n",
       "      <td>...</td>\n",
       "      <td>...</td>\n",
       "      <td>...</td>\n",
       "      <td>...</td>\n",
       "      <td>...</td>\n",
       "      <td>...</td>\n",
       "      <td>...</td>\n",
       "      <td>...</td>\n",
       "      <td>...</td>\n",
       "      <td>...</td>\n",
       "      <td>...</td>\n",
       "      <td>...</td>\n",
       "      <td>...</td>\n",
       "      <td>...</td>\n",
       "    </tr>\n",
       "    <tr>\n",
       "      <th>85946</th>\n",
       "      <td>1080476835757329134</td>\n",
       "      <td>https://www.airbnb.com/rooms/1080476835757329134</td>\n",
       "      <td>524604168</td>\n",
       "      <td>Private room in rental unit</td>\n",
       "      <td>f</td>\n",
       "      <td>1.0</td>\n",
       "      <td>Wandsworth</td>\n",
       "      <td>51.461742</td>\n",
       "      <td>-0.221021</td>\n",
       "      <td>Private room</td>\n",
       "      <td>...</td>\n",
       "      <td>1</td>\n",
       "      <td>1</td>\n",
       "      <td>5.00</td>\n",
       "      <td>5.00</td>\n",
       "      <td>5.00</td>\n",
       "      <td>5.00</td>\n",
       "      <td>5.00</td>\n",
       "      <td>5.00</td>\n",
       "      <td>5.00</td>\n",
       "      <td>1.00</td>\n",
       "    </tr>\n",
       "    <tr>\n",
       "      <th>86126</th>\n",
       "      <td>1081815848530960434</td>\n",
       "      <td>https://www.airbnb.com/rooms/1081815848530960434</td>\n",
       "      <td>57153527</td>\n",
       "      <td>Entire rental unit</td>\n",
       "      <td>t</td>\n",
       "      <td>3.0</td>\n",
       "      <td>Westminster</td>\n",
       "      <td>51.510616</td>\n",
       "      <td>-0.135621</td>\n",
       "      <td>Entire home/apt</td>\n",
       "      <td>...</td>\n",
       "      <td>2</td>\n",
       "      <td>2</td>\n",
       "      <td>4.50</td>\n",
       "      <td>4.00</td>\n",
       "      <td>4.50</td>\n",
       "      <td>5.00</td>\n",
       "      <td>5.00</td>\n",
       "      <td>5.00</td>\n",
       "      <td>5.00</td>\n",
       "      <td>2.00</td>\n",
       "    </tr>\n",
       "    <tr>\n",
       "      <th>86517</th>\n",
       "      <td>1084544789606110925</td>\n",
       "      <td>https://www.airbnb.com/rooms/1084544789606110925</td>\n",
       "      <td>5514714</td>\n",
       "      <td>Private room in rental unit</td>\n",
       "      <td>f</td>\n",
       "      <td>7.0</td>\n",
       "      <td>Islington</td>\n",
       "      <td>51.540120</td>\n",
       "      <td>-0.105290</td>\n",
       "      <td>Private room</td>\n",
       "      <td>...</td>\n",
       "      <td>3</td>\n",
       "      <td>3</td>\n",
       "      <td>5.00</td>\n",
       "      <td>5.00</td>\n",
       "      <td>5.00</td>\n",
       "      <td>5.00</td>\n",
       "      <td>5.00</td>\n",
       "      <td>5.00</td>\n",
       "      <td>5.00</td>\n",
       "      <td>3.00</td>\n",
       "    </tr>\n",
       "    <tr>\n",
       "      <th>87290</th>\n",
       "      <td>1090452783507963913</td>\n",
       "      <td>https://www.airbnb.com/rooms/1090452783507963913</td>\n",
       "      <td>403509869</td>\n",
       "      <td>Private room in home</td>\n",
       "      <td>t</td>\n",
       "      <td>11.0</td>\n",
       "      <td>Barking and Dagenham</td>\n",
       "      <td>51.536394</td>\n",
       "      <td>0.084043</td>\n",
       "      <td>Private room</td>\n",
       "      <td>...</td>\n",
       "      <td>5</td>\n",
       "      <td>5</td>\n",
       "      <td>4.40</td>\n",
       "      <td>4.60</td>\n",
       "      <td>4.80</td>\n",
       "      <td>4.80</td>\n",
       "      <td>4.40</td>\n",
       "      <td>4.20</td>\n",
       "      <td>4.20</td>\n",
       "      <td>5.00</td>\n",
       "    </tr>\n",
       "    <tr>\n",
       "      <th>87300</th>\n",
       "      <td>1090481573621124067</td>\n",
       "      <td>https://www.airbnb.com/rooms/1090481573621124067</td>\n",
       "      <td>431163410</td>\n",
       "      <td>Private room in rental unit</td>\n",
       "      <td>f</td>\n",
       "      <td>22.0</td>\n",
       "      <td>Tower Hamlets</td>\n",
       "      <td>51.520802</td>\n",
       "      <td>-0.052637</td>\n",
       "      <td>Private room</td>\n",
       "      <td>...</td>\n",
       "      <td>1</td>\n",
       "      <td>1</td>\n",
       "      <td>5.00</td>\n",
       "      <td>5.00</td>\n",
       "      <td>5.00</td>\n",
       "      <td>4.00</td>\n",
       "      <td>5.00</td>\n",
       "      <td>4.00</td>\n",
       "      <td>5.00</td>\n",
       "      <td>1.00</td>\n",
       "    </tr>\n",
       "  </tbody>\n",
       "</table>\n",
       "<p>7763 rows × 28 columns</p>\n",
       "</div>"
      ],
      "text/plain": [
       "                     숙소_id                                            숙소_url  \\\n",
       "11                  170702               https://www.airbnb.com/rooms/170702   \n",
       "13                  314985               https://www.airbnb.com/rooms/314985   \n",
       "20                  315658               https://www.airbnb.com/rooms/315658   \n",
       "32                   39387                https://www.airbnb.com/rooms/39387   \n",
       "36                   41509                https://www.airbnb.com/rooms/41509   \n",
       "...                    ...                                               ...   \n",
       "85946  1080476835757329134  https://www.airbnb.com/rooms/1080476835757329134   \n",
       "86126  1081815848530960434  https://www.airbnb.com/rooms/1081815848530960434   \n",
       "86517  1084544789606110925  https://www.airbnb.com/rooms/1084544789606110925   \n",
       "87290  1090452783507963913  https://www.airbnb.com/rooms/1090452783507963913   \n",
       "87300  1090481573621124067  https://www.airbnb.com/rooms/1090481573621124067   \n",
       "\n",
       "          호스트_id                property_type 슈퍼호스트  숙소_수  \\\n",
       "11        814004  Private room in rental unit     f   1.0   \n",
       "13       1617885         Private room in home     f   1.0   \n",
       "20       1620906  Private room in rental unit     f   2.0   \n",
       "32        168920        Private room in condo     f   1.0   \n",
       "36        181028  Private room in rental unit     f   8.0   \n",
       "...          ...                          ...   ...   ...   \n",
       "85946  524604168  Private room in rental unit     f   1.0   \n",
       "86126   57153527           Entire rental unit     t   3.0   \n",
       "86517    5514714  Private room in rental unit     f   7.0   \n",
       "87290  403509869         Private room in home     t  11.0   \n",
       "87300  431163410  Private room in rental unit     f  22.0   \n",
       "\n",
       "                      숙소_지역         위도        경도            숙소_유형  ...  리뷰수  \\\n",
       "11            Tower Hamlets  51.496860 -0.026270     Private room  ...  135   \n",
       "13                   Newham  51.526260  0.029040     Private room  ...    6   \n",
       "20                  Lambeth  51.483830 -0.116550     Private room  ...  389   \n",
       "32              Westminster  51.526050 -0.199420     Private room  ...   10   \n",
       "36                 Hounslow  51.493510 -0.255680     Private room  ...   71   \n",
       "...                     ...        ...       ...              ...  ...  ...   \n",
       "85946            Wandsworth  51.461742 -0.221021     Private room  ...    1   \n",
       "86126           Westminster  51.510616 -0.135621  Entire home/apt  ...    2   \n",
       "86517             Islington  51.540120 -0.105290     Private room  ...    3   \n",
       "87290  Barking and Dagenham  51.536394  0.084043     Private room  ...    5   \n",
       "87300         Tower Hamlets  51.520802 -0.052637     Private room  ...    1   \n",
       "\n",
       "       30일_리뷰수  리뷰점수  숙소_정확성_리뷰점수 숙소_청결도_리뷰점수  숙소_체크인_리뷰점수  숙소_소통_리뷰점수  \\\n",
       "11           0  4.95         4.97        4.98         4.94        4.98   \n",
       "13           0  4.80         4.83        4.33         5.00        5.00   \n",
       "20           0  4.75         4.83        4.75         4.77        4.80   \n",
       "32           0  4.50         4.60        3.60         4.80        4.90   \n",
       "36           0  4.50         4.45        4.29         4.74        4.80   \n",
       "...        ...   ...          ...         ...          ...         ...   \n",
       "85946        1  5.00         5.00        5.00         5.00        5.00   \n",
       "86126        2  4.50         4.00        4.50         5.00        5.00   \n",
       "86517        3  5.00         5.00        5.00         5.00        5.00   \n",
       "87290        5  4.40         4.60        4.80         4.80        4.40   \n",
       "87300        1  5.00         5.00        5.00         4.00        5.00   \n",
       "\n",
       "       숙소_위치_리뷰점수  숙소_가격_리뷰점수  평균_리뷰수  \n",
       "11           4.79        4.93    0.88  \n",
       "13           4.17        4.33    0.05  \n",
       "20           4.56        4.74    2.68  \n",
       "32           4.50        4.30    0.08  \n",
       "36           4.84        4.54    0.46  \n",
       "...           ...         ...     ...  \n",
       "85946        5.00        5.00    1.00  \n",
       "86126        5.00        5.00    2.00  \n",
       "86517        5.00        5.00    3.00  \n",
       "87290        4.20        4.20    5.00  \n",
       "87300        4.00        5.00    1.00  \n",
       "\n",
       "[7763 rows x 28 columns]"
      ]
     },
     "execution_count": 123,
     "metadata": {},
     "output_type": "execute_result"
    }
   ],
   "source": [
    "dat[(dat['침대수'].isna()) & (dat['침실수'].isna()) & (dat['욕실수'].isna())] "
   ]
  },
  {
   "cell_type": "markdown",
   "metadata": {},
   "source": [
    "회귀분석 "
   ]
  },
  {
   "cell_type": "code",
   "execution_count": 124,
   "metadata": {},
   "outputs": [],
   "source": [
    "rformula = '숙소_가격 ~ 리뷰점수 + 숙소_유형 '"
   ]
  },
  {
   "cell_type": "code",
   "execution_count": 125,
   "metadata": {},
   "outputs": [],
   "source": [
    "rformula = '숙소_가격 ~ 리뷰점수 +  숙소_정확성_리뷰점수+ 숙소_소통_리뷰점수 + \\\n",
    "           숙소_위치_리뷰점수 + 숙소_가격_리뷰점수 + 리뷰수 + \\\n",
    "            숙소_청결도_리뷰점수 + 숙소_수 + 수용인원수 '"
   ]
  },
  {
   "cell_type": "code",
   "execution_count": 126,
   "metadata": {},
   "outputs": [],
   "source": [
    "result = ols(rformula, data=dat).fit().summary()"
   ]
  },
  {
   "cell_type": "code",
   "execution_count": 127,
   "metadata": {},
   "outputs": [
    {
     "data": {
      "text/html": [
       "<table class=\"simpletable\">\n",
       "<caption>OLS Regression Results</caption>\n",
       "<tr>\n",
       "  <th>Dep. Variable:</th>          <td>숙소_가격</td>      <th>  R-squared:         </th>  <td>   0.039</td>  \n",
       "</tr>\n",
       "<tr>\n",
       "  <th>Model:</th>                   <td>OLS</td>       <th>  Adj. R-squared:    </th>  <td>   0.039</td>  \n",
       "</tr>\n",
       "<tr>\n",
       "  <th>Method:</th>             <td>Least Squares</td>  <th>  F-statistic:       </th>  <td>   296.7</td>  \n",
       "</tr>\n",
       "<tr>\n",
       "  <th>Date:</th>             <td>Mon, 27 May 2024</td> <th>  Prob (F-statistic):</th>   <td>  0.00</td>   \n",
       "</tr>\n",
       "<tr>\n",
       "  <th>Time:</th>                 <td>22:46:36</td>     <th>  Log-Likelihood:    </th> <td>-4.7393e+05</td>\n",
       "</tr>\n",
       "<tr>\n",
       "  <th>No. Observations:</th>      <td> 65469</td>      <th>  AIC:               </th>  <td>9.479e+05</td> \n",
       "</tr>\n",
       "<tr>\n",
       "  <th>Df Residuals:</th>          <td> 65459</td>      <th>  BIC:               </th>  <td>9.480e+05</td> \n",
       "</tr>\n",
       "<tr>\n",
       "  <th>Df Model:</th>              <td>     9</td>      <th>                     </th>      <td> </td>     \n",
       "</tr>\n",
       "<tr>\n",
       "  <th>Covariance Type:</th>      <td>nonrobust</td>    <th>                     </th>      <td> </td>     \n",
       "</tr>\n",
       "</table>\n",
       "<table class=\"simpletable\">\n",
       "<tr>\n",
       "       <td></td>          <th>coef</th>     <th>std err</th>      <th>t</th>      <th>P>|t|</th>  <th>[0.025</th>    <th>0.975]</th>  \n",
       "</tr>\n",
       "<tr>\n",
       "  <th>Intercept</th>   <td> -108.5831</td> <td>   20.264</td> <td>   -5.358</td> <td> 0.000</td> <td> -148.300</td> <td>  -68.866</td>\n",
       "</tr>\n",
       "<tr>\n",
       "  <th>리뷰점수</th>        <td>   17.6970</td> <td>    6.964</td> <td>    2.541</td> <td> 0.011</td> <td>    4.047</td> <td>   31.347</td>\n",
       "</tr>\n",
       "<tr>\n",
       "  <th>숙소_정확성_리뷰점수</th> <td>   -3.5804</td> <td>    6.053</td> <td>   -0.592</td> <td> 0.554</td> <td>  -15.444</td> <td>    8.283</td>\n",
       "</tr>\n",
       "<tr>\n",
       "  <th>숙소_소통_리뷰점수</th>  <td>  -14.4424</td> <td>    5.445</td> <td>   -2.653</td> <td> 0.008</td> <td>  -25.114</td> <td>   -3.771</td>\n",
       "</tr>\n",
       "<tr>\n",
       "  <th>숙소_위치_리뷰점수</th>  <td>   48.6775</td> <td>    4.458</td> <td>   10.920</td> <td> 0.000</td> <td>   39.940</td> <td>   57.415</td>\n",
       "</tr>\n",
       "<tr>\n",
       "  <th>숙소_가격_리뷰점수</th>  <td>  -34.4070</td> <td>    5.487</td> <td>   -6.271</td> <td> 0.000</td> <td>  -45.162</td> <td>  -23.652</td>\n",
       "</tr>\n",
       "<tr>\n",
       "  <th>리뷰수</th>         <td>   -0.0717</td> <td>    0.027</td> <td>   -2.637</td> <td> 0.008</td> <td>   -0.125</td> <td>   -0.018</td>\n",
       "</tr>\n",
       "<tr>\n",
       "  <th>숙소_청결도_리뷰점수</th> <td>   17.4508</td> <td>    4.342</td> <td>    4.019</td> <td> 0.000</td> <td>    8.940</td> <td>   25.962</td>\n",
       "</tr>\n",
       "<tr>\n",
       "  <th>숙소_수</th>        <td>    0.0279</td> <td>    0.005</td> <td>    5.954</td> <td> 0.000</td> <td>    0.019</td> <td>    0.037</td>\n",
       "</tr>\n",
       "<tr>\n",
       "  <th>수용인원수</th>       <td>   32.6821</td> <td>    0.674</td> <td>   48.525</td> <td> 0.000</td> <td>   31.362</td> <td>   34.002</td>\n",
       "</tr>\n",
       "</table>\n",
       "<table class=\"simpletable\">\n",
       "<tr>\n",
       "  <th>Omnibus:</th>       <td>274361.452</td> <th>  Durbin-Watson:     </th>     <td>   1.993</td>    \n",
       "</tr>\n",
       "<tr>\n",
       "  <th>Prob(Omnibus):</th>   <td> 0.000</td>   <th>  Jarque-Bera (JB):  </th> <td>839336594846.442</td>\n",
       "</tr>\n",
       "<tr>\n",
       "  <th>Skew:</th>            <td>118.842</td>  <th>  Prob(JB):          </th>     <td>    0.00</td>    \n",
       "</tr>\n",
       "<tr>\n",
       "  <th>Kurtosis:</th>       <td>17542.450</td> <th>  Cond. No.          </th>     <td>4.49e+03</td>    \n",
       "</tr>\n",
       "</table><br/><br/>Notes:<br/>[1] Standard Errors assume that the covariance matrix of the errors is correctly specified.<br/>[2] The condition number is large, 4.49e+03. This might indicate that there are<br/>strong multicollinearity or other numerical problems."
      ],
      "text/latex": [
       "\\begin{center}\n",
       "\\begin{tabular}{lclc}\n",
       "\\toprule\n",
       "\\textbf{Dep. Variable:}    &      숙소\\_가격      & \\textbf{  R-squared:         } &        0.039      \\\\\n",
       "\\textbf{Model:}            &       OLS        & \\textbf{  Adj. R-squared:    } &        0.039      \\\\\n",
       "\\textbf{Method:}           &  Least Squares   & \\textbf{  F-statistic:       } &        296.7      \\\\\n",
       "\\textbf{Date:}             & Mon, 27 May 2024 & \\textbf{  Prob (F-statistic):} &        0.00       \\\\\n",
       "\\textbf{Time:}             &     22:46:36     & \\textbf{  Log-Likelihood:    } &   -4.7393e+05     \\\\\n",
       "\\textbf{No. Observations:} &       65469      & \\textbf{  AIC:               } &    9.479e+05      \\\\\n",
       "\\textbf{Df Residuals:}     &       65459      & \\textbf{  BIC:               } &    9.480e+05      \\\\\n",
       "\\textbf{Df Model:}         &           9      & \\textbf{                     } &                   \\\\\n",
       "\\textbf{Covariance Type:}  &    nonrobust     & \\textbf{                     } &                   \\\\\n",
       "\\bottomrule\n",
       "\\end{tabular}\n",
       "\\begin{tabular}{lcccccc}\n",
       "                       & \\textbf{coef} & \\textbf{std err} & \\textbf{t} & \\textbf{P$> |$t$|$} & \\textbf{[0.025} & \\textbf{0.975]}  \\\\\n",
       "\\midrule\n",
       "\\textbf{Intercept}     &    -108.5831  &       20.264     &    -5.358  &         0.000        &     -148.300    &      -68.866     \\\\\n",
       "\\textbf{리뷰점수}          &      17.6970  &        6.964     &     2.541  &         0.011        &        4.047    &       31.347     \\\\\n",
       "\\textbf{숙소\\_정확성\\_리뷰점수} &      -3.5804  &        6.053     &    -0.592  &         0.554        &      -15.444    &        8.283     \\\\\n",
       "\\textbf{숙소\\_소통\\_리뷰점수}  &     -14.4424  &        5.445     &    -2.653  &         0.008        &      -25.114    &       -3.771     \\\\\n",
       "\\textbf{숙소\\_위치\\_리뷰점수}  &      48.6775  &        4.458     &    10.920  &         0.000        &       39.940    &       57.415     \\\\\n",
       "\\textbf{숙소\\_가격\\_리뷰점수}  &     -34.4070  &        5.487     &    -6.271  &         0.000        &      -45.162    &      -23.652     \\\\\n",
       "\\textbf{리뷰수}           &      -0.0717  &        0.027     &    -2.637  &         0.008        &       -0.125    &       -0.018     \\\\\n",
       "\\textbf{숙소\\_청결도\\_리뷰점수} &      17.4508  &        4.342     &     4.019  &         0.000        &        8.940    &       25.962     \\\\\n",
       "\\textbf{숙소\\_수}         &       0.0279  &        0.005     &     5.954  &         0.000        &        0.019    &        0.037     \\\\\n",
       "\\textbf{수용인원수}         &      32.6821  &        0.674     &    48.525  &         0.000        &       31.362    &       34.002     \\\\\n",
       "\\bottomrule\n",
       "\\end{tabular}\n",
       "\\begin{tabular}{lclc}\n",
       "\\textbf{Omnibus:}       & 274361.452 & \\textbf{  Durbin-Watson:     } &        1.993      \\\\\n",
       "\\textbf{Prob(Omnibus):} &    0.000   & \\textbf{  Jarque-Bera (JB):  } & 839336594846.442  \\\\\n",
       "\\textbf{Skew:}          &  118.842   & \\textbf{  Prob(JB):          } &         0.00      \\\\\n",
       "\\textbf{Kurtosis:}      & 17542.450  & \\textbf{  Cond. No.          } &     4.49e+03      \\\\\n",
       "\\bottomrule\n",
       "\\end{tabular}\n",
       "%\\caption{OLS Regression Results}\n",
       "\\end{center}\n",
       "\n",
       "Notes: \\newline\n",
       " [1] Standard Errors assume that the covariance matrix of the errors is correctly specified. \\newline\n",
       " [2] The condition number is large, 4.49e+03. This might indicate that there are \\newline\n",
       " strong multicollinearity or other numerical problems."
      ],
      "text/plain": [
       "<class 'statsmodels.iolib.summary.Summary'>\n",
       "\"\"\"\n",
       "                            OLS Regression Results                            \n",
       "==============================================================================\n",
       "Dep. Variable:                  숙소_가격   R-squared:                       0.039\n",
       "Model:                            OLS   Adj. R-squared:                  0.039\n",
       "Method:                 Least Squares   F-statistic:                     296.7\n",
       "Date:                Mon, 27 May 2024   Prob (F-statistic):               0.00\n",
       "Time:                        22:46:36   Log-Likelihood:            -4.7393e+05\n",
       "No. Observations:               65469   AIC:                         9.479e+05\n",
       "Df Residuals:                   65459   BIC:                         9.480e+05\n",
       "Df Model:                           9                                         \n",
       "Covariance Type:            nonrobust                                         \n",
       "===============================================================================\n",
       "                  coef    std err          t      P>|t|      [0.025      0.975]\n",
       "-------------------------------------------------------------------------------\n",
       "Intercept    -108.5831     20.264     -5.358      0.000    -148.300     -68.866\n",
       "리뷰점수           17.6970      6.964      2.541      0.011       4.047      31.347\n",
       "숙소_정확성_리뷰점수    -3.5804      6.053     -0.592      0.554     -15.444       8.283\n",
       "숙소_소통_리뷰점수    -14.4424      5.445     -2.653      0.008     -25.114      -3.771\n",
       "숙소_위치_리뷰점수     48.6775      4.458     10.920      0.000      39.940      57.415\n",
       "숙소_가격_리뷰점수    -34.4070      5.487     -6.271      0.000     -45.162     -23.652\n",
       "리뷰수            -0.0717      0.027     -2.637      0.008      -0.125      -0.018\n",
       "숙소_청결도_리뷰점수    17.4508      4.342      4.019      0.000       8.940      25.962\n",
       "숙소_수            0.0279      0.005      5.954      0.000       0.019       0.037\n",
       "수용인원수          32.6821      0.674     48.525      0.000      31.362      34.002\n",
       "==============================================================================\n",
       "Omnibus:                   274361.452   Durbin-Watson:                   1.993\n",
       "Prob(Omnibus):                  0.000   Jarque-Bera (JB):     839336594846.442\n",
       "Skew:                         118.842   Prob(JB):                         0.00\n",
       "Kurtosis:                   17542.450   Cond. No.                     4.49e+03\n",
       "==============================================================================\n",
       "\n",
       "Notes:\n",
       "[1] Standard Errors assume that the covariance matrix of the errors is correctly specified.\n",
       "[2] The condition number is large, 4.49e+03. This might indicate that there are\n",
       "strong multicollinearity or other numerical problems.\n",
       "\"\"\""
      ]
     },
     "execution_count": 127,
     "metadata": {},
     "output_type": "execute_result"
    }
   ],
   "source": [
    "result"
   ]
  },
  {
   "cell_type": "code",
   "execution_count": 128,
   "metadata": {},
   "outputs": [],
   "source": [
    "rformula = '리뷰점수 ~  숙소_정확성_리뷰점수+ 숙소_소통_리뷰점수 + \\\n",
    "           숙소_위치_리뷰점수 + 숙소_가격_리뷰점수 + 리뷰수 + \\\n",
    "            숙소_청결도_리뷰점수 + 수용인원수 '"
   ]
  },
  {
   "cell_type": "code",
   "execution_count": 129,
   "metadata": {},
   "outputs": [],
   "source": [
    "result = ols(rformula, data=dat).fit().summary()\n"
   ]
  },
  {
   "cell_type": "code",
   "execution_count": 130,
   "metadata": {},
   "outputs": [
    {
     "data": {
      "text/html": [
       "<table class=\"simpletable\">\n",
       "<caption>OLS Regression Results</caption>\n",
       "<tr>\n",
       "  <th>Dep. Variable:</th>          <td>리뷰점수</td>       <th>  R-squared:         </th>  <td>   0.812</td> \n",
       "</tr>\n",
       "<tr>\n",
       "  <th>Model:</th>                   <td>OLS</td>       <th>  Adj. R-squared:    </th>  <td>   0.811</td> \n",
       "</tr>\n",
       "<tr>\n",
       "  <th>Method:</th>             <td>Least Squares</td>  <th>  F-statistic:       </th>  <td>4.026e+04</td>\n",
       "</tr>\n",
       "<tr>\n",
       "  <th>Date:</th>             <td>Mon, 27 May 2024</td> <th>  Prob (F-statistic):</th>   <td>  0.00</td>  \n",
       "</tr>\n",
       "<tr>\n",
       "  <th>Time:</th>                 <td>22:46:36</td>     <th>  Log-Likelihood:    </th>  <td>  16132.</td> \n",
       "</tr>\n",
       "<tr>\n",
       "  <th>No. Observations:</th>      <td> 65469</td>      <th>  AIC:               </th> <td>-3.225e+04</td>\n",
       "</tr>\n",
       "<tr>\n",
       "  <th>Df Residuals:</th>          <td> 65461</td>      <th>  BIC:               </th> <td>-3.218e+04</td>\n",
       "</tr>\n",
       "<tr>\n",
       "  <th>Df Model:</th>              <td>     7</td>      <th>                     </th>      <td> </td>    \n",
       "</tr>\n",
       "<tr>\n",
       "  <th>Covariance Type:</th>      <td>nonrobust</td>    <th>                     </th>      <td> </td>    \n",
       "</tr>\n",
       "</table>\n",
       "<table class=\"simpletable\">\n",
       "<tr>\n",
       "       <td></td>          <th>coef</th>     <th>std err</th>      <th>t</th>      <th>P>|t|</th>  <th>[0.025</th>    <th>0.975]</th>  \n",
       "</tr>\n",
       "<tr>\n",
       "  <th>Intercept</th>   <td>   -0.1981</td> <td>    0.011</td> <td>  -17.610</td> <td> 0.000</td> <td>   -0.220</td> <td>   -0.176</td>\n",
       "</tr>\n",
       "<tr>\n",
       "  <th>숙소_정확성_리뷰점수</th> <td>    0.2921</td> <td>    0.003</td> <td>   91.319</td> <td> 0.000</td> <td>    0.286</td> <td>    0.298</td>\n",
       "</tr>\n",
       "<tr>\n",
       "  <th>숙소_소통_리뷰점수</th>  <td>    0.2081</td> <td>    0.003</td> <td>   70.827</td> <td> 0.000</td> <td>    0.202</td> <td>    0.214</td>\n",
       "</tr>\n",
       "<tr>\n",
       "  <th>숙소_위치_리뷰점수</th>  <td>    0.0492</td> <td>    0.002</td> <td>   19.723</td> <td> 0.000</td> <td>    0.044</td> <td>    0.054</td>\n",
       "</tr>\n",
       "<tr>\n",
       "  <th>숙소_가격_리뷰점수</th>  <td>    0.2860</td> <td>    0.003</td> <td>   99.682</td> <td> 0.000</td> <td>    0.280</td> <td>    0.292</td>\n",
       "</tr>\n",
       "<tr>\n",
       "  <th>리뷰수</th>         <td>   -0.0002</td> <td> 1.52e-05</td> <td>  -11.060</td> <td> 0.000</td> <td>   -0.000</td> <td>   -0.000</td>\n",
       "</tr>\n",
       "<tr>\n",
       "  <th>숙소_청결도_리뷰점수</th> <td>    0.2038</td> <td>    0.002</td> <td>   88.542</td> <td> 0.000</td> <td>    0.199</td> <td>    0.208</td>\n",
       "</tr>\n",
       "<tr>\n",
       "  <th>수용인원수</th>       <td>    0.0027</td> <td>    0.000</td> <td>    7.126</td> <td> 0.000</td> <td>    0.002</td> <td>    0.003</td>\n",
       "</tr>\n",
       "</table>\n",
       "<table class=\"simpletable\">\n",
       "<tr>\n",
       "  <th>Omnibus:</th>       <td>23438.795</td> <th>  Durbin-Watson:     </th>  <td>   1.996</td>  \n",
       "</tr>\n",
       "<tr>\n",
       "  <th>Prob(Omnibus):</th>  <td> 0.000</td>   <th>  Jarque-Bera (JB):  </th> <td>5302382.687</td>\n",
       "</tr>\n",
       "<tr>\n",
       "  <th>Skew:</th>           <td>-0.511</td>   <th>  Prob(JB):          </th>  <td>    0.00</td>  \n",
       "</tr>\n",
       "<tr>\n",
       "  <th>Kurtosis:</th>       <td>47.076</td>   <th>  Cond. No.          </th>  <td>    843.</td>  \n",
       "</tr>\n",
       "</table><br/><br/>Notes:<br/>[1] Standard Errors assume that the covariance matrix of the errors is correctly specified."
      ],
      "text/latex": [
       "\\begin{center}\n",
       "\\begin{tabular}{lclc}\n",
       "\\toprule\n",
       "\\textbf{Dep. Variable:}    &       리뷰점수       & \\textbf{  R-squared:         } &      0.812   \\\\\n",
       "\\textbf{Model:}            &       OLS        & \\textbf{  Adj. R-squared:    } &      0.811   \\\\\n",
       "\\textbf{Method:}           &  Least Squares   & \\textbf{  F-statistic:       } &  4.026e+04   \\\\\n",
       "\\textbf{Date:}             & Mon, 27 May 2024 & \\textbf{  Prob (F-statistic):} &      0.00    \\\\\n",
       "\\textbf{Time:}             &     22:46:36     & \\textbf{  Log-Likelihood:    } &     16132.   \\\\\n",
       "\\textbf{No. Observations:} &       65469      & \\textbf{  AIC:               } &  -3.225e+04  \\\\\n",
       "\\textbf{Df Residuals:}     &       65461      & \\textbf{  BIC:               } &  -3.218e+04  \\\\\n",
       "\\textbf{Df Model:}         &           7      & \\textbf{                     } &              \\\\\n",
       "\\textbf{Covariance Type:}  &    nonrobust     & \\textbf{                     } &              \\\\\n",
       "\\bottomrule\n",
       "\\end{tabular}\n",
       "\\begin{tabular}{lcccccc}\n",
       "                       & \\textbf{coef} & \\textbf{std err} & \\textbf{t} & \\textbf{P$> |$t$|$} & \\textbf{[0.025} & \\textbf{0.975]}  \\\\\n",
       "\\midrule\n",
       "\\textbf{Intercept}     &      -0.1981  &        0.011     &   -17.610  &         0.000        &       -0.220    &       -0.176     \\\\\n",
       "\\textbf{숙소\\_정확성\\_리뷰점수} &       0.2921  &        0.003     &    91.319  &         0.000        &        0.286    &        0.298     \\\\\n",
       "\\textbf{숙소\\_소통\\_리뷰점수}  &       0.2081  &        0.003     &    70.827  &         0.000        &        0.202    &        0.214     \\\\\n",
       "\\textbf{숙소\\_위치\\_리뷰점수}  &       0.0492  &        0.002     &    19.723  &         0.000        &        0.044    &        0.054     \\\\\n",
       "\\textbf{숙소\\_가격\\_리뷰점수}  &       0.2860  &        0.003     &    99.682  &         0.000        &        0.280    &        0.292     \\\\\n",
       "\\textbf{리뷰수}           &      -0.0002  &     1.52e-05     &   -11.060  &         0.000        &       -0.000    &       -0.000     \\\\\n",
       "\\textbf{숙소\\_청결도\\_리뷰점수} &       0.2038  &        0.002     &    88.542  &         0.000        &        0.199    &        0.208     \\\\\n",
       "\\textbf{수용인원수}         &       0.0027  &        0.000     &     7.126  &         0.000        &        0.002    &        0.003     \\\\\n",
       "\\bottomrule\n",
       "\\end{tabular}\n",
       "\\begin{tabular}{lclc}\n",
       "\\textbf{Omnibus:}       & 23438.795 & \\textbf{  Durbin-Watson:     } &      1.996   \\\\\n",
       "\\textbf{Prob(Omnibus):} &    0.000  & \\textbf{  Jarque-Bera (JB):  } & 5302382.687  \\\\\n",
       "\\textbf{Skew:}          &   -0.511  & \\textbf{  Prob(JB):          } &       0.00   \\\\\n",
       "\\textbf{Kurtosis:}      &   47.076  & \\textbf{  Cond. No.          } &       843.   \\\\\n",
       "\\bottomrule\n",
       "\\end{tabular}\n",
       "%\\caption{OLS Regression Results}\n",
       "\\end{center}\n",
       "\n",
       "Notes: \\newline\n",
       " [1] Standard Errors assume that the covariance matrix of the errors is correctly specified."
      ],
      "text/plain": [
       "<class 'statsmodels.iolib.summary.Summary'>\n",
       "\"\"\"\n",
       "                            OLS Regression Results                            \n",
       "==============================================================================\n",
       "Dep. Variable:                   리뷰점수   R-squared:                       0.812\n",
       "Model:                            OLS   Adj. R-squared:                  0.811\n",
       "Method:                 Least Squares   F-statistic:                 4.026e+04\n",
       "Date:                Mon, 27 May 2024   Prob (F-statistic):               0.00\n",
       "Time:                        22:46:36   Log-Likelihood:                 16132.\n",
       "No. Observations:               65469   AIC:                        -3.225e+04\n",
       "Df Residuals:                   65461   BIC:                        -3.218e+04\n",
       "Df Model:                           7                                         \n",
       "Covariance Type:            nonrobust                                         \n",
       "===============================================================================\n",
       "                  coef    std err          t      P>|t|      [0.025      0.975]\n",
       "-------------------------------------------------------------------------------\n",
       "Intercept      -0.1981      0.011    -17.610      0.000      -0.220      -0.176\n",
       "숙소_정확성_리뷰점수     0.2921      0.003     91.319      0.000       0.286       0.298\n",
       "숙소_소통_리뷰점수      0.2081      0.003     70.827      0.000       0.202       0.214\n",
       "숙소_위치_리뷰점수      0.0492      0.002     19.723      0.000       0.044       0.054\n",
       "숙소_가격_리뷰점수      0.2860      0.003     99.682      0.000       0.280       0.292\n",
       "리뷰수            -0.0002   1.52e-05    -11.060      0.000      -0.000      -0.000\n",
       "숙소_청결도_리뷰점수     0.2038      0.002     88.542      0.000       0.199       0.208\n",
       "수용인원수           0.0027      0.000      7.126      0.000       0.002       0.003\n",
       "==============================================================================\n",
       "Omnibus:                    23438.795   Durbin-Watson:                   1.996\n",
       "Prob(Omnibus):                  0.000   Jarque-Bera (JB):          5302382.687\n",
       "Skew:                          -0.511   Prob(JB):                         0.00\n",
       "Kurtosis:                      47.076   Cond. No.                         843.\n",
       "==============================================================================\n",
       "\n",
       "Notes:\n",
       "[1] Standard Errors assume that the covariance matrix of the errors is correctly specified.\n",
       "\"\"\""
      ]
     },
     "execution_count": 130,
     "metadata": {},
     "output_type": "execute_result"
    }
   ],
   "source": [
    "result"
   ]
  }
 ],
 "metadata": {
  "kernelspec": {
   "display_name": "base",
   "language": "python",
   "name": "python3"
  },
  "language_info": {
   "codemirror_mode": {
    "name": "ipython",
    "version": 3
   },
   "file_extension": ".py",
   "mimetype": "text/x-python",
   "name": "python",
   "nbconvert_exporter": "python",
   "pygments_lexer": "ipython3",
   "version": "3.11.7"
  }
 },
 "nbformat": 4,
 "nbformat_minor": 2
}
