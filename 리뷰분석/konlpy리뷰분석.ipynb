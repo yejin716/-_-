{
 "cells": [
  {
   "cell_type": "markdown",
   "metadata": {},
   "source": [
    "데이터 분석을 위한 전처리와 시각화 with 파이썬 p469"
   ]
  },
  {
   "cell_type": "code",
   "execution_count": 3,
   "metadata": {},
   "outputs": [],
   "source": [
    "#kon\n",
    "# !pip install konlpy\n",
    "# !pip show konlpy"
   ]
  },
  {
   "cell_type": "code",
   "execution_count": 4,
   "metadata": {},
   "outputs": [],
   "source": [
    "#형태소 토큰화 하기 \n",
    "\n",
    "from konlpy.tag import Okt\n",
    "okt=Okt()"
   ]
  },
  {
   "cell_type": "markdown",
   "metadata": {},
   "source": [
    "Okt 클래스 메소드 \n",
    "- phrases() : 어구 추출 \n",
    "- morphs() : 형태소 추출\n",
    "- nouns(text) : 명사 추출 \n",
    "- pos(text) : 품사 정보 추가하여 추출 "
   ]
  },
  {
   "cell_type": "code",
   "execution_count": 5,
   "metadata": {},
   "outputs": [
    {
     "data": {
      "text/plain": [
       "['i', 'like', 'you']"
      ]
     },
     "execution_count": 5,
     "metadata": {},
     "output_type": "execute_result"
    }
   ],
   "source": [
    "#morphs()\n",
    "\n",
    "from konlpy.tag import Okt\n",
    "okt=Okt()\n",
    "token = okt.morphs('i like you')\n",
    "token"
   ]
  },
  {
   "cell_type": "code",
   "execution_count": 6,
   "metadata": {},
   "outputs": [
    {
     "name": "stdout",
     "output_type": "stream",
     "text": [
      "[('하늘', 'Noun'), ('이', 'Josa'), ('참', 'Verb'), ('이쁘다고', 'Adjective')]\n",
      "['하늘/Noun', '이/Josa', '참/Verb', '이쁘다고/Adjective']\n"
     ]
    }
   ],
   "source": [
    "#pos()\n",
    "\n",
    "from konlpy.tag import Okt\n",
    "okt=Okt()\n",
    "sentence_tag = okt.pos('하늘이 참 이쁘다고')\n",
    "print(sentence_tag)\n",
    "sentence_tag = okt.pos('하늘이 참 이쁘다고', join=True)\n",
    "print(sentence_tag)\n",
    "\n"
   ]
  },
  {
   "cell_type": "code",
   "execution_count": 7,
   "metadata": {},
   "outputs": [
    {
     "name": "stdout",
     "output_type": "stream",
     "text": [
      "['하늘']\n"
     ]
    }
   ],
   "source": [
    "#phrases()\n",
    "\n",
    "from konlpy.tag import Okt\n",
    "okt=Okt()\n",
    "sentence = okt.phrases('하늘이 참 이쁘다고')\n",
    "print(sentence)\n"
   ]
  },
  {
   "cell_type": "markdown",
   "metadata": {},
   "source": [
    "형태소 분석"
   ]
  },
  {
   "cell_type": "code",
   "execution_count": 8,
   "metadata": {},
   "outputs": [],
   "source": [
    "# #pos()로 형태소 분석 \n",
    "\n",
    "# from konlpy.tag import Okt\n",
    "# okt=Okt()\n",
    "# text = input()\n",
    "# sentence_tag = okt.pos(text)\n",
    "# sentence_tag"
   ]
  },
  {
   "cell_type": "code",
   "execution_count": 9,
   "metadata": {},
   "outputs": [
    {
     "name": "stdout",
     "output_type": "stream",
     "text": [
      "[('말', 7), ('눈물', 2), ('왜', 2), ('하늘', 2), ('위로', 2), ('오빠', 2), ('좋은', 2), ('걸', 2), ('고', 1), ('또', 1)]\n"
     ]
    }
   ],
   "source": [
    "#collection \n",
    "#counter() : 동일한 값의 빈도수 \n",
    "#most_common(n) : 가장 빈도수가 많은 순서대로 n개 추출 \n",
    "\n",
    "import collections\n",
    "\n",
    "text = '눈물이 차올라서 고갤 들어 흐르지 못하게 또 살짝 웃어\\\n",
    "    내게 왜 이러는지 무슨 말을 하는지 오늘 했던 모든 말 저 하늘 위로\\\n",
    "    한번도 못했던 말 울면서 할 줄은 나 몰랐던 말\\\n",
    "    나는요 오빠가 좋은 걸 (휴) 어떡해\\\n",
    "    이런 나를 보고 그런 슬픈 말은 하지 말아요 (하지 말아요)\\\n",
    "    철없는 건지 조금 둔한 건지 믿을 수가 없는걸요\\\n",
    "    눈물은 나오는데 활짝 웃어 네 앞을 막고서 막 크게 웃어\\\n",
    "    내가 왜 이러는지 부끄럼도 없는지\\\n",
    "    자존심은 곱게 접어 하늘위로 한 번도 못했던 말 어쩌면 다신 못할 바로 그 말\\\n",
    "    나는요 오빠가 좋은 걸 (아이쿠, 하나 둘)'\n",
    "sentence_tag =okt.pos(text)\n",
    "\n",
    "adj_list = []\n",
    "for word, tag in sentence_tag:\n",
    "    if tag in ['Noun','Adjective']: #품사중 명사, 형용사만 추출 \n",
    "        adj_list.append(word)\n",
    "counts = collections.Counter(adj_list)\n",
    "tag = counts.most_common(10)\n",
    "print(tag)\n"
   ]
  },
  {
   "cell_type": "markdown",
   "metadata": {},
   "source": [
    "워드 클라우드 "
   ]
  },
  {
   "cell_type": "code",
   "execution_count": 10,
   "metadata": {},
   "outputs": [],
   "source": [
    "#워드클라우드 설치 \n",
    "\n",
    "# !pip install wordcloud"
   ]
  },
  {
   "cell_type": "code",
   "execution_count": 11,
   "metadata": {},
   "outputs": [],
   "source": [
    "import matplotlib.pyplot as plt "
   ]
  },
  {
   "cell_type": "code",
   "execution_count": 12,
   "metadata": {},
   "outputs": [],
   "source": [
    "# !pip install koreanize-matplotlib\n",
    "import koreanize_matplotlib\n",
    "\n",
    "import json\n",
    "import re\n",
    "from konlpy.tag import Okt\n",
    "from collections import Counter\n",
    "import matplotlib\n",
    "import matplotlib.pyplot as plt\n",
    "from matplotlib import font_manager, rc\n",
    "from wordcloud import WordCloud\n"
   ]
  },
  {
   "cell_type": "code",
   "execution_count": 27,
   "metadata": {},
   "outputs": [],
   "source": [
    "#한글 글꼴 설치 \n",
    "%matplotlib inline  \n",
    "import koreanize_matplotlib\n",
    "\n",
    "import matplotlib as mpl  # 기본 설정 \n",
    "import matplotlib.pyplot as plt  # 그래프 그리기\n",
    "import matplotlib.font_manager as fm  # 폰트 관리\n",
    "\n",
    "font_path = '../../data/NanumGothic.ttf'\n",
    "\n",
    "\n",
    "\n",
    "\n"
   ]
  },
  {
   "cell_type": "code",
   "execution_count": 14,
   "metadata": {},
   "outputs": [],
   "source": [
    "#텍스트 가져와서 품사 태깅 \n",
    "\n",
    "text = '눈물이 차올라서 고갤 들어 흐르지 못하게 또 살짝 웃어\\\n",
    "    내게 왜 이러는지 무슨 말을 하는지 오늘 했던 모든 말 저 하늘 위로\\\n",
    "    한번도 못했던 말 울면서 할 줄은 나 몰랐던 말\\\n",
    "    나는요 오빠가 좋은 걸 (휴) 어떡해\\\n",
    "    이런 나를 보고 그런 슬픈 말은 하지 말아요 (하지 말아요)\\\n",
    "    철없는 건지 조금 둔한 건지 믿을 수가 없는걸요\\\n",
    "    눈물은 나오는데 활짝 웃어 네 앞을 막고서 막 크게 웃어\\\n",
    "    내가 왜 이러는지 부끄럼도 없는지\\\n",
    "    자존심은 곱게 접어 하늘위로 한 번도 못했던 말 어쩌면 다신 못할 바로 그 말\\\n",
    "    나는요 오빠가 좋은 걸 (아이쿠, 하나 둘)'\n",
    "    \n",
    "sentence_tag =okt.pos(text)\n",
    "\n",
    "adj_list = []\n",
    "for word, tag in sentence_tag:\n",
    "    if tag in ['Noun','Adjective']:\n",
    "        adj_list.append(word)"
   ]
  },
  {
   "cell_type": "code",
   "execution_count": 21,
   "metadata": {},
   "outputs": [
    {
     "data": {
      "text/plain": [
       "[('말', 7),\n",
       " ('눈물', 2),\n",
       " ('왜', 2),\n",
       " ('하늘', 2),\n",
       " ('위로', 2),\n",
       " ('오빠', 2),\n",
       " ('좋은', 2),\n",
       " ('걸', 2),\n",
       " ('고', 1),\n",
       " ('또', 1)]"
      ]
     },
     "execution_count": 21,
     "metadata": {},
     "output_type": "execute_result"
    }
   ],
   "source": [
    "#동일한 단어의 빈도수 구하기 \n",
    "\n",
    "counts = collections.Counter(adj_list)\n",
    "tag = counts.most_common(10)\n",
    "tag"
   ]
  },
  {
   "cell_type": "code",
   "execution_count": 28,
   "metadata": {},
   "outputs": [],
   "source": [
    "#워드 클라우드 생성 \n",
    "\n",
    "from wordcloud import WordCloud\n",
    "\n",
    "wc = WordCloud(font_path=font_path, background_color='skyblue', max_font_size=60)\n",
    "cloud=wc.generate_from_frequencies(dict(tag))"
   ]
  },
  {
   "cell_type": "code",
   "execution_count": 29,
   "metadata": {},
   "outputs": [
    {
     "data": {
      "text/plain": [
       "<matplotlib.image.AxesImage at 0x2d6a08a5f90>"
      ]
     },
     "execution_count": 29,
     "metadata": {},
     "output_type": "execute_result"
    },
    {
     "data": {
      "image/png": "[encoded data removed]",
      "text/plain": [
       "<Figure size 640x480 with 1 Axes>"
      ]
     },
     "metadata": {},
     "output_type": "display_data"
    }
   ],
   "source": [
    "import matplotlib.pyplot as plt\n",
    "plt.Figure(figsize=(10,8))\n",
    "plt.imshow(cloud)"
   ]
  }
 ],
 "metadata": {
  "kernelspec": {
   "display_name": "base",
   "language": "python",
   "name": "python3"
  },
  "language_info": {
   "codemirror_mode": {
    "name": "ipython",
    "version": 3
   },
   "file_extension": ".py",
   "mimetype": "text/x-python",
   "name": "python",
   "nbconvert_exporter": "python",
   "pygments_lexer": "ipython3",
   "version": "3.11.7"
  }
 },
 "nbformat": 4,
 "nbformat_minor": 2
}
